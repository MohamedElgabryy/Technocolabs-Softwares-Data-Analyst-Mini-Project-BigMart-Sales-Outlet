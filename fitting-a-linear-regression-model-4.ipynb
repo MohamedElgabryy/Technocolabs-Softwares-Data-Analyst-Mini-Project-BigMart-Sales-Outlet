{
 "cells": [
  {
   "cell_type": "code",
   "execution_count": 1,
   "id": "3964dd39",
   "metadata": {
    "_cell_guid": "b1076dfc-b9ad-4769-8c92-a6c4dae69d19",
    "_uuid": "8f2839f25d086af736a60e9eeb907d3b93b6e0e5",
    "execution": {
     "iopub.execute_input": "2023-02-05T19:30:52.737026Z",
     "iopub.status.busy": "2023-02-05T19:30:52.736543Z",
     "iopub.status.idle": "2023-02-05T19:30:53.824847Z",
     "shell.execute_reply": "2023-02-05T19:30:53.823749Z"
    },
    "papermill": {
     "duration": 1.105084,
     "end_time": "2023-02-05T19:30:53.827415",
     "exception": false,
     "start_time": "2023-02-05T19:30:52.722331",
     "status": "completed"
    },
    "tags": []
   },
   "outputs": [
    {
     "name": "stdout",
     "output_type": "stream",
     "text": [
      "Setup Complete\n"
     ]
    }
   ],
   "source": [
    "import pandas as pd\n",
    "import numpy as np\n",
    "pd.plotting.register_matplotlib_converters()\n",
    "import matplotlib.pyplot as plt\n",
    "%matplotlib inline\n",
    "import seaborn as sns\n",
    "import sklearn\n",
    "print(\"Setup Complete\")"
   ]
  },
  {
   "cell_type": "code",
   "execution_count": 2,
   "id": "c6812cd4",
   "metadata": {
    "execution": {
     "iopub.execute_input": "2023-02-05T19:30:53.850798Z",
     "iopub.status.busy": "2023-02-05T19:30:53.850394Z",
     "iopub.status.idle": "2023-02-05T19:30:53.912217Z",
     "shell.execute_reply": "2023-02-05T19:30:53.911068Z"
    },
    "papermill": {
     "duration": 0.076704,
     "end_time": "2023-02-05T19:30:53.915118",
     "exception": false,
     "start_time": "2023-02-05T19:30:53.838414",
     "status": "completed"
    },
    "tags": []
   },
   "outputs": [],
   "source": [
    "train_path = \"/kaggle/input/big-mart-clean-two2/train_clean_2.csv\"\n",
    "\n",
    "train_data = pd.read_csv(train_path)"
   ]
  },
  {
   "cell_type": "code",
   "execution_count": 3,
   "id": "7a38f8b1",
   "metadata": {
    "execution": {
     "iopub.execute_input": "2023-02-05T19:30:53.939007Z",
     "iopub.status.busy": "2023-02-05T19:30:53.938314Z",
     "iopub.status.idle": "2023-02-05T19:30:53.971813Z",
     "shell.execute_reply": "2023-02-05T19:30:53.970633Z"
    },
    "papermill": {
     "duration": 0.048256,
     "end_time": "2023-02-05T19:30:53.974198",
     "exception": false,
     "start_time": "2023-02-05T19:30:53.925942",
     "status": "completed"
    },
    "tags": []
   },
   "outputs": [
    {
     "data": {
      "text/html": [
       "<div>\n",
       "<style scoped>\n",
       "    .dataframe tbody tr th:only-of-type {\n",
       "        vertical-align: middle;\n",
       "    }\n",
       "\n",
       "    .dataframe tbody tr th {\n",
       "        vertical-align: top;\n",
       "    }\n",
       "\n",
       "    .dataframe thead th {\n",
       "        text-align: right;\n",
       "    }\n",
       "</style>\n",
       "<table border=\"1\" class=\"dataframe\">\n",
       "  <thead>\n",
       "    <tr style=\"text-align: right;\">\n",
       "      <th></th>\n",
       "      <th>Unnamed: 0</th>\n",
       "      <th>Item_Identifier</th>\n",
       "      <th>Item_Weight</th>\n",
       "      <th>Item_Visibility</th>\n",
       "      <th>Item_Type</th>\n",
       "      <th>Item_MRP</th>\n",
       "      <th>Outlet_Identifier</th>\n",
       "      <th>Outlet_Establishment_Year</th>\n",
       "      <th>Item_Outlet_Sales</th>\n",
       "      <th>Item_Fat_Content_0</th>\n",
       "      <th>...</th>\n",
       "      <th>Outlet_Location_Type_0</th>\n",
       "      <th>Outlet_Location_Type_1</th>\n",
       "      <th>Outlet_Location_Type_2</th>\n",
       "      <th>Outlet_Type_0</th>\n",
       "      <th>Outlet_Type_1</th>\n",
       "      <th>Outlet_Type_2</th>\n",
       "      <th>Outlet_Type_3</th>\n",
       "      <th>Item_Type_Combined_0</th>\n",
       "      <th>Item_Type_Combined_1</th>\n",
       "      <th>Item_Type_Combined_2</th>\n",
       "    </tr>\n",
       "  </thead>\n",
       "  <tbody>\n",
       "    <tr>\n",
       "      <th>0</th>\n",
       "      <td>0</td>\n",
       "      <td>FDA15</td>\n",
       "      <td>9.30</td>\n",
       "      <td>0.016047</td>\n",
       "      <td>Dairy</td>\n",
       "      <td>249.8092</td>\n",
       "      <td>OUT049</td>\n",
       "      <td>1999</td>\n",
       "      <td>3735.1380</td>\n",
       "      <td>1</td>\n",
       "      <td>...</td>\n",
       "      <td>1</td>\n",
       "      <td>0</td>\n",
       "      <td>0</td>\n",
       "      <td>0</td>\n",
       "      <td>1</td>\n",
       "      <td>0</td>\n",
       "      <td>0</td>\n",
       "      <td>0</td>\n",
       "      <td>1</td>\n",
       "      <td>0</td>\n",
       "    </tr>\n",
       "    <tr>\n",
       "      <th>1</th>\n",
       "      <td>1</td>\n",
       "      <td>DRC01</td>\n",
       "      <td>5.92</td>\n",
       "      <td>0.019278</td>\n",
       "      <td>Soft Drinks</td>\n",
       "      <td>48.2692</td>\n",
       "      <td>OUT018</td>\n",
       "      <td>2009</td>\n",
       "      <td>443.4228</td>\n",
       "      <td>0</td>\n",
       "      <td>...</td>\n",
       "      <td>0</td>\n",
       "      <td>0</td>\n",
       "      <td>1</td>\n",
       "      <td>0</td>\n",
       "      <td>0</td>\n",
       "      <td>1</td>\n",
       "      <td>0</td>\n",
       "      <td>1</td>\n",
       "      <td>0</td>\n",
       "      <td>0</td>\n",
       "    </tr>\n",
       "    <tr>\n",
       "      <th>2</th>\n",
       "      <td>2</td>\n",
       "      <td>FDN15</td>\n",
       "      <td>17.50</td>\n",
       "      <td>0.016760</td>\n",
       "      <td>Meat</td>\n",
       "      <td>141.6180</td>\n",
       "      <td>OUT049</td>\n",
       "      <td>1999</td>\n",
       "      <td>2097.2700</td>\n",
       "      <td>1</td>\n",
       "      <td>...</td>\n",
       "      <td>1</td>\n",
       "      <td>0</td>\n",
       "      <td>0</td>\n",
       "      <td>0</td>\n",
       "      <td>1</td>\n",
       "      <td>0</td>\n",
       "      <td>0</td>\n",
       "      <td>0</td>\n",
       "      <td>1</td>\n",
       "      <td>0</td>\n",
       "    </tr>\n",
       "    <tr>\n",
       "      <th>3</th>\n",
       "      <td>3</td>\n",
       "      <td>FDX07</td>\n",
       "      <td>19.20</td>\n",
       "      <td>0.015274</td>\n",
       "      <td>Fruits and Vegetables</td>\n",
       "      <td>182.0950</td>\n",
       "      <td>OUT010</td>\n",
       "      <td>1998</td>\n",
       "      <td>732.3800</td>\n",
       "      <td>0</td>\n",
       "      <td>...</td>\n",
       "      <td>0</td>\n",
       "      <td>0</td>\n",
       "      <td>1</td>\n",
       "      <td>1</td>\n",
       "      <td>0</td>\n",
       "      <td>0</td>\n",
       "      <td>0</td>\n",
       "      <td>0</td>\n",
       "      <td>1</td>\n",
       "      <td>0</td>\n",
       "    </tr>\n",
       "    <tr>\n",
       "      <th>4</th>\n",
       "      <td>4</td>\n",
       "      <td>NCD19</td>\n",
       "      <td>8.93</td>\n",
       "      <td>0.008082</td>\n",
       "      <td>Household</td>\n",
       "      <td>53.8614</td>\n",
       "      <td>OUT013</td>\n",
       "      <td>1987</td>\n",
       "      <td>994.7052</td>\n",
       "      <td>1</td>\n",
       "      <td>...</td>\n",
       "      <td>0</td>\n",
       "      <td>0</td>\n",
       "      <td>1</td>\n",
       "      <td>0</td>\n",
       "      <td>1</td>\n",
       "      <td>0</td>\n",
       "      <td>0</td>\n",
       "      <td>0</td>\n",
       "      <td>0</td>\n",
       "      <td>1</td>\n",
       "    </tr>\n",
       "  </tbody>\n",
       "</table>\n",
       "<p>5 rows × 24 columns</p>\n",
       "</div>"
      ],
      "text/plain": [
       "   Unnamed: 0 Item_Identifier  Item_Weight  Item_Visibility  \\\n",
       "0           0           FDA15         9.30         0.016047   \n",
       "1           1           DRC01         5.92         0.019278   \n",
       "2           2           FDN15        17.50         0.016760   \n",
       "3           3           FDX07        19.20         0.015274   \n",
       "4           4           NCD19         8.93         0.008082   \n",
       "\n",
       "               Item_Type  Item_MRP Outlet_Identifier  \\\n",
       "0                  Dairy  249.8092            OUT049   \n",
       "1            Soft Drinks   48.2692            OUT018   \n",
       "2                   Meat  141.6180            OUT049   \n",
       "3  Fruits and Vegetables  182.0950            OUT010   \n",
       "4              Household   53.8614            OUT013   \n",
       "\n",
       "   Outlet_Establishment_Year  Item_Outlet_Sales  Item_Fat_Content_0  ...  \\\n",
       "0                       1999          3735.1380                   1  ...   \n",
       "1                       2009           443.4228                   0  ...   \n",
       "2                       1999          2097.2700                   1  ...   \n",
       "3                       1998           732.3800                   0  ...   \n",
       "4                       1987           994.7052                   1  ...   \n",
       "\n",
       "   Outlet_Location_Type_0  Outlet_Location_Type_1  Outlet_Location_Type_2  \\\n",
       "0                       1                       0                       0   \n",
       "1                       0                       0                       1   \n",
       "2                       1                       0                       0   \n",
       "3                       0                       0                       1   \n",
       "4                       0                       0                       1   \n",
       "\n",
       "   Outlet_Type_0  Outlet_Type_1  Outlet_Type_2  Outlet_Type_3  \\\n",
       "0              0              1              0              0   \n",
       "1              0              0              1              0   \n",
       "2              0              1              0              0   \n",
       "3              1              0              0              0   \n",
       "4              0              1              0              0   \n",
       "\n",
       "   Item_Type_Combined_0  Item_Type_Combined_1  Item_Type_Combined_2  \n",
       "0                     0                     1                     0  \n",
       "1                     1                     0                     0  \n",
       "2                     0                     1                     0  \n",
       "3                     0                     1                     0  \n",
       "4                     0                     0                     1  \n",
       "\n",
       "[5 rows x 24 columns]"
      ]
     },
     "execution_count": 3,
     "metadata": {},
     "output_type": "execute_result"
    }
   ],
   "source": [
    "train_data.head()"
   ]
  },
  {
   "cell_type": "code",
   "execution_count": 4,
   "id": "935cfb4b",
   "metadata": {
    "execution": {
     "iopub.execute_input": "2023-02-05T19:30:54.000574Z",
     "iopub.status.busy": "2023-02-05T19:30:53.999880Z",
     "iopub.status.idle": "2023-02-05T19:30:54.006601Z",
     "shell.execute_reply": "2023-02-05T19:30:54.005709Z"
    },
    "papermill": {
     "duration": 0.021885,
     "end_time": "2023-02-05T19:30:54.008650",
     "exception": false,
     "start_time": "2023-02-05T19:30:53.986765",
     "status": "completed"
    },
    "tags": []
   },
   "outputs": [
    {
     "data": {
      "text/plain": [
       "(8523, 24)"
      ]
     },
     "execution_count": 4,
     "metadata": {},
     "output_type": "execute_result"
    }
   ],
   "source": [
    "train_data.shape"
   ]
  },
  {
   "cell_type": "code",
   "execution_count": 5,
   "id": "2210cd37",
   "metadata": {
    "execution": {
     "iopub.execute_input": "2023-02-05T19:30:54.032900Z",
     "iopub.status.busy": "2023-02-05T19:30:54.032509Z",
     "iopub.status.idle": "2023-02-05T19:30:54.059109Z",
     "shell.execute_reply": "2023-02-05T19:30:54.057618Z"
    },
    "papermill": {
     "duration": 0.042079,
     "end_time": "2023-02-05T19:30:54.061893",
     "exception": false,
     "start_time": "2023-02-05T19:30:54.019814",
     "status": "completed"
    },
    "tags": []
   },
   "outputs": [
    {
     "name": "stdout",
     "output_type": "stream",
     "text": [
      "<class 'pandas.core.frame.DataFrame'>\n",
      "RangeIndex: 8523 entries, 0 to 8522\n",
      "Data columns (total 24 columns):\n",
      " #   Column                     Non-Null Count  Dtype  \n",
      "---  ------                     --------------  -----  \n",
      " 0   Unnamed: 0                 8523 non-null   int64  \n",
      " 1   Item_Identifier            8523 non-null   object \n",
      " 2   Item_Weight                8523 non-null   float64\n",
      " 3   Item_Visibility            8523 non-null   float64\n",
      " 4   Item_Type                  8523 non-null   object \n",
      " 5   Item_MRP                   8523 non-null   float64\n",
      " 6   Outlet_Identifier          8523 non-null   object \n",
      " 7   Outlet_Establishment_Year  8523 non-null   int64  \n",
      " 8   Item_Outlet_Sales          8523 non-null   float64\n",
      " 9   Item_Fat_Content_0         8523 non-null   int64  \n",
      " 10  Item_Fat_Content_1         8523 non-null   int64  \n",
      " 11  Outlet_Size_0              8523 non-null   int64  \n",
      " 12  Outlet_Size_1              8523 non-null   int64  \n",
      " 13  Outlet_Size_2              8523 non-null   int64  \n",
      " 14  Outlet_Location_Type_0     8523 non-null   int64  \n",
      " 15  Outlet_Location_Type_1     8523 non-null   int64  \n",
      " 16  Outlet_Location_Type_2     8523 non-null   int64  \n",
      " 17  Outlet_Type_0              8523 non-null   int64  \n",
      " 18  Outlet_Type_1              8523 non-null   int64  \n",
      " 19  Outlet_Type_2              8523 non-null   int64  \n",
      " 20  Outlet_Type_3              8523 non-null   int64  \n",
      " 21  Item_Type_Combined_0       8523 non-null   int64  \n",
      " 22  Item_Type_Combined_1       8523 non-null   int64  \n",
      " 23  Item_Type_Combined_2       8523 non-null   int64  \n",
      "dtypes: float64(4), int64(17), object(3)\n",
      "memory usage: 1.6+ MB\n"
     ]
    }
   ],
   "source": [
    "train_data.info()"
   ]
  },
  {
   "cell_type": "code",
   "execution_count": 6,
   "id": "7c6dc6da",
   "metadata": {
    "execution": {
     "iopub.execute_input": "2023-02-05T19:30:54.087303Z",
     "iopub.status.busy": "2023-02-05T19:30:54.086881Z",
     "iopub.status.idle": "2023-02-05T19:30:54.097223Z",
     "shell.execute_reply": "2023-02-05T19:30:54.096420Z"
    },
    "papermill": {
     "duration": 0.025816,
     "end_time": "2023-02-05T19:30:54.099426",
     "exception": false,
     "start_time": "2023-02-05T19:30:54.073610",
     "status": "completed"
    },
    "tags": []
   },
   "outputs": [
    {
     "data": {
      "text/plain": [
       "Unnamed: 0                   0\n",
       "Item_Identifier              0\n",
       "Item_Weight                  0\n",
       "Item_Visibility              0\n",
       "Item_Type                    0\n",
       "Item_MRP                     0\n",
       "Outlet_Identifier            0\n",
       "Outlet_Establishment_Year    0\n",
       "Item_Outlet_Sales            0\n",
       "Item_Fat_Content_0           0\n",
       "Item_Fat_Content_1           0\n",
       "Outlet_Size_0                0\n",
       "Outlet_Size_1                0\n",
       "Outlet_Size_2                0\n",
       "Outlet_Location_Type_0       0\n",
       "Outlet_Location_Type_1       0\n",
       "Outlet_Location_Type_2       0\n",
       "Outlet_Type_0                0\n",
       "Outlet_Type_1                0\n",
       "Outlet_Type_2                0\n",
       "Outlet_Type_3                0\n",
       "Item_Type_Combined_0         0\n",
       "Item_Type_Combined_1         0\n",
       "Item_Type_Combined_2         0\n",
       "dtype: int64"
      ]
     },
     "execution_count": 6,
     "metadata": {},
     "output_type": "execute_result"
    }
   ],
   "source": [
    "train_data.isnull().sum()"
   ]
  },
  {
   "cell_type": "code",
   "execution_count": 7,
   "id": "b710897d",
   "metadata": {
    "execution": {
     "iopub.execute_input": "2023-02-05T19:30:54.125575Z",
     "iopub.status.busy": "2023-02-05T19:30:54.125134Z",
     "iopub.status.idle": "2023-02-05T19:30:54.203436Z",
     "shell.execute_reply": "2023-02-05T19:30:54.202300Z"
    },
    "papermill": {
     "duration": 0.094416,
     "end_time": "2023-02-05T19:30:54.205942",
     "exception": false,
     "start_time": "2023-02-05T19:30:54.111526",
     "status": "completed"
    },
    "tags": []
   },
   "outputs": [
    {
     "data": {
      "text/html": [
       "<div>\n",
       "<style scoped>\n",
       "    .dataframe tbody tr th:only-of-type {\n",
       "        vertical-align: middle;\n",
       "    }\n",
       "\n",
       "    .dataframe tbody tr th {\n",
       "        vertical-align: top;\n",
       "    }\n",
       "\n",
       "    .dataframe thead th {\n",
       "        text-align: right;\n",
       "    }\n",
       "</style>\n",
       "<table border=\"1\" class=\"dataframe\">\n",
       "  <thead>\n",
       "    <tr style=\"text-align: right;\">\n",
       "      <th></th>\n",
       "      <th>Unnamed: 0</th>\n",
       "      <th>Item_Weight</th>\n",
       "      <th>Item_Visibility</th>\n",
       "      <th>Item_MRP</th>\n",
       "      <th>Outlet_Establishment_Year</th>\n",
       "      <th>Item_Outlet_Sales</th>\n",
       "      <th>Item_Fat_Content_0</th>\n",
       "      <th>Item_Fat_Content_1</th>\n",
       "      <th>Outlet_Size_0</th>\n",
       "      <th>Outlet_Size_1</th>\n",
       "      <th>...</th>\n",
       "      <th>Outlet_Location_Type_0</th>\n",
       "      <th>Outlet_Location_Type_1</th>\n",
       "      <th>Outlet_Location_Type_2</th>\n",
       "      <th>Outlet_Type_0</th>\n",
       "      <th>Outlet_Type_1</th>\n",
       "      <th>Outlet_Type_2</th>\n",
       "      <th>Outlet_Type_3</th>\n",
       "      <th>Item_Type_Combined_0</th>\n",
       "      <th>Item_Type_Combined_1</th>\n",
       "      <th>Item_Type_Combined_2</th>\n",
       "    </tr>\n",
       "  </thead>\n",
       "  <tbody>\n",
       "    <tr>\n",
       "      <th>count</th>\n",
       "      <td>8523.000000</td>\n",
       "      <td>8523.00000</td>\n",
       "      <td>8523.000000</td>\n",
       "      <td>8523.000000</td>\n",
       "      <td>8523.000000</td>\n",
       "      <td>8523.000000</td>\n",
       "      <td>8523.000000</td>\n",
       "      <td>8523.000000</td>\n",
       "      <td>8523.000000</td>\n",
       "      <td>8523.000000</td>\n",
       "      <td>...</td>\n",
       "      <td>8523.000000</td>\n",
       "      <td>8523.000000</td>\n",
       "      <td>8523.000000</td>\n",
       "      <td>8523.000000</td>\n",
       "      <td>8523.000000</td>\n",
       "      <td>8523.000000</td>\n",
       "      <td>8523.000000</td>\n",
       "      <td>8523.000000</td>\n",
       "      <td>8523.000000</td>\n",
       "      <td>8523.000000</td>\n",
       "    </tr>\n",
       "    <tr>\n",
       "      <th>mean</th>\n",
       "      <td>4261.000000</td>\n",
       "      <td>12.81342</td>\n",
       "      <td>0.069670</td>\n",
       "      <td>140.992782</td>\n",
       "      <td>1997.831867</td>\n",
       "      <td>2181.288914</td>\n",
       "      <td>0.647307</td>\n",
       "      <td>0.352693</td>\n",
       "      <td>0.109351</td>\n",
       "      <td>0.610466</td>\n",
       "      <td>...</td>\n",
       "      <td>0.280183</td>\n",
       "      <td>0.326763</td>\n",
       "      <td>0.393054</td>\n",
       "      <td>0.127068</td>\n",
       "      <td>0.654347</td>\n",
       "      <td>0.108882</td>\n",
       "      <td>0.109703</td>\n",
       "      <td>0.093746</td>\n",
       "      <td>0.718644</td>\n",
       "      <td>0.187610</td>\n",
       "    </tr>\n",
       "    <tr>\n",
       "      <th>std</th>\n",
       "      <td>2460.522505</td>\n",
       "      <td>4.22724</td>\n",
       "      <td>0.049810</td>\n",
       "      <td>62.275067</td>\n",
       "      <td>8.371760</td>\n",
       "      <td>1706.499616</td>\n",
       "      <td>0.477836</td>\n",
       "      <td>0.477836</td>\n",
       "      <td>0.312098</td>\n",
       "      <td>0.487673</td>\n",
       "      <td>...</td>\n",
       "      <td>0.449115</td>\n",
       "      <td>0.469057</td>\n",
       "      <td>0.488457</td>\n",
       "      <td>0.333069</td>\n",
       "      <td>0.475609</td>\n",
       "      <td>0.311509</td>\n",
       "      <td>0.312538</td>\n",
       "      <td>0.291493</td>\n",
       "      <td>0.449687</td>\n",
       "      <td>0.390423</td>\n",
       "    </tr>\n",
       "    <tr>\n",
       "      <th>min</th>\n",
       "      <td>0.000000</td>\n",
       "      <td>4.55500</td>\n",
       "      <td>0.003575</td>\n",
       "      <td>31.290000</td>\n",
       "      <td>1985.000000</td>\n",
       "      <td>33.290000</td>\n",
       "      <td>0.000000</td>\n",
       "      <td>0.000000</td>\n",
       "      <td>0.000000</td>\n",
       "      <td>0.000000</td>\n",
       "      <td>...</td>\n",
       "      <td>0.000000</td>\n",
       "      <td>0.000000</td>\n",
       "      <td>0.000000</td>\n",
       "      <td>0.000000</td>\n",
       "      <td>0.000000</td>\n",
       "      <td>0.000000</td>\n",
       "      <td>0.000000</td>\n",
       "      <td>0.000000</td>\n",
       "      <td>0.000000</td>\n",
       "      <td>0.000000</td>\n",
       "    </tr>\n",
       "    <tr>\n",
       "      <th>25%</th>\n",
       "      <td>2130.500000</td>\n",
       "      <td>9.31000</td>\n",
       "      <td>0.031114</td>\n",
       "      <td>93.826500</td>\n",
       "      <td>1987.000000</td>\n",
       "      <td>834.247400</td>\n",
       "      <td>0.000000</td>\n",
       "      <td>0.000000</td>\n",
       "      <td>0.000000</td>\n",
       "      <td>0.000000</td>\n",
       "      <td>...</td>\n",
       "      <td>0.000000</td>\n",
       "      <td>0.000000</td>\n",
       "      <td>0.000000</td>\n",
       "      <td>0.000000</td>\n",
       "      <td>0.000000</td>\n",
       "      <td>0.000000</td>\n",
       "      <td>0.000000</td>\n",
       "      <td>0.000000</td>\n",
       "      <td>0.000000</td>\n",
       "      <td>0.000000</td>\n",
       "    </tr>\n",
       "    <tr>\n",
       "      <th>50%</th>\n",
       "      <td>4261.000000</td>\n",
       "      <td>12.60000</td>\n",
       "      <td>0.056922</td>\n",
       "      <td>143.012800</td>\n",
       "      <td>1999.000000</td>\n",
       "      <td>1794.331000</td>\n",
       "      <td>1.000000</td>\n",
       "      <td>0.000000</td>\n",
       "      <td>0.000000</td>\n",
       "      <td>1.000000</td>\n",
       "      <td>...</td>\n",
       "      <td>0.000000</td>\n",
       "      <td>0.000000</td>\n",
       "      <td>0.000000</td>\n",
       "      <td>0.000000</td>\n",
       "      <td>1.000000</td>\n",
       "      <td>0.000000</td>\n",
       "      <td>0.000000</td>\n",
       "      <td>0.000000</td>\n",
       "      <td>1.000000</td>\n",
       "      <td>0.000000</td>\n",
       "    </tr>\n",
       "    <tr>\n",
       "      <th>75%</th>\n",
       "      <td>6391.500000</td>\n",
       "      <td>16.00000</td>\n",
       "      <td>0.097160</td>\n",
       "      <td>185.643700</td>\n",
       "      <td>2004.000000</td>\n",
       "      <td>3101.296400</td>\n",
       "      <td>1.000000</td>\n",
       "      <td>1.000000</td>\n",
       "      <td>0.000000</td>\n",
       "      <td>1.000000</td>\n",
       "      <td>...</td>\n",
       "      <td>1.000000</td>\n",
       "      <td>1.000000</td>\n",
       "      <td>1.000000</td>\n",
       "      <td>0.000000</td>\n",
       "      <td>1.000000</td>\n",
       "      <td>0.000000</td>\n",
       "      <td>0.000000</td>\n",
       "      <td>0.000000</td>\n",
       "      <td>1.000000</td>\n",
       "      <td>0.000000</td>\n",
       "    </tr>\n",
       "    <tr>\n",
       "      <th>max</th>\n",
       "      <td>8522.000000</td>\n",
       "      <td>21.35000</td>\n",
       "      <td>0.328391</td>\n",
       "      <td>266.888400</td>\n",
       "      <td>2009.000000</td>\n",
       "      <td>13086.964800</td>\n",
       "      <td>1.000000</td>\n",
       "      <td>1.000000</td>\n",
       "      <td>1.000000</td>\n",
       "      <td>1.000000</td>\n",
       "      <td>...</td>\n",
       "      <td>1.000000</td>\n",
       "      <td>1.000000</td>\n",
       "      <td>1.000000</td>\n",
       "      <td>1.000000</td>\n",
       "      <td>1.000000</td>\n",
       "      <td>1.000000</td>\n",
       "      <td>1.000000</td>\n",
       "      <td>1.000000</td>\n",
       "      <td>1.000000</td>\n",
       "      <td>1.000000</td>\n",
       "    </tr>\n",
       "  </tbody>\n",
       "</table>\n",
       "<p>8 rows × 21 columns</p>\n",
       "</div>"
      ],
      "text/plain": [
       "        Unnamed: 0  Item_Weight  Item_Visibility     Item_MRP  \\\n",
       "count  8523.000000   8523.00000      8523.000000  8523.000000   \n",
       "mean   4261.000000     12.81342         0.069670   140.992782   \n",
       "std    2460.522505      4.22724         0.049810    62.275067   \n",
       "min       0.000000      4.55500         0.003575    31.290000   \n",
       "25%    2130.500000      9.31000         0.031114    93.826500   \n",
       "50%    4261.000000     12.60000         0.056922   143.012800   \n",
       "75%    6391.500000     16.00000         0.097160   185.643700   \n",
       "max    8522.000000     21.35000         0.328391   266.888400   \n",
       "\n",
       "       Outlet_Establishment_Year  Item_Outlet_Sales  Item_Fat_Content_0  \\\n",
       "count                8523.000000        8523.000000         8523.000000   \n",
       "mean                 1997.831867        2181.288914            0.647307   \n",
       "std                     8.371760        1706.499616            0.477836   \n",
       "min                  1985.000000          33.290000            0.000000   \n",
       "25%                  1987.000000         834.247400            0.000000   \n",
       "50%                  1999.000000        1794.331000            1.000000   \n",
       "75%                  2004.000000        3101.296400            1.000000   \n",
       "max                  2009.000000       13086.964800            1.000000   \n",
       "\n",
       "       Item_Fat_Content_1  Outlet_Size_0  Outlet_Size_1  ...  \\\n",
       "count         8523.000000    8523.000000    8523.000000  ...   \n",
       "mean             0.352693       0.109351       0.610466  ...   \n",
       "std              0.477836       0.312098       0.487673  ...   \n",
       "min              0.000000       0.000000       0.000000  ...   \n",
       "25%              0.000000       0.000000       0.000000  ...   \n",
       "50%              0.000000       0.000000       1.000000  ...   \n",
       "75%              1.000000       0.000000       1.000000  ...   \n",
       "max              1.000000       1.000000       1.000000  ...   \n",
       "\n",
       "       Outlet_Location_Type_0  Outlet_Location_Type_1  Outlet_Location_Type_2  \\\n",
       "count             8523.000000             8523.000000             8523.000000   \n",
       "mean                 0.280183                0.326763                0.393054   \n",
       "std                  0.449115                0.469057                0.488457   \n",
       "min                  0.000000                0.000000                0.000000   \n",
       "25%                  0.000000                0.000000                0.000000   \n",
       "50%                  0.000000                0.000000                0.000000   \n",
       "75%                  1.000000                1.000000                1.000000   \n",
       "max                  1.000000                1.000000                1.000000   \n",
       "\n",
       "       Outlet_Type_0  Outlet_Type_1  Outlet_Type_2  Outlet_Type_3  \\\n",
       "count    8523.000000    8523.000000    8523.000000    8523.000000   \n",
       "mean        0.127068       0.654347       0.108882       0.109703   \n",
       "std         0.333069       0.475609       0.311509       0.312538   \n",
       "min         0.000000       0.000000       0.000000       0.000000   \n",
       "25%         0.000000       0.000000       0.000000       0.000000   \n",
       "50%         0.000000       1.000000       0.000000       0.000000   \n",
       "75%         0.000000       1.000000       0.000000       0.000000   \n",
       "max         1.000000       1.000000       1.000000       1.000000   \n",
       "\n",
       "       Item_Type_Combined_0  Item_Type_Combined_1  Item_Type_Combined_2  \n",
       "count           8523.000000           8523.000000           8523.000000  \n",
       "mean               0.093746              0.718644              0.187610  \n",
       "std                0.291493              0.449687              0.390423  \n",
       "min                0.000000              0.000000              0.000000  \n",
       "25%                0.000000              0.000000              0.000000  \n",
       "50%                0.000000              1.000000              0.000000  \n",
       "75%                0.000000              1.000000              0.000000  \n",
       "max                1.000000              1.000000              1.000000  \n",
       "\n",
       "[8 rows x 21 columns]"
      ]
     },
     "execution_count": 7,
     "metadata": {},
     "output_type": "execute_result"
    }
   ],
   "source": [
    "train_data.describe()"
   ]
  },
  {
   "cell_type": "markdown",
   "id": "a9447914",
   "metadata": {
    "papermill": {
     "duration": 0.011845,
     "end_time": "2023-02-05T19:30:54.230040",
     "exception": false,
     "start_time": "2023-02-05T19:30:54.218195",
     "status": "completed"
    },
    "tags": []
   },
   "source": [
    "# **PreProcessing Data**"
   ]
  },
  {
   "cell_type": "markdown",
   "id": "43721de8",
   "metadata": {
    "papermill": {
     "duration": 0.011942,
     "end_time": "2023-02-05T19:30:54.254264",
     "exception": false,
     "start_time": "2023-02-05T19:30:54.242322",
     "status": "completed"
    },
    "tags": []
   },
   "source": [
    "> **Created a list remove_cols to remove those columns which doesn't required for Model Building**"
   ]
  },
  {
   "cell_type": "code",
   "execution_count": 8,
   "id": "25e59470",
   "metadata": {
    "execution": {
     "iopub.execute_input": "2023-02-05T19:30:54.281069Z",
     "iopub.status.busy": "2023-02-05T19:30:54.279947Z",
     "iopub.status.idle": "2023-02-05T19:30:54.300797Z",
     "shell.execute_reply": "2023-02-05T19:30:54.299666Z"
    },
    "papermill": {
     "duration": 0.036416,
     "end_time": "2023-02-05T19:30:54.303008",
     "exception": false,
     "start_time": "2023-02-05T19:30:54.266592",
     "status": "completed"
    },
    "tags": []
   },
   "outputs": [
    {
     "data": {
      "text/html": [
       "<div>\n",
       "<style scoped>\n",
       "    .dataframe tbody tr th:only-of-type {\n",
       "        vertical-align: middle;\n",
       "    }\n",
       "\n",
       "    .dataframe tbody tr th {\n",
       "        vertical-align: top;\n",
       "    }\n",
       "\n",
       "    .dataframe thead th {\n",
       "        text-align: right;\n",
       "    }\n",
       "</style>\n",
       "<table border=\"1\" class=\"dataframe\">\n",
       "  <thead>\n",
       "    <tr style=\"text-align: right;\">\n",
       "      <th></th>\n",
       "      <th>Unnamed: 0</th>\n",
       "      <th>Item_Weight</th>\n",
       "      <th>Item_Visibility</th>\n",
       "      <th>Item_MRP</th>\n",
       "      <th>Item_Outlet_Sales</th>\n",
       "      <th>Item_Fat_Content_0</th>\n",
       "      <th>Item_Fat_Content_1</th>\n",
       "      <th>Outlet_Size_0</th>\n",
       "      <th>Outlet_Size_1</th>\n",
       "      <th>Outlet_Size_2</th>\n",
       "      <th>Outlet_Location_Type_0</th>\n",
       "      <th>Outlet_Location_Type_1</th>\n",
       "      <th>Outlet_Location_Type_2</th>\n",
       "      <th>Outlet_Type_0</th>\n",
       "      <th>Outlet_Type_1</th>\n",
       "      <th>Outlet_Type_2</th>\n",
       "      <th>Outlet_Type_3</th>\n",
       "      <th>Item_Type_Combined_0</th>\n",
       "      <th>Item_Type_Combined_1</th>\n",
       "      <th>Item_Type_Combined_2</th>\n",
       "    </tr>\n",
       "  </thead>\n",
       "  <tbody>\n",
       "    <tr>\n",
       "      <th>0</th>\n",
       "      <td>0</td>\n",
       "      <td>9.30</td>\n",
       "      <td>0.016047</td>\n",
       "      <td>249.8092</td>\n",
       "      <td>3735.1380</td>\n",
       "      <td>1</td>\n",
       "      <td>0</td>\n",
       "      <td>0</td>\n",
       "      <td>1</td>\n",
       "      <td>0</td>\n",
       "      <td>1</td>\n",
       "      <td>0</td>\n",
       "      <td>0</td>\n",
       "      <td>0</td>\n",
       "      <td>1</td>\n",
       "      <td>0</td>\n",
       "      <td>0</td>\n",
       "      <td>0</td>\n",
       "      <td>1</td>\n",
       "      <td>0</td>\n",
       "    </tr>\n",
       "    <tr>\n",
       "      <th>1</th>\n",
       "      <td>1</td>\n",
       "      <td>5.92</td>\n",
       "      <td>0.019278</td>\n",
       "      <td>48.2692</td>\n",
       "      <td>443.4228</td>\n",
       "      <td>0</td>\n",
       "      <td>1</td>\n",
       "      <td>0</td>\n",
       "      <td>1</td>\n",
       "      <td>0</td>\n",
       "      <td>0</td>\n",
       "      <td>0</td>\n",
       "      <td>1</td>\n",
       "      <td>0</td>\n",
       "      <td>0</td>\n",
       "      <td>1</td>\n",
       "      <td>0</td>\n",
       "      <td>1</td>\n",
       "      <td>0</td>\n",
       "      <td>0</td>\n",
       "    </tr>\n",
       "    <tr>\n",
       "      <th>2</th>\n",
       "      <td>2</td>\n",
       "      <td>17.50</td>\n",
       "      <td>0.016760</td>\n",
       "      <td>141.6180</td>\n",
       "      <td>2097.2700</td>\n",
       "      <td>1</td>\n",
       "      <td>0</td>\n",
       "      <td>0</td>\n",
       "      <td>1</td>\n",
       "      <td>0</td>\n",
       "      <td>1</td>\n",
       "      <td>0</td>\n",
       "      <td>0</td>\n",
       "      <td>0</td>\n",
       "      <td>1</td>\n",
       "      <td>0</td>\n",
       "      <td>0</td>\n",
       "      <td>0</td>\n",
       "      <td>1</td>\n",
       "      <td>0</td>\n",
       "    </tr>\n",
       "    <tr>\n",
       "      <th>3</th>\n",
       "      <td>3</td>\n",
       "      <td>19.20</td>\n",
       "      <td>0.015274</td>\n",
       "      <td>182.0950</td>\n",
       "      <td>732.3800</td>\n",
       "      <td>0</td>\n",
       "      <td>1</td>\n",
       "      <td>0</td>\n",
       "      <td>1</td>\n",
       "      <td>0</td>\n",
       "      <td>0</td>\n",
       "      <td>0</td>\n",
       "      <td>1</td>\n",
       "      <td>1</td>\n",
       "      <td>0</td>\n",
       "      <td>0</td>\n",
       "      <td>0</td>\n",
       "      <td>0</td>\n",
       "      <td>1</td>\n",
       "      <td>0</td>\n",
       "    </tr>\n",
       "    <tr>\n",
       "      <th>4</th>\n",
       "      <td>4</td>\n",
       "      <td>8.93</td>\n",
       "      <td>0.008082</td>\n",
       "      <td>53.8614</td>\n",
       "      <td>994.7052</td>\n",
       "      <td>1</td>\n",
       "      <td>0</td>\n",
       "      <td>1</td>\n",
       "      <td>0</td>\n",
       "      <td>0</td>\n",
       "      <td>0</td>\n",
       "      <td>0</td>\n",
       "      <td>1</td>\n",
       "      <td>0</td>\n",
       "      <td>1</td>\n",
       "      <td>0</td>\n",
       "      <td>0</td>\n",
       "      <td>0</td>\n",
       "      <td>0</td>\n",
       "      <td>1</td>\n",
       "    </tr>\n",
       "  </tbody>\n",
       "</table>\n",
       "</div>"
      ],
      "text/plain": [
       "   Unnamed: 0  Item_Weight  Item_Visibility  Item_MRP  Item_Outlet_Sales  \\\n",
       "0           0         9.30         0.016047  249.8092          3735.1380   \n",
       "1           1         5.92         0.019278   48.2692           443.4228   \n",
       "2           2        17.50         0.016760  141.6180          2097.2700   \n",
       "3           3        19.20         0.015274  182.0950           732.3800   \n",
       "4           4         8.93         0.008082   53.8614           994.7052   \n",
       "\n",
       "   Item_Fat_Content_0  Item_Fat_Content_1  Outlet_Size_0  Outlet_Size_1  \\\n",
       "0                   1                   0              0              1   \n",
       "1                   0                   1              0              1   \n",
       "2                   1                   0              0              1   \n",
       "3                   0                   1              0              1   \n",
       "4                   1                   0              1              0   \n",
       "\n",
       "   Outlet_Size_2  Outlet_Location_Type_0  Outlet_Location_Type_1  \\\n",
       "0              0                       1                       0   \n",
       "1              0                       0                       0   \n",
       "2              0                       1                       0   \n",
       "3              0                       0                       0   \n",
       "4              0                       0                       0   \n",
       "\n",
       "   Outlet_Location_Type_2  Outlet_Type_0  Outlet_Type_1  Outlet_Type_2  \\\n",
       "0                       0              0              1              0   \n",
       "1                       1              0              0              1   \n",
       "2                       0              0              1              0   \n",
       "3                       1              1              0              0   \n",
       "4                       1              0              1              0   \n",
       "\n",
       "   Outlet_Type_3  Item_Type_Combined_0  Item_Type_Combined_1  \\\n",
       "0              0                     0                     1   \n",
       "1              0                     1                     0   \n",
       "2              0                     0                     1   \n",
       "3              0                     0                     1   \n",
       "4              0                     0                     0   \n",
       "\n",
       "   Item_Type_Combined_2  \n",
       "0                     0  \n",
       "1                     0  \n",
       "2                     0  \n",
       "3                     0  \n",
       "4                     1  "
      ]
     },
     "execution_count": 8,
     "metadata": {},
     "output_type": "execute_result"
    }
   ],
   "source": [
    "remove_cols = ['Item_Identifier','Item_Type','Outlet_Identifier','Outlet_Establishment_Year']\n",
    "train_data = train_data.drop(remove_cols,axis =1)\n",
    "train_data.head()"
   ]
  },
  {
   "cell_type": "code",
   "execution_count": 9,
   "id": "616f553f",
   "metadata": {
    "execution": {
     "iopub.execute_input": "2023-02-05T19:30:54.330526Z",
     "iopub.status.busy": "2023-02-05T19:30:54.329866Z",
     "iopub.status.idle": "2023-02-05T19:30:54.337746Z",
     "shell.execute_reply": "2023-02-05T19:30:54.336963Z"
    },
    "papermill": {
     "duration": 0.023642,
     "end_time": "2023-02-05T19:30:54.339902",
     "exception": false,
     "start_time": "2023-02-05T19:30:54.316260",
     "status": "completed"
    },
    "tags": []
   },
   "outputs": [],
   "source": [
    "x = train_data.drop('Item_Outlet_Sales',axis = 1)\n",
    "y = train_data['Item_Outlet_Sales']"
   ]
  },
  {
   "cell_type": "code",
   "execution_count": 10,
   "id": "b9461c87",
   "metadata": {
    "execution": {
     "iopub.execute_input": "2023-02-05T19:30:54.366621Z",
     "iopub.status.busy": "2023-02-05T19:30:54.365957Z",
     "iopub.status.idle": "2023-02-05T19:30:54.371829Z",
     "shell.execute_reply": "2023-02-05T19:30:54.370698Z"
    },
    "papermill": {
     "duration": 0.02153,
     "end_time": "2023-02-05T19:30:54.373874",
     "exception": false,
     "start_time": "2023-02-05T19:30:54.352344",
     "status": "completed"
    },
    "tags": []
   },
   "outputs": [
    {
     "name": "stdout",
     "output_type": "stream",
     "text": [
      "(8523, 19) (8523,)\n"
     ]
    }
   ],
   "source": [
    "print(x.shape,y.shape)"
   ]
  },
  {
   "cell_type": "code",
   "execution_count": 11,
   "id": "bd0c495e",
   "metadata": {
    "execution": {
     "iopub.execute_input": "2023-02-05T19:30:54.400837Z",
     "iopub.status.busy": "2023-02-05T19:30:54.400174Z",
     "iopub.status.idle": "2023-02-05T19:30:54.417657Z",
     "shell.execute_reply": "2023-02-05T19:30:54.416513Z"
    },
    "papermill": {
     "duration": 0.033386,
     "end_time": "2023-02-05T19:30:54.419848",
     "exception": false,
     "start_time": "2023-02-05T19:30:54.386462",
     "status": "completed"
    },
    "tags": []
   },
   "outputs": [
    {
     "data": {
      "text/html": [
       "<div>\n",
       "<style scoped>\n",
       "    .dataframe tbody tr th:only-of-type {\n",
       "        vertical-align: middle;\n",
       "    }\n",
       "\n",
       "    .dataframe tbody tr th {\n",
       "        vertical-align: top;\n",
       "    }\n",
       "\n",
       "    .dataframe thead th {\n",
       "        text-align: right;\n",
       "    }\n",
       "</style>\n",
       "<table border=\"1\" class=\"dataframe\">\n",
       "  <thead>\n",
       "    <tr style=\"text-align: right;\">\n",
       "      <th></th>\n",
       "      <th>Unnamed: 0</th>\n",
       "      <th>Item_Weight</th>\n",
       "      <th>Item_Visibility</th>\n",
       "      <th>Item_MRP</th>\n",
       "      <th>Item_Fat_Content_0</th>\n",
       "      <th>Item_Fat_Content_1</th>\n",
       "      <th>Outlet_Size_0</th>\n",
       "      <th>Outlet_Size_1</th>\n",
       "      <th>Outlet_Size_2</th>\n",
       "      <th>Outlet_Location_Type_0</th>\n",
       "      <th>Outlet_Location_Type_1</th>\n",
       "      <th>Outlet_Location_Type_2</th>\n",
       "      <th>Outlet_Type_0</th>\n",
       "      <th>Outlet_Type_1</th>\n",
       "      <th>Outlet_Type_2</th>\n",
       "      <th>Outlet_Type_3</th>\n",
       "      <th>Item_Type_Combined_0</th>\n",
       "      <th>Item_Type_Combined_1</th>\n",
       "      <th>Item_Type_Combined_2</th>\n",
       "    </tr>\n",
       "  </thead>\n",
       "  <tbody>\n",
       "    <tr>\n",
       "      <th>0</th>\n",
       "      <td>0</td>\n",
       "      <td>9.30</td>\n",
       "      <td>0.016047</td>\n",
       "      <td>249.8092</td>\n",
       "      <td>1</td>\n",
       "      <td>0</td>\n",
       "      <td>0</td>\n",
       "      <td>1</td>\n",
       "      <td>0</td>\n",
       "      <td>1</td>\n",
       "      <td>0</td>\n",
       "      <td>0</td>\n",
       "      <td>0</td>\n",
       "      <td>1</td>\n",
       "      <td>0</td>\n",
       "      <td>0</td>\n",
       "      <td>0</td>\n",
       "      <td>1</td>\n",
       "      <td>0</td>\n",
       "    </tr>\n",
       "    <tr>\n",
       "      <th>1</th>\n",
       "      <td>1</td>\n",
       "      <td>5.92</td>\n",
       "      <td>0.019278</td>\n",
       "      <td>48.2692</td>\n",
       "      <td>0</td>\n",
       "      <td>1</td>\n",
       "      <td>0</td>\n",
       "      <td>1</td>\n",
       "      <td>0</td>\n",
       "      <td>0</td>\n",
       "      <td>0</td>\n",
       "      <td>1</td>\n",
       "      <td>0</td>\n",
       "      <td>0</td>\n",
       "      <td>1</td>\n",
       "      <td>0</td>\n",
       "      <td>1</td>\n",
       "      <td>0</td>\n",
       "      <td>0</td>\n",
       "    </tr>\n",
       "    <tr>\n",
       "      <th>2</th>\n",
       "      <td>2</td>\n",
       "      <td>17.50</td>\n",
       "      <td>0.016760</td>\n",
       "      <td>141.6180</td>\n",
       "      <td>1</td>\n",
       "      <td>0</td>\n",
       "      <td>0</td>\n",
       "      <td>1</td>\n",
       "      <td>0</td>\n",
       "      <td>1</td>\n",
       "      <td>0</td>\n",
       "      <td>0</td>\n",
       "      <td>0</td>\n",
       "      <td>1</td>\n",
       "      <td>0</td>\n",
       "      <td>0</td>\n",
       "      <td>0</td>\n",
       "      <td>1</td>\n",
       "      <td>0</td>\n",
       "    </tr>\n",
       "    <tr>\n",
       "      <th>3</th>\n",
       "      <td>3</td>\n",
       "      <td>19.20</td>\n",
       "      <td>0.015274</td>\n",
       "      <td>182.0950</td>\n",
       "      <td>0</td>\n",
       "      <td>1</td>\n",
       "      <td>0</td>\n",
       "      <td>1</td>\n",
       "      <td>0</td>\n",
       "      <td>0</td>\n",
       "      <td>0</td>\n",
       "      <td>1</td>\n",
       "      <td>1</td>\n",
       "      <td>0</td>\n",
       "      <td>0</td>\n",
       "      <td>0</td>\n",
       "      <td>0</td>\n",
       "      <td>1</td>\n",
       "      <td>0</td>\n",
       "    </tr>\n",
       "    <tr>\n",
       "      <th>4</th>\n",
       "      <td>4</td>\n",
       "      <td>8.93</td>\n",
       "      <td>0.008082</td>\n",
       "      <td>53.8614</td>\n",
       "      <td>1</td>\n",
       "      <td>0</td>\n",
       "      <td>1</td>\n",
       "      <td>0</td>\n",
       "      <td>0</td>\n",
       "      <td>0</td>\n",
       "      <td>0</td>\n",
       "      <td>1</td>\n",
       "      <td>0</td>\n",
       "      <td>1</td>\n",
       "      <td>0</td>\n",
       "      <td>0</td>\n",
       "      <td>0</td>\n",
       "      <td>0</td>\n",
       "      <td>1</td>\n",
       "    </tr>\n",
       "  </tbody>\n",
       "</table>\n",
       "</div>"
      ],
      "text/plain": [
       "   Unnamed: 0  Item_Weight  Item_Visibility  Item_MRP  Item_Fat_Content_0  \\\n",
       "0           0         9.30         0.016047  249.8092                   1   \n",
       "1           1         5.92         0.019278   48.2692                   0   \n",
       "2           2        17.50         0.016760  141.6180                   1   \n",
       "3           3        19.20         0.015274  182.0950                   0   \n",
       "4           4         8.93         0.008082   53.8614                   1   \n",
       "\n",
       "   Item_Fat_Content_1  Outlet_Size_0  Outlet_Size_1  Outlet_Size_2  \\\n",
       "0                   0              0              1              0   \n",
       "1                   1              0              1              0   \n",
       "2                   0              0              1              0   \n",
       "3                   1              0              1              0   \n",
       "4                   0              1              0              0   \n",
       "\n",
       "   Outlet_Location_Type_0  Outlet_Location_Type_1  Outlet_Location_Type_2  \\\n",
       "0                       1                       0                       0   \n",
       "1                       0                       0                       1   \n",
       "2                       1                       0                       0   \n",
       "3                       0                       0                       1   \n",
       "4                       0                       0                       1   \n",
       "\n",
       "   Outlet_Type_0  Outlet_Type_1  Outlet_Type_2  Outlet_Type_3  \\\n",
       "0              0              1              0              0   \n",
       "1              0              0              1              0   \n",
       "2              0              1              0              0   \n",
       "3              1              0              0              0   \n",
       "4              0              1              0              0   \n",
       "\n",
       "   Item_Type_Combined_0  Item_Type_Combined_1  Item_Type_Combined_2  \n",
       "0                     0                     1                     0  \n",
       "1                     1                     0                     0  \n",
       "2                     0                     1                     0  \n",
       "3                     0                     1                     0  \n",
       "4                     0                     0                     1  "
      ]
     },
     "execution_count": 11,
     "metadata": {},
     "output_type": "execute_result"
    }
   ],
   "source": [
    "x.head()"
   ]
  },
  {
   "cell_type": "code",
   "execution_count": 12,
   "id": "3ce81e30",
   "metadata": {
    "execution": {
     "iopub.execute_input": "2023-02-05T19:30:54.447501Z",
     "iopub.status.busy": "2023-02-05T19:30:54.446766Z",
     "iopub.status.idle": "2023-02-05T19:30:54.453484Z",
     "shell.execute_reply": "2023-02-05T19:30:54.452739Z"
    },
    "papermill": {
     "duration": 0.022739,
     "end_time": "2023-02-05T19:30:54.455457",
     "exception": false,
     "start_time": "2023-02-05T19:30:54.432718",
     "status": "completed"
    },
    "tags": []
   },
   "outputs": [
    {
     "data": {
      "text/plain": [
       "0    3735.1380\n",
       "1     443.4228\n",
       "2    2097.2700\n",
       "3     732.3800\n",
       "4     994.7052\n",
       "Name: Item_Outlet_Sales, dtype: float64"
      ]
     },
     "execution_count": 12,
     "metadata": {},
     "output_type": "execute_result"
    }
   ],
   "source": [
    "y.head()"
   ]
  },
  {
   "cell_type": "markdown",
   "id": "5cfbe53e",
   "metadata": {
    "papermill": {
     "duration": 0.012653,
     "end_time": "2023-02-05T19:30:54.480929",
     "exception": false,
     "start_time": "2023-02-05T19:30:54.468276",
     "status": "completed"
    },
    "tags": []
   },
   "source": [
    "# **Modeling**"
   ]
  },
  {
   "cell_type": "code",
   "execution_count": 13,
   "id": "f0c4226e",
   "metadata": {
    "execution": {
     "iopub.execute_input": "2023-02-05T19:30:54.509710Z",
     "iopub.status.busy": "2023-02-05T19:30:54.508739Z",
     "iopub.status.idle": "2023-02-05T19:30:54.581153Z",
     "shell.execute_reply": "2023-02-05T19:30:54.579835Z"
    },
    "papermill": {
     "duration": 0.089884,
     "end_time": "2023-02-05T19:30:54.583859",
     "exception": false,
     "start_time": "2023-02-05T19:30:54.493975",
     "status": "completed"
    },
    "tags": []
   },
   "outputs": [],
   "source": [
    "from sklearn.model_selection import train_test_split\n",
    "from sklearn.metrics import mean_squared_error,mean_absolute_error,accuracy_score,classification_report,confusion_matrix"
   ]
  },
  {
   "cell_type": "markdown",
   "id": "67811b64",
   "metadata": {
    "papermill": {
     "duration": 0.012702,
     "end_time": "2023-02-05T19:30:54.609782",
     "exception": false,
     "start_time": "2023-02-05T19:30:54.597080",
     "status": "completed"
    },
    "tags": []
   },
   "source": [
    "**Splitting Training And Test Data**"
   ]
  },
  {
   "cell_type": "code",
   "execution_count": 14,
   "id": "d2101b07",
   "metadata": {
    "execution": {
     "iopub.execute_input": "2023-02-05T19:30:54.637941Z",
     "iopub.status.busy": "2023-02-05T19:30:54.637536Z",
     "iopub.status.idle": "2023-02-05T19:30:54.646733Z",
     "shell.execute_reply": "2023-02-05T19:30:54.645260Z"
    },
    "papermill": {
     "duration": 0.026254,
     "end_time": "2023-02-05T19:30:54.649039",
     "exception": false,
     "start_time": "2023-02-05T19:30:54.622785",
     "status": "completed"
    },
    "tags": []
   },
   "outputs": [],
   "source": [
    "x_train,x_test,y_train,y_test=train_test_split(x,y,test_size=0.2)"
   ]
  },
  {
   "cell_type": "code",
   "execution_count": 15,
   "id": "e4693277",
   "metadata": {
    "execution": {
     "iopub.execute_input": "2023-02-05T19:30:54.676778Z",
     "iopub.status.busy": "2023-02-05T19:30:54.676336Z",
     "iopub.status.idle": "2023-02-05T19:30:54.681211Z",
     "shell.execute_reply": "2023-02-05T19:30:54.680182Z"
    },
    "papermill": {
     "duration": 0.021211,
     "end_time": "2023-02-05T19:30:54.683300",
     "exception": false,
     "start_time": "2023-02-05T19:30:54.662089",
     "status": "completed"
    },
    "tags": []
   },
   "outputs": [],
   "source": [
    "from sklearn.preprocessing import RobustScaler\n",
    "\n",
    "robust_scaler = RobustScaler()"
   ]
  },
  {
   "cell_type": "code",
   "execution_count": 16,
   "id": "5e66eb91",
   "metadata": {
    "execution": {
     "iopub.execute_input": "2023-02-05T19:30:54.714034Z",
     "iopub.status.busy": "2023-02-05T19:30:54.712955Z",
     "iopub.status.idle": "2023-02-05T19:30:54.738568Z",
     "shell.execute_reply": "2023-02-05T19:30:54.737263Z"
    },
    "papermill": {
     "duration": 0.043606,
     "end_time": "2023-02-05T19:30:54.741248",
     "exception": false,
     "start_time": "2023-02-05T19:30:54.697642",
     "status": "completed"
    },
    "tags": []
   },
   "outputs": [
    {
     "data": {
      "text/plain": [
       "RobustScaler()"
      ]
     },
     "execution_count": 16,
     "metadata": {},
     "output_type": "execute_result"
    }
   ],
   "source": [
    "# calculate median and IQR  \n",
    "robust_scaler.fit(train_data)"
   ]
  },
  {
   "cell_type": "code",
   "execution_count": 17,
   "id": "02dcde7f",
   "metadata": {
    "execution": {
     "iopub.execute_input": "2023-02-05T19:30:54.774979Z",
     "iopub.status.busy": "2023-02-05T19:30:54.773964Z",
     "iopub.status.idle": "2023-02-05T19:30:54.783172Z",
     "shell.execute_reply": "2023-02-05T19:30:54.782381Z"
    },
    "papermill": {
     "duration": 0.02774,
     "end_time": "2023-02-05T19:30:54.785334",
     "exception": false,
     "start_time": "2023-02-05T19:30:54.757594",
     "status": "completed"
    },
    "tags": []
   },
   "outputs": [],
   "source": [
    "robust_scaled_data = robust_scaler.transform(train_data)"
   ]
  },
  {
   "cell_type": "code",
   "execution_count": 18,
   "id": "b2669522",
   "metadata": {
    "execution": {
     "iopub.execute_input": "2023-02-05T19:30:54.813867Z",
     "iopub.status.busy": "2023-02-05T19:30:54.813212Z",
     "iopub.status.idle": "2023-02-05T19:30:54.832398Z",
     "shell.execute_reply": "2023-02-05T19:30:54.831539Z"
    },
    "papermill": {
     "duration": 0.036313,
     "end_time": "2023-02-05T19:30:54.834897",
     "exception": false,
     "start_time": "2023-02-05T19:30:54.798584",
     "status": "completed"
    },
    "tags": []
   },
   "outputs": [],
   "source": [
    "from sklearn.preprocessing import StandardScaler\n",
    "\n",
    "standard_scaler = StandardScaler()\n",
    "# combine both fit & transform into one call\n",
    "standard_scaled_data = standard_scaler.fit_transform(train_data)\n",
    "\n",
    "# dataframe with both standard and robust scaled values\n",
    "scaled_values = pd.DataFrame({\n",
    "    'Standard': standard_scaled_data.reshape(-1),\n",
    "    'Robust': robust_scaled_data.reshape(-1)\n",
    "})"
   ]
  },
  {
   "cell_type": "markdown",
   "id": "aa07e475",
   "metadata": {
    "papermill": {
     "duration": 0.013164,
     "end_time": "2023-02-05T19:30:54.861514",
     "exception": false,
     "start_time": "2023-02-05T19:30:54.848350",
     "status": "completed"
    },
    "tags": []
   },
   "source": [
    "# **Standard Scaling 06m Robust Scaling**"
   ]
  },
  {
   "cell_type": "markdown",
   "id": "82861d19",
   "metadata": {
    "papermill": {
     "duration": 0.012953,
     "end_time": "2023-02-05T19:30:54.887672",
     "exception": false,
     "start_time": "2023-02-05T19:30:54.874719",
     "status": "completed"
    },
    "tags": []
   },
   "source": [
    "# **Linear Regression**"
   ]
  },
  {
   "cell_type": "markdown",
   "id": "a2e0f5f4",
   "metadata": {
    "papermill": {
     "duration": 0.012784,
     "end_time": "2023-02-05T19:30:54.913856",
     "exception": false,
     "start_time": "2023-02-05T19:30:54.901072",
     "status": "completed"
    },
    "tags": []
   },
   "source": [
    "**Create a model and fit it**"
   ]
  },
  {
   "cell_type": "code",
   "execution_count": 19,
   "id": "fdc8505b",
   "metadata": {
    "execution": {
     "iopub.execute_input": "2023-02-05T19:30:54.942160Z",
     "iopub.status.busy": "2023-02-05T19:30:54.941744Z",
     "iopub.status.idle": "2023-02-05T19:30:55.014549Z",
     "shell.execute_reply": "2023-02-05T19:30:55.013331Z"
    },
    "papermill": {
     "duration": 0.089781,
     "end_time": "2023-02-05T19:30:55.017235",
     "exception": false,
     "start_time": "2023-02-05T19:30:54.927454",
     "status": "completed"
    },
    "tags": []
   },
   "outputs": [],
   "source": [
    "from sklearn.linear_model import LinearRegression"
   ]
  },
  {
   "cell_type": "code",
   "execution_count": 20,
   "id": "6947409b",
   "metadata": {
    "execution": {
     "iopub.execute_input": "2023-02-05T19:30:55.046253Z",
     "iopub.status.busy": "2023-02-05T19:30:55.045412Z",
     "iopub.status.idle": "2023-02-05T19:30:55.050734Z",
     "shell.execute_reply": "2023-02-05T19:30:55.049408Z"
    },
    "papermill": {
     "duration": 0.022527,
     "end_time": "2023-02-05T19:30:55.052983",
     "exception": false,
     "start_time": "2023-02-05T19:30:55.030456",
     "status": "completed"
    },
    "tags": []
   },
   "outputs": [],
   "source": [
    "model = LinearRegression()"
   ]
  },
  {
   "cell_type": "code",
   "execution_count": 21,
   "id": "f5d95dd3",
   "metadata": {
    "execution": {
     "iopub.execute_input": "2023-02-05T19:30:55.081204Z",
     "iopub.status.busy": "2023-02-05T19:30:55.080775Z",
     "iopub.status.idle": "2023-02-05T19:30:55.112446Z",
     "shell.execute_reply": "2023-02-05T19:30:55.110652Z"
    },
    "papermill": {
     "duration": 0.050604,
     "end_time": "2023-02-05T19:30:55.116827",
     "exception": false,
     "start_time": "2023-02-05T19:30:55.066223",
     "status": "completed"
    },
    "tags": []
   },
   "outputs": [
    {
     "data": {
      "text/plain": [
       "LinearRegression()"
      ]
     },
     "execution_count": 21,
     "metadata": {},
     "output_type": "execute_result"
    }
   ],
   "source": [
    "model.fit(x_train,y_train)"
   ]
  },
  {
   "cell_type": "code",
   "execution_count": 22,
   "id": "0647df5c",
   "metadata": {
    "execution": {
     "iopub.execute_input": "2023-02-05T19:30:55.188926Z",
     "iopub.status.busy": "2023-02-05T19:30:55.188121Z",
     "iopub.status.idle": "2023-02-05T19:30:55.202283Z",
     "shell.execute_reply": "2023-02-05T19:30:55.200718Z"
    },
    "papermill": {
     "duration": 0.054587,
     "end_time": "2023-02-05T19:30:55.206240",
     "exception": false,
     "start_time": "2023-02-05T19:30:55.151653",
     "status": "completed"
    },
    "tags": []
   },
   "outputs": [],
   "source": [
    "predicted= model.predict(x_test)"
   ]
  },
  {
   "cell_type": "code",
   "execution_count": 23,
   "id": "5a73e507",
   "metadata": {
    "execution": {
     "iopub.execute_input": "2023-02-05T19:30:55.283072Z",
     "iopub.status.busy": "2023-02-05T19:30:55.282393Z",
     "iopub.status.idle": "2023-02-05T19:30:55.302464Z",
     "shell.execute_reply": "2023-02-05T19:30:55.301037Z"
    },
    "papermill": {
     "duration": 0.060391,
     "end_time": "2023-02-05T19:30:55.307331",
     "exception": false,
     "start_time": "2023-02-05T19:30:55.246940",
     "status": "completed"
    },
    "tags": []
   },
   "outputs": [
    {
     "name": "stdout",
     "output_type": "stream",
     "text": [
      "MEAN SQUARED ERROR(MSE):  1321903.5705517766\n",
      "MEAN ABSOLUTE ERROR(MAE):  854.3048500306476\n",
      "ROOT MEAN SQUARED ERROR(RMSE):  2.6808511785999682\n",
      "SCORE:  0.5476438334279095\n"
     ]
    }
   ],
   "source": [
    "print(\"MEAN SQUARED ERROR(MSE): \",mean_squared_error(y_test,predicted))\n",
    "print(\"MEAN ABSOLUTE ERROR(MAE): \",mean_absolute_error(y_test,predicted))\n",
    "rsme_model = np.sqrt(np.mean(np.square(((y_test- predicted) / y_test)), axis=0))\n",
    "print(\"ROOT MEAN SQUARED ERROR(RMSE): \",rsme_model)\n",
    "print(\"SCORE: \",model.score(x_test,y_test))"
   ]
  },
  {
   "cell_type": "markdown",
   "id": "663ec1a5",
   "metadata": {
    "papermill": {
     "duration": 0.033267,
     "end_time": "2023-02-05T19:30:55.374496",
     "exception": false,
     "start_time": "2023-02-05T19:30:55.341229",
     "status": "completed"
    },
    "tags": []
   },
   "source": [
    "# **Random Forest**"
   ]
  },
  {
   "cell_type": "code",
   "execution_count": 24,
   "id": "9c08e52a",
   "metadata": {
    "execution": {
     "iopub.execute_input": "2023-02-05T19:30:55.429964Z",
     "iopub.status.busy": "2023-02-05T19:30:55.429531Z",
     "iopub.status.idle": "2023-02-05T19:30:55.557174Z",
     "shell.execute_reply": "2023-02-05T19:30:55.555973Z"
    },
    "papermill": {
     "duration": 0.151472,
     "end_time": "2023-02-05T19:30:55.559590",
     "exception": false,
     "start_time": "2023-02-05T19:30:55.408118",
     "status": "completed"
    },
    "tags": []
   },
   "outputs": [],
   "source": [
    "from sklearn.ensemble import RandomForestRegressor"
   ]
  },
  {
   "cell_type": "code",
   "execution_count": 25,
   "id": "913540c5",
   "metadata": {
    "execution": {
     "iopub.execute_input": "2023-02-05T19:30:55.587811Z",
     "iopub.status.busy": "2023-02-05T19:30:55.587359Z",
     "iopub.status.idle": "2023-02-05T19:30:55.592668Z",
     "shell.execute_reply": "2023-02-05T19:30:55.591566Z"
    },
    "papermill": {
     "duration": 0.02207,
     "end_time": "2023-02-05T19:30:55.594938",
     "exception": false,
     "start_time": "2023-02-05T19:30:55.572868",
     "status": "completed"
    },
    "tags": []
   },
   "outputs": [],
   "source": [
    "rfg=RandomForestRegressor()"
   ]
  },
  {
   "cell_type": "code",
   "execution_count": 26,
   "id": "c2cf6770",
   "metadata": {
    "execution": {
     "iopub.execute_input": "2023-02-05T19:30:55.623179Z",
     "iopub.status.busy": "2023-02-05T19:30:55.622424Z",
     "iopub.status.idle": "2023-02-05T19:30:59.233220Z",
     "shell.execute_reply": "2023-02-05T19:30:59.232283Z"
    },
    "papermill": {
     "duration": 3.627356,
     "end_time": "2023-02-05T19:30:59.235809",
     "exception": false,
     "start_time": "2023-02-05T19:30:55.608453",
     "status": "completed"
    },
    "tags": []
   },
   "outputs": [
    {
     "data": {
      "text/plain": [
       "RandomForestRegressor()"
      ]
     },
     "execution_count": 26,
     "metadata": {},
     "output_type": "execute_result"
    }
   ],
   "source": [
    "rfg.fit(x_train,y_train)"
   ]
  },
  {
   "cell_type": "code",
   "execution_count": 27,
   "id": "cab31808",
   "metadata": {
    "execution": {
     "iopub.execute_input": "2023-02-05T19:30:59.263567Z",
     "iopub.status.busy": "2023-02-05T19:30:59.263147Z",
     "iopub.status.idle": "2023-02-05T19:30:59.344462Z",
     "shell.execute_reply": "2023-02-05T19:30:59.343329Z"
    },
    "papermill": {
     "duration": 0.098213,
     "end_time": "2023-02-05T19:30:59.347106",
     "exception": false,
     "start_time": "2023-02-05T19:30:59.248893",
     "status": "completed"
    },
    "tags": []
   },
   "outputs": [],
   "source": [
    "predicted= rfg.predict(x_test)"
   ]
  },
  {
   "cell_type": "code",
   "execution_count": 28,
   "id": "cc7a20bc",
   "metadata": {
    "execution": {
     "iopub.execute_input": "2023-02-05T19:30:59.374982Z",
     "iopub.status.busy": "2023-02-05T19:30:59.374569Z",
     "iopub.status.idle": "2023-02-05T19:30:59.462873Z",
     "shell.execute_reply": "2023-02-05T19:30:59.461657Z"
    },
    "papermill": {
     "duration": 0.105119,
     "end_time": "2023-02-05T19:30:59.465418",
     "exception": false,
     "start_time": "2023-02-05T19:30:59.360299",
     "status": "completed"
    },
    "tags": []
   },
   "outputs": [
    {
     "name": "stdout",
     "output_type": "stream",
     "text": [
      "MEAN SQUARED ERROR(MSE):  1286210.6589148452\n",
      "MEAN ABSOLUTE ERROR(MAE):  802.9581621923754\n",
      "ROOT MEAN SQUARED ERROR(RMSE):  1.046948896794514\n",
      "SCORE:  0.5598579684386343\n"
     ]
    }
   ],
   "source": [
    "print(\"MEAN SQUARED ERROR(MSE): \",mean_squared_error(y_test,predicted))\n",
    "print(\"MEAN ABSOLUTE ERROR(MAE): \",mean_absolute_error(y_test,predicted))\n",
    "rsme_rfg = np.sqrt(np.mean(np.square(((y_test- predicted) / y_test)), axis=0))\n",
    "print(\"ROOT MEAN SQUARED ERROR(RMSE): \",rsme_rfg)\n",
    "print(\"SCORE: \",rfg.score(x_test,y_test))"
   ]
  },
  {
   "cell_type": "markdown",
   "id": "b9a7b9d1",
   "metadata": {
    "papermill": {
     "duration": 0.012986,
     "end_time": "2023-02-05T19:30:59.492295",
     "exception": false,
     "start_time": "2023-02-05T19:30:59.479309",
     "status": "completed"
    },
    "tags": []
   },
   "source": [
    "# **Regularized Linear Regression**"
   ]
  },
  {
   "cell_type": "markdown",
   "id": "47e68f5a",
   "metadata": {
    "papermill": {
     "duration": 0.012869,
     "end_time": "2023-02-05T19:30:59.518474",
     "exception": false,
     "start_time": "2023-02-05T19:30:59.505605",
     "status": "completed"
    },
    "tags": []
   },
   "source": [
    "**Ridge Regression**"
   ]
  },
  {
   "cell_type": "code",
   "execution_count": 29,
   "id": "bd9b8743",
   "metadata": {
    "execution": {
     "iopub.execute_input": "2023-02-05T19:30:59.546166Z",
     "iopub.status.busy": "2023-02-05T19:30:59.545751Z",
     "iopub.status.idle": "2023-02-05T19:30:59.551033Z",
     "shell.execute_reply": "2023-02-05T19:30:59.549934Z"
    },
    "papermill": {
     "duration": 0.021714,
     "end_time": "2023-02-05T19:30:59.553162",
     "exception": false,
     "start_time": "2023-02-05T19:30:59.531448",
     "status": "completed"
    },
    "tags": []
   },
   "outputs": [],
   "source": [
    "from sklearn.linear_model import Ridge\n",
    "model_ridge = Ridge(alpha=0.05,normalize=True)"
   ]
  },
  {
   "cell_type": "code",
   "execution_count": 30,
   "id": "f26cf3ba",
   "metadata": {
    "execution": {
     "iopub.execute_input": "2023-02-05T19:30:59.582614Z",
     "iopub.status.busy": "2023-02-05T19:30:59.582158Z",
     "iopub.status.idle": "2023-02-05T19:30:59.608426Z",
     "shell.execute_reply": "2023-02-05T19:30:59.606618Z"
    },
    "papermill": {
     "duration": 0.044917,
     "end_time": "2023-02-05T19:30:59.612389",
     "exception": false,
     "start_time": "2023-02-05T19:30:59.567472",
     "status": "completed"
    },
    "tags": []
   },
   "outputs": [
    {
     "name": "stderr",
     "output_type": "stream",
     "text": [
      "/opt/conda/lib/python3.7/site-packages/sklearn/linear_model/_base.py:145: FutureWarning: 'normalize' was deprecated in version 1.0 and will be removed in 1.2.\n",
      "If you wish to scale the data, use Pipeline with a StandardScaler in a preprocessing stage. To reproduce the previous behavior:\n",
      "\n",
      "from sklearn.pipeline import make_pipeline\n",
      "\n",
      "model = make_pipeline(StandardScaler(with_mean=False), Ridge())\n",
      "\n",
      "If you wish to pass a sample_weight parameter, you need to pass it as a fit parameter to each step of the pipeline as follows:\n",
      "\n",
      "kwargs = {s[0] + '__sample_weight': sample_weight for s in model.steps}\n",
      "model.fit(X, y, **kwargs)\n",
      "\n",
      "Set parameter alpha to: original_alpha * n_samples. \n",
      "  FutureWarning,\n"
     ]
    },
    {
     "data": {
      "text/plain": [
       "Ridge(alpha=0.05, normalize=True)"
      ]
     },
     "execution_count": 30,
     "metadata": {},
     "output_type": "execute_result"
    }
   ],
   "source": [
    "model_ridge.fit(x_train,y_train)"
   ]
  },
  {
   "cell_type": "code",
   "execution_count": 31,
   "id": "121e30d2",
   "metadata": {
    "execution": {
     "iopub.execute_input": "2023-02-05T19:30:59.686450Z",
     "iopub.status.busy": "2023-02-05T19:30:59.685752Z",
     "iopub.status.idle": "2023-02-05T19:30:59.709667Z",
     "shell.execute_reply": "2023-02-05T19:30:59.699538Z"
    },
    "papermill": {
     "duration": 0.065598,
     "end_time": "2023-02-05T19:30:59.714131",
     "exception": false,
     "start_time": "2023-02-05T19:30:59.648533",
     "status": "completed"
    },
    "tags": []
   },
   "outputs": [],
   "source": [
    "predicted= model_ridge.predict(x_test)"
   ]
  },
  {
   "cell_type": "code",
   "execution_count": 32,
   "id": "79707c10",
   "metadata": {
    "execution": {
     "iopub.execute_input": "2023-02-05T19:30:59.786749Z",
     "iopub.status.busy": "2023-02-05T19:30:59.785979Z",
     "iopub.status.idle": "2023-02-05T19:30:59.806628Z",
     "shell.execute_reply": "2023-02-05T19:30:59.805024Z"
    },
    "papermill": {
     "duration": 0.061447,
     "end_time": "2023-02-05T19:30:59.810838",
     "exception": false,
     "start_time": "2023-02-05T19:30:59.749391",
     "status": "completed"
    },
    "tags": []
   },
   "outputs": [
    {
     "name": "stdout",
     "output_type": "stream",
     "text": [
      "MEAN SQUARED ERROR(MSE):  1324323.67773259\n",
      "MEAN ABSOLUTE ERROR(MAE):  854.3095239592176\n",
      "ROOT MEAN SQUARED ERROR(RMSE):  2.4537408970068793\n",
      "SCORE:  0.5468156713505884\n"
     ]
    }
   ],
   "source": [
    "print(\"MEAN SQUARED ERROR(MSE): \",mean_squared_error(y_test,predicted))\n",
    "print(\"MEAN ABSOLUTE ERROR(MAE): \",mean_absolute_error(y_test,predicted))\n",
    "rsme_model_ridge = np.sqrt(np.mean(np.square(((y_test- predicted) / y_test)), axis=0))\n",
    "print(\"ROOT MEAN SQUARED ERROR(RMSE): \",rsme_model_ridge)\n",
    "print(\"SCORE: \",model_ridge.score(x_test,y_test))"
   ]
  },
  {
   "cell_type": "markdown",
   "id": "a7eafe37",
   "metadata": {
    "papermill": {
     "duration": 0.034518,
     "end_time": "2023-02-05T19:30:59.880226",
     "exception": false,
     "start_time": "2023-02-05T19:30:59.845708",
     "status": "completed"
    },
    "tags": []
   },
   "source": [
    "# **XGBoost**"
   ]
  },
  {
   "cell_type": "code",
   "execution_count": 33,
   "id": "56d6c53b",
   "metadata": {
    "execution": {
     "iopub.execute_input": "2023-02-05T19:30:59.935308Z",
     "iopub.status.busy": "2023-02-05T19:30:59.934906Z",
     "iopub.status.idle": "2023-02-05T19:31:00.033986Z",
     "shell.execute_reply": "2023-02-05T19:31:00.032833Z"
    },
    "papermill": {
     "duration": 0.121359,
     "end_time": "2023-02-05T19:31:00.036775",
     "exception": false,
     "start_time": "2023-02-05T19:30:59.915416",
     "status": "completed"
    },
    "tags": []
   },
   "outputs": [],
   "source": [
    "import xgboost \n",
    "from xgboost import XGBRegressor"
   ]
  },
  {
   "cell_type": "code",
   "execution_count": 34,
   "id": "01152c0b",
   "metadata": {
    "execution": {
     "iopub.execute_input": "2023-02-05T19:31:00.066489Z",
     "iopub.status.busy": "2023-02-05T19:31:00.066061Z",
     "iopub.status.idle": "2023-02-05T19:31:00.070616Z",
     "shell.execute_reply": "2023-02-05T19:31:00.069828Z"
    },
    "papermill": {
     "duration": 0.02192,
     "end_time": "2023-02-05T19:31:00.072611",
     "exception": false,
     "start_time": "2023-02-05T19:31:00.050691",
     "status": "completed"
    },
    "tags": []
   },
   "outputs": [],
   "source": [
    "xgb = XGBRegressor()\n",
    "     \n",
    "xgb = XGBRegressor(n_estimators=1000, max_depth=7, eta=0.1, subsample=0.7, colsample_bytree=0.8)"
   ]
  },
  {
   "cell_type": "code",
   "execution_count": 35,
   "id": "48b79f98",
   "metadata": {
    "execution": {
     "iopub.execute_input": "2023-02-05T19:31:00.103610Z",
     "iopub.status.busy": "2023-02-05T19:31:00.102554Z",
     "iopub.status.idle": "2023-02-05T19:31:09.802521Z",
     "shell.execute_reply": "2023-02-05T19:31:09.801095Z"
    },
    "papermill": {
     "duration": 9.718391,
     "end_time": "2023-02-05T19:31:09.805195",
     "exception": false,
     "start_time": "2023-02-05T19:31:00.086804",
     "status": "completed"
    },
    "tags": []
   },
   "outputs": [
    {
     "data": {
      "text/plain": [
       "XGBRegressor(base_score=0.5, booster='gbtree', callbacks=None,\n",
       "             colsample_bylevel=1, colsample_bynode=1, colsample_bytree=0.8,\n",
       "             early_stopping_rounds=None, enable_categorical=False, eta=0.1,\n",
       "             eval_metric=None, gamma=0, gpu_id=-1, grow_policy='depthwise',\n",
       "             importance_type=None, interaction_constraints='',\n",
       "             learning_rate=0.100000001, max_bin=256, max_cat_to_onehot=4,\n",
       "             max_delta_step=0, max_depth=7, max_leaves=0, min_child_weight=1,\n",
       "             missing=nan, monotone_constraints='()', n_estimators=1000,\n",
       "             n_jobs=0, num_parallel_tree=1, predictor='auto', random_state=0,\n",
       "             reg_alpha=0, ...)"
      ]
     },
     "execution_count": 35,
     "metadata": {},
     "output_type": "execute_result"
    }
   ],
   "source": [
    "xgb.fit(x_train,y_train)"
   ]
  },
  {
   "cell_type": "code",
   "execution_count": 36,
   "id": "2dfc1ba2",
   "metadata": {
    "execution": {
     "iopub.execute_input": "2023-02-05T19:31:09.835315Z",
     "iopub.status.busy": "2023-02-05T19:31:09.834926Z",
     "iopub.status.idle": "2023-02-05T19:31:09.869833Z",
     "shell.execute_reply": "2023-02-05T19:31:09.868689Z"
    },
    "papermill": {
     "duration": 0.052928,
     "end_time": "2023-02-05T19:31:09.872712",
     "exception": false,
     "start_time": "2023-02-05T19:31:09.819784",
     "status": "completed"
    },
    "tags": []
   },
   "outputs": [],
   "source": [
    "predicted= xgb.predict(x_test)"
   ]
  },
  {
   "cell_type": "code",
   "execution_count": 37,
   "id": "a6caded1",
   "metadata": {
    "execution": {
     "iopub.execute_input": "2023-02-05T19:31:09.904677Z",
     "iopub.status.busy": "2023-02-05T19:31:09.903880Z",
     "iopub.status.idle": "2023-02-05T19:31:09.945022Z",
     "shell.execute_reply": "2023-02-05T19:31:09.943110Z"
    },
    "papermill": {
     "duration": 0.058692,
     "end_time": "2023-02-05T19:31:09.947423",
     "exception": false,
     "start_time": "2023-02-05T19:31:09.888731",
     "status": "completed"
    },
    "tags": []
   },
   "outputs": [
    {
     "name": "stdout",
     "output_type": "stream",
     "text": [
      "MEAN SQUARED ERROR(MSE):  1458254.9112530723\n",
      "MEAN ABSOLUTE ERROR(MAE):  863.3618061818743\n",
      "ROOT MEAN SQUARED ERROR(RMSE):  1.1963864016264205\n",
      "SCORE:  0.5009843257598444\n"
     ]
    }
   ],
   "source": [
    "print(\"MEAN SQUARED ERROR(MSE): \",mean_squared_error(y_test,predicted))\n",
    "print(\"MEAN ABSOLUTE ERROR(MAE): \",mean_absolute_error(y_test,predicted))\n",
    "rsme_xgb = np.sqrt(np.mean(np.square(((y_test- predicted) / y_test)), axis=0))\n",
    "print(\"ROOT MEAN SQUARED ERROR(RMSE): \",rsme_xgb)\n",
    "print(\"SCORE: \",xgb.score(x_test,y_test))"
   ]
  },
  {
   "cell_type": "markdown",
   "id": "af37c7eb",
   "metadata": {
    "papermill": {
     "duration": 0.013191,
     "end_time": "2023-02-05T19:31:09.976041",
     "exception": false,
     "start_time": "2023-02-05T19:31:09.962850",
     "status": "completed"
    },
    "tags": []
   },
   "source": [
    "# **Final Predictions & It's Visualization**"
   ]
  },
  {
   "cell_type": "code",
   "execution_count": 38,
   "id": "749c97ef",
   "metadata": {
    "execution": {
     "iopub.execute_input": "2023-02-05T19:31:10.004599Z",
     "iopub.status.busy": "2023-02-05T19:31:10.004207Z",
     "iopub.status.idle": "2023-02-05T19:31:10.009769Z",
     "shell.execute_reply": "2023-02-05T19:31:10.008935Z"
    },
    "papermill": {
     "duration": 0.022128,
     "end_time": "2023-02-05T19:31:10.011701",
     "exception": false,
     "start_time": "2023-02-05T19:31:09.989573",
     "status": "completed"
    },
    "tags": []
   },
   "outputs": [],
   "source": [
    "model = pd.DataFrame({'Model': ['Linear Regression', 'Random Forest','AdA Boost','XGBoost'],'RMSE_mean': [rsme_model,rsme_rfg,rsme_model_ridge,rsme_xgb]})"
   ]
  },
  {
   "cell_type": "code",
   "execution_count": 39,
   "id": "81c7638c",
   "metadata": {
    "execution": {
     "iopub.execute_input": "2023-02-05T19:31:10.041127Z",
     "iopub.status.busy": "2023-02-05T19:31:10.040437Z",
     "iopub.status.idle": "2023-02-05T19:31:10.374246Z",
     "shell.execute_reply": "2023-02-05T19:31:10.373235Z"
    },
    "papermill": {
     "duration": 0.351079,
     "end_time": "2023-02-05T19:31:10.376781",
     "exception": false,
     "start_time": "2023-02-05T19:31:10.025702",
     "status": "completed"
    },
    "tags": []
   },
   "outputs": [
    {
     "name": "stderr",
     "output_type": "stream",
     "text": [
      "/opt/conda/lib/python3.7/site-packages/seaborn/categorical.py:3717: UserWarning: The `factorplot` function has been renamed to `catplot`. The original name will be removed in a future release. Please update your code. Note that the default `kind` in `factorplot` (`'point'`) has changed `'strip'` in `catplot`.\n",
      "  warnings.warn(msg)\n",
      "/opt/conda/lib/python3.7/site-packages/seaborn/categorical.py:3723: UserWarning: The `size` parameter has been renamed to `height`; please update your code.\n",
      "  warnings.warn(msg, UserWarning)\n"
     ]
    },
    {
     "data": {
      "text/plain": [
       "Text(0.5, 1.0, 'Plotting based on Model and RSME')"
      ]
     },
     "execution_count": 39,
     "metadata": {},
     "output_type": "execute_result"
    },
    {
     "data": {
      "image/png": "[encoded data removed]",
      "text/plain": [
       "<Figure size 864x216 with 1 Axes>"
      ]
     },
     "metadata": {
      "needs_background": "light"
     },
     "output_type": "display_data"
    }
   ],
   "source": [
    "sns.factorplot(x= 'Model', y= 'RMSE_mean', kind='bar',data= model, size=3, aspect=4)\n",
    "plt.title('Plotting based on Model and RSME')"
   ]
  },
  {
   "cell_type": "code",
   "execution_count": null,
   "id": "4cf3a54b",
   "metadata": {
    "papermill": {
     "duration": 0.013845,
     "end_time": "2023-02-05T19:31:10.404953",
     "exception": false,
     "start_time": "2023-02-05T19:31:10.391108",
     "status": "completed"
    },
    "tags": []
   },
   "outputs": [],
   "source": []
  }
 ],
 "metadata": {
  "kernelspec": {
   "display_name": "Python 3",
   "language": "python",
   "name": "python3"
  },
  "language_info": {
   "codemirror_mode": {
    "name": "ipython",
    "version": 3
   },
   "file_extension": ".py",
   "mimetype": "text/x-python",
   "name": "python",
   "nbconvert_exporter": "python",
   "pygments_lexer": "ipython3",
   "version": "3.7.12"
  },
  "papermill": {
   "default_parameters": {},
   "duration": 26.860334,
   "end_time": "2023-02-05T19:31:11.341557",
   "environment_variables": {},
   "exception": null,
   "input_path": "__notebook__.ipynb",
   "output_path": "__notebook__.ipynb",
   "parameters": {},
   "start_time": "2023-02-05T19:30:44.481223",
   "version": "2.3.4"
  }
 },
 "nbformat": 4,
 "nbformat_minor": 5
}
