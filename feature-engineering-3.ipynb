{
 "cells": [
  {
   "cell_type": "code",
   "execution_count": 1,
   "id": "d77dc2a1",
   "metadata": {
    "_cell_guid": "b1076dfc-b9ad-4769-8c92-a6c4dae69d19",
    "_uuid": "8f2839f25d086af736a60e9eeb907d3b93b6e0e5",
    "execution": {
     "iopub.execute_input": "2023-02-05T17:16:17.636209Z",
     "iopub.status.busy": "2023-02-05T17:16:17.635650Z",
     "iopub.status.idle": "2023-02-05T17:16:18.808514Z",
     "shell.execute_reply": "2023-02-05T17:16:18.807584Z"
    },
    "papermill": {
     "duration": 1.185599,
     "end_time": "2023-02-05T17:16:18.810645",
     "exception": false,
     "start_time": "2023-02-05T17:16:17.625046",
     "status": "completed"
    },
    "tags": []
   },
   "outputs": [
    {
     "name": "stdout",
     "output_type": "stream",
     "text": [
      "Setup Complete\n"
     ]
    }
   ],
   "source": [
    "import pandas as pd\n",
    "import numpy as np\n",
    "pd.plotting.register_matplotlib_converters()\n",
    "import matplotlib.pyplot as plt\n",
    "%matplotlib inline\n",
    "import seaborn as sns\n",
    "import sklearn\n",
    "print(\"Setup Complete\")"
   ]
  },
  {
   "cell_type": "code",
   "execution_count": 2,
   "id": "b9365b39",
   "metadata": {
    "execution": {
     "iopub.execute_input": "2023-02-05T17:16:18.827706Z",
     "iopub.status.busy": "2023-02-05T17:16:18.827092Z",
     "iopub.status.idle": "2023-02-05T17:16:18.881256Z",
     "shell.execute_reply": "2023-02-05T17:16:18.879898Z"
    },
    "papermill": {
     "duration": 0.065804,
     "end_time": "2023-02-05T17:16:18.884069",
     "exception": false,
     "start_time": "2023-02-05T17:16:18.818265",
     "status": "completed"
    },
    "tags": []
   },
   "outputs": [],
   "source": [
    "train_path = \"/kaggle/input/big-mart-clean-1/train_clean_1.csv\"\n",
    "\n",
    "train_data = pd.read_csv(train_path)"
   ]
  },
  {
   "cell_type": "code",
   "execution_count": 3,
   "id": "95876437",
   "metadata": {
    "execution": {
     "iopub.execute_input": "2023-02-05T17:16:18.901426Z",
     "iopub.status.busy": "2023-02-05T17:16:18.901032Z",
     "iopub.status.idle": "2023-02-05T17:16:18.925654Z",
     "shell.execute_reply": "2023-02-05T17:16:18.924777Z"
    },
    "papermill": {
     "duration": 0.035991,
     "end_time": "2023-02-05T17:16:18.927996",
     "exception": false,
     "start_time": "2023-02-05T17:16:18.892005",
     "status": "completed"
    },
    "tags": []
   },
   "outputs": [
    {
     "data": {
      "text/html": [
       "<div>\n",
       "<style scoped>\n",
       "    .dataframe tbody tr th:only-of-type {\n",
       "        vertical-align: middle;\n",
       "    }\n",
       "\n",
       "    .dataframe tbody tr th {\n",
       "        vertical-align: top;\n",
       "    }\n",
       "\n",
       "    .dataframe thead th {\n",
       "        text-align: right;\n",
       "    }\n",
       "</style>\n",
       "<table border=\"1\" class=\"dataframe\">\n",
       "  <thead>\n",
       "    <tr style=\"text-align: right;\">\n",
       "      <th></th>\n",
       "      <th>Item_Identifier</th>\n",
       "      <th>Item_Weight</th>\n",
       "      <th>Item_Fat_Content</th>\n",
       "      <th>Item_Visibility</th>\n",
       "      <th>Item_Type</th>\n",
       "      <th>Item_MRP</th>\n",
       "      <th>Outlet_Identifier</th>\n",
       "      <th>Outlet_Establishment_Year</th>\n",
       "      <th>Outlet_Size</th>\n",
       "      <th>Outlet_Location_Type</th>\n",
       "      <th>Outlet_Type</th>\n",
       "      <th>Item_Outlet_Sales</th>\n",
       "    </tr>\n",
       "  </thead>\n",
       "  <tbody>\n",
       "    <tr>\n",
       "      <th>0</th>\n",
       "      <td>FDA15</td>\n",
       "      <td>9.30</td>\n",
       "      <td>Low Fat</td>\n",
       "      <td>0.016047</td>\n",
       "      <td>Dairy</td>\n",
       "      <td>249.8092</td>\n",
       "      <td>OUT049</td>\n",
       "      <td>1999</td>\n",
       "      <td>Medium</td>\n",
       "      <td>Tier 1</td>\n",
       "      <td>Supermarket Type1</td>\n",
       "      <td>3735.1380</td>\n",
       "    </tr>\n",
       "    <tr>\n",
       "      <th>1</th>\n",
       "      <td>DRC01</td>\n",
       "      <td>5.92</td>\n",
       "      <td>Regular</td>\n",
       "      <td>0.019278</td>\n",
       "      <td>Soft Drinks</td>\n",
       "      <td>48.2692</td>\n",
       "      <td>OUT018</td>\n",
       "      <td>2009</td>\n",
       "      <td>Medium</td>\n",
       "      <td>Tier 3</td>\n",
       "      <td>Supermarket Type2</td>\n",
       "      <td>443.4228</td>\n",
       "    </tr>\n",
       "    <tr>\n",
       "      <th>2</th>\n",
       "      <td>FDN15</td>\n",
       "      <td>17.50</td>\n",
       "      <td>Low Fat</td>\n",
       "      <td>0.016760</td>\n",
       "      <td>Meat</td>\n",
       "      <td>141.6180</td>\n",
       "      <td>OUT049</td>\n",
       "      <td>1999</td>\n",
       "      <td>Medium</td>\n",
       "      <td>Tier 1</td>\n",
       "      <td>Supermarket Type1</td>\n",
       "      <td>2097.2700</td>\n",
       "    </tr>\n",
       "    <tr>\n",
       "      <th>3</th>\n",
       "      <td>FDX07</td>\n",
       "      <td>19.20</td>\n",
       "      <td>Regular</td>\n",
       "      <td>0.000000</td>\n",
       "      <td>Fruits and Vegetables</td>\n",
       "      <td>182.0950</td>\n",
       "      <td>OUT010</td>\n",
       "      <td>1998</td>\n",
       "      <td>Medium</td>\n",
       "      <td>Tier 3</td>\n",
       "      <td>Grocery Store</td>\n",
       "      <td>732.3800</td>\n",
       "    </tr>\n",
       "    <tr>\n",
       "      <th>4</th>\n",
       "      <td>NCD19</td>\n",
       "      <td>8.93</td>\n",
       "      <td>Low Fat</td>\n",
       "      <td>0.000000</td>\n",
       "      <td>Household</td>\n",
       "      <td>53.8614</td>\n",
       "      <td>OUT013</td>\n",
       "      <td>1987</td>\n",
       "      <td>High</td>\n",
       "      <td>Tier 3</td>\n",
       "      <td>Supermarket Type1</td>\n",
       "      <td>994.7052</td>\n",
       "    </tr>\n",
       "  </tbody>\n",
       "</table>\n",
       "</div>"
      ],
      "text/plain": [
       "  Item_Identifier  Item_Weight Item_Fat_Content  Item_Visibility  \\\n",
       "0           FDA15         9.30          Low Fat         0.016047   \n",
       "1           DRC01         5.92          Regular         0.019278   \n",
       "2           FDN15        17.50          Low Fat         0.016760   \n",
       "3           FDX07        19.20          Regular         0.000000   \n",
       "4           NCD19         8.93          Low Fat         0.000000   \n",
       "\n",
       "               Item_Type  Item_MRP Outlet_Identifier  \\\n",
       "0                  Dairy  249.8092            OUT049   \n",
       "1            Soft Drinks   48.2692            OUT018   \n",
       "2                   Meat  141.6180            OUT049   \n",
       "3  Fruits and Vegetables  182.0950            OUT010   \n",
       "4              Household   53.8614            OUT013   \n",
       "\n",
       "   Outlet_Establishment_Year Outlet_Size Outlet_Location_Type  \\\n",
       "0                       1999      Medium               Tier 1   \n",
       "1                       2009      Medium               Tier 3   \n",
       "2                       1999      Medium               Tier 1   \n",
       "3                       1998      Medium               Tier 3   \n",
       "4                       1987        High               Tier 3   \n",
       "\n",
       "         Outlet_Type  Item_Outlet_Sales  \n",
       "0  Supermarket Type1          3735.1380  \n",
       "1  Supermarket Type2           443.4228  \n",
       "2  Supermarket Type1          2097.2700  \n",
       "3      Grocery Store           732.3800  \n",
       "4  Supermarket Type1           994.7052  "
      ]
     },
     "execution_count": 3,
     "metadata": {},
     "output_type": "execute_result"
    }
   ],
   "source": [
    "train_data.head()"
   ]
  },
  {
   "cell_type": "code",
   "execution_count": 4,
   "id": "86a8bd3d",
   "metadata": {
    "execution": {
     "iopub.execute_input": "2023-02-05T17:16:18.945929Z",
     "iopub.status.busy": "2023-02-05T17:16:18.945022Z",
     "iopub.status.idle": "2023-02-05T17:16:18.952165Z",
     "shell.execute_reply": "2023-02-05T17:16:18.950028Z"
    },
    "papermill": {
     "duration": 0.01903,
     "end_time": "2023-02-05T17:16:18.955035",
     "exception": false,
     "start_time": "2023-02-05T17:16:18.936005",
     "status": "completed"
    },
    "tags": []
   },
   "outputs": [
    {
     "data": {
      "text/plain": [
       "(8523, 12)"
      ]
     },
     "execution_count": 4,
     "metadata": {},
     "output_type": "execute_result"
    }
   ],
   "source": [
    "train_data.shape"
   ]
  },
  {
   "cell_type": "code",
   "execution_count": 5,
   "id": "94500231",
   "metadata": {
    "execution": {
     "iopub.execute_input": "2023-02-05T17:16:18.973178Z",
     "iopub.status.busy": "2023-02-05T17:16:18.972570Z",
     "iopub.status.idle": "2023-02-05T17:16:18.998441Z",
     "shell.execute_reply": "2023-02-05T17:16:18.997504Z"
    },
    "papermill": {
     "duration": 0.037185,
     "end_time": "2023-02-05T17:16:19.000440",
     "exception": false,
     "start_time": "2023-02-05T17:16:18.963255",
     "status": "completed"
    },
    "tags": []
   },
   "outputs": [
    {
     "name": "stdout",
     "output_type": "stream",
     "text": [
      "<class 'pandas.core.frame.DataFrame'>\n",
      "RangeIndex: 8523 entries, 0 to 8522\n",
      "Data columns (total 12 columns):\n",
      " #   Column                     Non-Null Count  Dtype  \n",
      "---  ------                     --------------  -----  \n",
      " 0   Item_Identifier            8523 non-null   object \n",
      " 1   Item_Weight                8523 non-null   float64\n",
      " 2   Item_Fat_Content           8523 non-null   object \n",
      " 3   Item_Visibility            8523 non-null   float64\n",
      " 4   Item_Type                  8523 non-null   object \n",
      " 5   Item_MRP                   8523 non-null   float64\n",
      " 6   Outlet_Identifier          8523 non-null   object \n",
      " 7   Outlet_Establishment_Year  8523 non-null   int64  \n",
      " 8   Outlet_Size                8523 non-null   object \n",
      " 9   Outlet_Location_Type       8523 non-null   object \n",
      " 10  Outlet_Type                8523 non-null   object \n",
      " 11  Item_Outlet_Sales          8523 non-null   float64\n",
      "dtypes: float64(4), int64(1), object(7)\n",
      "memory usage: 799.2+ KB\n"
     ]
    }
   ],
   "source": [
    "train_data.info()"
   ]
  },
  {
   "cell_type": "code",
   "execution_count": 6,
   "id": "f668f0e2",
   "metadata": {
    "execution": {
     "iopub.execute_input": "2023-02-05T17:16:19.017551Z",
     "iopub.status.busy": "2023-02-05T17:16:19.017155Z",
     "iopub.status.idle": "2023-02-05T17:16:19.027471Z",
     "shell.execute_reply": "2023-02-05T17:16:19.026785Z"
    },
    "papermill": {
     "duration": 0.021472,
     "end_time": "2023-02-05T17:16:19.029773",
     "exception": false,
     "start_time": "2023-02-05T17:16:19.008301",
     "status": "completed"
    },
    "tags": []
   },
   "outputs": [
    {
     "data": {
      "text/plain": [
       "Item_Identifier              0\n",
       "Item_Weight                  0\n",
       "Item_Fat_Content             0\n",
       "Item_Visibility              0\n",
       "Item_Type                    0\n",
       "Item_MRP                     0\n",
       "Outlet_Identifier            0\n",
       "Outlet_Establishment_Year    0\n",
       "Outlet_Size                  0\n",
       "Outlet_Location_Type         0\n",
       "Outlet_Type                  0\n",
       "Item_Outlet_Sales            0\n",
       "dtype: int64"
      ]
     },
     "execution_count": 6,
     "metadata": {},
     "output_type": "execute_result"
    }
   ],
   "source": [
    "train_data.isnull().sum()"
   ]
  },
  {
   "cell_type": "code",
   "execution_count": 7,
   "id": "914f000c",
   "metadata": {
    "execution": {
     "iopub.execute_input": "2023-02-05T17:16:19.049096Z",
     "iopub.status.busy": "2023-02-05T17:16:19.048406Z",
     "iopub.status.idle": "2023-02-05T17:16:19.067295Z",
     "shell.execute_reply": "2023-02-05T17:16:19.065908Z"
    },
    "papermill": {
     "duration": 0.031458,
     "end_time": "2023-02-05T17:16:19.069468",
     "exception": false,
     "start_time": "2023-02-05T17:16:19.038010",
     "status": "completed"
    },
    "tags": []
   },
   "outputs": [
    {
     "data": {
      "text/plain": [
       "Item_Identifier              1559\n",
       "Item_Weight                   415\n",
       "Item_Fat_Content                5\n",
       "Item_Visibility              7880\n",
       "Item_Type                      16\n",
       "Item_MRP                     5938\n",
       "Outlet_Identifier              10\n",
       "Outlet_Establishment_Year       9\n",
       "Outlet_Size                     3\n",
       "Outlet_Location_Type            3\n",
       "Outlet_Type                     4\n",
       "Item_Outlet_Sales            3493\n",
       "dtype: int64"
      ]
     },
     "execution_count": 7,
     "metadata": {},
     "output_type": "execute_result"
    }
   ],
   "source": [
    "train_data.nunique()"
   ]
  },
  {
   "cell_type": "code",
   "execution_count": 8,
   "id": "f1f1a039",
   "metadata": {
    "execution": {
     "iopub.execute_input": "2023-02-05T17:16:19.088504Z",
     "iopub.status.busy": "2023-02-05T17:16:19.088111Z",
     "iopub.status.idle": "2023-02-05T17:16:19.120348Z",
     "shell.execute_reply": "2023-02-05T17:16:19.118883Z"
    },
    "papermill": {
     "duration": 0.044475,
     "end_time": "2023-02-05T17:16:19.123076",
     "exception": false,
     "start_time": "2023-02-05T17:16:19.078601",
     "status": "completed"
    },
    "tags": []
   },
   "outputs": [
    {
     "data": {
      "text/html": [
       "<div>\n",
       "<style scoped>\n",
       "    .dataframe tbody tr th:only-of-type {\n",
       "        vertical-align: middle;\n",
       "    }\n",
       "\n",
       "    .dataframe tbody tr th {\n",
       "        vertical-align: top;\n",
       "    }\n",
       "\n",
       "    .dataframe thead th {\n",
       "        text-align: right;\n",
       "    }\n",
       "</style>\n",
       "<table border=\"1\" class=\"dataframe\">\n",
       "  <thead>\n",
       "    <tr style=\"text-align: right;\">\n",
       "      <th></th>\n",
       "      <th>Item_Weight</th>\n",
       "      <th>Item_Visibility</th>\n",
       "      <th>Item_MRP</th>\n",
       "      <th>Outlet_Establishment_Year</th>\n",
       "      <th>Item_Outlet_Sales</th>\n",
       "    </tr>\n",
       "  </thead>\n",
       "  <tbody>\n",
       "    <tr>\n",
       "      <th>count</th>\n",
       "      <td>8523.00000</td>\n",
       "      <td>8523.000000</td>\n",
       "      <td>8523.000000</td>\n",
       "      <td>8523.000000</td>\n",
       "      <td>8523.000000</td>\n",
       "    </tr>\n",
       "    <tr>\n",
       "      <th>mean</th>\n",
       "      <td>12.81342</td>\n",
       "      <td>0.066132</td>\n",
       "      <td>140.992782</td>\n",
       "      <td>1997.831867</td>\n",
       "      <td>2181.288914</td>\n",
       "    </tr>\n",
       "    <tr>\n",
       "      <th>std</th>\n",
       "      <td>4.22724</td>\n",
       "      <td>0.051598</td>\n",
       "      <td>62.275067</td>\n",
       "      <td>8.371760</td>\n",
       "      <td>1706.499616</td>\n",
       "    </tr>\n",
       "    <tr>\n",
       "      <th>min</th>\n",
       "      <td>4.55500</td>\n",
       "      <td>0.000000</td>\n",
       "      <td>31.290000</td>\n",
       "      <td>1985.000000</td>\n",
       "      <td>33.290000</td>\n",
       "    </tr>\n",
       "    <tr>\n",
       "      <th>25%</th>\n",
       "      <td>9.31000</td>\n",
       "      <td>0.026989</td>\n",
       "      <td>93.826500</td>\n",
       "      <td>1987.000000</td>\n",
       "      <td>834.247400</td>\n",
       "    </tr>\n",
       "    <tr>\n",
       "      <th>50%</th>\n",
       "      <td>12.60000</td>\n",
       "      <td>0.053931</td>\n",
       "      <td>143.012800</td>\n",
       "      <td>1999.000000</td>\n",
       "      <td>1794.331000</td>\n",
       "    </tr>\n",
       "    <tr>\n",
       "      <th>75%</th>\n",
       "      <td>16.00000</td>\n",
       "      <td>0.094585</td>\n",
       "      <td>185.643700</td>\n",
       "      <td>2004.000000</td>\n",
       "      <td>3101.296400</td>\n",
       "    </tr>\n",
       "    <tr>\n",
       "      <th>max</th>\n",
       "      <td>21.35000</td>\n",
       "      <td>0.328391</td>\n",
       "      <td>266.888400</td>\n",
       "      <td>2009.000000</td>\n",
       "      <td>13086.964800</td>\n",
       "    </tr>\n",
       "  </tbody>\n",
       "</table>\n",
       "</div>"
      ],
      "text/plain": [
       "       Item_Weight  Item_Visibility     Item_MRP  Outlet_Establishment_Year  \\\n",
       "count   8523.00000      8523.000000  8523.000000                8523.000000   \n",
       "mean      12.81342         0.066132   140.992782                1997.831867   \n",
       "std        4.22724         0.051598    62.275067                   8.371760   \n",
       "min        4.55500         0.000000    31.290000                1985.000000   \n",
       "25%        9.31000         0.026989    93.826500                1987.000000   \n",
       "50%       12.60000         0.053931   143.012800                1999.000000   \n",
       "75%       16.00000         0.094585   185.643700                2004.000000   \n",
       "max       21.35000         0.328391   266.888400                2009.000000   \n",
       "\n",
       "       Item_Outlet_Sales  \n",
       "count        8523.000000  \n",
       "mean         2181.288914  \n",
       "std          1706.499616  \n",
       "min            33.290000  \n",
       "25%           834.247400  \n",
       "50%          1794.331000  \n",
       "75%          3101.296400  \n",
       "max         13086.964800  "
      ]
     },
     "execution_count": 8,
     "metadata": {},
     "output_type": "execute_result"
    }
   ],
   "source": [
    "train_data.describe()"
   ]
  },
  {
   "cell_type": "markdown",
   "id": "99ad1967",
   "metadata": {
    "papermill": {
     "duration": 0.008654,
     "end_time": "2023-02-05T17:16:19.140428",
     "exception": false,
     "start_time": "2023-02-05T17:16:19.131774",
     "status": "completed"
    },
    "tags": []
   },
   "source": [
    "**Modify *Item_Visibility***\n",
    "> We noticed that the minimum value here is 0, which makes no practical sense."
   ]
  },
  {
   "cell_type": "code",
   "execution_count": 9,
   "id": "c24fcc30",
   "metadata": {
    "execution": {
     "iopub.execute_input": "2023-02-05T17:16:19.159216Z",
     "iopub.status.busy": "2023-02-05T17:16:19.158811Z",
     "iopub.status.idle": "2023-02-05T17:16:19.234989Z",
     "shell.execute_reply": "2023-02-05T17:16:19.233156Z"
    },
    "papermill": {
     "duration": 0.08844,
     "end_time": "2023-02-05T17:16:19.237618",
     "exception": false,
     "start_time": "2023-02-05T17:16:19.149178",
     "status": "completed"
    },
    "tags": []
   },
   "outputs": [
    {
     "name": "stdout",
     "output_type": "stream",
     "text": [
      "Number of 0 values initially: 526\n",
      "Number of 0 values after modification: 0\n"
     ]
    }
   ],
   "source": [
    "#Determine average visibility of a product\n",
    "visibility_avg = train_data.pivot_table(values='Item_Visibility', index='Item_Identifier')\n",
    "\n",
    "#Impute 0 values with mean visibility of that product:\n",
    "zero_values = (train_data['Item_Visibility'] == 0)\n",
    "\n",
    "print('Number of 0 values initially: %d'%sum(zero_values))\n",
    "train_data.loc[zero_values,'Item_Visibility'] = train_data.loc[zero_values,'Item_Identifier'].apply(lambda x: visibility_avg.loc[x])\n",
    "print('Number of 0 values after modification: %d'%sum(train_data['Item_Visibility'] == 0))"
   ]
  },
  {
   "cell_type": "code",
   "execution_count": 10,
   "id": "3bb302e6",
   "metadata": {
    "execution": {
     "iopub.execute_input": "2023-02-05T17:16:19.256589Z",
     "iopub.status.busy": "2023-02-05T17:16:19.256155Z",
     "iopub.status.idle": "2023-02-05T17:16:19.269922Z",
     "shell.execute_reply": "2023-02-05T17:16:19.268639Z"
    },
    "papermill": {
     "duration": 0.025799,
     "end_time": "2023-02-05T17:16:19.272119",
     "exception": false,
     "start_time": "2023-02-05T17:16:19.246320",
     "status": "completed"
    },
    "tags": []
   },
   "outputs": [
    {
     "data": {
      "text/plain": [
       "count    8523.000000\n",
       "mean        0.069670\n",
       "std         0.049810\n",
       "min         0.003575\n",
       "25%         0.031114\n",
       "50%         0.056922\n",
       "75%         0.097160\n",
       "max         0.328391\n",
       "Name: Item_Visibility, dtype: float64"
      ]
     },
     "execution_count": 10,
     "metadata": {},
     "output_type": "execute_result"
    }
   ],
   "source": [
    "train_data[\"Item_Visibility\"].describe()"
   ]
  },
  {
   "cell_type": "markdown",
   "id": "833f5039",
   "metadata": {
    "papermill": {
     "duration": 0.008274,
     "end_time": "2023-02-05T17:16:19.289005",
     "exception": false,
     "start_time": "2023-02-05T17:16:19.280731",
     "status": "completed"
    },
    "tags": []
   },
   "source": [
    "**Create a broad category of *Item_Type***"
   ]
  },
  {
   "cell_type": "code",
   "execution_count": 11,
   "id": "c5ac3234",
   "metadata": {
    "execution": {
     "iopub.execute_input": "2023-02-05T17:16:19.308570Z",
     "iopub.status.busy": "2023-02-05T17:16:19.308215Z",
     "iopub.status.idle": "2023-02-05T17:16:19.322713Z",
     "shell.execute_reply": "2023-02-05T17:16:19.321171Z"
    },
    "papermill": {
     "duration": 0.026807,
     "end_time": "2023-02-05T17:16:19.324983",
     "exception": false,
     "start_time": "2023-02-05T17:16:19.298176",
     "status": "completed"
    },
    "tags": []
   },
   "outputs": [
    {
     "data": {
      "text/plain": [
       "Item_Identifier  Item_Type         \n",
       "DRA12            Soft Drinks           6\n",
       "DRA24            Soft Drinks           7\n",
       "DRA59            Soft Drinks           8\n",
       "DRB01            Soft Drinks           3\n",
       "DRB13            Soft Drinks           5\n",
       "                                      ..\n",
       "NCZ30            Household             7\n",
       "NCZ41            Health and Hygiene    5\n",
       "NCZ42            Household             5\n",
       "NCZ53            Health and Hygiene    5\n",
       "NCZ54            Household             7\n",
       "Length: 1559, dtype: int64"
      ]
     },
     "execution_count": 11,
     "metadata": {},
     "output_type": "execute_result"
    }
   ],
   "source": [
    "train_data.groupby([\"Item_Identifier\",\"Item_Type\"]).size()"
   ]
  },
  {
   "cell_type": "markdown",
   "id": "47082661",
   "metadata": {
    "papermill": {
     "duration": 0.008669,
     "end_time": "2023-02-05T17:16:19.342584",
     "exception": false,
     "start_time": "2023-02-05T17:16:19.333915",
     "status": "completed"
    },
    "tags": []
   },
   "source": [
    "> We can clearly observe that the First 2 characters of the Item ID is same for the One kind of Item Type. Example: DR is the code for Soft Drinks, NC is the code of Non- Consumable Products and FD is for Food products"
   ]
  },
  {
   "cell_type": "code",
   "execution_count": 12,
   "id": "622f1bce",
   "metadata": {
    "execution": {
     "iopub.execute_input": "2023-02-05T17:16:19.362273Z",
     "iopub.status.busy": "2023-02-05T17:16:19.361795Z",
     "iopub.status.idle": "2023-02-05T17:16:19.376296Z",
     "shell.execute_reply": "2023-02-05T17:16:19.374297Z"
    },
    "papermill": {
     "duration": 0.027479,
     "end_time": "2023-02-05T17:16:19.378972",
     "exception": false,
     "start_time": "2023-02-05T17:16:19.351493",
     "status": "completed"
    },
    "tags": []
   },
   "outputs": [
    {
     "name": "stdout",
     "output_type": "stream",
     "text": [
      "Food              6125\n",
      "Non-Consumable    1599\n",
      "Drinks             799\n",
      "Name: Item_Type_Combined, dtype: int64\n"
     ]
    }
   ],
   "source": [
    "#Get the first two characters of ID:\n",
    "train_data['Item_Type_Combined'] = train_data['Item_Identifier'].apply(lambda x: x[0:2])\n",
    "\n",
    "#Rename them to more intuitive categories:\n",
    "train_data['Item_Type_Combined'] = train_data['Item_Type_Combined'].map({'FD':'Food',\n",
    "                                                             'NC':'Non-Consumable',\n",
    "                                                             'DR':'Drinks'})\n",
    "print(train_data['Item_Type_Combined'].value_counts())"
   ]
  },
  {
   "cell_type": "markdown",
   "id": "8777686a",
   "metadata": {
    "papermill": {
     "duration": 0.008419,
     "end_time": "2023-02-05T17:16:19.396635",
     "exception": false,
     "start_time": "2023-02-05T17:16:19.388216",
     "status": "completed"
    },
    "tags": []
   },
   "source": [
    "**Modify categories of *Item_Fat_Content***"
   ]
  },
  {
   "cell_type": "code",
   "execution_count": 13,
   "id": "361e55e7",
   "metadata": {
    "execution": {
     "iopub.execute_input": "2023-02-05T17:16:19.416946Z",
     "iopub.status.busy": "2023-02-05T17:16:19.416495Z",
     "iopub.status.idle": "2023-02-05T17:16:19.425914Z",
     "shell.execute_reply": "2023-02-05T17:16:19.424538Z"
    },
    "papermill": {
     "duration": 0.023305,
     "end_time": "2023-02-05T17:16:19.428763",
     "exception": false,
     "start_time": "2023-02-05T17:16:19.405458",
     "status": "completed"
    },
    "tags": []
   },
   "outputs": [
    {
     "data": {
      "text/plain": [
       "array(['Low Fat', 'Regular', 'low fat', 'LF', 'reg'], dtype=object)"
      ]
     },
     "execution_count": 13,
     "metadata": {},
     "output_type": "execute_result"
    }
   ],
   "source": [
    "train_data['Item_Fat_Content'].unique()"
   ]
  },
  {
   "cell_type": "code",
   "execution_count": 14,
   "id": "d44dd685",
   "metadata": {
    "execution": {
     "iopub.execute_input": "2023-02-05T17:16:19.448485Z",
     "iopub.status.busy": "2023-02-05T17:16:19.448075Z",
     "iopub.status.idle": "2023-02-05T17:16:19.461918Z",
     "shell.execute_reply": "2023-02-05T17:16:19.460773Z"
    },
    "papermill": {
     "duration": 0.025842,
     "end_time": "2023-02-05T17:16:19.463920",
     "exception": false,
     "start_time": "2023-02-05T17:16:19.438078",
     "status": "completed"
    },
    "tags": []
   },
   "outputs": [
    {
     "name": "stdout",
     "output_type": "stream",
     "text": [
      "Original Categories:\n",
      "Low Fat    5089\n",
      "Regular    2889\n",
      "LF          316\n",
      "reg         117\n",
      "low fat     112\n",
      "Name: Item_Fat_Content, dtype: int64\n",
      "\n",
      "Modified Categories:\n",
      "Low Fat    5517\n",
      "Regular    3006\n",
      "Name: Item_Fat_Content, dtype: int64\n"
     ]
    }
   ],
   "source": [
    "#Change categories of low fat:\n",
    "print('Original Categories:')\n",
    "print(train_data['Item_Fat_Content'].value_counts())\n",
    "\n",
    "print('\\nModified Categories:')\n",
    "train_data['Item_Fat_Content'] = train_data['Item_Fat_Content'].replace({'LF':'Low Fat','reg':'Regular','low fat':'Low Fat'})\n",
    "print(train_data['Item_Fat_Content'].value_counts())"
   ]
  },
  {
   "cell_type": "markdown",
   "id": "035cf5d0",
   "metadata": {
    "papermill": {
     "duration": 0.009037,
     "end_time": "2023-02-05T17:16:19.482291",
     "exception": false,
     "start_time": "2023-02-05T17:16:19.473254",
     "status": "completed"
    },
    "tags": []
   },
   "source": [
    "# **Label Encoding**"
   ]
  },
  {
   "cell_type": "code",
   "execution_count": 15,
   "id": "533111ca",
   "metadata": {
    "execution": {
     "iopub.execute_input": "2023-02-05T17:16:19.503085Z",
     "iopub.status.busy": "2023-02-05T17:16:19.502471Z",
     "iopub.status.idle": "2023-02-05T17:16:19.510821Z",
     "shell.execute_reply": "2023-02-05T17:16:19.509328Z"
    },
    "papermill": {
     "duration": 0.02174,
     "end_time": "2023-02-05T17:16:19.513739",
     "exception": false,
     "start_time": "2023-02-05T17:16:19.491999",
     "status": "completed"
    },
    "tags": []
   },
   "outputs": [
    {
     "data": {
      "text/plain": [
       "array(['Low Fat', 'Regular'], dtype=object)"
      ]
     },
     "execution_count": 15,
     "metadata": {},
     "output_type": "execute_result"
    }
   ],
   "source": [
    "train_data['Item_Fat_Content'].unique()"
   ]
  },
  {
   "cell_type": "code",
   "execution_count": 16,
   "id": "72066ae9",
   "metadata": {
    "execution": {
     "iopub.execute_input": "2023-02-05T17:16:19.534159Z",
     "iopub.status.busy": "2023-02-05T17:16:19.533694Z",
     "iopub.status.idle": "2023-02-05T17:16:19.540559Z",
     "shell.execute_reply": "2023-02-05T17:16:19.539294Z"
    },
    "papermill": {
     "duration": 0.019902,
     "end_time": "2023-02-05T17:16:19.543009",
     "exception": false,
     "start_time": "2023-02-05T17:16:19.523107",
     "status": "completed"
    },
    "tags": []
   },
   "outputs": [
    {
     "data": {
      "text/plain": [
       "array(['Medium', 'High', 'Small'], dtype=object)"
      ]
     },
     "execution_count": 16,
     "metadata": {},
     "output_type": "execute_result"
    }
   ],
   "source": [
    "train_data['Outlet_Size'].unique()"
   ]
  },
  {
   "cell_type": "code",
   "execution_count": 17,
   "id": "1bb5866c",
   "metadata": {
    "execution": {
     "iopub.execute_input": "2023-02-05T17:16:19.563619Z",
     "iopub.status.busy": "2023-02-05T17:16:19.562943Z",
     "iopub.status.idle": "2023-02-05T17:16:19.570475Z",
     "shell.execute_reply": "2023-02-05T17:16:19.569613Z"
    },
    "papermill": {
     "duration": 0.020084,
     "end_time": "2023-02-05T17:16:19.572356",
     "exception": false,
     "start_time": "2023-02-05T17:16:19.552272",
     "status": "completed"
    },
    "tags": []
   },
   "outputs": [
    {
     "data": {
      "text/plain": [
       "array(['Tier 1', 'Tier 3', 'Tier 2'], dtype=object)"
      ]
     },
     "execution_count": 17,
     "metadata": {},
     "output_type": "execute_result"
    }
   ],
   "source": [
    "train_data['Outlet_Location_Type'].unique()"
   ]
  },
  {
   "cell_type": "code",
   "execution_count": 18,
   "id": "3ce03a12",
   "metadata": {
    "execution": {
     "iopub.execute_input": "2023-02-05T17:16:19.594637Z",
     "iopub.status.busy": "2023-02-05T17:16:19.593882Z",
     "iopub.status.idle": "2023-02-05T17:16:19.601763Z",
     "shell.execute_reply": "2023-02-05T17:16:19.600232Z"
    },
    "papermill": {
     "duration": 0.021742,
     "end_time": "2023-02-05T17:16:19.604367",
     "exception": false,
     "start_time": "2023-02-05T17:16:19.582625",
     "status": "completed"
    },
    "tags": []
   },
   "outputs": [
    {
     "data": {
      "text/plain": [
       "array(['Supermarket Type1', 'Supermarket Type2', 'Grocery Store',\n",
       "       'Supermarket Type3'], dtype=object)"
      ]
     },
     "execution_count": 18,
     "metadata": {},
     "output_type": "execute_result"
    }
   ],
   "source": [
    "train_data['Outlet_Type'].unique()"
   ]
  },
  {
   "cell_type": "code",
   "execution_count": 19,
   "id": "872e5918",
   "metadata": {
    "execution": {
     "iopub.execute_input": "2023-02-05T17:16:19.628227Z",
     "iopub.status.busy": "2023-02-05T17:16:19.626735Z",
     "iopub.status.idle": "2023-02-05T17:16:19.666590Z",
     "shell.execute_reply": "2023-02-05T17:16:19.665175Z"
    },
    "papermill": {
     "duration": 0.054617,
     "end_time": "2023-02-05T17:16:19.669096",
     "exception": false,
     "start_time": "2023-02-05T17:16:19.614479",
     "status": "completed"
    },
    "tags": []
   },
   "outputs": [],
   "source": [
    "# Import label encoder\n",
    "from sklearn import preprocessing\n",
    "  \n",
    "# label_encoder object knows how to understand word labels.\n",
    "label_encoder = preprocessing.LabelEncoder()"
   ]
  },
  {
   "cell_type": "code",
   "execution_count": 20,
   "id": "868ad878",
   "metadata": {
    "execution": {
     "iopub.execute_input": "2023-02-05T17:16:19.689996Z",
     "iopub.status.busy": "2023-02-05T17:16:19.689323Z",
     "iopub.status.idle": "2023-02-05T17:16:19.699422Z",
     "shell.execute_reply": "2023-02-05T17:16:19.698491Z"
    },
    "papermill": {
     "duration": 0.022818,
     "end_time": "2023-02-05T17:16:19.701417",
     "exception": false,
     "start_time": "2023-02-05T17:16:19.678599",
     "status": "completed"
    },
    "tags": []
   },
   "outputs": [
    {
     "data": {
      "text/plain": [
       "array([1, 0, 2])"
      ]
     },
     "execution_count": 20,
     "metadata": {},
     "output_type": "execute_result"
    }
   ],
   "source": [
    "train_data['Outlet_Size']= label_encoder.fit_transform(train_data['Outlet_Size'])\n",
    "train_data['Outlet_Size'].unique()"
   ]
  },
  {
   "cell_type": "code",
   "execution_count": 21,
   "id": "a8c1eecb",
   "metadata": {
    "execution": {
     "iopub.execute_input": "2023-02-05T17:16:19.722065Z",
     "iopub.status.busy": "2023-02-05T17:16:19.721706Z",
     "iopub.status.idle": "2023-02-05T17:16:19.730875Z",
     "shell.execute_reply": "2023-02-05T17:16:19.729428Z"
    },
    "papermill": {
     "duration": 0.022532,
     "end_time": "2023-02-05T17:16:19.733441",
     "exception": false,
     "start_time": "2023-02-05T17:16:19.710909",
     "status": "completed"
    },
    "tags": []
   },
   "outputs": [
    {
     "data": {
      "text/plain": [
       "array([0, 2, 1])"
      ]
     },
     "execution_count": 21,
     "metadata": {},
     "output_type": "execute_result"
    }
   ],
   "source": [
    "train_data['Outlet_Location_Type']= label_encoder.fit_transform(train_data['Outlet_Location_Type'])\n",
    "train_data['Outlet_Location_Type'].unique()"
   ]
  },
  {
   "cell_type": "code",
   "execution_count": 22,
   "id": "7954a049",
   "metadata": {
    "execution": {
     "iopub.execute_input": "2023-02-05T17:16:19.755047Z",
     "iopub.status.busy": "2023-02-05T17:16:19.754653Z",
     "iopub.status.idle": "2023-02-05T17:16:19.763239Z",
     "shell.execute_reply": "2023-02-05T17:16:19.762146Z"
    },
    "papermill": {
     "duration": 0.021944,
     "end_time": "2023-02-05T17:16:19.765070",
     "exception": false,
     "start_time": "2023-02-05T17:16:19.743126",
     "status": "completed"
    },
    "tags": []
   },
   "outputs": [
    {
     "data": {
      "text/plain": [
       "array([1, 2, 0, 3])"
      ]
     },
     "execution_count": 22,
     "metadata": {},
     "output_type": "execute_result"
    }
   ],
   "source": [
    "train_data['Outlet_Type']= label_encoder.fit_transform(train_data['Outlet_Type'])\n",
    "train_data['Outlet_Type'].unique()"
   ]
  },
  {
   "cell_type": "code",
   "execution_count": 23,
   "id": "ae5abb00",
   "metadata": {
    "execution": {
     "iopub.execute_input": "2023-02-05T17:16:19.787703Z",
     "iopub.status.busy": "2023-02-05T17:16:19.787058Z",
     "iopub.status.idle": "2023-02-05T17:16:19.796239Z",
     "shell.execute_reply": "2023-02-05T17:16:19.795025Z"
    },
    "papermill": {
     "duration": 0.023582,
     "end_time": "2023-02-05T17:16:19.798284",
     "exception": false,
     "start_time": "2023-02-05T17:16:19.774702",
     "status": "completed"
    },
    "tags": []
   },
   "outputs": [
    {
     "data": {
      "text/plain": [
       "array([0, 1])"
      ]
     },
     "execution_count": 23,
     "metadata": {},
     "output_type": "execute_result"
    }
   ],
   "source": [
    "train_data['Item_Fat_Content']= label_encoder.fit_transform(train_data['Item_Fat_Content'])\n",
    "train_data['Item_Fat_Content'].unique()"
   ]
  },
  {
   "cell_type": "code",
   "execution_count": 24,
   "id": "92c74621",
   "metadata": {
    "execution": {
     "iopub.execute_input": "2023-02-05T17:16:19.820664Z",
     "iopub.status.busy": "2023-02-05T17:16:19.820073Z",
     "iopub.status.idle": "2023-02-05T17:16:19.829467Z",
     "shell.execute_reply": "2023-02-05T17:16:19.828321Z"
    },
    "papermill": {
     "duration": 0.023541,
     "end_time": "2023-02-05T17:16:19.831996",
     "exception": false,
     "start_time": "2023-02-05T17:16:19.808455",
     "status": "completed"
    },
    "tags": []
   },
   "outputs": [
    {
     "data": {
      "text/plain": [
       "array([1, 0, 2])"
      ]
     },
     "execution_count": 24,
     "metadata": {},
     "output_type": "execute_result"
    }
   ],
   "source": [
    "train_data['Item_Type_Combined']= label_encoder.fit_transform(train_data['Item_Type_Combined'])\n",
    "train_data['Item_Type_Combined'].unique()"
   ]
  },
  {
   "cell_type": "code",
   "execution_count": 25,
   "id": "89176d06",
   "metadata": {
    "execution": {
     "iopub.execute_input": "2023-02-05T17:16:19.854421Z",
     "iopub.status.busy": "2023-02-05T17:16:19.853873Z",
     "iopub.status.idle": "2023-02-05T17:16:19.859626Z",
     "shell.execute_reply": "2023-02-05T17:16:19.858899Z"
    },
    "papermill": {
     "duration": 0.018863,
     "end_time": "2023-02-05T17:16:19.861520",
     "exception": false,
     "start_time": "2023-02-05T17:16:19.842657",
     "status": "completed"
    },
    "tags": []
   },
   "outputs": [
    {
     "data": {
      "text/plain": [
       "(8523, 13)"
      ]
     },
     "execution_count": 25,
     "metadata": {},
     "output_type": "execute_result"
    }
   ],
   "source": [
    "train_data.shape"
   ]
  },
  {
   "cell_type": "markdown",
   "id": "a7824e3f",
   "metadata": {
    "papermill": {
     "duration": 0.01041,
     "end_time": "2023-02-05T17:16:19.883164",
     "exception": false,
     "start_time": "2023-02-05T17:16:19.872754",
     "status": "completed"
    },
    "tags": []
   },
   "source": [
    "# **One-Hot Encoding**"
   ]
  },
  {
   "cell_type": "code",
   "execution_count": 26,
   "id": "f8ba258e",
   "metadata": {
    "execution": {
     "iopub.execute_input": "2023-02-05T17:16:19.909884Z",
     "iopub.status.busy": "2023-02-05T17:16:19.909418Z",
     "iopub.status.idle": "2023-02-05T17:16:19.927241Z",
     "shell.execute_reply": "2023-02-05T17:16:19.924991Z"
    },
    "papermill": {
     "duration": 0.034196,
     "end_time": "2023-02-05T17:16:19.930238",
     "exception": false,
     "start_time": "2023-02-05T17:16:19.896042",
     "status": "completed"
    },
    "tags": []
   },
   "outputs": [],
   "source": [
    "#One Hot Coding:\n",
    "train_data = pd.get_dummies(train_data, columns=['Item_Fat_Content','Outlet_Size','Outlet_Location_Type','Outlet_Type','Item_Type_Combined'])"
   ]
  },
  {
   "cell_type": "code",
   "execution_count": 27,
   "id": "c4f2f84b",
   "metadata": {
    "execution": {
     "iopub.execute_input": "2023-02-05T17:16:19.952620Z",
     "iopub.status.busy": "2023-02-05T17:16:19.952005Z",
     "iopub.status.idle": "2023-02-05T17:16:19.971775Z",
     "shell.execute_reply": "2023-02-05T17:16:19.970900Z"
    },
    "papermill": {
     "duration": 0.03366,
     "end_time": "2023-02-05T17:16:19.974151",
     "exception": false,
     "start_time": "2023-02-05T17:16:19.940491",
     "status": "completed"
    },
    "tags": []
   },
   "outputs": [
    {
     "data": {
      "text/html": [
       "<div>\n",
       "<style scoped>\n",
       "    .dataframe tbody tr th:only-of-type {\n",
       "        vertical-align: middle;\n",
       "    }\n",
       "\n",
       "    .dataframe tbody tr th {\n",
       "        vertical-align: top;\n",
       "    }\n",
       "\n",
       "    .dataframe thead th {\n",
       "        text-align: right;\n",
       "    }\n",
       "</style>\n",
       "<table border=\"1\" class=\"dataframe\">\n",
       "  <thead>\n",
       "    <tr style=\"text-align: right;\">\n",
       "      <th></th>\n",
       "      <th>Item_Identifier</th>\n",
       "      <th>Item_Weight</th>\n",
       "      <th>Item_Visibility</th>\n",
       "      <th>Item_Type</th>\n",
       "      <th>Item_MRP</th>\n",
       "      <th>Outlet_Identifier</th>\n",
       "      <th>Outlet_Establishment_Year</th>\n",
       "      <th>Item_Outlet_Sales</th>\n",
       "      <th>Item_Fat_Content_0</th>\n",
       "      <th>Item_Fat_Content_1</th>\n",
       "      <th>...</th>\n",
       "      <th>Outlet_Location_Type_0</th>\n",
       "      <th>Outlet_Location_Type_1</th>\n",
       "      <th>Outlet_Location_Type_2</th>\n",
       "      <th>Outlet_Type_0</th>\n",
       "      <th>Outlet_Type_1</th>\n",
       "      <th>Outlet_Type_2</th>\n",
       "      <th>Outlet_Type_3</th>\n",
       "      <th>Item_Type_Combined_0</th>\n",
       "      <th>Item_Type_Combined_1</th>\n",
       "      <th>Item_Type_Combined_2</th>\n",
       "    </tr>\n",
       "  </thead>\n",
       "  <tbody>\n",
       "    <tr>\n",
       "      <th>0</th>\n",
       "      <td>FDA15</td>\n",
       "      <td>9.30</td>\n",
       "      <td>0.016047</td>\n",
       "      <td>Dairy</td>\n",
       "      <td>249.8092</td>\n",
       "      <td>OUT049</td>\n",
       "      <td>1999</td>\n",
       "      <td>3735.1380</td>\n",
       "      <td>1</td>\n",
       "      <td>0</td>\n",
       "      <td>...</td>\n",
       "      <td>1</td>\n",
       "      <td>0</td>\n",
       "      <td>0</td>\n",
       "      <td>0</td>\n",
       "      <td>1</td>\n",
       "      <td>0</td>\n",
       "      <td>0</td>\n",
       "      <td>0</td>\n",
       "      <td>1</td>\n",
       "      <td>0</td>\n",
       "    </tr>\n",
       "    <tr>\n",
       "      <th>1</th>\n",
       "      <td>DRC01</td>\n",
       "      <td>5.92</td>\n",
       "      <td>0.019278</td>\n",
       "      <td>Soft Drinks</td>\n",
       "      <td>48.2692</td>\n",
       "      <td>OUT018</td>\n",
       "      <td>2009</td>\n",
       "      <td>443.4228</td>\n",
       "      <td>0</td>\n",
       "      <td>1</td>\n",
       "      <td>...</td>\n",
       "      <td>0</td>\n",
       "      <td>0</td>\n",
       "      <td>1</td>\n",
       "      <td>0</td>\n",
       "      <td>0</td>\n",
       "      <td>1</td>\n",
       "      <td>0</td>\n",
       "      <td>1</td>\n",
       "      <td>0</td>\n",
       "      <td>0</td>\n",
       "    </tr>\n",
       "    <tr>\n",
       "      <th>2</th>\n",
       "      <td>FDN15</td>\n",
       "      <td>17.50</td>\n",
       "      <td>0.016760</td>\n",
       "      <td>Meat</td>\n",
       "      <td>141.6180</td>\n",
       "      <td>OUT049</td>\n",
       "      <td>1999</td>\n",
       "      <td>2097.2700</td>\n",
       "      <td>1</td>\n",
       "      <td>0</td>\n",
       "      <td>...</td>\n",
       "      <td>1</td>\n",
       "      <td>0</td>\n",
       "      <td>0</td>\n",
       "      <td>0</td>\n",
       "      <td>1</td>\n",
       "      <td>0</td>\n",
       "      <td>0</td>\n",
       "      <td>0</td>\n",
       "      <td>1</td>\n",
       "      <td>0</td>\n",
       "    </tr>\n",
       "    <tr>\n",
       "      <th>3</th>\n",
       "      <td>FDX07</td>\n",
       "      <td>19.20</td>\n",
       "      <td>0.015274</td>\n",
       "      <td>Fruits and Vegetables</td>\n",
       "      <td>182.0950</td>\n",
       "      <td>OUT010</td>\n",
       "      <td>1998</td>\n",
       "      <td>732.3800</td>\n",
       "      <td>0</td>\n",
       "      <td>1</td>\n",
       "      <td>...</td>\n",
       "      <td>0</td>\n",
       "      <td>0</td>\n",
       "      <td>1</td>\n",
       "      <td>1</td>\n",
       "      <td>0</td>\n",
       "      <td>0</td>\n",
       "      <td>0</td>\n",
       "      <td>0</td>\n",
       "      <td>1</td>\n",
       "      <td>0</td>\n",
       "    </tr>\n",
       "    <tr>\n",
       "      <th>4</th>\n",
       "      <td>NCD19</td>\n",
       "      <td>8.93</td>\n",
       "      <td>0.008082</td>\n",
       "      <td>Household</td>\n",
       "      <td>53.8614</td>\n",
       "      <td>OUT013</td>\n",
       "      <td>1987</td>\n",
       "      <td>994.7052</td>\n",
       "      <td>1</td>\n",
       "      <td>0</td>\n",
       "      <td>...</td>\n",
       "      <td>0</td>\n",
       "      <td>0</td>\n",
       "      <td>1</td>\n",
       "      <td>0</td>\n",
       "      <td>1</td>\n",
       "      <td>0</td>\n",
       "      <td>0</td>\n",
       "      <td>0</td>\n",
       "      <td>0</td>\n",
       "      <td>1</td>\n",
       "    </tr>\n",
       "  </tbody>\n",
       "</table>\n",
       "<p>5 rows × 23 columns</p>\n",
       "</div>"
      ],
      "text/plain": [
       "  Item_Identifier  Item_Weight  Item_Visibility              Item_Type  \\\n",
       "0           FDA15         9.30         0.016047                  Dairy   \n",
       "1           DRC01         5.92         0.019278            Soft Drinks   \n",
       "2           FDN15        17.50         0.016760                   Meat   \n",
       "3           FDX07        19.20         0.015274  Fruits and Vegetables   \n",
       "4           NCD19         8.93         0.008082              Household   \n",
       "\n",
       "   Item_MRP Outlet_Identifier  Outlet_Establishment_Year  Item_Outlet_Sales  \\\n",
       "0  249.8092            OUT049                       1999          3735.1380   \n",
       "1   48.2692            OUT018                       2009           443.4228   \n",
       "2  141.6180            OUT049                       1999          2097.2700   \n",
       "3  182.0950            OUT010                       1998           732.3800   \n",
       "4   53.8614            OUT013                       1987           994.7052   \n",
       "\n",
       "   Item_Fat_Content_0  Item_Fat_Content_1  ...  Outlet_Location_Type_0  \\\n",
       "0                   1                   0  ...                       1   \n",
       "1                   0                   1  ...                       0   \n",
       "2                   1                   0  ...                       1   \n",
       "3                   0                   1  ...                       0   \n",
       "4                   1                   0  ...                       0   \n",
       "\n",
       "   Outlet_Location_Type_1  Outlet_Location_Type_2  Outlet_Type_0  \\\n",
       "0                       0                       0              0   \n",
       "1                       0                       1              0   \n",
       "2                       0                       0              0   \n",
       "3                       0                       1              1   \n",
       "4                       0                       1              0   \n",
       "\n",
       "   Outlet_Type_1  Outlet_Type_2  Outlet_Type_3  Item_Type_Combined_0  \\\n",
       "0              1              0              0                     0   \n",
       "1              0              1              0                     1   \n",
       "2              1              0              0                     0   \n",
       "3              0              0              0                     0   \n",
       "4              1              0              0                     0   \n",
       "\n",
       "   Item_Type_Combined_1  Item_Type_Combined_2  \n",
       "0                     1                     0  \n",
       "1                     0                     0  \n",
       "2                     1                     0  \n",
       "3                     1                     0  \n",
       "4                     0                     1  \n",
       "\n",
       "[5 rows x 23 columns]"
      ]
     },
     "execution_count": 27,
     "metadata": {},
     "output_type": "execute_result"
    }
   ],
   "source": [
    "train_data.head()"
   ]
  },
  {
   "cell_type": "code",
   "execution_count": 28,
   "id": "32e5a2fa",
   "metadata": {
    "execution": {
     "iopub.execute_input": "2023-02-05T17:16:19.996647Z",
     "iopub.status.busy": "2023-02-05T17:16:19.996021Z",
     "iopub.status.idle": "2023-02-05T17:16:20.001683Z",
     "shell.execute_reply": "2023-02-05T17:16:20.000730Z"
    },
    "papermill": {
     "duration": 0.019386,
     "end_time": "2023-02-05T17:16:20.003670",
     "exception": false,
     "start_time": "2023-02-05T17:16:19.984284",
     "status": "completed"
    },
    "tags": []
   },
   "outputs": [
    {
     "data": {
      "text/plain": [
       "(8523, 23)"
      ]
     },
     "execution_count": 28,
     "metadata": {},
     "output_type": "execute_result"
    }
   ],
   "source": [
    "train_data.shape"
   ]
  },
  {
   "cell_type": "code",
   "execution_count": 29,
   "id": "650f10e3",
   "metadata": {
    "execution": {
     "iopub.execute_input": "2023-02-05T17:16:20.026566Z",
     "iopub.status.busy": "2023-02-05T17:16:20.026170Z",
     "iopub.status.idle": "2023-02-05T17:16:20.044340Z",
     "shell.execute_reply": "2023-02-05T17:16:20.043150Z"
    },
    "papermill": {
     "duration": 0.032233,
     "end_time": "2023-02-05T17:16:20.046551",
     "exception": false,
     "start_time": "2023-02-05T17:16:20.014318",
     "status": "completed"
    },
    "tags": []
   },
   "outputs": [
    {
     "name": "stdout",
     "output_type": "stream",
     "text": [
      "<class 'pandas.core.frame.DataFrame'>\n",
      "RangeIndex: 8523 entries, 0 to 8522\n",
      "Data columns (total 23 columns):\n",
      " #   Column                     Non-Null Count  Dtype  \n",
      "---  ------                     --------------  -----  \n",
      " 0   Item_Identifier            8523 non-null   object \n",
      " 1   Item_Weight                8523 non-null   float64\n",
      " 2   Item_Visibility            8523 non-null   float64\n",
      " 3   Item_Type                  8523 non-null   object \n",
      " 4   Item_MRP                   8523 non-null   float64\n",
      " 5   Outlet_Identifier          8523 non-null   object \n",
      " 6   Outlet_Establishment_Year  8523 non-null   int64  \n",
      " 7   Item_Outlet_Sales          8523 non-null   float64\n",
      " 8   Item_Fat_Content_0         8523 non-null   uint8  \n",
      " 9   Item_Fat_Content_1         8523 non-null   uint8  \n",
      " 10  Outlet_Size_0              8523 non-null   uint8  \n",
      " 11  Outlet_Size_1              8523 non-null   uint8  \n",
      " 12  Outlet_Size_2              8523 non-null   uint8  \n",
      " 13  Outlet_Location_Type_0     8523 non-null   uint8  \n",
      " 14  Outlet_Location_Type_1     8523 non-null   uint8  \n",
      " 15  Outlet_Location_Type_2     8523 non-null   uint8  \n",
      " 16  Outlet_Type_0              8523 non-null   uint8  \n",
      " 17  Outlet_Type_1              8523 non-null   uint8  \n",
      " 18  Outlet_Type_2              8523 non-null   uint8  \n",
      " 19  Outlet_Type_3              8523 non-null   uint8  \n",
      " 20  Item_Type_Combined_0       8523 non-null   uint8  \n",
      " 21  Item_Type_Combined_1       8523 non-null   uint8  \n",
      " 22  Item_Type_Combined_2       8523 non-null   uint8  \n",
      "dtypes: float64(4), int64(1), object(3), uint8(15)\n",
      "memory usage: 657.7+ KB\n"
     ]
    }
   ],
   "source": [
    "train_data.info()"
   ]
  },
  {
   "cell_type": "code",
   "execution_count": 30,
   "id": "20e005fa",
   "metadata": {
    "execution": {
     "iopub.execute_input": "2023-02-05T17:16:20.070157Z",
     "iopub.status.busy": "2023-02-05T17:16:20.069699Z",
     "iopub.status.idle": "2023-02-05T17:16:20.133802Z",
     "shell.execute_reply": "2023-02-05T17:16:20.132231Z"
    },
    "papermill": {
     "duration": 0.079364,
     "end_time": "2023-02-05T17:16:20.136487",
     "exception": false,
     "start_time": "2023-02-05T17:16:20.057123",
     "status": "completed"
    },
    "tags": []
   },
   "outputs": [],
   "source": [
    "train_data.to_csv(\"train_clean_2.csv\")"
   ]
  },
  {
   "cell_type": "code",
   "execution_count": null,
   "id": "615d0950",
   "metadata": {
    "papermill": {
     "duration": 0.009824,
     "end_time": "2023-02-05T17:16:20.156822",
     "exception": false,
     "start_time": "2023-02-05T17:16:20.146998",
     "status": "completed"
    },
    "tags": []
   },
   "outputs": [],
   "source": []
  }
 ],
 "metadata": {
  "kernelspec": {
   "display_name": "Python 3",
   "language": "python",
   "name": "python3"
  },
  "language_info": {
   "codemirror_mode": {
    "name": "ipython",
    "version": 3
   },
   "file_extension": ".py",
   "mimetype": "text/x-python",
   "name": "python",
   "nbconvert_exporter": "python",
   "pygments_lexer": "ipython3",
   "version": "3.7.12"
  },
  "papermill": {
   "default_parameters": {},
   "duration": 11.065082,
   "end_time": "2023-02-05T17:16:20.892071",
   "environment_variables": {},
   "exception": null,
   "input_path": "__notebook__.ipynb",
   "output_path": "__notebook__.ipynb",
   "parameters": {},
   "start_time": "2023-02-05T17:16:09.826989",
   "version": "2.3.4"
  }
 },
 "nbformat": 4,
 "nbformat_minor": 5
}
