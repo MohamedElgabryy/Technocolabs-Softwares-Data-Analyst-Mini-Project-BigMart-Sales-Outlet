{
 "cells": [
  {
   "cell_type": "code",
   "execution_count": 1,
   "id": "cdf0daea",
   "metadata": {
    "_cell_guid": "b1076dfc-b9ad-4769-8c92-a6c4dae69d19",
    "_uuid": "8f2839f25d086af736a60e9eeb907d3b93b6e0e5",
    "execution": {
     "iopub.execute_input": "2023-02-04T21:39:12.115041Z",
     "iopub.status.busy": "2023-02-04T21:39:12.114046Z",
     "iopub.status.idle": "2023-02-04T21:39:13.307507Z",
     "shell.execute_reply": "2023-02-04T21:39:13.306321Z"
    },
    "papermill": {
     "duration": 1.207668,
     "end_time": "2023-02-04T21:39:13.310262",
     "exception": false,
     "start_time": "2023-02-04T21:39:12.102594",
     "status": "completed"
    },
    "tags": []
   },
   "outputs": [
    {
     "name": "stdout",
     "output_type": "stream",
     "text": [
      "Setup Complete\n"
     ]
    }
   ],
   "source": [
    "import pandas as pd\n",
    "import numpy as np\n",
    "pd.plotting.register_matplotlib_converters()\n",
    "import matplotlib.pyplot as plt\n",
    "%matplotlib inline\n",
    "import seaborn as sns\n",
    "import sklearn\n",
    "print(\"Setup Complete\")"
   ]
  },
  {
   "cell_type": "code",
   "execution_count": 2,
   "id": "ca032af1",
   "metadata": {
    "execution": {
     "iopub.execute_input": "2023-02-04T21:39:13.329172Z",
     "iopub.status.busy": "2023-02-04T21:39:13.328444Z",
     "iopub.status.idle": "2023-02-04T21:39:13.395456Z",
     "shell.execute_reply": "2023-02-04T21:39:13.394504Z"
    },
    "papermill": {
     "duration": 0.079226,
     "end_time": "2023-02-04T21:39:13.398127",
     "exception": false,
     "start_time": "2023-02-04T21:39:13.318901",
     "status": "completed"
    },
    "tags": []
   },
   "outputs": [],
   "source": [
    "train_path = \"/kaggle/input/big-mart-clean-1/train_clean_1.csv\"\n",
    "\n",
    "train_data = pd.read_csv(train_path)"
   ]
  },
  {
   "cell_type": "code",
   "execution_count": 3,
   "id": "93d9e916",
   "metadata": {
    "execution": {
     "iopub.execute_input": "2023-02-04T21:39:13.416703Z",
     "iopub.status.busy": "2023-02-04T21:39:13.416306Z",
     "iopub.status.idle": "2023-02-04T21:39:13.442163Z",
     "shell.execute_reply": "2023-02-04T21:39:13.441105Z"
    },
    "papermill": {
     "duration": 0.038872,
     "end_time": "2023-02-04T21:39:13.445475",
     "exception": false,
     "start_time": "2023-02-04T21:39:13.406603",
     "status": "completed"
    },
    "tags": []
   },
   "outputs": [
    {
     "data": {
      "text/html": [
       "<div>\n",
       "<style scoped>\n",
       "    .dataframe tbody tr th:only-of-type {\n",
       "        vertical-align: middle;\n",
       "    }\n",
       "\n",
       "    .dataframe tbody tr th {\n",
       "        vertical-align: top;\n",
       "    }\n",
       "\n",
       "    .dataframe thead th {\n",
       "        text-align: right;\n",
       "    }\n",
       "</style>\n",
       "<table border=\"1\" class=\"dataframe\">\n",
       "  <thead>\n",
       "    <tr style=\"text-align: right;\">\n",
       "      <th></th>\n",
       "      <th>Item_Identifier</th>\n",
       "      <th>Item_Weight</th>\n",
       "      <th>Item_Fat_Content</th>\n",
       "      <th>Item_Visibility</th>\n",
       "      <th>Item_Type</th>\n",
       "      <th>Item_MRP</th>\n",
       "      <th>Outlet_Identifier</th>\n",
       "      <th>Outlet_Establishment_Year</th>\n",
       "      <th>Outlet_Size</th>\n",
       "      <th>Outlet_Location_Type</th>\n",
       "      <th>Outlet_Type</th>\n",
       "      <th>Item_Outlet_Sales</th>\n",
       "    </tr>\n",
       "  </thead>\n",
       "  <tbody>\n",
       "    <tr>\n",
       "      <th>0</th>\n",
       "      <td>FDA15</td>\n",
       "      <td>9.30</td>\n",
       "      <td>Low Fat</td>\n",
       "      <td>0.016047</td>\n",
       "      <td>Dairy</td>\n",
       "      <td>249.8092</td>\n",
       "      <td>OUT049</td>\n",
       "      <td>1999</td>\n",
       "      <td>Medium</td>\n",
       "      <td>Tier 1</td>\n",
       "      <td>Supermarket Type1</td>\n",
       "      <td>3735.1380</td>\n",
       "    </tr>\n",
       "    <tr>\n",
       "      <th>1</th>\n",
       "      <td>DRC01</td>\n",
       "      <td>5.92</td>\n",
       "      <td>Regular</td>\n",
       "      <td>0.019278</td>\n",
       "      <td>Soft Drinks</td>\n",
       "      <td>48.2692</td>\n",
       "      <td>OUT018</td>\n",
       "      <td>2009</td>\n",
       "      <td>Medium</td>\n",
       "      <td>Tier 3</td>\n",
       "      <td>Supermarket Type2</td>\n",
       "      <td>443.4228</td>\n",
       "    </tr>\n",
       "    <tr>\n",
       "      <th>2</th>\n",
       "      <td>FDN15</td>\n",
       "      <td>17.50</td>\n",
       "      <td>Low Fat</td>\n",
       "      <td>0.016760</td>\n",
       "      <td>Meat</td>\n",
       "      <td>141.6180</td>\n",
       "      <td>OUT049</td>\n",
       "      <td>1999</td>\n",
       "      <td>Medium</td>\n",
       "      <td>Tier 1</td>\n",
       "      <td>Supermarket Type1</td>\n",
       "      <td>2097.2700</td>\n",
       "    </tr>\n",
       "    <tr>\n",
       "      <th>3</th>\n",
       "      <td>FDX07</td>\n",
       "      <td>19.20</td>\n",
       "      <td>Regular</td>\n",
       "      <td>0.000000</td>\n",
       "      <td>Fruits and Vegetables</td>\n",
       "      <td>182.0950</td>\n",
       "      <td>OUT010</td>\n",
       "      <td>1998</td>\n",
       "      <td>Medium</td>\n",
       "      <td>Tier 3</td>\n",
       "      <td>Grocery Store</td>\n",
       "      <td>732.3800</td>\n",
       "    </tr>\n",
       "    <tr>\n",
       "      <th>4</th>\n",
       "      <td>NCD19</td>\n",
       "      <td>8.93</td>\n",
       "      <td>Low Fat</td>\n",
       "      <td>0.000000</td>\n",
       "      <td>Household</td>\n",
       "      <td>53.8614</td>\n",
       "      <td>OUT013</td>\n",
       "      <td>1987</td>\n",
       "      <td>High</td>\n",
       "      <td>Tier 3</td>\n",
       "      <td>Supermarket Type1</td>\n",
       "      <td>994.7052</td>\n",
       "    </tr>\n",
       "  </tbody>\n",
       "</table>\n",
       "</div>"
      ],
      "text/plain": [
       "  Item_Identifier  Item_Weight Item_Fat_Content  Item_Visibility  \\\n",
       "0           FDA15         9.30          Low Fat         0.016047   \n",
       "1           DRC01         5.92          Regular         0.019278   \n",
       "2           FDN15        17.50          Low Fat         0.016760   \n",
       "3           FDX07        19.20          Regular         0.000000   \n",
       "4           NCD19         8.93          Low Fat         0.000000   \n",
       "\n",
       "               Item_Type  Item_MRP Outlet_Identifier  \\\n",
       "0                  Dairy  249.8092            OUT049   \n",
       "1            Soft Drinks   48.2692            OUT018   \n",
       "2                   Meat  141.6180            OUT049   \n",
       "3  Fruits and Vegetables  182.0950            OUT010   \n",
       "4              Household   53.8614            OUT013   \n",
       "\n",
       "   Outlet_Establishment_Year Outlet_Size Outlet_Location_Type  \\\n",
       "0                       1999      Medium               Tier 1   \n",
       "1                       2009      Medium               Tier 3   \n",
       "2                       1999      Medium               Tier 1   \n",
       "3                       1998      Medium               Tier 3   \n",
       "4                       1987        High               Tier 3   \n",
       "\n",
       "         Outlet_Type  Item_Outlet_Sales  \n",
       "0  Supermarket Type1          3735.1380  \n",
       "1  Supermarket Type2           443.4228  \n",
       "2  Supermarket Type1          2097.2700  \n",
       "3      Grocery Store           732.3800  \n",
       "4  Supermarket Type1           994.7052  "
      ]
     },
     "execution_count": 3,
     "metadata": {},
     "output_type": "execute_result"
    }
   ],
   "source": [
    "train_data.head()"
   ]
  },
  {
   "cell_type": "code",
   "execution_count": 4,
   "id": "9b64dc35",
   "metadata": {
    "execution": {
     "iopub.execute_input": "2023-02-04T21:39:13.464717Z",
     "iopub.status.busy": "2023-02-04T21:39:13.464027Z",
     "iopub.status.idle": "2023-02-04T21:39:13.470332Z",
     "shell.execute_reply": "2023-02-04T21:39:13.469295Z"
    },
    "papermill": {
     "duration": 0.018727,
     "end_time": "2023-02-04T21:39:13.472873",
     "exception": false,
     "start_time": "2023-02-04T21:39:13.454146",
     "status": "completed"
    },
    "tags": []
   },
   "outputs": [
    {
     "data": {
      "text/plain": [
       "(8523, 12)"
      ]
     },
     "execution_count": 4,
     "metadata": {},
     "output_type": "execute_result"
    }
   ],
   "source": [
    "train_data.shape"
   ]
  },
  {
   "cell_type": "code",
   "execution_count": 5,
   "id": "87197ed9",
   "metadata": {
    "execution": {
     "iopub.execute_input": "2023-02-04T21:39:13.492376Z",
     "iopub.status.busy": "2023-02-04T21:39:13.491927Z",
     "iopub.status.idle": "2023-02-04T21:39:13.521067Z",
     "shell.execute_reply": "2023-02-04T21:39:13.518946Z"
    },
    "papermill": {
     "duration": 0.042276,
     "end_time": "2023-02-04T21:39:13.524042",
     "exception": false,
     "start_time": "2023-02-04T21:39:13.481766",
     "status": "completed"
    },
    "tags": []
   },
   "outputs": [
    {
     "name": "stdout",
     "output_type": "stream",
     "text": [
      "<class 'pandas.core.frame.DataFrame'>\n",
      "RangeIndex: 8523 entries, 0 to 8522\n",
      "Data columns (total 12 columns):\n",
      " #   Column                     Non-Null Count  Dtype  \n",
      "---  ------                     --------------  -----  \n",
      " 0   Item_Identifier            8523 non-null   object \n",
      " 1   Item_Weight                8523 non-null   float64\n",
      " 2   Item_Fat_Content           8523 non-null   object \n",
      " 3   Item_Visibility            8523 non-null   float64\n",
      " 4   Item_Type                  8523 non-null   object \n",
      " 5   Item_MRP                   8523 non-null   float64\n",
      " 6   Outlet_Identifier          8523 non-null   object \n",
      " 7   Outlet_Establishment_Year  8523 non-null   int64  \n",
      " 8   Outlet_Size                8523 non-null   object \n",
      " 9   Outlet_Location_Type       8523 non-null   object \n",
      " 10  Outlet_Type                8523 non-null   object \n",
      " 11  Item_Outlet_Sales          8523 non-null   float64\n",
      "dtypes: float64(4), int64(1), object(7)\n",
      "memory usage: 799.2+ KB\n"
     ]
    }
   ],
   "source": [
    "train_data.info()"
   ]
  },
  {
   "cell_type": "code",
   "execution_count": 6,
   "id": "58c247e5",
   "metadata": {
    "execution": {
     "iopub.execute_input": "2023-02-04T21:39:13.543722Z",
     "iopub.status.busy": "2023-02-04T21:39:13.543329Z",
     "iopub.status.idle": "2023-02-04T21:39:13.556353Z",
     "shell.execute_reply": "2023-02-04T21:39:13.555199Z"
    },
    "papermill": {
     "duration": 0.025259,
     "end_time": "2023-02-04T21:39:13.558603",
     "exception": false,
     "start_time": "2023-02-04T21:39:13.533344",
     "status": "completed"
    },
    "tags": []
   },
   "outputs": [
    {
     "data": {
      "text/plain": [
       "Item_Identifier              0\n",
       "Item_Weight                  0\n",
       "Item_Fat_Content             0\n",
       "Item_Visibility              0\n",
       "Item_Type                    0\n",
       "Item_MRP                     0\n",
       "Outlet_Identifier            0\n",
       "Outlet_Establishment_Year    0\n",
       "Outlet_Size                  0\n",
       "Outlet_Location_Type         0\n",
       "Outlet_Type                  0\n",
       "Item_Outlet_Sales            0\n",
       "dtype: int64"
      ]
     },
     "execution_count": 6,
     "metadata": {},
     "output_type": "execute_result"
    }
   ],
   "source": [
    "train_data.isnull().sum()"
   ]
  },
  {
   "cell_type": "code",
   "execution_count": 7,
   "id": "271c5699",
   "metadata": {
    "execution": {
     "iopub.execute_input": "2023-02-04T21:39:13.578021Z",
     "iopub.status.busy": "2023-02-04T21:39:13.577591Z",
     "iopub.status.idle": "2023-02-04T21:39:13.597475Z",
     "shell.execute_reply": "2023-02-04T21:39:13.596370Z"
    },
    "papermill": {
     "duration": 0.032293,
     "end_time": "2023-02-04T21:39:13.599876",
     "exception": false,
     "start_time": "2023-02-04T21:39:13.567583",
     "status": "completed"
    },
    "tags": []
   },
   "outputs": [
    {
     "data": {
      "text/plain": [
       "Item_Identifier              1559\n",
       "Item_Weight                   415\n",
       "Item_Fat_Content                5\n",
       "Item_Visibility              7880\n",
       "Item_Type                      16\n",
       "Item_MRP                     5938\n",
       "Outlet_Identifier              10\n",
       "Outlet_Establishment_Year       9\n",
       "Outlet_Size                     3\n",
       "Outlet_Location_Type            3\n",
       "Outlet_Type                     4\n",
       "Item_Outlet_Sales            3493\n",
       "dtype: int64"
      ]
     },
     "execution_count": 7,
     "metadata": {},
     "output_type": "execute_result"
    }
   ],
   "source": [
    "train_data.nunique()"
   ]
  },
  {
   "cell_type": "code",
   "execution_count": 8,
   "id": "200afd6f",
   "metadata": {
    "execution": {
     "iopub.execute_input": "2023-02-04T21:39:13.621142Z",
     "iopub.status.busy": "2023-02-04T21:39:13.620312Z",
     "iopub.status.idle": "2023-02-04T21:39:13.650948Z",
     "shell.execute_reply": "2023-02-04T21:39:13.649753Z"
    },
    "papermill": {
     "duration": 0.043634,
     "end_time": "2023-02-04T21:39:13.653556",
     "exception": false,
     "start_time": "2023-02-04T21:39:13.609922",
     "status": "completed"
    },
    "tags": []
   },
   "outputs": [
    {
     "data": {
      "text/html": [
       "<div>\n",
       "<style scoped>\n",
       "    .dataframe tbody tr th:only-of-type {\n",
       "        vertical-align: middle;\n",
       "    }\n",
       "\n",
       "    .dataframe tbody tr th {\n",
       "        vertical-align: top;\n",
       "    }\n",
       "\n",
       "    .dataframe thead th {\n",
       "        text-align: right;\n",
       "    }\n",
       "</style>\n",
       "<table border=\"1\" class=\"dataframe\">\n",
       "  <thead>\n",
       "    <tr style=\"text-align: right;\">\n",
       "      <th></th>\n",
       "      <th>Item_Weight</th>\n",
       "      <th>Item_Visibility</th>\n",
       "      <th>Item_MRP</th>\n",
       "      <th>Outlet_Establishment_Year</th>\n",
       "      <th>Item_Outlet_Sales</th>\n",
       "    </tr>\n",
       "  </thead>\n",
       "  <tbody>\n",
       "    <tr>\n",
       "      <th>count</th>\n",
       "      <td>8523.00000</td>\n",
       "      <td>8523.000000</td>\n",
       "      <td>8523.000000</td>\n",
       "      <td>8523.000000</td>\n",
       "      <td>8523.000000</td>\n",
       "    </tr>\n",
       "    <tr>\n",
       "      <th>mean</th>\n",
       "      <td>12.81342</td>\n",
       "      <td>0.066132</td>\n",
       "      <td>140.992782</td>\n",
       "      <td>1997.831867</td>\n",
       "      <td>2181.288914</td>\n",
       "    </tr>\n",
       "    <tr>\n",
       "      <th>std</th>\n",
       "      <td>4.22724</td>\n",
       "      <td>0.051598</td>\n",
       "      <td>62.275067</td>\n",
       "      <td>8.371760</td>\n",
       "      <td>1706.499616</td>\n",
       "    </tr>\n",
       "    <tr>\n",
       "      <th>min</th>\n",
       "      <td>4.55500</td>\n",
       "      <td>0.000000</td>\n",
       "      <td>31.290000</td>\n",
       "      <td>1985.000000</td>\n",
       "      <td>33.290000</td>\n",
       "    </tr>\n",
       "    <tr>\n",
       "      <th>25%</th>\n",
       "      <td>9.31000</td>\n",
       "      <td>0.026989</td>\n",
       "      <td>93.826500</td>\n",
       "      <td>1987.000000</td>\n",
       "      <td>834.247400</td>\n",
       "    </tr>\n",
       "    <tr>\n",
       "      <th>50%</th>\n",
       "      <td>12.60000</td>\n",
       "      <td>0.053931</td>\n",
       "      <td>143.012800</td>\n",
       "      <td>1999.000000</td>\n",
       "      <td>1794.331000</td>\n",
       "    </tr>\n",
       "    <tr>\n",
       "      <th>75%</th>\n",
       "      <td>16.00000</td>\n",
       "      <td>0.094585</td>\n",
       "      <td>185.643700</td>\n",
       "      <td>2004.000000</td>\n",
       "      <td>3101.296400</td>\n",
       "    </tr>\n",
       "    <tr>\n",
       "      <th>max</th>\n",
       "      <td>21.35000</td>\n",
       "      <td>0.328391</td>\n",
       "      <td>266.888400</td>\n",
       "      <td>2009.000000</td>\n",
       "      <td>13086.964800</td>\n",
       "    </tr>\n",
       "  </tbody>\n",
       "</table>\n",
       "</div>"
      ],
      "text/plain": [
       "       Item_Weight  Item_Visibility     Item_MRP  Outlet_Establishment_Year  \\\n",
       "count   8523.00000      8523.000000  8523.000000                8523.000000   \n",
       "mean      12.81342         0.066132   140.992782                1997.831867   \n",
       "std        4.22724         0.051598    62.275067                   8.371760   \n",
       "min        4.55500         0.000000    31.290000                1985.000000   \n",
       "25%        9.31000         0.026989    93.826500                1987.000000   \n",
       "50%       12.60000         0.053931   143.012800                1999.000000   \n",
       "75%       16.00000         0.094585   185.643700                2004.000000   \n",
       "max       21.35000         0.328391   266.888400                2009.000000   \n",
       "\n",
       "       Item_Outlet_Sales  \n",
       "count        8523.000000  \n",
       "mean         2181.288914  \n",
       "std          1706.499616  \n",
       "min            33.290000  \n",
       "25%           834.247400  \n",
       "50%          1794.331000  \n",
       "75%          3101.296400  \n",
       "max         13086.964800  "
      ]
     },
     "execution_count": 8,
     "metadata": {},
     "output_type": "execute_result"
    }
   ],
   "source": [
    "train_data.describe()"
   ]
  },
  {
   "cell_type": "markdown",
   "id": "0783e954",
   "metadata": {
    "papermill": {
     "duration": 0.00917,
     "end_time": "2023-02-04T21:39:13.672055",
     "exception": false,
     "start_time": "2023-02-04T21:39:13.662885",
     "status": "completed"
    },
    "tags": []
   },
   "source": [
    "**Modify *Item_Visibility***\n",
    "> We noticed that the minimum value here is 0, which makes no practical sense."
   ]
  },
  {
   "cell_type": "code",
   "execution_count": 9,
   "id": "4c298849",
   "metadata": {
    "execution": {
     "iopub.execute_input": "2023-02-04T21:39:13.692703Z",
     "iopub.status.busy": "2023-02-04T21:39:13.691820Z",
     "iopub.status.idle": "2023-02-04T21:39:13.777676Z",
     "shell.execute_reply": "2023-02-04T21:39:13.775980Z"
    },
    "papermill": {
     "duration": 0.098937,
     "end_time": "2023-02-04T21:39:13.780227",
     "exception": false,
     "start_time": "2023-02-04T21:39:13.681290",
     "status": "completed"
    },
    "tags": []
   },
   "outputs": [
    {
     "name": "stdout",
     "output_type": "stream",
     "text": [
      "Number of 0 values initially: 526\n",
      "Number of 0 values after modification: 0\n"
     ]
    }
   ],
   "source": [
    "#Determine average visibility of a product\n",
    "visibility_avg = train_data.pivot_table(values='Item_Visibility', index='Item_Identifier')\n",
    "\n",
    "#Impute 0 values with mean visibility of that product:\n",
    "zero_values = (train_data['Item_Visibility'] == 0)\n",
    "\n",
    "print('Number of 0 values initially: %d'%sum(zero_values))\n",
    "train_data.loc[zero_values,'Item_Visibility'] = train_data.loc[zero_values,'Item_Identifier'].apply(lambda x: visibility_avg.loc[x])\n",
    "print('Number of 0 values after modification: %d'%sum(train_data['Item_Visibility'] == 0))"
   ]
  },
  {
   "cell_type": "code",
   "execution_count": 10,
   "id": "6d898baf",
   "metadata": {
    "execution": {
     "iopub.execute_input": "2023-02-04T21:39:13.802011Z",
     "iopub.status.busy": "2023-02-04T21:39:13.800815Z",
     "iopub.status.idle": "2023-02-04T21:39:13.811673Z",
     "shell.execute_reply": "2023-02-04T21:39:13.810418Z"
    },
    "papermill": {
     "duration": 0.024517,
     "end_time": "2023-02-04T21:39:13.814323",
     "exception": false,
     "start_time": "2023-02-04T21:39:13.789806",
     "status": "completed"
    },
    "tags": []
   },
   "outputs": [
    {
     "data": {
      "text/plain": [
       "count    8523.000000\n",
       "mean        0.069670\n",
       "std         0.049810\n",
       "min         0.003575\n",
       "25%         0.031114\n",
       "50%         0.056922\n",
       "75%         0.097160\n",
       "max         0.328391\n",
       "Name: Item_Visibility, dtype: float64"
      ]
     },
     "execution_count": 10,
     "metadata": {},
     "output_type": "execute_result"
    }
   ],
   "source": [
    "train_data[\"Item_Visibility\"].describe()"
   ]
  },
  {
   "cell_type": "markdown",
   "id": "7ac89962",
   "metadata": {
    "papermill": {
     "duration": 0.009146,
     "end_time": "2023-02-04T21:39:13.833037",
     "exception": false,
     "start_time": "2023-02-04T21:39:13.823891",
     "status": "completed"
    },
    "tags": []
   },
   "source": [
    "**Create a broad category of *Item_Type***"
   ]
  },
  {
   "cell_type": "code",
   "execution_count": 11,
   "id": "ccb969e6",
   "metadata": {
    "execution": {
     "iopub.execute_input": "2023-02-04T21:39:13.854293Z",
     "iopub.status.busy": "2023-02-04T21:39:13.853223Z",
     "iopub.status.idle": "2023-02-04T21:39:13.869053Z",
     "shell.execute_reply": "2023-02-04T21:39:13.867745Z"
    },
    "papermill": {
     "duration": 0.028991,
     "end_time": "2023-02-04T21:39:13.871449",
     "exception": false,
     "start_time": "2023-02-04T21:39:13.842458",
     "status": "completed"
    },
    "tags": []
   },
   "outputs": [
    {
     "data": {
      "text/plain": [
       "Item_Identifier  Item_Type         \n",
       "DRA12            Soft Drinks           6\n",
       "DRA24            Soft Drinks           7\n",
       "DRA59            Soft Drinks           8\n",
       "DRB01            Soft Drinks           3\n",
       "DRB13            Soft Drinks           5\n",
       "                                      ..\n",
       "NCZ30            Household             7\n",
       "NCZ41            Health and Hygiene    5\n",
       "NCZ42            Household             5\n",
       "NCZ53            Health and Hygiene    5\n",
       "NCZ54            Household             7\n",
       "Length: 1559, dtype: int64"
      ]
     },
     "execution_count": 11,
     "metadata": {},
     "output_type": "execute_result"
    }
   ],
   "source": [
    "train_data.groupby([\"Item_Identifier\",\"Item_Type\"]).size()"
   ]
  },
  {
   "cell_type": "markdown",
   "id": "52100fe3",
   "metadata": {
    "papermill": {
     "duration": 0.009381,
     "end_time": "2023-02-04T21:39:13.890782",
     "exception": false,
     "start_time": "2023-02-04T21:39:13.881401",
     "status": "completed"
    },
    "tags": []
   },
   "source": [
    "> We can clearly observe that the First 2 characters of the Item ID is same for the One kind of Item Type. Example: DR is the code for Soft Drinks, NC is the code of Non- Consumable Products and FD is for Food products"
   ]
  },
  {
   "cell_type": "code",
   "execution_count": 12,
   "id": "61e1ee73",
   "metadata": {
    "execution": {
     "iopub.execute_input": "2023-02-04T21:39:13.913942Z",
     "iopub.status.busy": "2023-02-04T21:39:13.912789Z",
     "iopub.status.idle": "2023-02-04T21:39:13.927215Z",
     "shell.execute_reply": "2023-02-04T21:39:13.925769Z"
    },
    "papermill": {
     "duration": 0.029232,
     "end_time": "2023-02-04T21:39:13.929663",
     "exception": false,
     "start_time": "2023-02-04T21:39:13.900431",
     "status": "completed"
    },
    "tags": []
   },
   "outputs": [
    {
     "name": "stdout",
     "output_type": "stream",
     "text": [
      "Food              6125\n",
      "Non-Consumable    1599\n",
      "Drinks             799\n",
      "Name: Item_Type_Combined, dtype: int64\n"
     ]
    }
   ],
   "source": [
    "#Get the first two characters of ID:\n",
    "train_data['Item_Type_Combined'] = train_data['Item_Identifier'].apply(lambda x: x[0:2])\n",
    "\n",
    "#Rename them to more intuitive categories:\n",
    "train_data['Item_Type_Combined'] = train_data['Item_Type_Combined'].map({'FD':'Food',\n",
    "                                                             'NC':'Non-Consumable',\n",
    "                                                             'DR':'Drinks'})\n",
    "print(train_data['Item_Type_Combined'].value_counts())"
   ]
  },
  {
   "cell_type": "markdown",
   "id": "be95bbef",
   "metadata": {
    "papermill": {
     "duration": 0.009474,
     "end_time": "2023-02-04T21:39:13.948799",
     "exception": false,
     "start_time": "2023-02-04T21:39:13.939325",
     "status": "completed"
    },
    "tags": []
   },
   "source": [
    "**Modify categories of *Item_Fat_Content***"
   ]
  },
  {
   "cell_type": "code",
   "execution_count": 13,
   "id": "28f04c4c",
   "metadata": {
    "execution": {
     "iopub.execute_input": "2023-02-04T21:39:13.969941Z",
     "iopub.status.busy": "2023-02-04T21:39:13.969540Z",
     "iopub.status.idle": "2023-02-04T21:39:13.977062Z",
     "shell.execute_reply": "2023-02-04T21:39:13.976017Z"
    },
    "papermill": {
     "duration": 0.020815,
     "end_time": "2023-02-04T21:39:13.979266",
     "exception": false,
     "start_time": "2023-02-04T21:39:13.958451",
     "status": "completed"
    },
    "tags": []
   },
   "outputs": [
    {
     "data": {
      "text/plain": [
       "array(['Low Fat', 'Regular', 'low fat', 'LF', 'reg'], dtype=object)"
      ]
     },
     "execution_count": 13,
     "metadata": {},
     "output_type": "execute_result"
    }
   ],
   "source": [
    "train_data['Item_Fat_Content'].unique()"
   ]
  },
  {
   "cell_type": "code",
   "execution_count": 14,
   "id": "0b92add0",
   "metadata": {
    "execution": {
     "iopub.execute_input": "2023-02-04T21:39:14.000988Z",
     "iopub.status.busy": "2023-02-04T21:39:14.000557Z",
     "iopub.status.idle": "2023-02-04T21:39:14.013185Z",
     "shell.execute_reply": "2023-02-04T21:39:14.012206Z"
    },
    "papermill": {
     "duration": 0.027326,
     "end_time": "2023-02-04T21:39:14.016663",
     "exception": false,
     "start_time": "2023-02-04T21:39:13.989337",
     "status": "completed"
    },
    "tags": []
   },
   "outputs": [
    {
     "name": "stdout",
     "output_type": "stream",
     "text": [
      "Original Categories:\n",
      "Low Fat    5089\n",
      "Regular    2889\n",
      "LF          316\n",
      "reg         117\n",
      "low fat     112\n",
      "Name: Item_Fat_Content, dtype: int64\n",
      "\n",
      "Modified Categories:\n",
      "Low Fat    5517\n",
      "Regular    3006\n",
      "Name: Item_Fat_Content, dtype: int64\n"
     ]
    }
   ],
   "source": [
    "#Change categories of low fat:\n",
    "print('Original Categories:')\n",
    "print(train_data['Item_Fat_Content'].value_counts())\n",
    "\n",
    "print('\\nModified Categories:')\n",
    "train_data['Item_Fat_Content'] = train_data['Item_Fat_Content'].replace({'LF':'Low Fat','reg':'Regular','low fat':'Low Fat'})\n",
    "print(train_data['Item_Fat_Content'].value_counts())"
   ]
  },
  {
   "cell_type": "markdown",
   "id": "bd942cc0",
   "metadata": {
    "papermill": {
     "duration": 0.009531,
     "end_time": "2023-02-04T21:39:14.036702",
     "exception": false,
     "start_time": "2023-02-04T21:39:14.027171",
     "status": "completed"
    },
    "tags": []
   },
   "source": [
    "# **Label Encoding**"
   ]
  },
  {
   "cell_type": "code",
   "execution_count": 15,
   "id": "d6c59373",
   "metadata": {
    "execution": {
     "iopub.execute_input": "2023-02-04T21:39:14.058136Z",
     "iopub.status.busy": "2023-02-04T21:39:14.057725Z",
     "iopub.status.idle": "2023-02-04T21:39:14.064954Z",
     "shell.execute_reply": "2023-02-04T21:39:14.063933Z"
    },
    "papermill": {
     "duration": 0.020792,
     "end_time": "2023-02-04T21:39:14.067385",
     "exception": false,
     "start_time": "2023-02-04T21:39:14.046593",
     "status": "completed"
    },
    "tags": []
   },
   "outputs": [
    {
     "data": {
      "text/plain": [
       "array(['Low Fat', 'Regular'], dtype=object)"
      ]
     },
     "execution_count": 15,
     "metadata": {},
     "output_type": "execute_result"
    }
   ],
   "source": [
    "train_data['Item_Fat_Content'].unique()"
   ]
  },
  {
   "cell_type": "code",
   "execution_count": 16,
   "id": "bcda0b76",
   "metadata": {
    "execution": {
     "iopub.execute_input": "2023-02-04T21:39:14.088828Z",
     "iopub.status.busy": "2023-02-04T21:39:14.088478Z",
     "iopub.status.idle": "2023-02-04T21:39:14.095781Z",
     "shell.execute_reply": "2023-02-04T21:39:14.094677Z"
    },
    "papermill": {
     "duration": 0.02078,
     "end_time": "2023-02-04T21:39:14.098041",
     "exception": false,
     "start_time": "2023-02-04T21:39:14.077261",
     "status": "completed"
    },
    "tags": []
   },
   "outputs": [
    {
     "data": {
      "text/plain": [
       "array(['Medium', 'High', 'Small'], dtype=object)"
      ]
     },
     "execution_count": 16,
     "metadata": {},
     "output_type": "execute_result"
    }
   ],
   "source": [
    "train_data['Outlet_Size'].unique()"
   ]
  },
  {
   "cell_type": "code",
   "execution_count": 17,
   "id": "1ef4550c",
   "metadata": {
    "execution": {
     "iopub.execute_input": "2023-02-04T21:39:14.119793Z",
     "iopub.status.busy": "2023-02-04T21:39:14.119072Z",
     "iopub.status.idle": "2023-02-04T21:39:14.126065Z",
     "shell.execute_reply": "2023-02-04T21:39:14.125150Z"
    },
    "papermill": {
     "duration": 0.020111,
     "end_time": "2023-02-04T21:39:14.128044",
     "exception": false,
     "start_time": "2023-02-04T21:39:14.107933",
     "status": "completed"
    },
    "tags": []
   },
   "outputs": [
    {
     "data": {
      "text/plain": [
       "array(['Tier 1', 'Tier 3', 'Tier 2'], dtype=object)"
      ]
     },
     "execution_count": 17,
     "metadata": {},
     "output_type": "execute_result"
    }
   ],
   "source": [
    "train_data['Outlet_Location_Type'].unique()"
   ]
  },
  {
   "cell_type": "code",
   "execution_count": 18,
   "id": "53fe2cf0",
   "metadata": {
    "execution": {
     "iopub.execute_input": "2023-02-04T21:39:14.150503Z",
     "iopub.status.busy": "2023-02-04T21:39:14.149892Z",
     "iopub.status.idle": "2023-02-04T21:39:14.157285Z",
     "shell.execute_reply": "2023-02-04T21:39:14.156298Z"
    },
    "papermill": {
     "duration": 0.020991,
     "end_time": "2023-02-04T21:39:14.159406",
     "exception": false,
     "start_time": "2023-02-04T21:39:14.138415",
     "status": "completed"
    },
    "tags": []
   },
   "outputs": [
    {
     "data": {
      "text/plain": [
       "array(['Supermarket Type1', 'Supermarket Type2', 'Grocery Store',\n",
       "       'Supermarket Type3'], dtype=object)"
      ]
     },
     "execution_count": 18,
     "metadata": {},
     "output_type": "execute_result"
    }
   ],
   "source": [
    "train_data['Outlet_Type'].unique()"
   ]
  },
  {
   "cell_type": "code",
   "execution_count": 19,
   "id": "39475ed0",
   "metadata": {
    "execution": {
     "iopub.execute_input": "2023-02-04T21:39:14.182188Z",
     "iopub.status.busy": "2023-02-04T21:39:14.181809Z",
     "iopub.status.idle": "2023-02-04T21:39:14.213647Z",
     "shell.execute_reply": "2023-02-04T21:39:14.212515Z"
    },
    "papermill": {
     "duration": 0.046247,
     "end_time": "2023-02-04T21:39:14.216367",
     "exception": false,
     "start_time": "2023-02-04T21:39:14.170120",
     "status": "completed"
    },
    "tags": []
   },
   "outputs": [],
   "source": [
    "# Import label encoder\n",
    "from sklearn import preprocessing\n",
    "  \n",
    "# label_encoder object knows how to understand word labels.\n",
    "label_encoder = preprocessing.LabelEncoder()"
   ]
  },
  {
   "cell_type": "code",
   "execution_count": 20,
   "id": "b1a52e94",
   "metadata": {
    "execution": {
     "iopub.execute_input": "2023-02-04T21:39:14.238938Z",
     "iopub.status.busy": "2023-02-04T21:39:14.238346Z",
     "iopub.status.idle": "2023-02-04T21:39:14.248467Z",
     "shell.execute_reply": "2023-02-04T21:39:14.247360Z"
    },
    "papermill": {
     "duration": 0.024063,
     "end_time": "2023-02-04T21:39:14.250777",
     "exception": false,
     "start_time": "2023-02-04T21:39:14.226714",
     "status": "completed"
    },
    "tags": []
   },
   "outputs": [
    {
     "data": {
      "text/plain": [
       "array([1, 0, 2])"
      ]
     },
     "execution_count": 20,
     "metadata": {},
     "output_type": "execute_result"
    }
   ],
   "source": [
    "train_data['Outlet_Size']= label_encoder.fit_transform(train_data['Outlet_Size'])\n",
    "train_data['Outlet_Size'].unique()"
   ]
  },
  {
   "cell_type": "code",
   "execution_count": 21,
   "id": "cd4033b2",
   "metadata": {
    "execution": {
     "iopub.execute_input": "2023-02-04T21:39:14.273452Z",
     "iopub.status.busy": "2023-02-04T21:39:14.272619Z",
     "iopub.status.idle": "2023-02-04T21:39:14.283720Z",
     "shell.execute_reply": "2023-02-04T21:39:14.282629Z"
    },
    "papermill": {
     "duration": 0.024781,
     "end_time": "2023-02-04T21:39:14.285884",
     "exception": false,
     "start_time": "2023-02-04T21:39:14.261103",
     "status": "completed"
    },
    "tags": []
   },
   "outputs": [
    {
     "data": {
      "text/plain": [
       "array([0, 2, 1])"
      ]
     },
     "execution_count": 21,
     "metadata": {},
     "output_type": "execute_result"
    }
   ],
   "source": [
    "train_data['Outlet_Location_Type']= label_encoder.fit_transform(train_data['Outlet_Location_Type'])\n",
    "train_data['Outlet_Location_Type'].unique()"
   ]
  },
  {
   "cell_type": "code",
   "execution_count": 22,
   "id": "b6247528",
   "metadata": {
    "execution": {
     "iopub.execute_input": "2023-02-04T21:39:14.309387Z",
     "iopub.status.busy": "2023-02-04T21:39:14.308419Z",
     "iopub.status.idle": "2023-02-04T21:39:14.317839Z",
     "shell.execute_reply": "2023-02-04T21:39:14.317016Z"
    },
    "papermill": {
     "duration": 0.02357,
     "end_time": "2023-02-04T21:39:14.319821",
     "exception": false,
     "start_time": "2023-02-04T21:39:14.296251",
     "status": "completed"
    },
    "tags": []
   },
   "outputs": [
    {
     "data": {
      "text/plain": [
       "array([1, 2, 0, 3])"
      ]
     },
     "execution_count": 22,
     "metadata": {},
     "output_type": "execute_result"
    }
   ],
   "source": [
    "train_data['Outlet_Type']= label_encoder.fit_transform(train_data['Outlet_Type'])\n",
    "train_data['Outlet_Type'].unique()"
   ]
  },
  {
   "cell_type": "code",
   "execution_count": 23,
   "id": "37ffc014",
   "metadata": {
    "execution": {
     "iopub.execute_input": "2023-02-04T21:39:14.342653Z",
     "iopub.status.busy": "2023-02-04T21:39:14.342077Z",
     "iopub.status.idle": "2023-02-04T21:39:14.351649Z",
     "shell.execute_reply": "2023-02-04T21:39:14.350709Z"
    },
    "papermill": {
     "duration": 0.023432,
     "end_time": "2023-02-04T21:39:14.353750",
     "exception": false,
     "start_time": "2023-02-04T21:39:14.330318",
     "status": "completed"
    },
    "tags": []
   },
   "outputs": [
    {
     "data": {
      "text/plain": [
       "array([0, 1])"
      ]
     },
     "execution_count": 23,
     "metadata": {},
     "output_type": "execute_result"
    }
   ],
   "source": [
    "train_data['Item_Fat_Content']= label_encoder.fit_transform(train_data['Item_Fat_Content'])\n",
    "train_data['Item_Fat_Content'].unique()"
   ]
  },
  {
   "cell_type": "code",
   "execution_count": 24,
   "id": "d7e5c1b3",
   "metadata": {
    "execution": {
     "iopub.execute_input": "2023-02-04T21:39:14.377045Z",
     "iopub.status.busy": "2023-02-04T21:39:14.376037Z",
     "iopub.status.idle": "2023-02-04T21:39:14.386390Z",
     "shell.execute_reply": "2023-02-04T21:39:14.385498Z"
    },
    "papermill": {
     "duration": 0.02421,
     "end_time": "2023-02-04T21:39:14.388518",
     "exception": false,
     "start_time": "2023-02-04T21:39:14.364308",
     "status": "completed"
    },
    "tags": []
   },
   "outputs": [
    {
     "data": {
      "text/plain": [
       "array([1, 0, 2])"
      ]
     },
     "execution_count": 24,
     "metadata": {},
     "output_type": "execute_result"
    }
   ],
   "source": [
    "train_data['Item_Type_Combined']= label_encoder.fit_transform(train_data['Item_Type_Combined'])\n",
    "train_data['Item_Type_Combined'].unique()"
   ]
  },
  {
   "cell_type": "code",
   "execution_count": 25,
   "id": "279db9d9",
   "metadata": {
    "execution": {
     "iopub.execute_input": "2023-02-04T21:39:14.411624Z",
     "iopub.status.busy": "2023-02-04T21:39:14.410944Z",
     "iopub.status.idle": "2023-02-04T21:39:14.416301Z",
     "shell.execute_reply": "2023-02-04T21:39:14.415624Z"
    },
    "papermill": {
     "duration": 0.019016,
     "end_time": "2023-02-04T21:39:14.418144",
     "exception": false,
     "start_time": "2023-02-04T21:39:14.399128",
     "status": "completed"
    },
    "tags": []
   },
   "outputs": [
    {
     "data": {
      "text/plain": [
       "(8523, 13)"
      ]
     },
     "execution_count": 25,
     "metadata": {},
     "output_type": "execute_result"
    }
   ],
   "source": [
    "train_data.shape"
   ]
  },
  {
   "cell_type": "markdown",
   "id": "d9f252db",
   "metadata": {
    "papermill": {
     "duration": 0.010387,
     "end_time": "2023-02-04T21:39:14.439142",
     "exception": false,
     "start_time": "2023-02-04T21:39:14.428755",
     "status": "completed"
    },
    "tags": []
   },
   "source": [
    "# **One-Hot Encoding**"
   ]
  },
  {
   "cell_type": "code",
   "execution_count": 26,
   "id": "efa3b34e",
   "metadata": {
    "execution": {
     "iopub.execute_input": "2023-02-04T21:39:14.462567Z",
     "iopub.status.busy": "2023-02-04T21:39:14.461598Z",
     "iopub.status.idle": "2023-02-04T21:39:14.476773Z",
     "shell.execute_reply": "2023-02-04T21:39:14.475935Z"
    },
    "papermill": {
     "duration": 0.029244,
     "end_time": "2023-02-04T21:39:14.479004",
     "exception": false,
     "start_time": "2023-02-04T21:39:14.449760",
     "status": "completed"
    },
    "tags": []
   },
   "outputs": [],
   "source": [
    "#One Hot Coding:\n",
    "train_data = pd.get_dummies(train_data, columns=['Item_Fat_Content','Outlet_Size','Outlet_Location_Type','Outlet_Type','Item_Type_Combined'],drop_first = True)"
   ]
  },
  {
   "cell_type": "code",
   "execution_count": 27,
   "id": "02a28239",
   "metadata": {
    "execution": {
     "iopub.execute_input": "2023-02-04T21:39:14.502832Z",
     "iopub.status.busy": "2023-02-04T21:39:14.502164Z",
     "iopub.status.idle": "2023-02-04T21:39:14.519358Z",
     "shell.execute_reply": "2023-02-04T21:39:14.518628Z"
    },
    "papermill": {
     "duration": 0.030977,
     "end_time": "2023-02-04T21:39:14.521318",
     "exception": false,
     "start_time": "2023-02-04T21:39:14.490341",
     "status": "completed"
    },
    "tags": []
   },
   "outputs": [
    {
     "data": {
      "text/html": [
       "<div>\n",
       "<style scoped>\n",
       "    .dataframe tbody tr th:only-of-type {\n",
       "        vertical-align: middle;\n",
       "    }\n",
       "\n",
       "    .dataframe tbody tr th {\n",
       "        vertical-align: top;\n",
       "    }\n",
       "\n",
       "    .dataframe thead th {\n",
       "        text-align: right;\n",
       "    }\n",
       "</style>\n",
       "<table border=\"1\" class=\"dataframe\">\n",
       "  <thead>\n",
       "    <tr style=\"text-align: right;\">\n",
       "      <th></th>\n",
       "      <th>Item_Identifier</th>\n",
       "      <th>Item_Weight</th>\n",
       "      <th>Item_Visibility</th>\n",
       "      <th>Item_Type</th>\n",
       "      <th>Item_MRP</th>\n",
       "      <th>Outlet_Identifier</th>\n",
       "      <th>Outlet_Establishment_Year</th>\n",
       "      <th>Item_Outlet_Sales</th>\n",
       "      <th>Item_Fat_Content_1</th>\n",
       "      <th>Outlet_Size_1</th>\n",
       "      <th>Outlet_Size_2</th>\n",
       "      <th>Outlet_Location_Type_1</th>\n",
       "      <th>Outlet_Location_Type_2</th>\n",
       "      <th>Outlet_Type_1</th>\n",
       "      <th>Outlet_Type_2</th>\n",
       "      <th>Outlet_Type_3</th>\n",
       "      <th>Item_Type_Combined_1</th>\n",
       "      <th>Item_Type_Combined_2</th>\n",
       "    </tr>\n",
       "  </thead>\n",
       "  <tbody>\n",
       "    <tr>\n",
       "      <th>0</th>\n",
       "      <td>FDA15</td>\n",
       "      <td>9.30</td>\n",
       "      <td>0.016047</td>\n",
       "      <td>Dairy</td>\n",
       "      <td>249.8092</td>\n",
       "      <td>OUT049</td>\n",
       "      <td>1999</td>\n",
       "      <td>3735.1380</td>\n",
       "      <td>0</td>\n",
       "      <td>1</td>\n",
       "      <td>0</td>\n",
       "      <td>0</td>\n",
       "      <td>0</td>\n",
       "      <td>1</td>\n",
       "      <td>0</td>\n",
       "      <td>0</td>\n",
       "      <td>1</td>\n",
       "      <td>0</td>\n",
       "    </tr>\n",
       "    <tr>\n",
       "      <th>1</th>\n",
       "      <td>DRC01</td>\n",
       "      <td>5.92</td>\n",
       "      <td>0.019278</td>\n",
       "      <td>Soft Drinks</td>\n",
       "      <td>48.2692</td>\n",
       "      <td>OUT018</td>\n",
       "      <td>2009</td>\n",
       "      <td>443.4228</td>\n",
       "      <td>1</td>\n",
       "      <td>1</td>\n",
       "      <td>0</td>\n",
       "      <td>0</td>\n",
       "      <td>1</td>\n",
       "      <td>0</td>\n",
       "      <td>1</td>\n",
       "      <td>0</td>\n",
       "      <td>0</td>\n",
       "      <td>0</td>\n",
       "    </tr>\n",
       "    <tr>\n",
       "      <th>2</th>\n",
       "      <td>FDN15</td>\n",
       "      <td>17.50</td>\n",
       "      <td>0.016760</td>\n",
       "      <td>Meat</td>\n",
       "      <td>141.6180</td>\n",
       "      <td>OUT049</td>\n",
       "      <td>1999</td>\n",
       "      <td>2097.2700</td>\n",
       "      <td>0</td>\n",
       "      <td>1</td>\n",
       "      <td>0</td>\n",
       "      <td>0</td>\n",
       "      <td>0</td>\n",
       "      <td>1</td>\n",
       "      <td>0</td>\n",
       "      <td>0</td>\n",
       "      <td>1</td>\n",
       "      <td>0</td>\n",
       "    </tr>\n",
       "    <tr>\n",
       "      <th>3</th>\n",
       "      <td>FDX07</td>\n",
       "      <td>19.20</td>\n",
       "      <td>0.015274</td>\n",
       "      <td>Fruits and Vegetables</td>\n",
       "      <td>182.0950</td>\n",
       "      <td>OUT010</td>\n",
       "      <td>1998</td>\n",
       "      <td>732.3800</td>\n",
       "      <td>1</td>\n",
       "      <td>1</td>\n",
       "      <td>0</td>\n",
       "      <td>0</td>\n",
       "      <td>1</td>\n",
       "      <td>0</td>\n",
       "      <td>0</td>\n",
       "      <td>0</td>\n",
       "      <td>1</td>\n",
       "      <td>0</td>\n",
       "    </tr>\n",
       "    <tr>\n",
       "      <th>4</th>\n",
       "      <td>NCD19</td>\n",
       "      <td>8.93</td>\n",
       "      <td>0.008082</td>\n",
       "      <td>Household</td>\n",
       "      <td>53.8614</td>\n",
       "      <td>OUT013</td>\n",
       "      <td>1987</td>\n",
       "      <td>994.7052</td>\n",
       "      <td>0</td>\n",
       "      <td>0</td>\n",
       "      <td>0</td>\n",
       "      <td>0</td>\n",
       "      <td>1</td>\n",
       "      <td>1</td>\n",
       "      <td>0</td>\n",
       "      <td>0</td>\n",
       "      <td>0</td>\n",
       "      <td>1</td>\n",
       "    </tr>\n",
       "  </tbody>\n",
       "</table>\n",
       "</div>"
      ],
      "text/plain": [
       "  Item_Identifier  Item_Weight  Item_Visibility              Item_Type  \\\n",
       "0           FDA15         9.30         0.016047                  Dairy   \n",
       "1           DRC01         5.92         0.019278            Soft Drinks   \n",
       "2           FDN15        17.50         0.016760                   Meat   \n",
       "3           FDX07        19.20         0.015274  Fruits and Vegetables   \n",
       "4           NCD19         8.93         0.008082              Household   \n",
       "\n",
       "   Item_MRP Outlet_Identifier  Outlet_Establishment_Year  Item_Outlet_Sales  \\\n",
       "0  249.8092            OUT049                       1999          3735.1380   \n",
       "1   48.2692            OUT018                       2009           443.4228   \n",
       "2  141.6180            OUT049                       1999          2097.2700   \n",
       "3  182.0950            OUT010                       1998           732.3800   \n",
       "4   53.8614            OUT013                       1987           994.7052   \n",
       "\n",
       "   Item_Fat_Content_1  Outlet_Size_1  Outlet_Size_2  Outlet_Location_Type_1  \\\n",
       "0                   0              1              0                       0   \n",
       "1                   1              1              0                       0   \n",
       "2                   0              1              0                       0   \n",
       "3                   1              1              0                       0   \n",
       "4                   0              0              0                       0   \n",
       "\n",
       "   Outlet_Location_Type_2  Outlet_Type_1  Outlet_Type_2  Outlet_Type_3  \\\n",
       "0                       0              1              0              0   \n",
       "1                       1              0              1              0   \n",
       "2                       0              1              0              0   \n",
       "3                       1              0              0              0   \n",
       "4                       1              1              0              0   \n",
       "\n",
       "   Item_Type_Combined_1  Item_Type_Combined_2  \n",
       "0                     1                     0  \n",
       "1                     0                     0  \n",
       "2                     1                     0  \n",
       "3                     1                     0  \n",
       "4                     0                     1  "
      ]
     },
     "execution_count": 27,
     "metadata": {},
     "output_type": "execute_result"
    }
   ],
   "source": [
    "train_data.head()"
   ]
  },
  {
   "cell_type": "code",
   "execution_count": 28,
   "id": "c94a1b30",
   "metadata": {
    "execution": {
     "iopub.execute_input": "2023-02-04T21:39:14.545532Z",
     "iopub.status.busy": "2023-02-04T21:39:14.544790Z",
     "iopub.status.idle": "2023-02-04T21:39:14.550266Z",
     "shell.execute_reply": "2023-02-04T21:39:14.549549Z"
    },
    "papermill": {
     "duration": 0.019661,
     "end_time": "2023-02-04T21:39:14.552161",
     "exception": false,
     "start_time": "2023-02-04T21:39:14.532500",
     "status": "completed"
    },
    "tags": []
   },
   "outputs": [
    {
     "data": {
      "text/plain": [
       "(8523, 18)"
      ]
     },
     "execution_count": 28,
     "metadata": {},
     "output_type": "execute_result"
    }
   ],
   "source": [
    "train_data.shape"
   ]
  },
  {
   "cell_type": "code",
   "execution_count": 29,
   "id": "81f43ef9",
   "metadata": {
    "execution": {
     "iopub.execute_input": "2023-02-04T21:39:14.576451Z",
     "iopub.status.busy": "2023-02-04T21:39:14.575532Z",
     "iopub.status.idle": "2023-02-04T21:39:14.592682Z",
     "shell.execute_reply": "2023-02-04T21:39:14.591484Z"
    },
    "papermill": {
     "duration": 0.031879,
     "end_time": "2023-02-04T21:39:14.595079",
     "exception": false,
     "start_time": "2023-02-04T21:39:14.563200",
     "status": "completed"
    },
    "tags": []
   },
   "outputs": [
    {
     "name": "stdout",
     "output_type": "stream",
     "text": [
      "<class 'pandas.core.frame.DataFrame'>\n",
      "RangeIndex: 8523 entries, 0 to 8522\n",
      "Data columns (total 18 columns):\n",
      " #   Column                     Non-Null Count  Dtype  \n",
      "---  ------                     --------------  -----  \n",
      " 0   Item_Identifier            8523 non-null   object \n",
      " 1   Item_Weight                8523 non-null   float64\n",
      " 2   Item_Visibility            8523 non-null   float64\n",
      " 3   Item_Type                  8523 non-null   object \n",
      " 4   Item_MRP                   8523 non-null   float64\n",
      " 5   Outlet_Identifier          8523 non-null   object \n",
      " 6   Outlet_Establishment_Year  8523 non-null   int64  \n",
      " 7   Item_Outlet_Sales          8523 non-null   float64\n",
      " 8   Item_Fat_Content_1         8523 non-null   uint8  \n",
      " 9   Outlet_Size_1              8523 non-null   uint8  \n",
      " 10  Outlet_Size_2              8523 non-null   uint8  \n",
      " 11  Outlet_Location_Type_1     8523 non-null   uint8  \n",
      " 12  Outlet_Location_Type_2     8523 non-null   uint8  \n",
      " 13  Outlet_Type_1              8523 non-null   uint8  \n",
      " 14  Outlet_Type_2              8523 non-null   uint8  \n",
      " 15  Outlet_Type_3              8523 non-null   uint8  \n",
      " 16  Item_Type_Combined_1       8523 non-null   uint8  \n",
      " 17  Item_Type_Combined_2       8523 non-null   uint8  \n",
      "dtypes: float64(4), int64(1), object(3), uint8(10)\n",
      "memory usage: 616.0+ KB\n"
     ]
    }
   ],
   "source": [
    "train_data.info()"
   ]
  },
  {
   "cell_type": "code",
   "execution_count": 30,
   "id": "8e5ddbe3",
   "metadata": {
    "execution": {
     "iopub.execute_input": "2023-02-04T21:39:14.619600Z",
     "iopub.status.busy": "2023-02-04T21:39:14.618902Z",
     "iopub.status.idle": "2023-02-04T21:39:14.682302Z",
     "shell.execute_reply": "2023-02-04T21:39:14.681179Z"
    },
    "papermill": {
     "duration": 0.078513,
     "end_time": "2023-02-04T21:39:14.684861",
     "exception": false,
     "start_time": "2023-02-04T21:39:14.606348",
     "status": "completed"
    },
    "tags": []
   },
   "outputs": [],
   "source": [
    "train_data.to_csv(\"train_clean_2.csv\",index = False)"
   ]
  },
  {
   "cell_type": "code",
   "execution_count": null,
   "id": "d04a0430",
   "metadata": {
    "papermill": {
     "duration": 0.011235,
     "end_time": "2023-02-04T21:39:14.708929",
     "exception": false,
     "start_time": "2023-02-04T21:39:14.697694",
     "status": "completed"
    },
    "tags": []
   },
   "outputs": [],
   "source": []
  }
 ],
 "metadata": {
  "kernelspec": {
   "display_name": "Python 3",
   "language": "python",
   "name": "python3"
  },
  "language_info": {
   "codemirror_mode": {
    "name": "ipython",
    "version": 3
   },
   "file_extension": ".py",
   "mimetype": "text/x-python",
   "name": "python",
   "nbconvert_exporter": "python",
   "pygments_lexer": "ipython3",
   "version": "3.7.12"
  },
  "papermill": {
   "default_parameters": {},
   "duration": 11.612748,
   "end_time": "2023-02-04T21:39:15.441368",
   "environment_variables": {},
   "exception": null,
   "input_path": "__notebook__.ipynb",
   "output_path": "__notebook__.ipynb",
   "parameters": {},
   "start_time": "2023-02-04T21:39:03.828620",
   "version": "2.3.4"
  }
 },
 "nbformat": 4,
 "nbformat_minor": 5
}
