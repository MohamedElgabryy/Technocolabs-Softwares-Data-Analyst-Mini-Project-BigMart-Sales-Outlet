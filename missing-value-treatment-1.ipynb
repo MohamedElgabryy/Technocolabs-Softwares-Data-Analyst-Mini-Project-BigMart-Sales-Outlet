{
 "cells": [
  {
   "cell_type": "code",
   "execution_count": 1,
   "id": "4e09dd18",
   "metadata": {
    "_cell_guid": "b1076dfc-b9ad-4769-8c92-a6c4dae69d19",
    "_uuid": "8f2839f25d086af736a60e9eeb907d3b93b6e0e5",
    "execution": {
     "iopub.execute_input": "2023-02-05T19:56:51.814412Z",
     "iopub.status.busy": "2023-02-05T19:56:51.814012Z",
     "iopub.status.idle": "2023-02-05T19:56:52.802066Z",
     "shell.execute_reply": "2023-02-05T19:56:52.801086Z"
    },
    "papermill": {
     "duration": 0.996064,
     "end_time": "2023-02-05T19:56:52.804073",
     "exception": false,
     "start_time": "2023-02-05T19:56:51.808009",
     "status": "completed"
    },
    "tags": []
   },
   "outputs": [
    {
     "name": "stdout",
     "output_type": "stream",
     "text": [
      "Setup Complete\n"
     ]
    }
   ],
   "source": [
    "import pandas as pd\n",
    "import numpy as np\n",
    "pd.plotting.register_matplotlib_converters()\n",
    "import matplotlib.pyplot as plt\n",
    "%matplotlib inline\n",
    "import seaborn as sns\n",
    "import sklearn\n",
    "print(\"Setup Complete\")"
   ]
  },
  {
   "cell_type": "code",
   "execution_count": 2,
   "id": "0affbb65",
   "metadata": {
    "execution": {
     "iopub.execute_input": "2023-02-05T19:56:52.813239Z",
     "iopub.status.busy": "2023-02-05T19:56:52.812924Z",
     "iopub.status.idle": "2023-02-05T19:56:52.882593Z",
     "shell.execute_reply": "2023-02-05T19:56:52.881597Z"
    },
    "papermill": {
     "duration": 0.076744,
     "end_time": "2023-02-05T19:56:52.884917",
     "exception": false,
     "start_time": "2023-02-05T19:56:52.808173",
     "status": "completed"
    },
    "tags": []
   },
   "outputs": [],
   "source": [
    "test_path = \"/kaggle/input/big-mart-data/9961_14084_bundle_archive/Test.csv\"\n",
    "train_path = \"/kaggle/input/big-mart-data/9961_14084_bundle_archive/Train.csv\"\n",
    "\n",
    "df1 = pd.read_csv(test_path)\n",
    "df2 = pd.read_csv(train_path)"
   ]
  },
  {
   "cell_type": "code",
   "execution_count": 3,
   "id": "a7d5ba42",
   "metadata": {
    "execution": {
     "iopub.execute_input": "2023-02-05T19:56:52.894718Z",
     "iopub.status.busy": "2023-02-05T19:56:52.894370Z",
     "iopub.status.idle": "2023-02-05T19:56:52.916426Z",
     "shell.execute_reply": "2023-02-05T19:56:52.915331Z"
    },
    "papermill": {
     "duration": 0.029156,
     "end_time": "2023-02-05T19:56:52.918473",
     "exception": false,
     "start_time": "2023-02-05T19:56:52.889317",
     "status": "completed"
    },
    "tags": []
   },
   "outputs": [
    {
     "data": {
      "text/plain": [
       "(14204, 12)"
      ]
     },
     "execution_count": 3,
     "metadata": {},
     "output_type": "execute_result"
    }
   ],
   "source": [
    "#Merge Two data sets\n",
    "train_data = pd.concat([df2, df1])\n",
    "train_data.shape"
   ]
  },
  {
   "cell_type": "code",
   "execution_count": 4,
   "id": "8c7e270c",
   "metadata": {
    "execution": {
     "iopub.execute_input": "2023-02-05T19:56:52.927884Z",
     "iopub.status.busy": "2023-02-05T19:56:52.927582Z",
     "iopub.status.idle": "2023-02-05T19:56:52.947556Z",
     "shell.execute_reply": "2023-02-05T19:56:52.946433Z"
    },
    "papermill": {
     "duration": 0.027232,
     "end_time": "2023-02-05T19:56:52.949875",
     "exception": false,
     "start_time": "2023-02-05T19:56:52.922643",
     "status": "completed"
    },
    "tags": []
   },
   "outputs": [
    {
     "data": {
      "text/html": [
       "<div>\n",
       "<style scoped>\n",
       "    .dataframe tbody tr th:only-of-type {\n",
       "        vertical-align: middle;\n",
       "    }\n",
       "\n",
       "    .dataframe tbody tr th {\n",
       "        vertical-align: top;\n",
       "    }\n",
       "\n",
       "    .dataframe thead th {\n",
       "        text-align: right;\n",
       "    }\n",
       "</style>\n",
       "<table border=\"1\" class=\"dataframe\">\n",
       "  <thead>\n",
       "    <tr style=\"text-align: right;\">\n",
       "      <th></th>\n",
       "      <th>Item_Identifier</th>\n",
       "      <th>Item_Weight</th>\n",
       "      <th>Item_Fat_Content</th>\n",
       "      <th>Item_Visibility</th>\n",
       "      <th>Item_Type</th>\n",
       "      <th>Item_MRP</th>\n",
       "      <th>Outlet_Identifier</th>\n",
       "      <th>Outlet_Establishment_Year</th>\n",
       "      <th>Outlet_Size</th>\n",
       "      <th>Outlet_Location_Type</th>\n",
       "      <th>Outlet_Type</th>\n",
       "      <th>Item_Outlet_Sales</th>\n",
       "    </tr>\n",
       "  </thead>\n",
       "  <tbody>\n",
       "    <tr>\n",
       "      <th>0</th>\n",
       "      <td>FDA15</td>\n",
       "      <td>9.30</td>\n",
       "      <td>Low Fat</td>\n",
       "      <td>0.016047</td>\n",
       "      <td>Dairy</td>\n",
       "      <td>249.8092</td>\n",
       "      <td>OUT049</td>\n",
       "      <td>1999</td>\n",
       "      <td>Medium</td>\n",
       "      <td>Tier 1</td>\n",
       "      <td>Supermarket Type1</td>\n",
       "      <td>3735.1380</td>\n",
       "    </tr>\n",
       "    <tr>\n",
       "      <th>1</th>\n",
       "      <td>DRC01</td>\n",
       "      <td>5.92</td>\n",
       "      <td>Regular</td>\n",
       "      <td>0.019278</td>\n",
       "      <td>Soft Drinks</td>\n",
       "      <td>48.2692</td>\n",
       "      <td>OUT018</td>\n",
       "      <td>2009</td>\n",
       "      <td>Medium</td>\n",
       "      <td>Tier 3</td>\n",
       "      <td>Supermarket Type2</td>\n",
       "      <td>443.4228</td>\n",
       "    </tr>\n",
       "    <tr>\n",
       "      <th>2</th>\n",
       "      <td>FDN15</td>\n",
       "      <td>17.50</td>\n",
       "      <td>Low Fat</td>\n",
       "      <td>0.016760</td>\n",
       "      <td>Meat</td>\n",
       "      <td>141.6180</td>\n",
       "      <td>OUT049</td>\n",
       "      <td>1999</td>\n",
       "      <td>Medium</td>\n",
       "      <td>Tier 1</td>\n",
       "      <td>Supermarket Type1</td>\n",
       "      <td>2097.2700</td>\n",
       "    </tr>\n",
       "    <tr>\n",
       "      <th>3</th>\n",
       "      <td>FDX07</td>\n",
       "      <td>19.20</td>\n",
       "      <td>Regular</td>\n",
       "      <td>0.000000</td>\n",
       "      <td>Fruits and Vegetables</td>\n",
       "      <td>182.0950</td>\n",
       "      <td>OUT010</td>\n",
       "      <td>1998</td>\n",
       "      <td>NaN</td>\n",
       "      <td>Tier 3</td>\n",
       "      <td>Grocery Store</td>\n",
       "      <td>732.3800</td>\n",
       "    </tr>\n",
       "    <tr>\n",
       "      <th>4</th>\n",
       "      <td>NCD19</td>\n",
       "      <td>8.93</td>\n",
       "      <td>Low Fat</td>\n",
       "      <td>0.000000</td>\n",
       "      <td>Household</td>\n",
       "      <td>53.8614</td>\n",
       "      <td>OUT013</td>\n",
       "      <td>1987</td>\n",
       "      <td>High</td>\n",
       "      <td>Tier 3</td>\n",
       "      <td>Supermarket Type1</td>\n",
       "      <td>994.7052</td>\n",
       "    </tr>\n",
       "  </tbody>\n",
       "</table>\n",
       "</div>"
      ],
      "text/plain": [
       "  Item_Identifier  Item_Weight Item_Fat_Content  Item_Visibility  \\\n",
       "0           FDA15         9.30          Low Fat         0.016047   \n",
       "1           DRC01         5.92          Regular         0.019278   \n",
       "2           FDN15        17.50          Low Fat         0.016760   \n",
       "3           FDX07        19.20          Regular         0.000000   \n",
       "4           NCD19         8.93          Low Fat         0.000000   \n",
       "\n",
       "               Item_Type  Item_MRP Outlet_Identifier  \\\n",
       "0                  Dairy  249.8092            OUT049   \n",
       "1            Soft Drinks   48.2692            OUT018   \n",
       "2                   Meat  141.6180            OUT049   \n",
       "3  Fruits and Vegetables  182.0950            OUT010   \n",
       "4              Household   53.8614            OUT013   \n",
       "\n",
       "   Outlet_Establishment_Year Outlet_Size Outlet_Location_Type  \\\n",
       "0                       1999      Medium               Tier 1   \n",
       "1                       2009      Medium               Tier 3   \n",
       "2                       1999      Medium               Tier 1   \n",
       "3                       1998         NaN               Tier 3   \n",
       "4                       1987        High               Tier 3   \n",
       "\n",
       "         Outlet_Type  Item_Outlet_Sales  \n",
       "0  Supermarket Type1          3735.1380  \n",
       "1  Supermarket Type2           443.4228  \n",
       "2  Supermarket Type1          2097.2700  \n",
       "3      Grocery Store           732.3800  \n",
       "4  Supermarket Type1           994.7052  "
      ]
     },
     "execution_count": 4,
     "metadata": {},
     "output_type": "execute_result"
    }
   ],
   "source": [
    "train_data.head()"
   ]
  },
  {
   "cell_type": "code",
   "execution_count": 5,
   "id": "bf103f94",
   "metadata": {
    "execution": {
     "iopub.execute_input": "2023-02-05T19:56:52.960150Z",
     "iopub.status.busy": "2023-02-05T19:56:52.959607Z",
     "iopub.status.idle": "2023-02-05T19:56:52.994046Z",
     "shell.execute_reply": "2023-02-05T19:56:52.991511Z"
    },
    "papermill": {
     "duration": 0.042688,
     "end_time": "2023-02-05T19:56:52.997132",
     "exception": false,
     "start_time": "2023-02-05T19:56:52.954444",
     "status": "completed"
    },
    "tags": []
   },
   "outputs": [
    {
     "name": "stdout",
     "output_type": "stream",
     "text": [
      "<class 'pandas.core.frame.DataFrame'>\n",
      "Int64Index: 14204 entries, 0 to 5680\n",
      "Data columns (total 12 columns):\n",
      " #   Column                     Non-Null Count  Dtype  \n",
      "---  ------                     --------------  -----  \n",
      " 0   Item_Identifier            14204 non-null  object \n",
      " 1   Item_Weight                11765 non-null  float64\n",
      " 2   Item_Fat_Content           14204 non-null  object \n",
      " 3   Item_Visibility            14204 non-null  float64\n",
      " 4   Item_Type                  14204 non-null  object \n",
      " 5   Item_MRP                   14204 non-null  float64\n",
      " 6   Outlet_Identifier          14204 non-null  object \n",
      " 7   Outlet_Establishment_Year  14204 non-null  int64  \n",
      " 8   Outlet_Size                10188 non-null  object \n",
      " 9   Outlet_Location_Type       14204 non-null  object \n",
      " 10  Outlet_Type                14204 non-null  object \n",
      " 11  Item_Outlet_Sales          8523 non-null   float64\n",
      "dtypes: float64(4), int64(1), object(7)\n",
      "memory usage: 1.4+ MB\n"
     ]
    }
   ],
   "source": [
    "train_data.info()"
   ]
  },
  {
   "cell_type": "code",
   "execution_count": 6,
   "id": "bef9438d",
   "metadata": {
    "execution": {
     "iopub.execute_input": "2023-02-05T19:56:53.008690Z",
     "iopub.status.busy": "2023-02-05T19:56:53.008295Z",
     "iopub.status.idle": "2023-02-05T19:56:53.029710Z",
     "shell.execute_reply": "2023-02-05T19:56:53.028800Z"
    },
    "papermill": {
     "duration": 0.029081,
     "end_time": "2023-02-05T19:56:53.031449",
     "exception": false,
     "start_time": "2023-02-05T19:56:53.002368",
     "status": "completed"
    },
    "tags": []
   },
   "outputs": [
    {
     "data": {
      "text/plain": [
       "Item_Identifier               1559\n",
       "Item_Weight                    415\n",
       "Item_Fat_Content                 5\n",
       "Item_Visibility              13006\n",
       "Item_Type                       16\n",
       "Item_MRP                      8052\n",
       "Outlet_Identifier               10\n",
       "Outlet_Establishment_Year        9\n",
       "Outlet_Size                      3\n",
       "Outlet_Location_Type             3\n",
       "Outlet_Type                      4\n",
       "Item_Outlet_Sales             3493\n",
       "dtype: int64"
      ]
     },
     "execution_count": 6,
     "metadata": {},
     "output_type": "execute_result"
    }
   ],
   "source": [
    "train_data.nunique()"
   ]
  },
  {
   "cell_type": "code",
   "execution_count": 7,
   "id": "9b12ca7a",
   "metadata": {
    "execution": {
     "iopub.execute_input": "2023-02-05T19:56:53.041708Z",
     "iopub.status.busy": "2023-02-05T19:56:53.041358Z",
     "iopub.status.idle": "2023-02-05T19:56:53.054427Z",
     "shell.execute_reply": "2023-02-05T19:56:53.053564Z"
    },
    "papermill": {
     "duration": 0.020211,
     "end_time": "2023-02-05T19:56:53.056191",
     "exception": false,
     "start_time": "2023-02-05T19:56:53.035980",
     "status": "completed"
    },
    "tags": []
   },
   "outputs": [
    {
     "data": {
      "text/plain": [
       "Item_Identifier                 0\n",
       "Item_Weight                  2439\n",
       "Item_Fat_Content                0\n",
       "Item_Visibility                 0\n",
       "Item_Type                       0\n",
       "Item_MRP                        0\n",
       "Outlet_Identifier               0\n",
       "Outlet_Establishment_Year       0\n",
       "Outlet_Size                  4016\n",
       "Outlet_Location_Type            0\n",
       "Outlet_Type                     0\n",
       "Item_Outlet_Sales            5681\n",
       "dtype: int64"
      ]
     },
     "execution_count": 7,
     "metadata": {},
     "output_type": "execute_result"
    }
   ],
   "source": [
    "train_data.isnull().sum()"
   ]
  },
  {
   "cell_type": "markdown",
   "id": "cf63d862",
   "metadata": {
    "papermill": {
     "duration": 0.004245,
     "end_time": "2023-02-05T19:56:53.065078",
     "exception": false,
     "start_time": "2023-02-05T19:56:53.060833",
     "status": "completed"
    },
    "tags": []
   },
   "source": [
    "# **Handling Missing values**"
   ]
  },
  {
   "cell_type": "markdown",
   "id": "c2d9d7f9",
   "metadata": {
    "papermill": {
     "duration": 0.004381,
     "end_time": "2023-02-05T19:56:53.073952",
     "exception": false,
     "start_time": "2023-02-05T19:56:53.069571",
     "status": "completed"
    },
    "tags": []
   },
   "source": [
    "> We found two variables with missing values: *Item_Weight* & *Outlet_Size*"
   ]
  },
  {
   "cell_type": "code",
   "execution_count": 8,
   "id": "b23b7d89",
   "metadata": {
    "execution": {
     "iopub.execute_input": "2023-02-05T19:56:53.084899Z",
     "iopub.status.busy": "2023-02-05T19:56:53.083999Z",
     "iopub.status.idle": "2023-02-05T19:56:53.096722Z",
     "shell.execute_reply": "2023-02-05T19:56:53.095499Z"
    },
    "papermill": {
     "duration": 0.020369,
     "end_time": "2023-02-05T19:56:53.098890",
     "exception": false,
     "start_time": "2023-02-05T19:56:53.078521",
     "status": "completed"
    },
    "tags": []
   },
   "outputs": [
    {
     "name": "stdout",
     "output_type": "stream",
     "text": [
      "7.120060076973623 %\n"
     ]
    }
   ],
   "source": [
    "#How many missing data points do we have in %?\n",
    "missing_values_count = train_data.isnull().sum()\n",
    "\n",
    "total_missing = missing_values_count.sum() \n",
    "total_cells = np.product(train_data.shape)\n",
    "\n",
    "percent_missing = (total_missing/total_cells) * 100\n",
    "print(percent_missing,\"%\")"
   ]
  },
  {
   "cell_type": "code",
   "execution_count": 9,
   "id": "38e6428f",
   "metadata": {
    "execution": {
     "iopub.execute_input": "2023-02-05T19:56:53.110893Z",
     "iopub.status.busy": "2023-02-05T19:56:53.110410Z",
     "iopub.status.idle": "2023-02-05T19:56:53.126783Z",
     "shell.execute_reply": "2023-02-05T19:56:53.125779Z"
    },
    "papermill": {
     "duration": 0.024368,
     "end_time": "2023-02-05T19:56:53.128742",
     "exception": false,
     "start_time": "2023-02-05T19:56:53.104374",
     "status": "completed"
    },
    "tags": []
   },
   "outputs": [
    {
     "name": "stdout",
     "output_type": "stream",
     "text": [
      "0\n"
     ]
    }
   ],
   "source": [
    "#Check for duplicates\n",
    "duplicate = train_data.duplicated()\n",
    "print(duplicate.sum())"
   ]
  },
  {
   "cell_type": "code",
   "execution_count": 10,
   "id": "b2fd5d8e",
   "metadata": {
    "execution": {
     "iopub.execute_input": "2023-02-05T19:56:53.139877Z",
     "iopub.status.busy": "2023-02-05T19:56:53.139520Z",
     "iopub.status.idle": "2023-02-05T19:56:53.275848Z",
     "shell.execute_reply": "2023-02-05T19:56:53.274943Z"
    },
    "papermill": {
     "duration": 0.144072,
     "end_time": "2023-02-05T19:56:53.277760",
     "exception": false,
     "start_time": "2023-02-05T19:56:53.133688",
     "status": "completed"
    },
    "tags": []
   },
   "outputs": [
    {
     "data": {
      "image/png": "[encoded data removed]",
      "text/plain": [
       "<Figure size 432x288 with 1 Axes>"
      ]
     },
     "metadata": {
      "needs_background": "light"
     },
     "output_type": "display_data"
    }
   ],
   "source": [
    "#Checking if there is Outliers in column Item_Weight \n",
    "train_data.boxplot(column=[\"Item_Weight\"])\n",
    "plt.show()"
   ]
  },
  {
   "cell_type": "code",
   "execution_count": 11,
   "id": "05728e5d",
   "metadata": {
    "execution": {
     "iopub.execute_input": "2023-02-05T19:56:53.291854Z",
     "iopub.status.busy": "2023-02-05T19:56:53.290860Z",
     "iopub.status.idle": "2023-02-05T19:56:53.299803Z",
     "shell.execute_reply": "2023-02-05T19:56:53.298775Z"
    },
    "papermill": {
     "duration": 0.01831,
     "end_time": "2023-02-05T19:56:53.302098",
     "exception": false,
     "start_time": "2023-02-05T19:56:53.283788",
     "status": "completed"
    },
    "tags": []
   },
   "outputs": [],
   "source": [
    "#Replacing the NAN values in Item_Weight (numerical column) with Median\n",
    "Item_Weight_Median = train_data[\"Item_Weight\"].median()\n",
    "\n",
    "train_data[\"Item_Weight\"].replace(np.nan,Item_Weight_Median,inplace=True)"
   ]
  },
  {
   "cell_type": "code",
   "execution_count": 12,
   "id": "1578190d",
   "metadata": {
    "execution": {
     "iopub.execute_input": "2023-02-05T19:56:53.312906Z",
     "iopub.status.busy": "2023-02-05T19:56:53.312584Z",
     "iopub.status.idle": "2023-02-05T19:56:53.319648Z",
     "shell.execute_reply": "2023-02-05T19:56:53.318907Z"
    },
    "papermill": {
     "duration": 0.014222,
     "end_time": "2023-02-05T19:56:53.321382",
     "exception": false,
     "start_time": "2023-02-05T19:56:53.307160",
     "status": "completed"
    },
    "tags": []
   },
   "outputs": [],
   "source": [
    "#Replacing the NAN values in Outlet_Size (categorical column) with mode\n",
    "Outlet_Size_Mode = train_data[\"Outlet_Size\"].mode().values[0]\n",
    "\n",
    "train_data[\"Outlet_Size\"]= train_data[\"Outlet_Size\"].replace(np.nan,Outlet_Size_Mode)"
   ]
  },
  {
   "cell_type": "code",
   "execution_count": 13,
   "id": "42c38153",
   "metadata": {
    "execution": {
     "iopub.execute_input": "2023-02-05T19:56:53.332938Z",
     "iopub.status.busy": "2023-02-05T19:56:53.332427Z",
     "iopub.status.idle": "2023-02-05T19:56:53.343548Z",
     "shell.execute_reply": "2023-02-05T19:56:53.342906Z"
    },
    "papermill": {
     "duration": 0.01871,
     "end_time": "2023-02-05T19:56:53.345232",
     "exception": false,
     "start_time": "2023-02-05T19:56:53.326522",
     "status": "completed"
    },
    "tags": []
   },
   "outputs": [
    {
     "data": {
      "text/plain": [
       "Item_Identifier                 0\n",
       "Item_Weight                     0\n",
       "Item_Fat_Content                0\n",
       "Item_Visibility                 0\n",
       "Item_Type                       0\n",
       "Item_MRP                        0\n",
       "Outlet_Identifier               0\n",
       "Outlet_Establishment_Year       0\n",
       "Outlet_Size                     0\n",
       "Outlet_Location_Type            0\n",
       "Outlet_Type                     0\n",
       "Item_Outlet_Sales            5681\n",
       "dtype: int64"
      ]
     },
     "execution_count": 13,
     "metadata": {},
     "output_type": "execute_result"
    }
   ],
   "source": [
    "train_data.isnull().sum()"
   ]
  },
  {
   "cell_type": "code",
   "execution_count": 14,
   "id": "f63b42c9",
   "metadata": {
    "execution": {
     "iopub.execute_input": "2023-02-05T19:56:53.356907Z",
     "iopub.status.busy": "2023-02-05T19:56:53.356410Z",
     "iopub.status.idle": "2023-02-05T19:56:53.422508Z",
     "shell.execute_reply": "2023-02-05T19:56:53.421574Z"
    },
    "papermill": {
     "duration": 0.074493,
     "end_time": "2023-02-05T19:56:53.424734",
     "exception": false,
     "start_time": "2023-02-05T19:56:53.350241",
     "status": "completed"
    },
    "tags": []
   },
   "outputs": [],
   "source": [
    "train_data.to_csv(\"train_clean_1.csv\",index = False)"
   ]
  },
  {
   "cell_type": "code",
   "execution_count": null,
   "id": "2b775804",
   "metadata": {
    "papermill": {
     "duration": 0.004612,
     "end_time": "2023-02-05T19:56:53.434460",
     "exception": false,
     "start_time": "2023-02-05T19:56:53.429848",
     "status": "completed"
    },
    "tags": []
   },
   "outputs": [],
   "source": []
  }
 ],
 "metadata": {
  "kernelspec": {
   "display_name": "Python 3",
   "language": "python",
   "name": "python3"
  },
  "language_info": {
   "codemirror_mode": {
    "name": "ipython",
    "version": 3
   },
   "file_extension": ".py",
   "mimetype": "text/x-python",
   "name": "python",
   "nbconvert_exporter": "python",
   "pygments_lexer": "ipython3",
   "version": "3.7.12"
  },
  "papermill": {
   "default_parameters": {},
   "duration": 11.167843,
   "end_time": "2023-02-05T19:56:54.060832",
   "environment_variables": {},
   "exception": null,
   "input_path": "__notebook__.ipynb",
   "output_path": "__notebook__.ipynb",
   "parameters": {},
   "start_time": "2023-02-05T19:56:42.892989",
   "version": "2.3.4"
  }
 },
 "nbformat": 4,
 "nbformat_minor": 5
}
