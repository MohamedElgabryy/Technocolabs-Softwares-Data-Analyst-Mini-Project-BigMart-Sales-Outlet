{
 "cells": [
  {
   "cell_type": "code",
   "execution_count": 1,
   "id": "129a25a4",
   "metadata": {
    "_cell_guid": "b1076dfc-b9ad-4769-8c92-a6c4dae69d19",
    "_uuid": "8f2839f25d086af736a60e9eeb907d3b93b6e0e5",
    "execution": {
     "iopub.execute_input": "2023-02-04T16:58:02.307125Z",
     "iopub.status.busy": "2023-02-04T16:58:02.306591Z",
     "iopub.status.idle": "2023-02-04T16:58:03.607800Z",
     "shell.execute_reply": "2023-02-04T16:58:03.605678Z"
    },
    "papermill": {
     "duration": 1.31118,
     "end_time": "2023-02-04T16:58:03.610328",
     "exception": false,
     "start_time": "2023-02-04T16:58:02.299148",
     "status": "completed"
    },
    "tags": []
   },
   "outputs": [
    {
     "name": "stdout",
     "output_type": "stream",
     "text": [
      "Setup Complete\n"
     ]
    }
   ],
   "source": [
    "import pandas as pd\n",
    "import numpy as np\n",
    "pd.plotting.register_matplotlib_converters()\n",
    "import matplotlib.pyplot as plt\n",
    "%matplotlib inline\n",
    "import seaborn as sns\n",
    "import sklearn\n",
    "print(\"Setup Complete\")"
   ]
  },
  {
   "cell_type": "code",
   "execution_count": 2,
   "id": "1c8a1785",
   "metadata": {
    "execution": {
     "iopub.execute_input": "2023-02-04T16:58:03.621802Z",
     "iopub.status.busy": "2023-02-04T16:58:03.620507Z",
     "iopub.status.idle": "2023-02-04T16:58:03.685449Z",
     "shell.execute_reply": "2023-02-04T16:58:03.684357Z"
    },
    "papermill": {
     "duration": 0.072733,
     "end_time": "2023-02-04T16:58:03.687838",
     "exception": false,
     "start_time": "2023-02-04T16:58:03.615105",
     "status": "completed"
    },
    "tags": []
   },
   "outputs": [],
   "source": [
    "train_path = \"/kaggle/input/big-mart-data/9961_14084_bundle_archive/Train.csv\"\n",
    "\n",
    "train_data = pd.read_csv(train_path)"
   ]
  },
  {
   "cell_type": "code",
   "execution_count": 3,
   "id": "a11b1868",
   "metadata": {
    "execution": {
     "iopub.execute_input": "2023-02-04T16:58:03.698155Z",
     "iopub.status.busy": "2023-02-04T16:58:03.696823Z",
     "iopub.status.idle": "2023-02-04T16:58:03.723262Z",
     "shell.execute_reply": "2023-02-04T16:58:03.722214Z"
    },
    "papermill": {
     "duration": 0.03398,
     "end_time": "2023-02-04T16:58:03.725859",
     "exception": false,
     "start_time": "2023-02-04T16:58:03.691879",
     "status": "completed"
    },
    "tags": []
   },
   "outputs": [
    {
     "data": {
      "text/html": [
       "<div>\n",
       "<style scoped>\n",
       "    .dataframe tbody tr th:only-of-type {\n",
       "        vertical-align: middle;\n",
       "    }\n",
       "\n",
       "    .dataframe tbody tr th {\n",
       "        vertical-align: top;\n",
       "    }\n",
       "\n",
       "    .dataframe thead th {\n",
       "        text-align: right;\n",
       "    }\n",
       "</style>\n",
       "<table border=\"1\" class=\"dataframe\">\n",
       "  <thead>\n",
       "    <tr style=\"text-align: right;\">\n",
       "      <th></th>\n",
       "      <th>Item_Identifier</th>\n",
       "      <th>Item_Weight</th>\n",
       "      <th>Item_Fat_Content</th>\n",
       "      <th>Item_Visibility</th>\n",
       "      <th>Item_Type</th>\n",
       "      <th>Item_MRP</th>\n",
       "      <th>Outlet_Identifier</th>\n",
       "      <th>Outlet_Establishment_Year</th>\n",
       "      <th>Outlet_Size</th>\n",
       "      <th>Outlet_Location_Type</th>\n",
       "      <th>Outlet_Type</th>\n",
       "      <th>Item_Outlet_Sales</th>\n",
       "    </tr>\n",
       "  </thead>\n",
       "  <tbody>\n",
       "    <tr>\n",
       "      <th>0</th>\n",
       "      <td>FDA15</td>\n",
       "      <td>9.30</td>\n",
       "      <td>Low Fat</td>\n",
       "      <td>0.016047</td>\n",
       "      <td>Dairy</td>\n",
       "      <td>249.8092</td>\n",
       "      <td>OUT049</td>\n",
       "      <td>1999</td>\n",
       "      <td>Medium</td>\n",
       "      <td>Tier 1</td>\n",
       "      <td>Supermarket Type1</td>\n",
       "      <td>3735.1380</td>\n",
       "    </tr>\n",
       "    <tr>\n",
       "      <th>1</th>\n",
       "      <td>DRC01</td>\n",
       "      <td>5.92</td>\n",
       "      <td>Regular</td>\n",
       "      <td>0.019278</td>\n",
       "      <td>Soft Drinks</td>\n",
       "      <td>48.2692</td>\n",
       "      <td>OUT018</td>\n",
       "      <td>2009</td>\n",
       "      <td>Medium</td>\n",
       "      <td>Tier 3</td>\n",
       "      <td>Supermarket Type2</td>\n",
       "      <td>443.4228</td>\n",
       "    </tr>\n",
       "    <tr>\n",
       "      <th>2</th>\n",
       "      <td>FDN15</td>\n",
       "      <td>17.50</td>\n",
       "      <td>Low Fat</td>\n",
       "      <td>0.016760</td>\n",
       "      <td>Meat</td>\n",
       "      <td>141.6180</td>\n",
       "      <td>OUT049</td>\n",
       "      <td>1999</td>\n",
       "      <td>Medium</td>\n",
       "      <td>Tier 1</td>\n",
       "      <td>Supermarket Type1</td>\n",
       "      <td>2097.2700</td>\n",
       "    </tr>\n",
       "    <tr>\n",
       "      <th>3</th>\n",
       "      <td>FDX07</td>\n",
       "      <td>19.20</td>\n",
       "      <td>Regular</td>\n",
       "      <td>0.000000</td>\n",
       "      <td>Fruits and Vegetables</td>\n",
       "      <td>182.0950</td>\n",
       "      <td>OUT010</td>\n",
       "      <td>1998</td>\n",
       "      <td>NaN</td>\n",
       "      <td>Tier 3</td>\n",
       "      <td>Grocery Store</td>\n",
       "      <td>732.3800</td>\n",
       "    </tr>\n",
       "    <tr>\n",
       "      <th>4</th>\n",
       "      <td>NCD19</td>\n",
       "      <td>8.93</td>\n",
       "      <td>Low Fat</td>\n",
       "      <td>0.000000</td>\n",
       "      <td>Household</td>\n",
       "      <td>53.8614</td>\n",
       "      <td>OUT013</td>\n",
       "      <td>1987</td>\n",
       "      <td>High</td>\n",
       "      <td>Tier 3</td>\n",
       "      <td>Supermarket Type1</td>\n",
       "      <td>994.7052</td>\n",
       "    </tr>\n",
       "  </tbody>\n",
       "</table>\n",
       "</div>"
      ],
      "text/plain": [
       "  Item_Identifier  Item_Weight Item_Fat_Content  Item_Visibility  \\\n",
       "0           FDA15         9.30          Low Fat         0.016047   \n",
       "1           DRC01         5.92          Regular         0.019278   \n",
       "2           FDN15        17.50          Low Fat         0.016760   \n",
       "3           FDX07        19.20          Regular         0.000000   \n",
       "4           NCD19         8.93          Low Fat         0.000000   \n",
       "\n",
       "               Item_Type  Item_MRP Outlet_Identifier  \\\n",
       "0                  Dairy  249.8092            OUT049   \n",
       "1            Soft Drinks   48.2692            OUT018   \n",
       "2                   Meat  141.6180            OUT049   \n",
       "3  Fruits and Vegetables  182.0950            OUT010   \n",
       "4              Household   53.8614            OUT013   \n",
       "\n",
       "   Outlet_Establishment_Year Outlet_Size Outlet_Location_Type  \\\n",
       "0                       1999      Medium               Tier 1   \n",
       "1                       2009      Medium               Tier 3   \n",
       "2                       1999      Medium               Tier 1   \n",
       "3                       1998         NaN               Tier 3   \n",
       "4                       1987        High               Tier 3   \n",
       "\n",
       "         Outlet_Type  Item_Outlet_Sales  \n",
       "0  Supermarket Type1          3735.1380  \n",
       "1  Supermarket Type2           443.4228  \n",
       "2  Supermarket Type1          2097.2700  \n",
       "3      Grocery Store           732.3800  \n",
       "4  Supermarket Type1           994.7052  "
      ]
     },
     "execution_count": 3,
     "metadata": {},
     "output_type": "execute_result"
    }
   ],
   "source": [
    "train_data.head()"
   ]
  },
  {
   "cell_type": "code",
   "execution_count": 4,
   "id": "11cef6cf",
   "metadata": {
    "execution": {
     "iopub.execute_input": "2023-02-04T16:58:03.738183Z",
     "iopub.status.busy": "2023-02-04T16:58:03.737703Z",
     "iopub.status.idle": "2023-02-04T16:58:03.773242Z",
     "shell.execute_reply": "2023-02-04T16:58:03.771108Z"
    },
    "papermill": {
     "duration": 0.044752,
     "end_time": "2023-02-04T16:58:03.776273",
     "exception": false,
     "start_time": "2023-02-04T16:58:03.731521",
     "status": "completed"
    },
    "tags": []
   },
   "outputs": [
    {
     "name": "stdout",
     "output_type": "stream",
     "text": [
      "<class 'pandas.core.frame.DataFrame'>\n",
      "RangeIndex: 8523 entries, 0 to 8522\n",
      "Data columns (total 12 columns):\n",
      " #   Column                     Non-Null Count  Dtype  \n",
      "---  ------                     --------------  -----  \n",
      " 0   Item_Identifier            8523 non-null   object \n",
      " 1   Item_Weight                7060 non-null   float64\n",
      " 2   Item_Fat_Content           8523 non-null   object \n",
      " 3   Item_Visibility            8523 non-null   float64\n",
      " 4   Item_Type                  8523 non-null   object \n",
      " 5   Item_MRP                   8523 non-null   float64\n",
      " 6   Outlet_Identifier          8523 non-null   object \n",
      " 7   Outlet_Establishment_Year  8523 non-null   int64  \n",
      " 8   Outlet_Size                6113 non-null   object \n",
      " 9   Outlet_Location_Type       8523 non-null   object \n",
      " 10  Outlet_Type                8523 non-null   object \n",
      " 11  Item_Outlet_Sales          8523 non-null   float64\n",
      "dtypes: float64(4), int64(1), object(7)\n",
      "memory usage: 799.2+ KB\n"
     ]
    }
   ],
   "source": [
    "train_data.info()"
   ]
  },
  {
   "cell_type": "code",
   "execution_count": 5,
   "id": "12a5dc82",
   "metadata": {
    "execution": {
     "iopub.execute_input": "2023-02-04T16:58:03.787566Z",
     "iopub.status.busy": "2023-02-04T16:58:03.787029Z",
     "iopub.status.idle": "2023-02-04T16:58:03.808856Z",
     "shell.execute_reply": "2023-02-04T16:58:03.807933Z"
    },
    "papermill": {
     "duration": 0.029928,
     "end_time": "2023-02-04T16:58:03.810998",
     "exception": false,
     "start_time": "2023-02-04T16:58:03.781070",
     "status": "completed"
    },
    "tags": []
   },
   "outputs": [
    {
     "data": {
      "text/plain": [
       "Item_Identifier              1559\n",
       "Item_Weight                   415\n",
       "Item_Fat_Content                5\n",
       "Item_Visibility              7880\n",
       "Item_Type                      16\n",
       "Item_MRP                     5938\n",
       "Outlet_Identifier              10\n",
       "Outlet_Establishment_Year       9\n",
       "Outlet_Size                     3\n",
       "Outlet_Location_Type            3\n",
       "Outlet_Type                     4\n",
       "Item_Outlet_Sales            3493\n",
       "dtype: int64"
      ]
     },
     "execution_count": 5,
     "metadata": {},
     "output_type": "execute_result"
    }
   ],
   "source": [
    "train_data.nunique()"
   ]
  },
  {
   "cell_type": "code",
   "execution_count": 6,
   "id": "894b25b6",
   "metadata": {
    "execution": {
     "iopub.execute_input": "2023-02-04T16:58:03.821284Z",
     "iopub.status.busy": "2023-02-04T16:58:03.820662Z",
     "iopub.status.idle": "2023-02-04T16:58:03.832382Z",
     "shell.execute_reply": "2023-02-04T16:58:03.831143Z"
    },
    "papermill": {
     "duration": 0.019429,
     "end_time": "2023-02-04T16:58:03.834690",
     "exception": false,
     "start_time": "2023-02-04T16:58:03.815261",
     "status": "completed"
    },
    "tags": []
   },
   "outputs": [
    {
     "data": {
      "text/plain": [
       "Item_Identifier                 0\n",
       "Item_Weight                  1463\n",
       "Item_Fat_Content                0\n",
       "Item_Visibility                 0\n",
       "Item_Type                       0\n",
       "Item_MRP                        0\n",
       "Outlet_Identifier               0\n",
       "Outlet_Establishment_Year       0\n",
       "Outlet_Size                  2410\n",
       "Outlet_Location_Type            0\n",
       "Outlet_Type                     0\n",
       "Item_Outlet_Sales               0\n",
       "dtype: int64"
      ]
     },
     "execution_count": 6,
     "metadata": {},
     "output_type": "execute_result"
    }
   ],
   "source": [
    "train_data.isnull().sum()"
   ]
  },
  {
   "cell_type": "markdown",
   "id": "751ac588",
   "metadata": {
    "papermill": {
     "duration": 0.00428,
     "end_time": "2023-02-04T16:58:03.843599",
     "exception": false,
     "start_time": "2023-02-04T16:58:03.839319",
     "status": "completed"
    },
    "tags": []
   },
   "source": [
    "# **Handling Missing values**"
   ]
  },
  {
   "cell_type": "markdown",
   "id": "f663ed9f",
   "metadata": {
    "papermill": {
     "duration": 0.004231,
     "end_time": "2023-02-04T16:58:03.852343",
     "exception": false,
     "start_time": "2023-02-04T16:58:03.848112",
     "status": "completed"
    },
    "tags": []
   },
   "source": [
    "> We found two variables with missing values: *Item_Weight* & *Outlet_Size*"
   ]
  },
  {
   "cell_type": "code",
   "execution_count": 7,
   "id": "574c1f62",
   "metadata": {
    "execution": {
     "iopub.execute_input": "2023-02-04T16:58:03.864126Z",
     "iopub.status.busy": "2023-02-04T16:58:03.863716Z",
     "iopub.status.idle": "2023-02-04T16:58:03.876435Z",
     "shell.execute_reply": "2023-02-04T16:58:03.874952Z"
    },
    "papermill": {
     "duration": 0.021238,
     "end_time": "2023-02-04T16:58:03.878679",
     "exception": false,
     "start_time": "2023-02-04T16:58:03.857441",
     "status": "completed"
    },
    "tags": []
   },
   "outputs": [
    {
     "name": "stdout",
     "output_type": "stream",
     "text": [
      "3.786812155344362 %\n"
     ]
    }
   ],
   "source": [
    "#How many missing data points do we have in %?\n",
    "missing_values_count = train_data.isnull().sum()\n",
    "\n",
    "total_missing = missing_values_count.sum() \n",
    "total_cells = np.product(train_data.shape)\n",
    "\n",
    "percent_missing = (total_missing/total_cells) * 100\n",
    "print(percent_missing,\"%\")"
   ]
  },
  {
   "cell_type": "code",
   "execution_count": 8,
   "id": "ef786a6c",
   "metadata": {
    "execution": {
     "iopub.execute_input": "2023-02-04T16:58:03.890932Z",
     "iopub.status.busy": "2023-02-04T16:58:03.890287Z",
     "iopub.status.idle": "2023-02-04T16:58:03.904088Z",
     "shell.execute_reply": "2023-02-04T16:58:03.902830Z"
    },
    "papermill": {
     "duration": 0.022407,
     "end_time": "2023-02-04T16:58:03.906010",
     "exception": false,
     "start_time": "2023-02-04T16:58:03.883603",
     "status": "completed"
    },
    "tags": []
   },
   "outputs": [
    {
     "name": "stdout",
     "output_type": "stream",
     "text": [
      "0\n"
     ]
    }
   ],
   "source": [
    "#Check for duplicates\n",
    "duplicate = train_data.duplicated()\n",
    "print(duplicate.sum())"
   ]
  },
  {
   "cell_type": "code",
   "execution_count": 9,
   "id": "bc3c3985",
   "metadata": {
    "execution": {
     "iopub.execute_input": "2023-02-04T16:58:03.917786Z",
     "iopub.status.busy": "2023-02-04T16:58:03.917069Z",
     "iopub.status.idle": "2023-02-04T16:58:04.071806Z",
     "shell.execute_reply": "2023-02-04T16:58:04.070970Z"
    },
    "papermill": {
     "duration": 0.163443,
     "end_time": "2023-02-04T16:58:04.074111",
     "exception": false,
     "start_time": "2023-02-04T16:58:03.910668",
     "status": "completed"
    },
    "tags": []
   },
   "outputs": [
    {
     "data": {
      "image/png": "[encoded data removed]",
      "text/plain": [
       "<Figure size 432x288 with 1 Axes>"
      ]
     },
     "metadata": {
      "needs_background": "light"
     },
     "output_type": "display_data"
    }
   ],
   "source": [
    "#Checking if there is Outliers in column Item_Weight \n",
    "train_data.boxplot(column=[\"Item_Weight\"])\n",
    "plt.show()"
   ]
  },
  {
   "cell_type": "code",
   "execution_count": 10,
   "id": "654ba3cb",
   "metadata": {
    "execution": {
     "iopub.execute_input": "2023-02-04T16:58:04.088668Z",
     "iopub.status.busy": "2023-02-04T16:58:04.088064Z",
     "iopub.status.idle": "2023-02-04T16:58:04.095656Z",
     "shell.execute_reply": "2023-02-04T16:58:04.094952Z"
    },
    "papermill": {
     "duration": 0.017064,
     "end_time": "2023-02-04T16:58:04.097465",
     "exception": false,
     "start_time": "2023-02-04T16:58:04.080401",
     "status": "completed"
    },
    "tags": []
   },
   "outputs": [],
   "source": [
    "#Replacing the NAN values in Item_Weight (numerical column) with Median\n",
    "Item_Weight_Median = train_data[\"Item_Weight\"].median()\n",
    "\n",
    "train_data[\"Item_Weight\"].replace(np.nan,Item_Weight_Median,inplace=True)"
   ]
  },
  {
   "cell_type": "code",
   "execution_count": 11,
   "id": "0281e43f",
   "metadata": {
    "execution": {
     "iopub.execute_input": "2023-02-04T16:58:04.109695Z",
     "iopub.status.busy": "2023-02-04T16:58:04.109050Z",
     "iopub.status.idle": "2023-02-04T16:58:04.116799Z",
     "shell.execute_reply": "2023-02-04T16:58:04.115271Z"
    },
    "papermill": {
     "duration": 0.016511,
     "end_time": "2023-02-04T16:58:04.118857",
     "exception": false,
     "start_time": "2023-02-04T16:58:04.102346",
     "status": "completed"
    },
    "tags": []
   },
   "outputs": [],
   "source": [
    "#Replacing the NAN values in Outlet_Size (categorical column) with mode\n",
    "Outlet_Size_Mode = train_data[\"Outlet_Size\"].mode().values[0]\n",
    "\n",
    "train_data[\"Outlet_Size\"]= train_data[\"Outlet_Size\"].replace(np.nan,Outlet_Size_Mode)"
   ]
  },
  {
   "cell_type": "code",
   "execution_count": 12,
   "id": "6571d5d6",
   "metadata": {
    "execution": {
     "iopub.execute_input": "2023-02-04T16:58:04.130332Z",
     "iopub.status.busy": "2023-02-04T16:58:04.129874Z",
     "iopub.status.idle": "2023-02-04T16:58:04.145446Z",
     "shell.execute_reply": "2023-02-04T16:58:04.143328Z"
    },
    "papermill": {
     "duration": 0.024206,
     "end_time": "2023-02-04T16:58:04.147929",
     "exception": false,
     "start_time": "2023-02-04T16:58:04.123723",
     "status": "completed"
    },
    "tags": []
   },
   "outputs": [
    {
     "data": {
      "text/plain": [
       "Item_Identifier              0\n",
       "Item_Weight                  0\n",
       "Item_Fat_Content             0\n",
       "Item_Visibility              0\n",
       "Item_Type                    0\n",
       "Item_MRP                     0\n",
       "Outlet_Identifier            0\n",
       "Outlet_Establishment_Year    0\n",
       "Outlet_Size                  0\n",
       "Outlet_Location_Type         0\n",
       "Outlet_Type                  0\n",
       "Item_Outlet_Sales            0\n",
       "dtype: int64"
      ]
     },
     "execution_count": 12,
     "metadata": {},
     "output_type": "execute_result"
    }
   ],
   "source": [
    "train_data.isnull().sum()"
   ]
  },
  {
   "cell_type": "code",
   "execution_count": 13,
   "id": "2675fa90",
   "metadata": {
    "execution": {
     "iopub.execute_input": "2023-02-04T16:58:04.160217Z",
     "iopub.status.busy": "2023-02-04T16:58:04.159708Z",
     "iopub.status.idle": "2023-02-04T16:58:04.219258Z",
     "shell.execute_reply": "2023-02-04T16:58:04.217696Z"
    },
    "papermill": {
     "duration": 0.06907,
     "end_time": "2023-02-04T16:58:04.222274",
     "exception": false,
     "start_time": "2023-02-04T16:58:04.153204",
     "status": "completed"
    },
    "tags": []
   },
   "outputs": [],
   "source": [
    "train_data.to_csv(\"train_clean_1.csv\",index = False)"
   ]
  },
  {
   "cell_type": "code",
   "execution_count": null,
   "id": "34f1bfad",
   "metadata": {
    "papermill": {
     "duration": 0.004706,
     "end_time": "2023-02-04T16:58:04.232137",
     "exception": false,
     "start_time": "2023-02-04T16:58:04.227431",
     "status": "completed"
    },
    "tags": []
   },
   "outputs": [],
   "source": []
  }
 ],
 "metadata": {
  "kernelspec": {
   "display_name": "Python 3",
   "language": "python",
   "name": "python3"
  },
  "language_info": {
   "codemirror_mode": {
    "name": "ipython",
    "version": 3
   },
   "file_extension": ".py",
   "mimetype": "text/x-python",
   "name": "python",
   "nbconvert_exporter": "python",
   "pygments_lexer": "ipython3",
   "version": "3.7.12"
  },
  "papermill": {
   "default_parameters": {},
   "duration": 11.51108,
   "end_time": "2023-02-04T16:58:05.061983",
   "environment_variables": {},
   "exception": null,
   "input_path": "__notebook__.ipynb",
   "output_path": "__notebook__.ipynb",
   "parameters": {},
   "start_time": "2023-02-04T16:57:53.550903",
   "version": "2.3.4"
  }
 },
 "nbformat": 4,
 "nbformat_minor": 5
}
