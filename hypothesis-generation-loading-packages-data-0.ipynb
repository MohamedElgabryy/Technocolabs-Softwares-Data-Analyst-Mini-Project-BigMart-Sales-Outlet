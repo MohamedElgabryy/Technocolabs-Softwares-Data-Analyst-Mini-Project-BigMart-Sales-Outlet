{
 "cells": [
  {
   "cell_type": "markdown",
   "id": "36252eff",
   "metadata": {
    "papermill": {
     "duration": 0.008112,
     "end_time": "2023-02-04T16:15:38.442599",
     "exception": false,
     "start_time": "2023-02-04T16:15:38.434487",
     "status": "completed"
    },
    "tags": []
   },
   "source": [
    "# **Project Description (Problem Statement)**"
   ]
  },
  {
   "cell_type": "markdown",
   "id": "767fa760",
   "metadata": {
    "papermill": {
     "duration": 0.006312,
     "end_time": "2023-02-04T16:15:38.455655",
     "exception": false,
     "start_time": "2023-02-04T16:15:38.449343",
     "status": "completed"
    },
    "tags": []
   },
   "source": [
    "> The data scientists at BigMart have collected 2013 sales data for 1559 products across 10 stores in different cities. Also, certain attributes of each product and store have been defined. The aim of this data science project is to build a predictive model and find out the sales of each product at a particular store.\n",
    "> Using this model, BigMart will try to understand the properties of products and stores which play a key role in increasing sales.\n",
    ">  The data has missing values as some stores do not report all the data due to technical glitches. Hence, it will be required to treat them accordingly."
   ]
  },
  {
   "cell_type": "markdown",
   "id": "c5e1953f",
   "metadata": {
    "papermill": {
     "duration": 0.006506,
     "end_time": "2023-02-04T16:15:38.468437",
     "exception": false,
     "start_time": "2023-02-04T16:15:38.461931",
     "status": "completed"
    },
    "tags": []
   },
   "source": [
    "# **The Hypotheses**"
   ]
  },
  {
   "cell_type": "markdown",
   "id": "4d4f4b43",
   "metadata": {
    "papermill": {
     "duration": 0.006182,
     "end_time": "2023-02-04T16:15:38.481321",
     "exception": false,
     "start_time": "2023-02-04T16:15:38.475139",
     "status": "completed"
    },
    "tags": []
   },
   "source": [
    "# Store Level Hypotheses:"
   ]
  },
  {
   "cell_type": "markdown",
   "id": "18519300",
   "metadata": {
    "papermill": {
     "duration": 0.006253,
     "end_time": "2023-02-04T16:15:38.494137",
     "exception": false,
     "start_time": "2023-02-04T16:15:38.487884",
     "status": "completed"
    },
    "tags": []
   },
   "source": [
    "> * City type: Stores located in urban or Tier 1 cities should have higher sales because of the higher income levels of people there.\n",
    "> * Population Density: Stores located in densely populated areas should have higher sales because of more demand.\n",
    "> * Store Capacity: Stores which are very big in size should have higher sales as they act like one-stop-shops and people would prefer getting everything from one place\n",
    "> * Competitors: Stores having similar establishments nearby should have less sales because of more competition.\n",
    "> * Marketing: Stores which have a good marketing division should have higher sales as it will be able to attract customers through the right offers and advertising.\n",
    "> * Location: Stores located within popular marketplaces should have higher sales because of better access to customers.\n",
    "> * Customer Behavior: Stores keeping the right set of products to meet the local needs of customers will have higher sales.\n",
    "> * Ambiance: Stores which are well-maintained and managed by polite and humble people are expected to have higher footfall and thus higher sales."
   ]
  },
  {
   "cell_type": "markdown",
   "id": "8017846f",
   "metadata": {
    "papermill": {
     "duration": 0.006154,
     "end_time": "2023-02-04T16:15:38.506652",
     "exception": false,
     "start_time": "2023-02-04T16:15:38.500498",
     "status": "completed"
    },
    "tags": []
   },
   "source": [
    "# Product Level Hypotheses:"
   ]
  },
  {
   "cell_type": "markdown",
   "id": "2cab1162",
   "metadata": {
    "papermill": {
     "duration": 0.006348,
     "end_time": "2023-02-04T16:15:38.519558",
     "exception": false,
     "start_time": "2023-02-04T16:15:38.513210",
     "status": "completed"
    },
    "tags": []
   },
   "source": [
    "> * Brand: Branded products should have higher sales because of higher trust in the customer.\n",
    "> * Packaging: Products with good packaging can attract customers and sell more.\n",
    "> * Utility: Daily use products should have a higher tendency to sell as compared to the specific use products.\n",
    "> * Display Area: Products which are given bigger shelves in the store are likely to catch attention first and sell more.\n",
    "> * Visibility in Store: The location of product in a store will impact sales. Ones which are right at entrance will catch the eye of customer first rather than the ones in back.\n",
    "> * Advertising: Better advertising of products in the store will should higher sales in most cases.\n",
    "> * Promotional Offers: Products accompanied with attractive offers and discounts will sell more."
   ]
  },
  {
   "cell_type": "markdown",
   "id": "47ab91c9",
   "metadata": {
    "papermill": {
     "duration": 0.006236,
     "end_time": "2023-02-04T16:15:38.532292",
     "exception": false,
     "start_time": "2023-02-04T16:15:38.526056",
     "status": "completed"
    },
    "tags": []
   },
   "source": [
    "# **Loading Packages and Data**"
   ]
  },
  {
   "cell_type": "code",
   "execution_count": 1,
   "id": "6b6ba0e2",
   "metadata": {
    "execution": {
     "iopub.execute_input": "2023-02-04T16:15:38.547017Z",
     "iopub.status.busy": "2023-02-04T16:15:38.546550Z",
     "iopub.status.idle": "2023-02-04T16:15:39.440901Z",
     "shell.execute_reply": "2023-02-04T16:15:39.440077Z"
    },
    "papermill": {
     "duration": 0.904691,
     "end_time": "2023-02-04T16:15:39.443310",
     "exception": false,
     "start_time": "2023-02-04T16:15:38.538619",
     "status": "completed"
    },
    "tags": []
   },
   "outputs": [
    {
     "name": "stdout",
     "output_type": "stream",
     "text": [
      "Setup Complete\n"
     ]
    }
   ],
   "source": [
    "import pandas as pd\n",
    "import numpy as np\n",
    "pd.plotting.register_matplotlib_converters()\n",
    "import matplotlib.pyplot as plt\n",
    "%matplotlib inline\n",
    "import seaborn as sns\n",
    "import sklearn\n",
    "print(\"Setup Complete\")"
   ]
  },
  {
   "cell_type": "code",
   "execution_count": 2,
   "id": "583d93f8",
   "metadata": {
    "execution": {
     "iopub.execute_input": "2023-02-04T16:15:39.458730Z",
     "iopub.status.busy": "2023-02-04T16:15:39.457979Z",
     "iopub.status.idle": "2023-02-04T16:15:39.528490Z",
     "shell.execute_reply": "2023-02-04T16:15:39.527729Z"
    },
    "papermill": {
     "duration": 0.079905,
     "end_time": "2023-02-04T16:15:39.530573",
     "exception": false,
     "start_time": "2023-02-04T16:15:39.450668",
     "status": "completed"
    },
    "tags": []
   },
   "outputs": [],
   "source": [
    "test_path = \"/kaggle/input/big-mart-dataset/9961_14084_bundle_archive/Test.csv\"\n",
    "train_path = \"/kaggle/input/big-mart-dataset/9961_14084_bundle_archive/Train.csv\"\n",
    "\n",
    "test_data = pd.read_csv(test_path)\n",
    "train_data = pd.read_csv(train_path)"
   ]
  },
  {
   "cell_type": "markdown",
   "id": "9d662bc2",
   "metadata": {
    "papermill": {
     "duration": 0.006158,
     "end_time": "2023-02-04T16:15:39.543216",
     "exception": false,
     "start_time": "2023-02-04T16:15:39.537058",
     "status": "completed"
    },
    "tags": []
   },
   "source": [
    "# **Data Structure and Content**"
   ]
  },
  {
   "cell_type": "code",
   "execution_count": 3,
   "id": "e1ee673e",
   "metadata": {
    "execution": {
     "iopub.execute_input": "2023-02-04T16:15:39.557575Z",
     "iopub.status.busy": "2023-02-04T16:15:39.557267Z",
     "iopub.status.idle": "2023-02-04T16:15:39.578115Z",
     "shell.execute_reply": "2023-02-04T16:15:39.577120Z"
    },
    "papermill": {
     "duration": 0.030309,
     "end_time": "2023-02-04T16:15:39.579950",
     "exception": false,
     "start_time": "2023-02-04T16:15:39.549641",
     "status": "completed"
    },
    "tags": []
   },
   "outputs": [
    {
     "data": {
      "text/html": [
       "<div>\n",
       "<style scoped>\n",
       "    .dataframe tbody tr th:only-of-type {\n",
       "        vertical-align: middle;\n",
       "    }\n",
       "\n",
       "    .dataframe tbody tr th {\n",
       "        vertical-align: top;\n",
       "    }\n",
       "\n",
       "    .dataframe thead th {\n",
       "        text-align: right;\n",
       "    }\n",
       "</style>\n",
       "<table border=\"1\" class=\"dataframe\">\n",
       "  <thead>\n",
       "    <tr style=\"text-align: right;\">\n",
       "      <th></th>\n",
       "      <th>Item_Identifier</th>\n",
       "      <th>Item_Weight</th>\n",
       "      <th>Item_Fat_Content</th>\n",
       "      <th>Item_Visibility</th>\n",
       "      <th>Item_Type</th>\n",
       "      <th>Item_MRP</th>\n",
       "      <th>Outlet_Identifier</th>\n",
       "      <th>Outlet_Establishment_Year</th>\n",
       "      <th>Outlet_Size</th>\n",
       "      <th>Outlet_Location_Type</th>\n",
       "      <th>Outlet_Type</th>\n",
       "    </tr>\n",
       "  </thead>\n",
       "  <tbody>\n",
       "    <tr>\n",
       "      <th>0</th>\n",
       "      <td>FDW58</td>\n",
       "      <td>20.750</td>\n",
       "      <td>Low Fat</td>\n",
       "      <td>0.007565</td>\n",
       "      <td>Snack Foods</td>\n",
       "      <td>107.8622</td>\n",
       "      <td>OUT049</td>\n",
       "      <td>1999</td>\n",
       "      <td>Medium</td>\n",
       "      <td>Tier 1</td>\n",
       "      <td>Supermarket Type1</td>\n",
       "    </tr>\n",
       "    <tr>\n",
       "      <th>1</th>\n",
       "      <td>FDW14</td>\n",
       "      <td>8.300</td>\n",
       "      <td>reg</td>\n",
       "      <td>0.038428</td>\n",
       "      <td>Dairy</td>\n",
       "      <td>87.3198</td>\n",
       "      <td>OUT017</td>\n",
       "      <td>2007</td>\n",
       "      <td>NaN</td>\n",
       "      <td>Tier 2</td>\n",
       "      <td>Supermarket Type1</td>\n",
       "    </tr>\n",
       "    <tr>\n",
       "      <th>2</th>\n",
       "      <td>NCN55</td>\n",
       "      <td>14.600</td>\n",
       "      <td>Low Fat</td>\n",
       "      <td>0.099575</td>\n",
       "      <td>Others</td>\n",
       "      <td>241.7538</td>\n",
       "      <td>OUT010</td>\n",
       "      <td>1998</td>\n",
       "      <td>NaN</td>\n",
       "      <td>Tier 3</td>\n",
       "      <td>Grocery Store</td>\n",
       "    </tr>\n",
       "    <tr>\n",
       "      <th>3</th>\n",
       "      <td>FDQ58</td>\n",
       "      <td>7.315</td>\n",
       "      <td>Low Fat</td>\n",
       "      <td>0.015388</td>\n",
       "      <td>Snack Foods</td>\n",
       "      <td>155.0340</td>\n",
       "      <td>OUT017</td>\n",
       "      <td>2007</td>\n",
       "      <td>NaN</td>\n",
       "      <td>Tier 2</td>\n",
       "      <td>Supermarket Type1</td>\n",
       "    </tr>\n",
       "    <tr>\n",
       "      <th>4</th>\n",
       "      <td>FDY38</td>\n",
       "      <td>NaN</td>\n",
       "      <td>Regular</td>\n",
       "      <td>0.118599</td>\n",
       "      <td>Dairy</td>\n",
       "      <td>234.2300</td>\n",
       "      <td>OUT027</td>\n",
       "      <td>1985</td>\n",
       "      <td>Medium</td>\n",
       "      <td>Tier 3</td>\n",
       "      <td>Supermarket Type3</td>\n",
       "    </tr>\n",
       "  </tbody>\n",
       "</table>\n",
       "</div>"
      ],
      "text/plain": [
       "  Item_Identifier  Item_Weight Item_Fat_Content  Item_Visibility    Item_Type  \\\n",
       "0           FDW58       20.750          Low Fat         0.007565  Snack Foods   \n",
       "1           FDW14        8.300              reg         0.038428        Dairy   \n",
       "2           NCN55       14.600          Low Fat         0.099575       Others   \n",
       "3           FDQ58        7.315          Low Fat         0.015388  Snack Foods   \n",
       "4           FDY38          NaN          Regular         0.118599        Dairy   \n",
       "\n",
       "   Item_MRP Outlet_Identifier  Outlet_Establishment_Year Outlet_Size  \\\n",
       "0  107.8622            OUT049                       1999      Medium   \n",
       "1   87.3198            OUT017                       2007         NaN   \n",
       "2  241.7538            OUT010                       1998         NaN   \n",
       "3  155.0340            OUT017                       2007         NaN   \n",
       "4  234.2300            OUT027                       1985      Medium   \n",
       "\n",
       "  Outlet_Location_Type        Outlet_Type  \n",
       "0               Tier 1  Supermarket Type1  \n",
       "1               Tier 2  Supermarket Type1  \n",
       "2               Tier 3      Grocery Store  \n",
       "3               Tier 2  Supermarket Type1  \n",
       "4               Tier 3  Supermarket Type3  "
      ]
     },
     "execution_count": 3,
     "metadata": {},
     "output_type": "execute_result"
    }
   ],
   "source": [
    "test_data.head()"
   ]
  },
  {
   "cell_type": "code",
   "execution_count": 4,
   "id": "9e5e0b66",
   "metadata": {
    "execution": {
     "iopub.execute_input": "2023-02-04T16:15:39.594770Z",
     "iopub.status.busy": "2023-02-04T16:15:39.594309Z",
     "iopub.status.idle": "2023-02-04T16:15:39.608393Z",
     "shell.execute_reply": "2023-02-04T16:15:39.607555Z"
    },
    "papermill": {
     "duration": 0.023452,
     "end_time": "2023-02-04T16:15:39.610068",
     "exception": false,
     "start_time": "2023-02-04T16:15:39.586616",
     "status": "completed"
    },
    "tags": []
   },
   "outputs": [
    {
     "data": {
      "text/html": [
       "<div>\n",
       "<style scoped>\n",
       "    .dataframe tbody tr th:only-of-type {\n",
       "        vertical-align: middle;\n",
       "    }\n",
       "\n",
       "    .dataframe tbody tr th {\n",
       "        vertical-align: top;\n",
       "    }\n",
       "\n",
       "    .dataframe thead th {\n",
       "        text-align: right;\n",
       "    }\n",
       "</style>\n",
       "<table border=\"1\" class=\"dataframe\">\n",
       "  <thead>\n",
       "    <tr style=\"text-align: right;\">\n",
       "      <th></th>\n",
       "      <th>Item_Identifier</th>\n",
       "      <th>Item_Weight</th>\n",
       "      <th>Item_Fat_Content</th>\n",
       "      <th>Item_Visibility</th>\n",
       "      <th>Item_Type</th>\n",
       "      <th>Item_MRP</th>\n",
       "      <th>Outlet_Identifier</th>\n",
       "      <th>Outlet_Establishment_Year</th>\n",
       "      <th>Outlet_Size</th>\n",
       "      <th>Outlet_Location_Type</th>\n",
       "      <th>Outlet_Type</th>\n",
       "      <th>Item_Outlet_Sales</th>\n",
       "    </tr>\n",
       "  </thead>\n",
       "  <tbody>\n",
       "    <tr>\n",
       "      <th>0</th>\n",
       "      <td>FDA15</td>\n",
       "      <td>9.30</td>\n",
       "      <td>Low Fat</td>\n",
       "      <td>0.016047</td>\n",
       "      <td>Dairy</td>\n",
       "      <td>249.8092</td>\n",
       "      <td>OUT049</td>\n",
       "      <td>1999</td>\n",
       "      <td>Medium</td>\n",
       "      <td>Tier 1</td>\n",
       "      <td>Supermarket Type1</td>\n",
       "      <td>3735.1380</td>\n",
       "    </tr>\n",
       "    <tr>\n",
       "      <th>1</th>\n",
       "      <td>DRC01</td>\n",
       "      <td>5.92</td>\n",
       "      <td>Regular</td>\n",
       "      <td>0.019278</td>\n",
       "      <td>Soft Drinks</td>\n",
       "      <td>48.2692</td>\n",
       "      <td>OUT018</td>\n",
       "      <td>2009</td>\n",
       "      <td>Medium</td>\n",
       "      <td>Tier 3</td>\n",
       "      <td>Supermarket Type2</td>\n",
       "      <td>443.4228</td>\n",
       "    </tr>\n",
       "    <tr>\n",
       "      <th>2</th>\n",
       "      <td>FDN15</td>\n",
       "      <td>17.50</td>\n",
       "      <td>Low Fat</td>\n",
       "      <td>0.016760</td>\n",
       "      <td>Meat</td>\n",
       "      <td>141.6180</td>\n",
       "      <td>OUT049</td>\n",
       "      <td>1999</td>\n",
       "      <td>Medium</td>\n",
       "      <td>Tier 1</td>\n",
       "      <td>Supermarket Type1</td>\n",
       "      <td>2097.2700</td>\n",
       "    </tr>\n",
       "    <tr>\n",
       "      <th>3</th>\n",
       "      <td>FDX07</td>\n",
       "      <td>19.20</td>\n",
       "      <td>Regular</td>\n",
       "      <td>0.000000</td>\n",
       "      <td>Fruits and Vegetables</td>\n",
       "      <td>182.0950</td>\n",
       "      <td>OUT010</td>\n",
       "      <td>1998</td>\n",
       "      <td>NaN</td>\n",
       "      <td>Tier 3</td>\n",
       "      <td>Grocery Store</td>\n",
       "      <td>732.3800</td>\n",
       "    </tr>\n",
       "    <tr>\n",
       "      <th>4</th>\n",
       "      <td>NCD19</td>\n",
       "      <td>8.93</td>\n",
       "      <td>Low Fat</td>\n",
       "      <td>0.000000</td>\n",
       "      <td>Household</td>\n",
       "      <td>53.8614</td>\n",
       "      <td>OUT013</td>\n",
       "      <td>1987</td>\n",
       "      <td>High</td>\n",
       "      <td>Tier 3</td>\n",
       "      <td>Supermarket Type1</td>\n",
       "      <td>994.7052</td>\n",
       "    </tr>\n",
       "  </tbody>\n",
       "</table>\n",
       "</div>"
      ],
      "text/plain": [
       "  Item_Identifier  Item_Weight Item_Fat_Content  Item_Visibility  \\\n",
       "0           FDA15         9.30          Low Fat         0.016047   \n",
       "1           DRC01         5.92          Regular         0.019278   \n",
       "2           FDN15        17.50          Low Fat         0.016760   \n",
       "3           FDX07        19.20          Regular         0.000000   \n",
       "4           NCD19         8.93          Low Fat         0.000000   \n",
       "\n",
       "               Item_Type  Item_MRP Outlet_Identifier  \\\n",
       "0                  Dairy  249.8092            OUT049   \n",
       "1            Soft Drinks   48.2692            OUT018   \n",
       "2                   Meat  141.6180            OUT049   \n",
       "3  Fruits and Vegetables  182.0950            OUT010   \n",
       "4              Household   53.8614            OUT013   \n",
       "\n",
       "   Outlet_Establishment_Year Outlet_Size Outlet_Location_Type  \\\n",
       "0                       1999      Medium               Tier 1   \n",
       "1                       2009      Medium               Tier 3   \n",
       "2                       1999      Medium               Tier 1   \n",
       "3                       1998         NaN               Tier 3   \n",
       "4                       1987        High               Tier 3   \n",
       "\n",
       "         Outlet_Type  Item_Outlet_Sales  \n",
       "0  Supermarket Type1          3735.1380  \n",
       "1  Supermarket Type2           443.4228  \n",
       "2  Supermarket Type1          2097.2700  \n",
       "3      Grocery Store           732.3800  \n",
       "4  Supermarket Type1           994.7052  "
      ]
     },
     "execution_count": 4,
     "metadata": {},
     "output_type": "execute_result"
    }
   ],
   "source": [
    "train_data.head()"
   ]
  },
  {
   "cell_type": "code",
   "execution_count": 5,
   "id": "ca3cc9a1",
   "metadata": {
    "execution": {
     "iopub.execute_input": "2023-02-04T16:15:39.625010Z",
     "iopub.status.busy": "2023-02-04T16:15:39.624580Z",
     "iopub.status.idle": "2023-02-04T16:15:39.638287Z",
     "shell.execute_reply": "2023-02-04T16:15:39.637362Z"
    },
    "papermill": {
     "duration": 0.023103,
     "end_time": "2023-02-04T16:15:39.639976",
     "exception": false,
     "start_time": "2023-02-04T16:15:39.616873",
     "status": "completed"
    },
    "tags": []
   },
   "outputs": [
    {
     "data": {
      "text/html": [
       "<div>\n",
       "<style scoped>\n",
       "    .dataframe tbody tr th:only-of-type {\n",
       "        vertical-align: middle;\n",
       "    }\n",
       "\n",
       "    .dataframe tbody tr th {\n",
       "        vertical-align: top;\n",
       "    }\n",
       "\n",
       "    .dataframe thead th {\n",
       "        text-align: right;\n",
       "    }\n",
       "</style>\n",
       "<table border=\"1\" class=\"dataframe\">\n",
       "  <thead>\n",
       "    <tr style=\"text-align: right;\">\n",
       "      <th></th>\n",
       "      <th>Item_Identifier</th>\n",
       "      <th>Item_Weight</th>\n",
       "      <th>Item_Fat_Content</th>\n",
       "      <th>Item_Visibility</th>\n",
       "      <th>Item_Type</th>\n",
       "      <th>Item_MRP</th>\n",
       "      <th>Outlet_Identifier</th>\n",
       "      <th>Outlet_Establishment_Year</th>\n",
       "      <th>Outlet_Size</th>\n",
       "      <th>Outlet_Location_Type</th>\n",
       "      <th>Outlet_Type</th>\n",
       "      <th>Item_Outlet_Sales</th>\n",
       "    </tr>\n",
       "  </thead>\n",
       "  <tbody>\n",
       "    <tr>\n",
       "      <th>8518</th>\n",
       "      <td>FDF22</td>\n",
       "      <td>6.865</td>\n",
       "      <td>Low Fat</td>\n",
       "      <td>0.056783</td>\n",
       "      <td>Snack Foods</td>\n",
       "      <td>214.5218</td>\n",
       "      <td>OUT013</td>\n",
       "      <td>1987</td>\n",
       "      <td>High</td>\n",
       "      <td>Tier 3</td>\n",
       "      <td>Supermarket Type1</td>\n",
       "      <td>2778.3834</td>\n",
       "    </tr>\n",
       "    <tr>\n",
       "      <th>8519</th>\n",
       "      <td>FDS36</td>\n",
       "      <td>8.380</td>\n",
       "      <td>Regular</td>\n",
       "      <td>0.046982</td>\n",
       "      <td>Baking Goods</td>\n",
       "      <td>108.1570</td>\n",
       "      <td>OUT045</td>\n",
       "      <td>2002</td>\n",
       "      <td>NaN</td>\n",
       "      <td>Tier 2</td>\n",
       "      <td>Supermarket Type1</td>\n",
       "      <td>549.2850</td>\n",
       "    </tr>\n",
       "    <tr>\n",
       "      <th>8520</th>\n",
       "      <td>NCJ29</td>\n",
       "      <td>10.600</td>\n",
       "      <td>Low Fat</td>\n",
       "      <td>0.035186</td>\n",
       "      <td>Health and Hygiene</td>\n",
       "      <td>85.1224</td>\n",
       "      <td>OUT035</td>\n",
       "      <td>2004</td>\n",
       "      <td>Small</td>\n",
       "      <td>Tier 2</td>\n",
       "      <td>Supermarket Type1</td>\n",
       "      <td>1193.1136</td>\n",
       "    </tr>\n",
       "    <tr>\n",
       "      <th>8521</th>\n",
       "      <td>FDN46</td>\n",
       "      <td>7.210</td>\n",
       "      <td>Regular</td>\n",
       "      <td>0.145221</td>\n",
       "      <td>Snack Foods</td>\n",
       "      <td>103.1332</td>\n",
       "      <td>OUT018</td>\n",
       "      <td>2009</td>\n",
       "      <td>Medium</td>\n",
       "      <td>Tier 3</td>\n",
       "      <td>Supermarket Type2</td>\n",
       "      <td>1845.5976</td>\n",
       "    </tr>\n",
       "    <tr>\n",
       "      <th>8522</th>\n",
       "      <td>DRG01</td>\n",
       "      <td>14.800</td>\n",
       "      <td>Low Fat</td>\n",
       "      <td>0.044878</td>\n",
       "      <td>Soft Drinks</td>\n",
       "      <td>75.4670</td>\n",
       "      <td>OUT046</td>\n",
       "      <td>1997</td>\n",
       "      <td>Small</td>\n",
       "      <td>Tier 1</td>\n",
       "      <td>Supermarket Type1</td>\n",
       "      <td>765.6700</td>\n",
       "    </tr>\n",
       "  </tbody>\n",
       "</table>\n",
       "</div>"
      ],
      "text/plain": [
       "     Item_Identifier  Item_Weight Item_Fat_Content  Item_Visibility  \\\n",
       "8518           FDF22        6.865          Low Fat         0.056783   \n",
       "8519           FDS36        8.380          Regular         0.046982   \n",
       "8520           NCJ29       10.600          Low Fat         0.035186   \n",
       "8521           FDN46        7.210          Regular         0.145221   \n",
       "8522           DRG01       14.800          Low Fat         0.044878   \n",
       "\n",
       "               Item_Type  Item_MRP Outlet_Identifier  \\\n",
       "8518         Snack Foods  214.5218            OUT013   \n",
       "8519        Baking Goods  108.1570            OUT045   \n",
       "8520  Health and Hygiene   85.1224            OUT035   \n",
       "8521         Snack Foods  103.1332            OUT018   \n",
       "8522         Soft Drinks   75.4670            OUT046   \n",
       "\n",
       "      Outlet_Establishment_Year Outlet_Size Outlet_Location_Type  \\\n",
       "8518                       1987        High               Tier 3   \n",
       "8519                       2002         NaN               Tier 2   \n",
       "8520                       2004       Small               Tier 2   \n",
       "8521                       2009      Medium               Tier 3   \n",
       "8522                       1997       Small               Tier 1   \n",
       "\n",
       "            Outlet_Type  Item_Outlet_Sales  \n",
       "8518  Supermarket Type1          2778.3834  \n",
       "8519  Supermarket Type1           549.2850  \n",
       "8520  Supermarket Type1          1193.1136  \n",
       "8521  Supermarket Type2          1845.5976  \n",
       "8522  Supermarket Type1           765.6700  "
      ]
     },
     "execution_count": 5,
     "metadata": {},
     "output_type": "execute_result"
    }
   ],
   "source": [
    "train_data.tail()"
   ]
  },
  {
   "cell_type": "code",
   "execution_count": 6,
   "id": "b33b7be2",
   "metadata": {
    "execution": {
     "iopub.execute_input": "2023-02-04T16:15:39.655407Z",
     "iopub.status.busy": "2023-02-04T16:15:39.654809Z",
     "iopub.status.idle": "2023-02-04T16:15:39.660128Z",
     "shell.execute_reply": "2023-02-04T16:15:39.659372Z"
    },
    "papermill": {
     "duration": 0.014952,
     "end_time": "2023-02-04T16:15:39.661822",
     "exception": false,
     "start_time": "2023-02-04T16:15:39.646870",
     "status": "completed"
    },
    "tags": []
   },
   "outputs": [
    {
     "data": {
      "text/plain": [
       "(8523, 12)"
      ]
     },
     "execution_count": 6,
     "metadata": {},
     "output_type": "execute_result"
    }
   ],
   "source": [
    "train_data.shape"
   ]
  },
  {
   "cell_type": "code",
   "execution_count": 7,
   "id": "d40bb985",
   "metadata": {
    "execution": {
     "iopub.execute_input": "2023-02-04T16:15:39.678204Z",
     "iopub.status.busy": "2023-02-04T16:15:39.677748Z",
     "iopub.status.idle": "2023-02-04T16:15:39.683069Z",
     "shell.execute_reply": "2023-02-04T16:15:39.682377Z"
    },
    "papermill": {
     "duration": 0.015524,
     "end_time": "2023-02-04T16:15:39.684923",
     "exception": false,
     "start_time": "2023-02-04T16:15:39.669399",
     "status": "completed"
    },
    "tags": []
   },
   "outputs": [
    {
     "data": {
      "text/plain": [
       "Index(['Item_Identifier', 'Item_Weight', 'Item_Fat_Content', 'Item_Visibility',\n",
       "       'Item_Type', 'Item_MRP', 'Outlet_Identifier',\n",
       "       'Outlet_Establishment_Year', 'Outlet_Size', 'Outlet_Location_Type',\n",
       "       'Outlet_Type', 'Item_Outlet_Sales'],\n",
       "      dtype='object')"
      ]
     },
     "execution_count": 7,
     "metadata": {},
     "output_type": "execute_result"
    }
   ],
   "source": [
    "train_data.columns"
   ]
  },
  {
   "cell_type": "code",
   "execution_count": 8,
   "id": "0b9d6172",
   "metadata": {
    "execution": {
     "iopub.execute_input": "2023-02-04T16:15:39.700673Z",
     "iopub.status.busy": "2023-02-04T16:15:39.700164Z",
     "iopub.status.idle": "2023-02-04T16:15:39.720355Z",
     "shell.execute_reply": "2023-02-04T16:15:39.719237Z"
    },
    "papermill": {
     "duration": 0.03019,
     "end_time": "2023-02-04T16:15:39.722213",
     "exception": false,
     "start_time": "2023-02-04T16:15:39.692023",
     "status": "completed"
    },
    "tags": []
   },
   "outputs": [
    {
     "name": "stdout",
     "output_type": "stream",
     "text": [
      "<class 'pandas.core.frame.DataFrame'>\n",
      "RangeIndex: 8523 entries, 0 to 8522\n",
      "Data columns (total 12 columns):\n",
      " #   Column                     Non-Null Count  Dtype  \n",
      "---  ------                     --------------  -----  \n",
      " 0   Item_Identifier            8523 non-null   object \n",
      " 1   Item_Weight                7060 non-null   float64\n",
      " 2   Item_Fat_Content           8523 non-null   object \n",
      " 3   Item_Visibility            8523 non-null   float64\n",
      " 4   Item_Type                  8523 non-null   object \n",
      " 5   Item_MRP                   8523 non-null   float64\n",
      " 6   Outlet_Identifier          8523 non-null   object \n",
      " 7   Outlet_Establishment_Year  8523 non-null   int64  \n",
      " 8   Outlet_Size                6113 non-null   object \n",
      " 9   Outlet_Location_Type       8523 non-null   object \n",
      " 10  Outlet_Type                8523 non-null   object \n",
      " 11  Item_Outlet_Sales          8523 non-null   float64\n",
      "dtypes: float64(4), int64(1), object(7)\n",
      "memory usage: 799.2+ KB\n"
     ]
    }
   ],
   "source": [
    "train_data.info()"
   ]
  },
  {
   "cell_type": "code",
   "execution_count": 9,
   "id": "0d792e4d",
   "metadata": {
    "execution": {
     "iopub.execute_input": "2023-02-04T16:15:39.738151Z",
     "iopub.status.busy": "2023-02-04T16:15:39.737680Z",
     "iopub.status.idle": "2023-02-04T16:15:39.761624Z",
     "shell.execute_reply": "2023-02-04T16:15:39.761011Z"
    },
    "papermill": {
     "duration": 0.033368,
     "end_time": "2023-02-04T16:15:39.763173",
     "exception": false,
     "start_time": "2023-02-04T16:15:39.729805",
     "status": "completed"
    },
    "tags": []
   },
   "outputs": [
    {
     "data": {
      "text/html": [
       "<div>\n",
       "<style scoped>\n",
       "    .dataframe tbody tr th:only-of-type {\n",
       "        vertical-align: middle;\n",
       "    }\n",
       "\n",
       "    .dataframe tbody tr th {\n",
       "        vertical-align: top;\n",
       "    }\n",
       "\n",
       "    .dataframe thead th {\n",
       "        text-align: right;\n",
       "    }\n",
       "</style>\n",
       "<table border=\"1\" class=\"dataframe\">\n",
       "  <thead>\n",
       "    <tr style=\"text-align: right;\">\n",
       "      <th></th>\n",
       "      <th>Item_Weight</th>\n",
       "      <th>Item_Visibility</th>\n",
       "      <th>Item_MRP</th>\n",
       "      <th>Outlet_Establishment_Year</th>\n",
       "      <th>Item_Outlet_Sales</th>\n",
       "    </tr>\n",
       "  </thead>\n",
       "  <tbody>\n",
       "    <tr>\n",
       "      <th>count</th>\n",
       "      <td>7060.000000</td>\n",
       "      <td>8523.000000</td>\n",
       "      <td>8523.000000</td>\n",
       "      <td>8523.000000</td>\n",
       "      <td>8523.000000</td>\n",
       "    </tr>\n",
       "    <tr>\n",
       "      <th>mean</th>\n",
       "      <td>12.857645</td>\n",
       "      <td>0.066132</td>\n",
       "      <td>140.992782</td>\n",
       "      <td>1997.831867</td>\n",
       "      <td>2181.288914</td>\n",
       "    </tr>\n",
       "    <tr>\n",
       "      <th>std</th>\n",
       "      <td>4.643456</td>\n",
       "      <td>0.051598</td>\n",
       "      <td>62.275067</td>\n",
       "      <td>8.371760</td>\n",
       "      <td>1706.499616</td>\n",
       "    </tr>\n",
       "    <tr>\n",
       "      <th>min</th>\n",
       "      <td>4.555000</td>\n",
       "      <td>0.000000</td>\n",
       "      <td>31.290000</td>\n",
       "      <td>1985.000000</td>\n",
       "      <td>33.290000</td>\n",
       "    </tr>\n",
       "    <tr>\n",
       "      <th>25%</th>\n",
       "      <td>8.773750</td>\n",
       "      <td>0.026989</td>\n",
       "      <td>93.826500</td>\n",
       "      <td>1987.000000</td>\n",
       "      <td>834.247400</td>\n",
       "    </tr>\n",
       "    <tr>\n",
       "      <th>50%</th>\n",
       "      <td>12.600000</td>\n",
       "      <td>0.053931</td>\n",
       "      <td>143.012800</td>\n",
       "      <td>1999.000000</td>\n",
       "      <td>1794.331000</td>\n",
       "    </tr>\n",
       "    <tr>\n",
       "      <th>75%</th>\n",
       "      <td>16.850000</td>\n",
       "      <td>0.094585</td>\n",
       "      <td>185.643700</td>\n",
       "      <td>2004.000000</td>\n",
       "      <td>3101.296400</td>\n",
       "    </tr>\n",
       "    <tr>\n",
       "      <th>max</th>\n",
       "      <td>21.350000</td>\n",
       "      <td>0.328391</td>\n",
       "      <td>266.888400</td>\n",
       "      <td>2009.000000</td>\n",
       "      <td>13086.964800</td>\n",
       "    </tr>\n",
       "  </tbody>\n",
       "</table>\n",
       "</div>"
      ],
      "text/plain": [
       "       Item_Weight  Item_Visibility     Item_MRP  Outlet_Establishment_Year  \\\n",
       "count  7060.000000      8523.000000  8523.000000                8523.000000   \n",
       "mean     12.857645         0.066132   140.992782                1997.831867   \n",
       "std       4.643456         0.051598    62.275067                   8.371760   \n",
       "min       4.555000         0.000000    31.290000                1985.000000   \n",
       "25%       8.773750         0.026989    93.826500                1987.000000   \n",
       "50%      12.600000         0.053931   143.012800                1999.000000   \n",
       "75%      16.850000         0.094585   185.643700                2004.000000   \n",
       "max      21.350000         0.328391   266.888400                2009.000000   \n",
       "\n",
       "       Item_Outlet_Sales  \n",
       "count        8523.000000  \n",
       "mean         2181.288914  \n",
       "std          1706.499616  \n",
       "min            33.290000  \n",
       "25%           834.247400  \n",
       "50%          1794.331000  \n",
       "75%          3101.296400  \n",
       "max         13086.964800  "
      ]
     },
     "execution_count": 9,
     "metadata": {},
     "output_type": "execute_result"
    }
   ],
   "source": [
    "train_data.describe()"
   ]
  },
  {
   "cell_type": "markdown",
   "id": "d1fe939e",
   "metadata": {
    "papermill": {
     "duration": 0.007347,
     "end_time": "2023-02-04T16:15:39.778076",
     "exception": false,
     "start_time": "2023-02-04T16:15:39.770729",
     "status": "completed"
    },
    "tags": []
   },
   "source": [
    "# **Exploratory Data Analysis**"
   ]
  },
  {
   "cell_type": "markdown",
   "id": "746d1210",
   "metadata": {
    "papermill": {
     "duration": 0.007246,
     "end_time": "2023-02-04T16:15:39.792775",
     "exception": false,
     "start_time": "2023-02-04T16:15:39.785529",
     "status": "completed"
    },
    "tags": []
   },
   "source": [
    "> Item_Identifier column is referenced as Unique Product ID.The remaining columns appear to be our features (independent variables), with the last column being the response variable (dependent variable)."
   ]
  },
  {
   "cell_type": "markdown",
   "id": "fde05d73",
   "metadata": {
    "papermill": {
     "duration": 0.007192,
     "end_time": "2023-02-04T16:15:39.807316",
     "exception": false,
     "start_time": "2023-02-04T16:15:39.800124",
     "status": "completed"
    },
    "tags": []
   },
   "source": [
    "> * Item_Identifier: Unique product ID\n",
    "> * Item_Weight: Weight of product\n",
    "> * Item_Fat_Content: Whether the product is low fat or not\n",
    "> * Item_Visibility: The % of total display area of all products in a store allocated to the particular product\n",
    "> * Item_Type: The category to which the product belongs\n",
    "> * Item_MRP: Maximum Retail Price (list price) of the product\n",
    "> * Outlet_Identifier: Unique store ID\n",
    "> * Outlet_Establishment_Year: The year in which store was established\n",
    "> * Outlet_Size: The size of the store in terms of ground area covered\n",
    "> * Outlet_Location_Type: The type of city in which the store is located\n",
    "> * Outlet_Type: Whether the outlet is just a grocery store or some sort of supermarket\n",
    "> * Item_Outlet_Sales: Sales of the product in the particulat store. This is the outcome variable to be predicted."
   ]
  },
  {
   "cell_type": "code",
   "execution_count": 10,
   "id": "39ce39a7",
   "metadata": {
    "execution": {
     "iopub.execute_input": "2023-02-04T16:15:39.823146Z",
     "iopub.status.busy": "2023-02-04T16:15:39.822886Z",
     "iopub.status.idle": "2023-02-04T16:15:39.832110Z",
     "shell.execute_reply": "2023-02-04T16:15:39.831428Z"
    },
    "papermill": {
     "duration": 0.018949,
     "end_time": "2023-02-04T16:15:39.833710",
     "exception": false,
     "start_time": "2023-02-04T16:15:39.814761",
     "status": "completed"
    },
    "tags": []
   },
   "outputs": [
    {
     "data": {
      "text/plain": [
       "Item_Identifier                 0\n",
       "Item_Weight                  1463\n",
       "Item_Fat_Content                0\n",
       "Item_Visibility                 0\n",
       "Item_Type                       0\n",
       "Item_MRP                        0\n",
       "Outlet_Identifier               0\n",
       "Outlet_Establishment_Year       0\n",
       "Outlet_Size                  2410\n",
       "Outlet_Location_Type            0\n",
       "Outlet_Type                     0\n",
       "Item_Outlet_Sales               0\n",
       "dtype: int64"
      ]
     },
     "execution_count": 10,
     "metadata": {},
     "output_type": "execute_result"
    }
   ],
   "source": [
    "# Finding out the missing values for all the columns\n",
    "train_data.isnull().sum()"
   ]
  },
  {
   "cell_type": "code",
   "execution_count": 11,
   "id": "b4346d2e",
   "metadata": {
    "execution": {
     "iopub.execute_input": "2023-02-04T16:15:39.850018Z",
     "iopub.status.busy": "2023-02-04T16:15:39.849531Z",
     "iopub.status.idle": "2023-02-04T16:15:39.863651Z",
     "shell.execute_reply": "2023-02-04T16:15:39.862762Z"
    },
    "papermill": {
     "duration": 0.024381,
     "end_time": "2023-02-04T16:15:39.865508",
     "exception": false,
     "start_time": "2023-02-04T16:15:39.841127",
     "status": "completed"
    },
    "tags": []
   },
   "outputs": [
    {
     "data": {
      "text/plain": [
       "Item_Identifier              1559\n",
       "Item_Weight                   415\n",
       "Item_Fat_Content                5\n",
       "Item_Visibility              7880\n",
       "Item_Type                      16\n",
       "Item_MRP                     5938\n",
       "Outlet_Identifier              10\n",
       "Outlet_Establishment_Year       9\n",
       "Outlet_Size                     3\n",
       "Outlet_Location_Type            3\n",
       "Outlet_Type                     4\n",
       "Item_Outlet_Sales            3493\n",
       "dtype: int64"
      ]
     },
     "execution_count": 11,
     "metadata": {},
     "output_type": "execute_result"
    }
   ],
   "source": [
    "# Displaying the Unique data for each column\n",
    "train_data.nunique()"
   ]
  },
  {
   "cell_type": "markdown",
   "id": "4c54e2a8",
   "metadata": {
    "papermill": {
     "duration": 0.007751,
     "end_time": "2023-02-04T16:15:39.881072",
     "exception": false,
     "start_time": "2023-02-04T16:15:39.873321",
     "status": "completed"
    },
    "tags": []
   },
   "source": [
    "# **Evaluating the Categorical Features**"
   ]
  },
  {
   "cell_type": "code",
   "execution_count": 12,
   "id": "9a974063",
   "metadata": {
    "execution": {
     "iopub.execute_input": "2023-02-04T16:15:39.898559Z",
     "iopub.status.busy": "2023-02-04T16:15:39.898247Z",
     "iopub.status.idle": "2023-02-04T16:15:39.908716Z",
     "shell.execute_reply": "2023-02-04T16:15:39.907483Z"
    },
    "papermill": {
     "duration": 0.02135,
     "end_time": "2023-02-04T16:15:39.910615",
     "exception": false,
     "start_time": "2023-02-04T16:15:39.889265",
     "status": "completed"
    },
    "tags": []
   },
   "outputs": [
    {
     "name": "stdout",
     "output_type": "stream",
     "text": [
      "Frequency of Categories for varible Item ID\n"
     ]
    },
    {
     "data": {
      "text/plain": [
       "FDW13    10\n",
       "FDG33    10\n",
       "NCY18     9\n",
       "FDD38     9\n",
       "DRE49     9\n",
       "         ..\n",
       "FDY43     1\n",
       "FDQ60     1\n",
       "FDO33     1\n",
       "DRF48     1\n",
       "FDC23     1\n",
       "Name: Item_Identifier, Length: 1559, dtype: int64"
      ]
     },
     "execution_count": 12,
     "metadata": {},
     "output_type": "execute_result"
    }
   ],
   "source": [
    "print('Frequency of Categories for varible Item ID')\n",
    "train_data['Item_Identifier'].value_counts()"
   ]
  },
  {
   "cell_type": "code",
   "execution_count": 13,
   "id": "0ce3a3de",
   "metadata": {
    "execution": {
     "iopub.execute_input": "2023-02-04T16:15:39.927972Z",
     "iopub.status.busy": "2023-02-04T16:15:39.927690Z",
     "iopub.status.idle": "2023-02-04T16:15:39.935687Z",
     "shell.execute_reply": "2023-02-04T16:15:39.934857Z"
    },
    "papermill": {
     "duration": 0.019151,
     "end_time": "2023-02-04T16:15:39.938058",
     "exception": false,
     "start_time": "2023-02-04T16:15:39.918907",
     "status": "completed"
    },
    "tags": []
   },
   "outputs": [
    {
     "name": "stdout",
     "output_type": "stream",
     "text": [
      "Frequency of Categories for varible Item_Fat_Content\n"
     ]
    },
    {
     "data": {
      "text/plain": [
       "Low Fat    5089\n",
       "Regular    2889\n",
       "LF          316\n",
       "reg         117\n",
       "low fat     112\n",
       "Name: Item_Fat_Content, dtype: int64"
      ]
     },
     "execution_count": 13,
     "metadata": {},
     "output_type": "execute_result"
    }
   ],
   "source": [
    "print('Frequency of Categories for varible Item_Fat_Content')\n",
    "train_data['Item_Fat_Content'].value_counts()"
   ]
  },
  {
   "cell_type": "code",
   "execution_count": 14,
   "id": "56c5aae4",
   "metadata": {
    "execution": {
     "iopub.execute_input": "2023-02-04T16:15:39.955794Z",
     "iopub.status.busy": "2023-02-04T16:15:39.955355Z",
     "iopub.status.idle": "2023-02-04T16:15:40.153606Z",
     "shell.execute_reply": "2023-02-04T16:15:40.152640Z"
    },
    "papermill": {
     "duration": 0.209295,
     "end_time": "2023-02-04T16:15:40.155604",
     "exception": false,
     "start_time": "2023-02-04T16:15:39.946309",
     "status": "completed"
    },
    "tags": []
   },
   "outputs": [
    {
     "name": "stderr",
     "output_type": "stream",
     "text": [
      "/opt/conda/lib/python3.7/site-packages/seaborn/_decorators.py:43: FutureWarning: Pass the following variable as a keyword arg: x. From version 0.12, the only valid positional argument will be `data`, and passing other arguments without an explicit keyword will result in an error or misinterpretation.\n",
      "  FutureWarning\n"
     ]
    },
    {
     "data": {
      "text/plain": [
       "<AxesSubplot:xlabel='Item_Fat_Content', ylabel='count'>"
      ]
     },
     "execution_count": 14,
     "metadata": {},
     "output_type": "execute_result"
    },
    {
     "data": {
      "image/png": "[encoded data removed]",
      "text/plain": [
       "<Figure size 432x288 with 1 Axes>"
      ]
     },
     "metadata": {
      "needs_background": "light"
     },
     "output_type": "display_data"
    }
   ],
   "source": [
    "sns.countplot(train_data.Item_Fat_Content)"
   ]
  },
  {
   "cell_type": "code",
   "execution_count": 15,
   "id": "6dacaf62",
   "metadata": {
    "execution": {
     "iopub.execute_input": "2023-02-04T16:15:40.174809Z",
     "iopub.status.busy": "2023-02-04T16:15:40.174121Z",
     "iopub.status.idle": "2023-02-04T16:15:40.182942Z",
     "shell.execute_reply": "2023-02-04T16:15:40.181882Z"
    },
    "papermill": {
     "duration": 0.020599,
     "end_time": "2023-02-04T16:15:40.184944",
     "exception": false,
     "start_time": "2023-02-04T16:15:40.164345",
     "status": "completed"
    },
    "tags": []
   },
   "outputs": [
    {
     "name": "stdout",
     "output_type": "stream",
     "text": [
      "Frequency of Categories for varible Item_Type\n"
     ]
    },
    {
     "data": {
      "text/plain": [
       "Fruits and Vegetables    1232\n",
       "Snack Foods              1200\n",
       "Household                 910\n",
       "Frozen Foods              856\n",
       "Dairy                     682\n",
       "Canned                    649\n",
       "Baking Goods              648\n",
       "Health and Hygiene        520\n",
       "Soft Drinks               445\n",
       "Meat                      425\n",
       "Breads                    251\n",
       "Hard Drinks               214\n",
       "Others                    169\n",
       "Starchy Foods             148\n",
       "Breakfast                 110\n",
       "Seafood                    64\n",
       "Name: Item_Type, dtype: int64"
      ]
     },
     "execution_count": 15,
     "metadata": {},
     "output_type": "execute_result"
    }
   ],
   "source": [
    "print('Frequency of Categories for varible Item_Type')\n",
    "train_data['Item_Type'].value_counts()"
   ]
  },
  {
   "cell_type": "code",
   "execution_count": 16,
   "id": "2a8704b6",
   "metadata": {
    "execution": {
     "iopub.execute_input": "2023-02-04T16:15:40.203789Z",
     "iopub.status.busy": "2023-02-04T16:15:40.203508Z",
     "iopub.status.idle": "2023-02-04T16:15:40.451567Z",
     "shell.execute_reply": "2023-02-04T16:15:40.450922Z"
    },
    "papermill": {
     "duration": 0.259638,
     "end_time": "2023-02-04T16:15:40.453354",
     "exception": false,
     "start_time": "2023-02-04T16:15:40.193716",
     "status": "completed"
    },
    "tags": []
   },
   "outputs": [
    {
     "name": "stderr",
     "output_type": "stream",
     "text": [
      "/opt/conda/lib/python3.7/site-packages/seaborn/_decorators.py:43: FutureWarning: Pass the following variable as a keyword arg: x. From version 0.12, the only valid positional argument will be `data`, and passing other arguments without an explicit keyword will result in an error or misinterpretation.\n",
      "  FutureWarning\n"
     ]
    },
    {
     "data": {
      "text/plain": [
       "(array([ 0,  1,  2,  3,  4,  5,  6,  7,  8,  9, 10, 11, 12, 13, 14, 15]),\n",
       " [Text(0, 0, 'Dairy'),\n",
       "  Text(1, 0, 'Soft Drinks'),\n",
       "  Text(2, 0, 'Meat'),\n",
       "  Text(3, 0, 'Fruits and Vegetables'),\n",
       "  Text(4, 0, 'Household'),\n",
       "  Text(5, 0, 'Baking Goods'),\n",
       "  Text(6, 0, 'Snack Foods'),\n",
       "  Text(7, 0, 'Frozen Foods'),\n",
       "  Text(8, 0, 'Breakfast'),\n",
       "  Text(9, 0, 'Health and Hygiene'),\n",
       "  Text(10, 0, 'Hard Drinks'),\n",
       "  Text(11, 0, 'Canned'),\n",
       "  Text(12, 0, 'Breads'),\n",
       "  Text(13, 0, 'Starchy Foods'),\n",
       "  Text(14, 0, 'Others'),\n",
       "  Text(15, 0, 'Seafood')])"
      ]
     },
     "execution_count": 16,
     "metadata": {},
     "output_type": "execute_result"
    },
    {
     "data": {
      "image/png": "[encoded data removed]",
      "text/plain": [
       "<Figure size 432x288 with 1 Axes>"
      ]
     },
     "metadata": {
      "needs_background": "light"
     },
     "output_type": "display_data"
    }
   ],
   "source": [
    "sns.countplot(train_data.Item_Type)\n",
    "plt.xticks(rotation=90)"
   ]
  },
  {
   "cell_type": "code",
   "execution_count": 17,
   "id": "9c3c4c05",
   "metadata": {
    "execution": {
     "iopub.execute_input": "2023-02-04T16:15:40.474239Z",
     "iopub.status.busy": "2023-02-04T16:15:40.473539Z",
     "iopub.status.idle": "2023-02-04T16:15:40.481197Z",
     "shell.execute_reply": "2023-02-04T16:15:40.480090Z"
    },
    "papermill": {
     "duration": 0.020315,
     "end_time": "2023-02-04T16:15:40.483409",
     "exception": false,
     "start_time": "2023-02-04T16:15:40.463094",
     "status": "completed"
    },
    "tags": []
   },
   "outputs": [
    {
     "name": "stdout",
     "output_type": "stream",
     "text": [
      "Frequency of Categories for varible Outlet ID\n"
     ]
    },
    {
     "data": {
      "text/plain": [
       "OUT027    935\n",
       "OUT013    932\n",
       "OUT049    930\n",
       "OUT046    930\n",
       "OUT035    930\n",
       "OUT045    929\n",
       "OUT018    928\n",
       "OUT017    926\n",
       "OUT010    555\n",
       "OUT019    528\n",
       "Name: Outlet_Identifier, dtype: int64"
      ]
     },
     "execution_count": 17,
     "metadata": {},
     "output_type": "execute_result"
    }
   ],
   "source": [
    "print('Frequency of Categories for varible Outlet ID')\n",
    "train_data['Outlet_Identifier'].value_counts()"
   ]
  },
  {
   "cell_type": "code",
   "execution_count": 18,
   "id": "03df38a8",
   "metadata": {
    "execution": {
     "iopub.execute_input": "2023-02-04T16:15:40.503245Z",
     "iopub.status.busy": "2023-02-04T16:15:40.502988Z",
     "iopub.status.idle": "2023-02-04T16:15:40.510897Z",
     "shell.execute_reply": "2023-02-04T16:15:40.509748Z"
    },
    "papermill": {
     "duration": 0.020271,
     "end_time": "2023-02-04T16:15:40.513115",
     "exception": false,
     "start_time": "2023-02-04T16:15:40.492844",
     "status": "completed"
    },
    "tags": []
   },
   "outputs": [
    {
     "name": "stdout",
     "output_type": "stream",
     "text": [
      "Frequency of Categories for varible Outlet_Location_Type\n"
     ]
    },
    {
     "data": {
      "text/plain": [
       "Tier 3    3350\n",
       "Tier 2    2785\n",
       "Tier 1    2388\n",
       "Name: Outlet_Location_Type, dtype: int64"
      ]
     },
     "execution_count": 18,
     "metadata": {},
     "output_type": "execute_result"
    }
   ],
   "source": [
    "print('Frequency of Categories for varible Outlet_Location_Type')\n",
    "train_data['Outlet_Location_Type'].value_counts()"
   ]
  },
  {
   "cell_type": "code",
   "execution_count": 19,
   "id": "cef1b335",
   "metadata": {
    "execution": {
     "iopub.execute_input": "2023-02-04T16:15:40.534083Z",
     "iopub.status.busy": "2023-02-04T16:15:40.533797Z",
     "iopub.status.idle": "2023-02-04T16:15:40.703516Z",
     "shell.execute_reply": "2023-02-04T16:15:40.702701Z"
    },
    "papermill": {
     "duration": 0.182514,
     "end_time": "2023-02-04T16:15:40.705663",
     "exception": false,
     "start_time": "2023-02-04T16:15:40.523149",
     "status": "completed"
    },
    "tags": []
   },
   "outputs": [
    {
     "name": "stderr",
     "output_type": "stream",
     "text": [
      "/opt/conda/lib/python3.7/site-packages/seaborn/_decorators.py:43: FutureWarning: Pass the following variable as a keyword arg: x. From version 0.12, the only valid positional argument will be `data`, and passing other arguments without an explicit keyword will result in an error or misinterpretation.\n",
      "  FutureWarning\n"
     ]
    },
    {
     "data": {
      "text/plain": [
       "<AxesSubplot:xlabel='Outlet_Location_Type', ylabel='count'>"
      ]
     },
     "execution_count": 19,
     "metadata": {},
     "output_type": "execute_result"
    },
    {
     "data": {
      "image/png": "[encoded data removed]",
      "text/plain": [
       "<Figure size 432x288 with 1 Axes>"
      ]
     },
     "metadata": {
      "needs_background": "light"
     },
     "output_type": "display_data"
    }
   ],
   "source": [
    "sns.countplot(train_data.Outlet_Location_Type)"
   ]
  },
  {
   "cell_type": "code",
   "execution_count": 20,
   "id": "50458f1b",
   "metadata": {
    "execution": {
     "iopub.execute_input": "2023-02-04T16:15:40.726989Z",
     "iopub.status.busy": "2023-02-04T16:15:40.726687Z",
     "iopub.status.idle": "2023-02-04T16:15:40.734687Z",
     "shell.execute_reply": "2023-02-04T16:15:40.733611Z"
    },
    "papermill": {
     "duration": 0.021267,
     "end_time": "2023-02-04T16:15:40.737167",
     "exception": false,
     "start_time": "2023-02-04T16:15:40.715900",
     "status": "completed"
    },
    "tags": []
   },
   "outputs": [
    {
     "name": "stdout",
     "output_type": "stream",
     "text": [
      "Frequency of Categories for varible Outlet_Size\n"
     ]
    },
    {
     "data": {
      "text/plain": [
       "Medium    2793\n",
       "Small     2388\n",
       "High       932\n",
       "Name: Outlet_Size, dtype: int64"
      ]
     },
     "execution_count": 20,
     "metadata": {},
     "output_type": "execute_result"
    }
   ],
   "source": [
    "print('Frequency of Categories for varible Outlet_Size')\n",
    "train_data['Outlet_Size'].value_counts()"
   ]
  },
  {
   "cell_type": "code",
   "execution_count": 21,
   "id": "417d4379",
   "metadata": {
    "execution": {
     "iopub.execute_input": "2023-02-04T16:15:40.757994Z",
     "iopub.status.busy": "2023-02-04T16:15:40.757737Z",
     "iopub.status.idle": "2023-02-04T16:15:40.916738Z",
     "shell.execute_reply": "2023-02-04T16:15:40.915930Z"
    },
    "papermill": {
     "duration": 0.172496,
     "end_time": "2023-02-04T16:15:40.919648",
     "exception": false,
     "start_time": "2023-02-04T16:15:40.747152",
     "status": "completed"
    },
    "tags": []
   },
   "outputs": [
    {
     "name": "stderr",
     "output_type": "stream",
     "text": [
      "/opt/conda/lib/python3.7/site-packages/seaborn/_decorators.py:43: FutureWarning: Pass the following variable as a keyword arg: x. From version 0.12, the only valid positional argument will be `data`, and passing other arguments without an explicit keyword will result in an error or misinterpretation.\n",
      "  FutureWarning\n"
     ]
    },
    {
     "data": {
      "text/plain": [
       "<AxesSubplot:xlabel='Outlet_Size', ylabel='count'>"
      ]
     },
     "execution_count": 21,
     "metadata": {},
     "output_type": "execute_result"
    },
    {
     "data": {
      "image/png": "[encoded data removed]",
      "text/plain": [
       "<Figure size 432x288 with 1 Axes>"
      ]
     },
     "metadata": {
      "needs_background": "light"
     },
     "output_type": "display_data"
    }
   ],
   "source": [
    "sns.countplot(train_data.Outlet_Size)"
   ]
  },
  {
   "cell_type": "code",
   "execution_count": 22,
   "id": "03fea298",
   "metadata": {
    "execution": {
     "iopub.execute_input": "2023-02-04T16:15:40.944958Z",
     "iopub.status.busy": "2023-02-04T16:15:40.944680Z",
     "iopub.status.idle": "2023-02-04T16:15:40.952429Z",
     "shell.execute_reply": "2023-02-04T16:15:40.951426Z"
    },
    "papermill": {
     "duration": 0.022344,
     "end_time": "2023-02-04T16:15:40.955076",
     "exception": false,
     "start_time": "2023-02-04T16:15:40.932732",
     "status": "completed"
    },
    "tags": []
   },
   "outputs": [
    {
     "name": "stdout",
     "output_type": "stream",
     "text": [
      "Frequency of Categories for varible Outlet_Type\n"
     ]
    },
    {
     "data": {
      "text/plain": [
       "Supermarket Type1    5577\n",
       "Grocery Store        1083\n",
       "Supermarket Type3     935\n",
       "Supermarket Type2     928\n",
       "Name: Outlet_Type, dtype: int64"
      ]
     },
     "execution_count": 22,
     "metadata": {},
     "output_type": "execute_result"
    }
   ],
   "source": [
    "print('Frequency of Categories for varible Outlet_Type')\n",
    "train_data['Outlet_Type'].value_counts()"
   ]
  },
  {
   "cell_type": "code",
   "execution_count": 23,
   "id": "b92e2e32",
   "metadata": {
    "execution": {
     "iopub.execute_input": "2023-02-04T16:15:40.976817Z",
     "iopub.status.busy": "2023-02-04T16:15:40.976463Z",
     "iopub.status.idle": "2023-02-04T16:15:41.153645Z",
     "shell.execute_reply": "2023-02-04T16:15:41.152734Z"
    },
    "papermill": {
     "duration": 0.190423,
     "end_time": "2023-02-04T16:15:41.155775",
     "exception": false,
     "start_time": "2023-02-04T16:15:40.965352",
     "status": "completed"
    },
    "tags": []
   },
   "outputs": [
    {
     "name": "stderr",
     "output_type": "stream",
     "text": [
      "/opt/conda/lib/python3.7/site-packages/seaborn/_decorators.py:43: FutureWarning: Pass the following variable as a keyword arg: x. From version 0.12, the only valid positional argument will be `data`, and passing other arguments without an explicit keyword will result in an error or misinterpretation.\n",
      "  FutureWarning\n"
     ]
    },
    {
     "data": {
      "text/plain": [
       "(array([0, 1, 2, 3]),\n",
       " [Text(0, 0, 'Supermarket Type1'),\n",
       "  Text(1, 0, 'Supermarket Type2'),\n",
       "  Text(2, 0, 'Grocery Store'),\n",
       "  Text(3, 0, 'Supermarket Type3')])"
      ]
     },
     "execution_count": 23,
     "metadata": {},
     "output_type": "execute_result"
    },
    {
     "data": {
      "image/png": "[encoded data removed]",
      "text/plain": [
       "<Figure size 432x288 with 1 Axes>"
      ]
     },
     "metadata": {
      "needs_background": "light"
     },
     "output_type": "display_data"
    }
   ],
   "source": [
    "sns.countplot(train_data.Outlet_Type)\n",
    "plt.xticks(rotation=90)"
   ]
  },
  {
   "cell_type": "code",
   "execution_count": null,
   "id": "71cc96a0",
   "metadata": {
    "papermill": {
     "duration": 0.010923,
     "end_time": "2023-02-04T16:15:41.177649",
     "exception": false,
     "start_time": "2023-02-04T16:15:41.166726",
     "status": "completed"
    },
    "tags": []
   },
   "outputs": [],
   "source": []
  }
 ],
 "metadata": {
  "kernelspec": {
   "display_name": "Python 3",
   "language": "python",
   "name": "python3"
  },
  "language_info": {
   "codemirror_mode": {
    "name": "ipython",
    "version": 3
   },
   "file_extension": ".py",
   "mimetype": "text/x-python",
   "name": "python",
   "nbconvert_exporter": "python",
   "pygments_lexer": "ipython3",
   "version": "3.7.12"
  },
  "papermill": {
   "default_parameters": {},
   "duration": 10.252374,
   "end_time": "2023-02-04T16:15:41.808669",
   "environment_variables": {},
   "exception": null,
   "input_path": "__notebook__.ipynb",
   "output_path": "__notebook__.ipynb",
   "parameters": {},
   "start_time": "2023-02-04T16:15:31.556295",
   "version": "2.3.4"
  }
 },
 "nbformat": 4,
 "nbformat_minor": 5
}
