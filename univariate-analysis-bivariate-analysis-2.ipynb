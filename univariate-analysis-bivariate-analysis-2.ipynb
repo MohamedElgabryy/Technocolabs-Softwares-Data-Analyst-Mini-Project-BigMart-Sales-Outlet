{
 "cells": [
  {
   "cell_type": "code",
   "execution_count": 1,
   "id": "48405bad",
   "metadata": {
    "_cell_guid": "b1076dfc-b9ad-4769-8c92-a6c4dae69d19",
    "_uuid": "8f2839f25d086af736a60e9eeb907d3b93b6e0e5",
    "execution": {
     "iopub.execute_input": "2023-02-05T20:03:44.207374Z",
     "iopub.status.busy": "2023-02-05T20:03:44.205943Z",
     "iopub.status.idle": "2023-02-05T20:03:45.130583Z",
     "shell.execute_reply": "2023-02-05T20:03:45.129390Z"
    },
    "papermill": {
     "duration": 0.939743,
     "end_time": "2023-02-05T20:03:45.133447",
     "exception": false,
     "start_time": "2023-02-05T20:03:44.193704",
     "status": "completed"
    },
    "tags": []
   },
   "outputs": [
    {
     "name": "stdout",
     "output_type": "stream",
     "text": [
      "Setup Complete\n"
     ]
    }
   ],
   "source": [
    "import pandas as pd\n",
    "import numpy as np\n",
    "pd.plotting.register_matplotlib_converters()\n",
    "import matplotlib.pyplot as plt\n",
    "%matplotlib inline\n",
    "import seaborn as sns\n",
    "print(\"Setup Complete\")"
   ]
  },
  {
   "cell_type": "code",
   "execution_count": 2,
   "id": "3e195e16",
   "metadata": {
    "execution": {
     "iopub.execute_input": "2023-02-05T20:03:45.154846Z",
     "iopub.status.busy": "2023-02-05T20:03:45.154447Z",
     "iopub.status.idle": "2023-02-05T20:03:45.219926Z",
     "shell.execute_reply": "2023-02-05T20:03:45.218722Z"
    },
    "papermill": {
     "duration": 0.079229,
     "end_time": "2023-02-05T20:03:45.222546",
     "exception": false,
     "start_time": "2023-02-05T20:03:45.143317",
     "status": "completed"
    },
    "tags": []
   },
   "outputs": [],
   "source": [
    "train_path = \"/kaggle/input/train-clean-1/train_clean_1.csv\"\n",
    "\n",
    "train_data = pd.read_csv(train_path)"
   ]
  },
  {
   "cell_type": "code",
   "execution_count": 3,
   "id": "cb94a31c",
   "metadata": {
    "execution": {
     "iopub.execute_input": "2023-02-05T20:03:45.242341Z",
     "iopub.status.busy": "2023-02-05T20:03:45.241965Z",
     "iopub.status.idle": "2023-02-05T20:03:45.266559Z",
     "shell.execute_reply": "2023-02-05T20:03:45.265320Z"
    },
    "papermill": {
     "duration": 0.037274,
     "end_time": "2023-02-05T20:03:45.269000",
     "exception": false,
     "start_time": "2023-02-05T20:03:45.231726",
     "status": "completed"
    },
    "tags": []
   },
   "outputs": [
    {
     "data": {
      "text/html": [
       "<div>\n",
       "<style scoped>\n",
       "    .dataframe tbody tr th:only-of-type {\n",
       "        vertical-align: middle;\n",
       "    }\n",
       "\n",
       "    .dataframe tbody tr th {\n",
       "        vertical-align: top;\n",
       "    }\n",
       "\n",
       "    .dataframe thead th {\n",
       "        text-align: right;\n",
       "    }\n",
       "</style>\n",
       "<table border=\"1\" class=\"dataframe\">\n",
       "  <thead>\n",
       "    <tr style=\"text-align: right;\">\n",
       "      <th></th>\n",
       "      <th>Item_Identifier</th>\n",
       "      <th>Item_Weight</th>\n",
       "      <th>Item_Fat_Content</th>\n",
       "      <th>Item_Visibility</th>\n",
       "      <th>Item_Type</th>\n",
       "      <th>Item_MRP</th>\n",
       "      <th>Outlet_Identifier</th>\n",
       "      <th>Outlet_Establishment_Year</th>\n",
       "      <th>Outlet_Size</th>\n",
       "      <th>Outlet_Location_Type</th>\n",
       "      <th>Outlet_Type</th>\n",
       "      <th>Item_Outlet_Sales</th>\n",
       "    </tr>\n",
       "  </thead>\n",
       "  <tbody>\n",
       "    <tr>\n",
       "      <th>0</th>\n",
       "      <td>FDA15</td>\n",
       "      <td>9.30</td>\n",
       "      <td>Low Fat</td>\n",
       "      <td>0.016047</td>\n",
       "      <td>Dairy</td>\n",
       "      <td>249.8092</td>\n",
       "      <td>OUT049</td>\n",
       "      <td>1999</td>\n",
       "      <td>Medium</td>\n",
       "      <td>Tier 1</td>\n",
       "      <td>Supermarket Type1</td>\n",
       "      <td>3735.1380</td>\n",
       "    </tr>\n",
       "    <tr>\n",
       "      <th>1</th>\n",
       "      <td>DRC01</td>\n",
       "      <td>5.92</td>\n",
       "      <td>Regular</td>\n",
       "      <td>0.019278</td>\n",
       "      <td>Soft Drinks</td>\n",
       "      <td>48.2692</td>\n",
       "      <td>OUT018</td>\n",
       "      <td>2009</td>\n",
       "      <td>Medium</td>\n",
       "      <td>Tier 3</td>\n",
       "      <td>Supermarket Type2</td>\n",
       "      <td>443.4228</td>\n",
       "    </tr>\n",
       "    <tr>\n",
       "      <th>2</th>\n",
       "      <td>FDN15</td>\n",
       "      <td>17.50</td>\n",
       "      <td>Low Fat</td>\n",
       "      <td>0.016760</td>\n",
       "      <td>Meat</td>\n",
       "      <td>141.6180</td>\n",
       "      <td>OUT049</td>\n",
       "      <td>1999</td>\n",
       "      <td>Medium</td>\n",
       "      <td>Tier 1</td>\n",
       "      <td>Supermarket Type1</td>\n",
       "      <td>2097.2700</td>\n",
       "    </tr>\n",
       "    <tr>\n",
       "      <th>3</th>\n",
       "      <td>FDX07</td>\n",
       "      <td>19.20</td>\n",
       "      <td>Regular</td>\n",
       "      <td>0.000000</td>\n",
       "      <td>Fruits and Vegetables</td>\n",
       "      <td>182.0950</td>\n",
       "      <td>OUT010</td>\n",
       "      <td>1998</td>\n",
       "      <td>Medium</td>\n",
       "      <td>Tier 3</td>\n",
       "      <td>Grocery Store</td>\n",
       "      <td>732.3800</td>\n",
       "    </tr>\n",
       "    <tr>\n",
       "      <th>4</th>\n",
       "      <td>NCD19</td>\n",
       "      <td>8.93</td>\n",
       "      <td>Low Fat</td>\n",
       "      <td>0.000000</td>\n",
       "      <td>Household</td>\n",
       "      <td>53.8614</td>\n",
       "      <td>OUT013</td>\n",
       "      <td>1987</td>\n",
       "      <td>High</td>\n",
       "      <td>Tier 3</td>\n",
       "      <td>Supermarket Type1</td>\n",
       "      <td>994.7052</td>\n",
       "    </tr>\n",
       "  </tbody>\n",
       "</table>\n",
       "</div>"
      ],
      "text/plain": [
       "  Item_Identifier  Item_Weight Item_Fat_Content  Item_Visibility  \\\n",
       "0           FDA15         9.30          Low Fat         0.016047   \n",
       "1           DRC01         5.92          Regular         0.019278   \n",
       "2           FDN15        17.50          Low Fat         0.016760   \n",
       "3           FDX07        19.20          Regular         0.000000   \n",
       "4           NCD19         8.93          Low Fat         0.000000   \n",
       "\n",
       "               Item_Type  Item_MRP Outlet_Identifier  \\\n",
       "0                  Dairy  249.8092            OUT049   \n",
       "1            Soft Drinks   48.2692            OUT018   \n",
       "2                   Meat  141.6180            OUT049   \n",
       "3  Fruits and Vegetables  182.0950            OUT010   \n",
       "4              Household   53.8614            OUT013   \n",
       "\n",
       "   Outlet_Establishment_Year Outlet_Size Outlet_Location_Type  \\\n",
       "0                       1999      Medium               Tier 1   \n",
       "1                       2009      Medium               Tier 3   \n",
       "2                       1999      Medium               Tier 1   \n",
       "3                       1998      Medium               Tier 3   \n",
       "4                       1987        High               Tier 3   \n",
       "\n",
       "         Outlet_Type  Item_Outlet_Sales  \n",
       "0  Supermarket Type1          3735.1380  \n",
       "1  Supermarket Type2           443.4228  \n",
       "2  Supermarket Type1          2097.2700  \n",
       "3      Grocery Store           732.3800  \n",
       "4  Supermarket Type1           994.7052  "
      ]
     },
     "execution_count": 3,
     "metadata": {},
     "output_type": "execute_result"
    }
   ],
   "source": [
    "train_data.head()"
   ]
  },
  {
   "cell_type": "code",
   "execution_count": 4,
   "id": "2c827a5e",
   "metadata": {
    "execution": {
     "iopub.execute_input": "2023-02-05T20:03:45.289688Z",
     "iopub.status.busy": "2023-02-05T20:03:45.289270Z",
     "iopub.status.idle": "2023-02-05T20:03:45.296034Z",
     "shell.execute_reply": "2023-02-05T20:03:45.294903Z"
    },
    "papermill": {
     "duration": 0.019854,
     "end_time": "2023-02-05T20:03:45.298249",
     "exception": false,
     "start_time": "2023-02-05T20:03:45.278395",
     "status": "completed"
    },
    "tags": []
   },
   "outputs": [
    {
     "data": {
      "text/plain": [
       "(14204, 12)"
      ]
     },
     "execution_count": 4,
     "metadata": {},
     "output_type": "execute_result"
    }
   ],
   "source": [
    "train_data.shape"
   ]
  },
  {
   "cell_type": "code",
   "execution_count": 5,
   "id": "8dde4142",
   "metadata": {
    "execution": {
     "iopub.execute_input": "2023-02-05T20:03:45.318984Z",
     "iopub.status.busy": "2023-02-05T20:03:45.318600Z",
     "iopub.status.idle": "2023-02-05T20:03:45.347350Z",
     "shell.execute_reply": "2023-02-05T20:03:45.346133Z"
    },
    "papermill": {
     "duration": 0.042882,
     "end_time": "2023-02-05T20:03:45.350587",
     "exception": false,
     "start_time": "2023-02-05T20:03:45.307705",
     "status": "completed"
    },
    "tags": []
   },
   "outputs": [
    {
     "name": "stdout",
     "output_type": "stream",
     "text": [
      "<class 'pandas.core.frame.DataFrame'>\n",
      "RangeIndex: 14204 entries, 0 to 14203\n",
      "Data columns (total 12 columns):\n",
      " #   Column                     Non-Null Count  Dtype  \n",
      "---  ------                     --------------  -----  \n",
      " 0   Item_Identifier            14204 non-null  object \n",
      " 1   Item_Weight                14204 non-null  float64\n",
      " 2   Item_Fat_Content           14204 non-null  object \n",
      " 3   Item_Visibility            14204 non-null  float64\n",
      " 4   Item_Type                  14204 non-null  object \n",
      " 5   Item_MRP                   14204 non-null  float64\n",
      " 6   Outlet_Identifier          14204 non-null  object \n",
      " 7   Outlet_Establishment_Year  14204 non-null  int64  \n",
      " 8   Outlet_Size                14204 non-null  object \n",
      " 9   Outlet_Location_Type       14204 non-null  object \n",
      " 10  Outlet_Type                14204 non-null  object \n",
      " 11  Item_Outlet_Sales          8523 non-null   float64\n",
      "dtypes: float64(4), int64(1), object(7)\n",
      "memory usage: 1.3+ MB\n"
     ]
    }
   ],
   "source": [
    "train_data.info()"
   ]
  },
  {
   "cell_type": "markdown",
   "id": "d205276e",
   "metadata": {
    "papermill": {
     "duration": 0.00938,
     "end_time": "2023-02-05T20:03:45.370747",
     "exception": false,
     "start_time": "2023-02-05T20:03:45.361367",
     "status": "completed"
    },
    "tags": []
   },
   "source": [
    "# **Univariate Analysis**"
   ]
  },
  {
   "cell_type": "markdown",
   "id": "9b0b2459",
   "metadata": {
    "papermill": {
     "duration": 0.009453,
     "end_time": "2023-02-05T20:03:45.389821",
     "exception": false,
     "start_time": "2023-02-05T20:03:45.380368",
     "status": "completed"
    },
    "tags": []
   },
   "source": [
    "**1. Summary statistics**"
   ]
  },
  {
   "cell_type": "code",
   "execution_count": 6,
   "id": "f29d04ad",
   "metadata": {
    "execution": {
     "iopub.execute_input": "2023-02-05T20:03:45.410746Z",
     "iopub.status.busy": "2023-02-05T20:03:45.410308Z",
     "iopub.status.idle": "2023-02-05T20:03:45.442350Z",
     "shell.execute_reply": "2023-02-05T20:03:45.441256Z"
    },
    "papermill": {
     "duration": 0.045563,
     "end_time": "2023-02-05T20:03:45.444842",
     "exception": false,
     "start_time": "2023-02-05T20:03:45.399279",
     "status": "completed"
    },
    "tags": []
   },
   "outputs": [
    {
     "data": {
      "text/html": [
       "<div>\n",
       "<style scoped>\n",
       "    .dataframe tbody tr th:only-of-type {\n",
       "        vertical-align: middle;\n",
       "    }\n",
       "\n",
       "    .dataframe tbody tr th {\n",
       "        vertical-align: top;\n",
       "    }\n",
       "\n",
       "    .dataframe thead th {\n",
       "        text-align: right;\n",
       "    }\n",
       "</style>\n",
       "<table border=\"1\" class=\"dataframe\">\n",
       "  <thead>\n",
       "    <tr style=\"text-align: right;\">\n",
       "      <th></th>\n",
       "      <th>Item_Weight</th>\n",
       "      <th>Item_Visibility</th>\n",
       "      <th>Item_MRP</th>\n",
       "      <th>Outlet_Establishment_Year</th>\n",
       "      <th>Item_Outlet_Sales</th>\n",
       "    </tr>\n",
       "  </thead>\n",
       "  <tbody>\n",
       "    <tr>\n",
       "      <th>count</th>\n",
       "      <td>14204.000000</td>\n",
       "      <td>14204.000000</td>\n",
       "      <td>14204.000000</td>\n",
       "      <td>14204.000000</td>\n",
       "      <td>8523.000000</td>\n",
       "    </tr>\n",
       "    <tr>\n",
       "      <th>mean</th>\n",
       "      <td>12.759739</td>\n",
       "      <td>0.065953</td>\n",
       "      <td>141.004977</td>\n",
       "      <td>1997.830681</td>\n",
       "      <td>2181.288914</td>\n",
       "    </tr>\n",
       "    <tr>\n",
       "      <th>std</th>\n",
       "      <td>4.234851</td>\n",
       "      <td>0.051459</td>\n",
       "      <td>62.086938</td>\n",
       "      <td>8.371664</td>\n",
       "      <td>1706.499616</td>\n",
       "    </tr>\n",
       "    <tr>\n",
       "      <th>min</th>\n",
       "      <td>4.555000</td>\n",
       "      <td>0.000000</td>\n",
       "      <td>31.290000</td>\n",
       "      <td>1985.000000</td>\n",
       "      <td>33.290000</td>\n",
       "    </tr>\n",
       "    <tr>\n",
       "      <th>25%</th>\n",
       "      <td>9.300000</td>\n",
       "      <td>0.027036</td>\n",
       "      <td>94.012000</td>\n",
       "      <td>1987.000000</td>\n",
       "      <td>834.247400</td>\n",
       "    </tr>\n",
       "    <tr>\n",
       "      <th>50%</th>\n",
       "      <td>12.600000</td>\n",
       "      <td>0.054021</td>\n",
       "      <td>142.247000</td>\n",
       "      <td>1999.000000</td>\n",
       "      <td>1794.331000</td>\n",
       "    </tr>\n",
       "    <tr>\n",
       "      <th>75%</th>\n",
       "      <td>16.000000</td>\n",
       "      <td>0.094037</td>\n",
       "      <td>185.855600</td>\n",
       "      <td>2004.000000</td>\n",
       "      <td>3101.296400</td>\n",
       "    </tr>\n",
       "    <tr>\n",
       "      <th>max</th>\n",
       "      <td>21.350000</td>\n",
       "      <td>0.328391</td>\n",
       "      <td>266.888400</td>\n",
       "      <td>2009.000000</td>\n",
       "      <td>13086.964800</td>\n",
       "    </tr>\n",
       "  </tbody>\n",
       "</table>\n",
       "</div>"
      ],
      "text/plain": [
       "        Item_Weight  Item_Visibility      Item_MRP  Outlet_Establishment_Year  \\\n",
       "count  14204.000000     14204.000000  14204.000000               14204.000000   \n",
       "mean      12.759739         0.065953    141.004977                1997.830681   \n",
       "std        4.234851         0.051459     62.086938                   8.371664   \n",
       "min        4.555000         0.000000     31.290000                1985.000000   \n",
       "25%        9.300000         0.027036     94.012000                1987.000000   \n",
       "50%       12.600000         0.054021    142.247000                1999.000000   \n",
       "75%       16.000000         0.094037    185.855600                2004.000000   \n",
       "max       21.350000         0.328391    266.888400                2009.000000   \n",
       "\n",
       "       Item_Outlet_Sales  \n",
       "count        8523.000000  \n",
       "mean         2181.288914  \n",
       "std          1706.499616  \n",
       "min            33.290000  \n",
       "25%           834.247400  \n",
       "50%          1794.331000  \n",
       "75%          3101.296400  \n",
       "max         13086.964800  "
      ]
     },
     "execution_count": 6,
     "metadata": {},
     "output_type": "execute_result"
    }
   ],
   "source": [
    "train_data.describe()"
   ]
  },
  {
   "cell_type": "markdown",
   "id": "baac3134",
   "metadata": {
    "papermill": {
     "duration": 0.009336,
     "end_time": "2023-02-05T20:03:45.463941",
     "exception": false,
     "start_time": "2023-02-05T20:03:45.454605",
     "status": "completed"
    },
    "tags": []
   },
   "source": [
    "**2. Create Frequency Table**"
   ]
  },
  {
   "cell_type": "markdown",
   "id": "aa8799d2",
   "metadata": {
    "papermill": {
     "duration": 0.009483,
     "end_time": "2023-02-05T20:03:45.483041",
     "exception": false,
     "start_time": "2023-02-05T20:03:45.473558",
     "status": "completed"
    },
    "tags": []
   },
   "source": [
    "> One-way frequency table using pandas.crosstab() method"
   ]
  },
  {
   "cell_type": "code",
   "execution_count": 7,
   "id": "f8edf366",
   "metadata": {
    "execution": {
     "iopub.execute_input": "2023-02-05T20:03:45.504576Z",
     "iopub.status.busy": "2023-02-05T20:03:45.504160Z",
     "iopub.status.idle": "2023-02-05T20:03:45.511537Z",
     "shell.execute_reply": "2023-02-05T20:03:45.510317Z"
    },
    "papermill": {
     "duration": 0.021131,
     "end_time": "2023-02-05T20:03:45.513875",
     "exception": false,
     "start_time": "2023-02-05T20:03:45.492744",
     "status": "completed"
    },
    "tags": []
   },
   "outputs": [
    {
     "data": {
      "text/plain": [
       "Index(['Item_Identifier', 'Item_Weight', 'Item_Fat_Content', 'Item_Visibility',\n",
       "       'Item_Type', 'Item_MRP', 'Outlet_Identifier',\n",
       "       'Outlet_Establishment_Year', 'Outlet_Size', 'Outlet_Location_Type',\n",
       "       'Outlet_Type', 'Item_Outlet_Sales'],\n",
       "      dtype='object')"
      ]
     },
     "execution_count": 7,
     "metadata": {},
     "output_type": "execute_result"
    }
   ],
   "source": [
    "train_data.columns"
   ]
  },
  {
   "cell_type": "code",
   "execution_count": 8,
   "id": "ae3eb971",
   "metadata": {
    "execution": {
     "iopub.execute_input": "2023-02-05T20:03:45.535851Z",
     "iopub.status.busy": "2023-02-05T20:03:45.535455Z",
     "iopub.status.idle": "2023-02-05T20:03:45.575380Z",
     "shell.execute_reply": "2023-02-05T20:03:45.574246Z"
    },
    "papermill": {
     "duration": 0.053979,
     "end_time": "2023-02-05T20:03:45.577885",
     "exception": false,
     "start_time": "2023-02-05T20:03:45.523906",
     "status": "completed"
    },
    "tags": []
   },
   "outputs": [
    {
     "data": {
      "text/html": [
       "<div>\n",
       "<style scoped>\n",
       "    .dataframe tbody tr th:only-of-type {\n",
       "        vertical-align: middle;\n",
       "    }\n",
       "\n",
       "    .dataframe tbody tr th {\n",
       "        vertical-align: top;\n",
       "    }\n",
       "\n",
       "    .dataframe thead th {\n",
       "        text-align: right;\n",
       "    }\n",
       "</style>\n",
       "<table border=\"1\" class=\"dataframe\">\n",
       "  <thead>\n",
       "    <tr style=\"text-align: right;\">\n",
       "      <th>col_0</th>\n",
       "      <th>Item_Identifier_freq</th>\n",
       "    </tr>\n",
       "    <tr>\n",
       "      <th>Item_Identifier</th>\n",
       "      <th></th>\n",
       "    </tr>\n",
       "  </thead>\n",
       "  <tbody>\n",
       "    <tr>\n",
       "      <th>DRA12</th>\n",
       "      <td>9</td>\n",
       "    </tr>\n",
       "    <tr>\n",
       "      <th>DRA24</th>\n",
       "      <td>10</td>\n",
       "    </tr>\n",
       "    <tr>\n",
       "      <th>DRA59</th>\n",
       "      <td>10</td>\n",
       "    </tr>\n",
       "    <tr>\n",
       "      <th>DRB01</th>\n",
       "      <td>8</td>\n",
       "    </tr>\n",
       "    <tr>\n",
       "      <th>DRB13</th>\n",
       "      <td>9</td>\n",
       "    </tr>\n",
       "    <tr>\n",
       "      <th>...</th>\n",
       "      <td>...</td>\n",
       "    </tr>\n",
       "    <tr>\n",
       "      <th>NCZ30</th>\n",
       "      <td>10</td>\n",
       "    </tr>\n",
       "    <tr>\n",
       "      <th>NCZ41</th>\n",
       "      <td>8</td>\n",
       "    </tr>\n",
       "    <tr>\n",
       "      <th>NCZ42</th>\n",
       "      <td>10</td>\n",
       "    </tr>\n",
       "    <tr>\n",
       "      <th>NCZ53</th>\n",
       "      <td>9</td>\n",
       "    </tr>\n",
       "    <tr>\n",
       "      <th>NCZ54</th>\n",
       "      <td>10</td>\n",
       "    </tr>\n",
       "  </tbody>\n",
       "</table>\n",
       "<p>1559 rows × 1 columns</p>\n",
       "</div>"
      ],
      "text/plain": [
       "col_0            Item_Identifier_freq\n",
       "Item_Identifier                      \n",
       "DRA12                               9\n",
       "DRA24                              10\n",
       "DRA59                              10\n",
       "DRB01                               8\n",
       "DRB13                               9\n",
       "...                               ...\n",
       "NCZ30                              10\n",
       "NCZ41                               8\n",
       "NCZ42                              10\n",
       "NCZ53                               9\n",
       "NCZ54                              10\n",
       "\n",
       "[1559 rows x 1 columns]"
      ]
     },
     "execution_count": 8,
     "metadata": {},
     "output_type": "execute_result"
    }
   ],
   "source": [
    "pd.crosstab(train_data['Item_Identifier'], 'Item_Identifier_freq')"
   ]
  },
  {
   "cell_type": "code",
   "execution_count": 9,
   "id": "47c24b18",
   "metadata": {
    "execution": {
     "iopub.execute_input": "2023-02-05T20:03:45.600201Z",
     "iopub.status.busy": "2023-02-05T20:03:45.599792Z",
     "iopub.status.idle": "2023-02-05T20:03:45.627351Z",
     "shell.execute_reply": "2023-02-05T20:03:45.626229Z"
    },
    "papermill": {
     "duration": 0.041414,
     "end_time": "2023-02-05T20:03:45.629506",
     "exception": false,
     "start_time": "2023-02-05T20:03:45.588092",
     "status": "completed"
    },
    "tags": []
   },
   "outputs": [
    {
     "data": {
      "text/html": [
       "<div>\n",
       "<style scoped>\n",
       "    .dataframe tbody tr th:only-of-type {\n",
       "        vertical-align: middle;\n",
       "    }\n",
       "\n",
       "    .dataframe tbody tr th {\n",
       "        vertical-align: top;\n",
       "    }\n",
       "\n",
       "    .dataframe thead th {\n",
       "        text-align: right;\n",
       "    }\n",
       "</style>\n",
       "<table border=\"1\" class=\"dataframe\">\n",
       "  <thead>\n",
       "    <tr style=\"text-align: right;\">\n",
       "      <th>col_0</th>\n",
       "      <th>Item_Weight_freq</th>\n",
       "    </tr>\n",
       "    <tr>\n",
       "      <th>Item_Weight</th>\n",
       "      <th></th>\n",
       "    </tr>\n",
       "  </thead>\n",
       "  <tbody>\n",
       "    <tr>\n",
       "      <th>4.555</th>\n",
       "      <td>7</td>\n",
       "    </tr>\n",
       "    <tr>\n",
       "      <th>4.590</th>\n",
       "      <td>7</td>\n",
       "    </tr>\n",
       "    <tr>\n",
       "      <th>4.610</th>\n",
       "      <td>8</td>\n",
       "    </tr>\n",
       "    <tr>\n",
       "      <th>4.615</th>\n",
       "      <td>6</td>\n",
       "    </tr>\n",
       "    <tr>\n",
       "      <th>4.635</th>\n",
       "      <td>7</td>\n",
       "    </tr>\n",
       "    <tr>\n",
       "      <th>...</th>\n",
       "      <td>...</td>\n",
       "    </tr>\n",
       "    <tr>\n",
       "      <th>21.000</th>\n",
       "      <td>8</td>\n",
       "    </tr>\n",
       "    <tr>\n",
       "      <th>21.100</th>\n",
       "      <td>30</td>\n",
       "    </tr>\n",
       "    <tr>\n",
       "      <th>21.200</th>\n",
       "      <td>15</td>\n",
       "    </tr>\n",
       "    <tr>\n",
       "      <th>21.250</th>\n",
       "      <td>36</td>\n",
       "    </tr>\n",
       "    <tr>\n",
       "      <th>21.350</th>\n",
       "      <td>16</td>\n",
       "    </tr>\n",
       "  </tbody>\n",
       "</table>\n",
       "<p>415 rows × 1 columns</p>\n",
       "</div>"
      ],
      "text/plain": [
       "col_0        Item_Weight_freq\n",
       "Item_Weight                  \n",
       "4.555                       7\n",
       "4.590                       7\n",
       "4.610                       8\n",
       "4.615                       6\n",
       "4.635                       7\n",
       "...                       ...\n",
       "21.000                      8\n",
       "21.100                     30\n",
       "21.200                     15\n",
       "21.250                     36\n",
       "21.350                     16\n",
       "\n",
       "[415 rows x 1 columns]"
      ]
     },
     "execution_count": 9,
     "metadata": {},
     "output_type": "execute_result"
    }
   ],
   "source": [
    "pd.crosstab(train_data['Item_Weight'], 'Item_Weight_freq')"
   ]
  },
  {
   "cell_type": "code",
   "execution_count": 10,
   "id": "a93abbf3",
   "metadata": {
    "execution": {
     "iopub.execute_input": "2023-02-05T20:03:45.652171Z",
     "iopub.status.busy": "2023-02-05T20:03:45.651805Z",
     "iopub.status.idle": "2023-02-05T20:03:45.674209Z",
     "shell.execute_reply": "2023-02-05T20:03:45.673120Z"
    },
    "papermill": {
     "duration": 0.036672,
     "end_time": "2023-02-05T20:03:45.676530",
     "exception": false,
     "start_time": "2023-02-05T20:03:45.639858",
     "status": "completed"
    },
    "tags": []
   },
   "outputs": [
    {
     "data": {
      "text/html": [
       "<div>\n",
       "<style scoped>\n",
       "    .dataframe tbody tr th:only-of-type {\n",
       "        vertical-align: middle;\n",
       "    }\n",
       "\n",
       "    .dataframe tbody tr th {\n",
       "        vertical-align: top;\n",
       "    }\n",
       "\n",
       "    .dataframe thead th {\n",
       "        text-align: right;\n",
       "    }\n",
       "</style>\n",
       "<table border=\"1\" class=\"dataframe\">\n",
       "  <thead>\n",
       "    <tr style=\"text-align: right;\">\n",
       "      <th>col_0</th>\n",
       "      <th>Item_Fat_Content_freq</th>\n",
       "    </tr>\n",
       "    <tr>\n",
       "      <th>Item_Fat_Content</th>\n",
       "      <th></th>\n",
       "    </tr>\n",
       "  </thead>\n",
       "  <tbody>\n",
       "    <tr>\n",
       "      <th>LF</th>\n",
       "      <td>522</td>\n",
       "    </tr>\n",
       "    <tr>\n",
       "      <th>Low Fat</th>\n",
       "      <td>8485</td>\n",
       "    </tr>\n",
       "    <tr>\n",
       "      <th>Regular</th>\n",
       "      <td>4824</td>\n",
       "    </tr>\n",
       "    <tr>\n",
       "      <th>low fat</th>\n",
       "      <td>178</td>\n",
       "    </tr>\n",
       "    <tr>\n",
       "      <th>reg</th>\n",
       "      <td>195</td>\n",
       "    </tr>\n",
       "  </tbody>\n",
       "</table>\n",
       "</div>"
      ],
      "text/plain": [
       "col_0             Item_Fat_Content_freq\n",
       "Item_Fat_Content                       \n",
       "LF                                  522\n",
       "Low Fat                            8485\n",
       "Regular                            4824\n",
       "low fat                             178\n",
       "reg                                 195"
      ]
     },
     "execution_count": 10,
     "metadata": {},
     "output_type": "execute_result"
    }
   ],
   "source": [
    "pd.crosstab(train_data['Item_Fat_Content'], 'Item_Fat_Content_freq')"
   ]
  },
  {
   "cell_type": "code",
   "execution_count": 11,
   "id": "81e34693",
   "metadata": {
    "execution": {
     "iopub.execute_input": "2023-02-05T20:03:45.699832Z",
     "iopub.status.busy": "2023-02-05T20:03:45.699379Z",
     "iopub.status.idle": "2023-02-05T20:03:45.792343Z",
     "shell.execute_reply": "2023-02-05T20:03:45.791266Z"
    },
    "papermill": {
     "duration": 0.107876,
     "end_time": "2023-02-05T20:03:45.794963",
     "exception": false,
     "start_time": "2023-02-05T20:03:45.687087",
     "status": "completed"
    },
    "tags": []
   },
   "outputs": [
    {
     "data": {
      "text/html": [
       "<div>\n",
       "<style scoped>\n",
       "    .dataframe tbody tr th:only-of-type {\n",
       "        vertical-align: middle;\n",
       "    }\n",
       "\n",
       "    .dataframe tbody tr th {\n",
       "        vertical-align: top;\n",
       "    }\n",
       "\n",
       "    .dataframe thead th {\n",
       "        text-align: right;\n",
       "    }\n",
       "</style>\n",
       "<table border=\"1\" class=\"dataframe\">\n",
       "  <thead>\n",
       "    <tr style=\"text-align: right;\">\n",
       "      <th>col_0</th>\n",
       "      <th>Item_Visibility_freq</th>\n",
       "    </tr>\n",
       "    <tr>\n",
       "      <th>Item_Visibility</th>\n",
       "      <th></th>\n",
       "    </tr>\n",
       "  </thead>\n",
       "  <tbody>\n",
       "    <tr>\n",
       "      <th>0.000000</th>\n",
       "      <td>879</td>\n",
       "    </tr>\n",
       "    <tr>\n",
       "      <th>0.003575</th>\n",
       "      <td>1</td>\n",
       "    </tr>\n",
       "    <tr>\n",
       "      <th>0.003589</th>\n",
       "      <td>1</td>\n",
       "    </tr>\n",
       "    <tr>\n",
       "      <th>0.003591</th>\n",
       "      <td>1</td>\n",
       "    </tr>\n",
       "    <tr>\n",
       "      <th>0.003592</th>\n",
       "      <td>1</td>\n",
       "    </tr>\n",
       "    <tr>\n",
       "      <th>...</th>\n",
       "      <td>...</td>\n",
       "    </tr>\n",
       "    <tr>\n",
       "      <th>0.313935</th>\n",
       "      <td>1</td>\n",
       "    </tr>\n",
       "    <tr>\n",
       "      <th>0.321115</th>\n",
       "      <td>1</td>\n",
       "    </tr>\n",
       "    <tr>\n",
       "      <th>0.323637</th>\n",
       "      <td>1</td>\n",
       "    </tr>\n",
       "    <tr>\n",
       "      <th>0.325781</th>\n",
       "      <td>1</td>\n",
       "    </tr>\n",
       "    <tr>\n",
       "      <th>0.328391</th>\n",
       "      <td>1</td>\n",
       "    </tr>\n",
       "  </tbody>\n",
       "</table>\n",
       "<p>13006 rows × 1 columns</p>\n",
       "</div>"
      ],
      "text/plain": [
       "col_0            Item_Visibility_freq\n",
       "Item_Visibility                      \n",
       "0.000000                          879\n",
       "0.003575                            1\n",
       "0.003589                            1\n",
       "0.003591                            1\n",
       "0.003592                            1\n",
       "...                               ...\n",
       "0.313935                            1\n",
       "0.321115                            1\n",
       "0.323637                            1\n",
       "0.325781                            1\n",
       "0.328391                            1\n",
       "\n",
       "[13006 rows x 1 columns]"
      ]
     },
     "execution_count": 11,
     "metadata": {},
     "output_type": "execute_result"
    }
   ],
   "source": [
    "pd.crosstab(train_data['Item_Visibility'], 'Item_Visibility_freq')"
   ]
  },
  {
   "cell_type": "code",
   "execution_count": 12,
   "id": "c2d8e63b",
   "metadata": {
    "execution": {
     "iopub.execute_input": "2023-02-05T20:03:45.819098Z",
     "iopub.status.busy": "2023-02-05T20:03:45.818700Z",
     "iopub.status.idle": "2023-02-05T20:03:45.842163Z",
     "shell.execute_reply": "2023-02-05T20:03:45.840997Z"
    },
    "papermill": {
     "duration": 0.038119,
     "end_time": "2023-02-05T20:03:45.844680",
     "exception": false,
     "start_time": "2023-02-05T20:03:45.806561",
     "status": "completed"
    },
    "tags": []
   },
   "outputs": [
    {
     "data": {
      "text/html": [
       "<div>\n",
       "<style scoped>\n",
       "    .dataframe tbody tr th:only-of-type {\n",
       "        vertical-align: middle;\n",
       "    }\n",
       "\n",
       "    .dataframe tbody tr th {\n",
       "        vertical-align: top;\n",
       "    }\n",
       "\n",
       "    .dataframe thead th {\n",
       "        text-align: right;\n",
       "    }\n",
       "</style>\n",
       "<table border=\"1\" class=\"dataframe\">\n",
       "  <thead>\n",
       "    <tr style=\"text-align: right;\">\n",
       "      <th>col_0</th>\n",
       "      <th>Item_Type_freq</th>\n",
       "    </tr>\n",
       "    <tr>\n",
       "      <th>Item_Type</th>\n",
       "      <th></th>\n",
       "    </tr>\n",
       "  </thead>\n",
       "  <tbody>\n",
       "    <tr>\n",
       "      <th>Baking Goods</th>\n",
       "      <td>1086</td>\n",
       "    </tr>\n",
       "    <tr>\n",
       "      <th>Breads</th>\n",
       "      <td>416</td>\n",
       "    </tr>\n",
       "    <tr>\n",
       "      <th>Breakfast</th>\n",
       "      <td>186</td>\n",
       "    </tr>\n",
       "    <tr>\n",
       "      <th>Canned</th>\n",
       "      <td>1084</td>\n",
       "    </tr>\n",
       "    <tr>\n",
       "      <th>Dairy</th>\n",
       "      <td>1136</td>\n",
       "    </tr>\n",
       "    <tr>\n",
       "      <th>Frozen Foods</th>\n",
       "      <td>1426</td>\n",
       "    </tr>\n",
       "    <tr>\n",
       "      <th>Fruits and Vegetables</th>\n",
       "      <td>2013</td>\n",
       "    </tr>\n",
       "    <tr>\n",
       "      <th>Hard Drinks</th>\n",
       "      <td>362</td>\n",
       "    </tr>\n",
       "    <tr>\n",
       "      <th>Health and Hygiene</th>\n",
       "      <td>858</td>\n",
       "    </tr>\n",
       "    <tr>\n",
       "      <th>Household</th>\n",
       "      <td>1548</td>\n",
       "    </tr>\n",
       "    <tr>\n",
       "      <th>Meat</th>\n",
       "      <td>736</td>\n",
       "    </tr>\n",
       "    <tr>\n",
       "      <th>Others</th>\n",
       "      <td>280</td>\n",
       "    </tr>\n",
       "    <tr>\n",
       "      <th>Seafood</th>\n",
       "      <td>89</td>\n",
       "    </tr>\n",
       "    <tr>\n",
       "      <th>Snack Foods</th>\n",
       "      <td>1989</td>\n",
       "    </tr>\n",
       "    <tr>\n",
       "      <th>Soft Drinks</th>\n",
       "      <td>726</td>\n",
       "    </tr>\n",
       "    <tr>\n",
       "      <th>Starchy Foods</th>\n",
       "      <td>269</td>\n",
       "    </tr>\n",
       "  </tbody>\n",
       "</table>\n",
       "</div>"
      ],
      "text/plain": [
       "col_0                  Item_Type_freq\n",
       "Item_Type                            \n",
       "Baking Goods                     1086\n",
       "Breads                            416\n",
       "Breakfast                         186\n",
       "Canned                           1084\n",
       "Dairy                            1136\n",
       "Frozen Foods                     1426\n",
       "Fruits and Vegetables            2013\n",
       "Hard Drinks                       362\n",
       "Health and Hygiene                858\n",
       "Household                        1548\n",
       "Meat                              736\n",
       "Others                            280\n",
       "Seafood                            89\n",
       "Snack Foods                      1989\n",
       "Soft Drinks                       726\n",
       "Starchy Foods                     269"
      ]
     },
     "execution_count": 12,
     "metadata": {},
     "output_type": "execute_result"
    }
   ],
   "source": [
    "pd.crosstab(train_data['Item_Type'], 'Item_Type_freq')"
   ]
  },
  {
   "cell_type": "code",
   "execution_count": 13,
   "id": "207e665e",
   "metadata": {
    "execution": {
     "iopub.execute_input": "2023-02-05T20:03:45.868338Z",
     "iopub.status.busy": "2023-02-05T20:03:45.867956Z",
     "iopub.status.idle": "2023-02-05T20:03:45.934789Z",
     "shell.execute_reply": "2023-02-05T20:03:45.933502Z"
    },
    "papermill": {
     "duration": 0.08169,
     "end_time": "2023-02-05T20:03:45.937280",
     "exception": false,
     "start_time": "2023-02-05T20:03:45.855590",
     "status": "completed"
    },
    "tags": []
   },
   "outputs": [
    {
     "data": {
      "text/html": [
       "<div>\n",
       "<style scoped>\n",
       "    .dataframe tbody tr th:only-of-type {\n",
       "        vertical-align: middle;\n",
       "    }\n",
       "\n",
       "    .dataframe tbody tr th {\n",
       "        vertical-align: top;\n",
       "    }\n",
       "\n",
       "    .dataframe thead th {\n",
       "        text-align: right;\n",
       "    }\n",
       "</style>\n",
       "<table border=\"1\" class=\"dataframe\">\n",
       "  <thead>\n",
       "    <tr style=\"text-align: right;\">\n",
       "      <th>col_0</th>\n",
       "      <th>Item_MRP_freq</th>\n",
       "    </tr>\n",
       "    <tr>\n",
       "      <th>Item_MRP</th>\n",
       "      <th></th>\n",
       "    </tr>\n",
       "  </thead>\n",
       "  <tbody>\n",
       "    <tr>\n",
       "      <th>31.2900</th>\n",
       "      <td>1</td>\n",
       "    </tr>\n",
       "    <tr>\n",
       "      <th>31.4900</th>\n",
       "      <td>1</td>\n",
       "    </tr>\n",
       "    <tr>\n",
       "      <th>31.8900</th>\n",
       "      <td>1</td>\n",
       "    </tr>\n",
       "    <tr>\n",
       "      <th>31.9558</th>\n",
       "      <td>2</td>\n",
       "    </tr>\n",
       "    <tr>\n",
       "      <th>31.9900</th>\n",
       "      <td>1</td>\n",
       "    </tr>\n",
       "    <tr>\n",
       "      <th>...</th>\n",
       "      <td>...</td>\n",
       "    </tr>\n",
       "    <tr>\n",
       "      <th>266.3226</th>\n",
       "      <td>1</td>\n",
       "    </tr>\n",
       "    <tr>\n",
       "      <th>266.4884</th>\n",
       "      <td>1</td>\n",
       "    </tr>\n",
       "    <tr>\n",
       "      <th>266.5884</th>\n",
       "      <td>3</td>\n",
       "    </tr>\n",
       "    <tr>\n",
       "      <th>266.6884</th>\n",
       "      <td>2</td>\n",
       "    </tr>\n",
       "    <tr>\n",
       "      <th>266.8884</th>\n",
       "      <td>2</td>\n",
       "    </tr>\n",
       "  </tbody>\n",
       "</table>\n",
       "<p>8052 rows × 1 columns</p>\n",
       "</div>"
      ],
      "text/plain": [
       "col_0     Item_MRP_freq\n",
       "Item_MRP               \n",
       "31.2900               1\n",
       "31.4900               1\n",
       "31.8900               1\n",
       "31.9558               2\n",
       "31.9900               1\n",
       "...                 ...\n",
       "266.3226              1\n",
       "266.4884              1\n",
       "266.5884              3\n",
       "266.6884              2\n",
       "266.8884              2\n",
       "\n",
       "[8052 rows x 1 columns]"
      ]
     },
     "execution_count": 13,
     "metadata": {},
     "output_type": "execute_result"
    }
   ],
   "source": [
    "pd.crosstab(train_data['Item_MRP'], 'Item_MRP_freq')"
   ]
  },
  {
   "cell_type": "code",
   "execution_count": 14,
   "id": "a862859c",
   "metadata": {
    "execution": {
     "iopub.execute_input": "2023-02-05T20:03:45.961764Z",
     "iopub.status.busy": "2023-02-05T20:03:45.961343Z",
     "iopub.status.idle": "2023-02-05T20:03:45.986558Z",
     "shell.execute_reply": "2023-02-05T20:03:45.985408Z"
    },
    "papermill": {
     "duration": 0.040506,
     "end_time": "2023-02-05T20:03:45.989067",
     "exception": false,
     "start_time": "2023-02-05T20:03:45.948561",
     "status": "completed"
    },
    "tags": []
   },
   "outputs": [
    {
     "data": {
      "text/html": [
       "<div>\n",
       "<style scoped>\n",
       "    .dataframe tbody tr th:only-of-type {\n",
       "        vertical-align: middle;\n",
       "    }\n",
       "\n",
       "    .dataframe tbody tr th {\n",
       "        vertical-align: top;\n",
       "    }\n",
       "\n",
       "    .dataframe thead th {\n",
       "        text-align: right;\n",
       "    }\n",
       "</style>\n",
       "<table border=\"1\" class=\"dataframe\">\n",
       "  <thead>\n",
       "    <tr style=\"text-align: right;\">\n",
       "      <th>col_0</th>\n",
       "      <th>Outlet_Identifier_freq</th>\n",
       "    </tr>\n",
       "    <tr>\n",
       "      <th>Outlet_Identifier</th>\n",
       "      <th></th>\n",
       "    </tr>\n",
       "  </thead>\n",
       "  <tbody>\n",
       "    <tr>\n",
       "      <th>OUT010</th>\n",
       "      <td>925</td>\n",
       "    </tr>\n",
       "    <tr>\n",
       "      <th>OUT013</th>\n",
       "      <td>1553</td>\n",
       "    </tr>\n",
       "    <tr>\n",
       "      <th>OUT017</th>\n",
       "      <td>1543</td>\n",
       "    </tr>\n",
       "    <tr>\n",
       "      <th>OUT018</th>\n",
       "      <td>1546</td>\n",
       "    </tr>\n",
       "    <tr>\n",
       "      <th>OUT019</th>\n",
       "      <td>880</td>\n",
       "    </tr>\n",
       "    <tr>\n",
       "      <th>OUT027</th>\n",
       "      <td>1559</td>\n",
       "    </tr>\n",
       "    <tr>\n",
       "      <th>OUT035</th>\n",
       "      <td>1550</td>\n",
       "    </tr>\n",
       "    <tr>\n",
       "      <th>OUT045</th>\n",
       "      <td>1548</td>\n",
       "    </tr>\n",
       "    <tr>\n",
       "      <th>OUT046</th>\n",
       "      <td>1550</td>\n",
       "    </tr>\n",
       "    <tr>\n",
       "      <th>OUT049</th>\n",
       "      <td>1550</td>\n",
       "    </tr>\n",
       "  </tbody>\n",
       "</table>\n",
       "</div>"
      ],
      "text/plain": [
       "col_0              Outlet_Identifier_freq\n",
       "Outlet_Identifier                        \n",
       "OUT010                                925\n",
       "OUT013                               1553\n",
       "OUT017                               1543\n",
       "OUT018                               1546\n",
       "OUT019                                880\n",
       "OUT027                               1559\n",
       "OUT035                               1550\n",
       "OUT045                               1548\n",
       "OUT046                               1550\n",
       "OUT049                               1550"
      ]
     },
     "execution_count": 14,
     "metadata": {},
     "output_type": "execute_result"
    }
   ],
   "source": [
    "pd.crosstab(train_data['Outlet_Identifier'], 'Outlet_Identifier_freq')"
   ]
  },
  {
   "cell_type": "code",
   "execution_count": 15,
   "id": "97bb4903",
   "metadata": {
    "execution": {
     "iopub.execute_input": "2023-02-05T20:03:46.013978Z",
     "iopub.status.busy": "2023-02-05T20:03:46.013600Z",
     "iopub.status.idle": "2023-02-05T20:03:46.042553Z",
     "shell.execute_reply": "2023-02-05T20:03:46.039920Z"
    },
    "papermill": {
     "duration": 0.044905,
     "end_time": "2023-02-05T20:03:46.045498",
     "exception": false,
     "start_time": "2023-02-05T20:03:46.000593",
     "status": "completed"
    },
    "tags": []
   },
   "outputs": [
    {
     "data": {
      "text/html": [
       "<div>\n",
       "<style scoped>\n",
       "    .dataframe tbody tr th:only-of-type {\n",
       "        vertical-align: middle;\n",
       "    }\n",
       "\n",
       "    .dataframe tbody tr th {\n",
       "        vertical-align: top;\n",
       "    }\n",
       "\n",
       "    .dataframe thead th {\n",
       "        text-align: right;\n",
       "    }\n",
       "</style>\n",
       "<table border=\"1\" class=\"dataframe\">\n",
       "  <thead>\n",
       "    <tr style=\"text-align: right;\">\n",
       "      <th>col_0</th>\n",
       "      <th>Outlet_Establishment_Year_freq</th>\n",
       "    </tr>\n",
       "    <tr>\n",
       "      <th>Outlet_Establishment_Year</th>\n",
       "      <th></th>\n",
       "    </tr>\n",
       "  </thead>\n",
       "  <tbody>\n",
       "    <tr>\n",
       "      <th>1985</th>\n",
       "      <td>2439</td>\n",
       "    </tr>\n",
       "    <tr>\n",
       "      <th>1987</th>\n",
       "      <td>1553</td>\n",
       "    </tr>\n",
       "    <tr>\n",
       "      <th>1997</th>\n",
       "      <td>1550</td>\n",
       "    </tr>\n",
       "    <tr>\n",
       "      <th>1998</th>\n",
       "      <td>925</td>\n",
       "    </tr>\n",
       "    <tr>\n",
       "      <th>1999</th>\n",
       "      <td>1550</td>\n",
       "    </tr>\n",
       "    <tr>\n",
       "      <th>2002</th>\n",
       "      <td>1548</td>\n",
       "    </tr>\n",
       "    <tr>\n",
       "      <th>2004</th>\n",
       "      <td>1550</td>\n",
       "    </tr>\n",
       "    <tr>\n",
       "      <th>2007</th>\n",
       "      <td>1543</td>\n",
       "    </tr>\n",
       "    <tr>\n",
       "      <th>2009</th>\n",
       "      <td>1546</td>\n",
       "    </tr>\n",
       "  </tbody>\n",
       "</table>\n",
       "</div>"
      ],
      "text/plain": [
       "col_0                      Outlet_Establishment_Year_freq\n",
       "Outlet_Establishment_Year                                \n",
       "1985                                                 2439\n",
       "1987                                                 1553\n",
       "1997                                                 1550\n",
       "1998                                                  925\n",
       "1999                                                 1550\n",
       "2002                                                 1548\n",
       "2004                                                 1550\n",
       "2007                                                 1543\n",
       "2009                                                 1546"
      ]
     },
     "execution_count": 15,
     "metadata": {},
     "output_type": "execute_result"
    }
   ],
   "source": [
    "pd.crosstab(train_data['Outlet_Establishment_Year'], 'Outlet_Establishment_Year_freq')"
   ]
  },
  {
   "cell_type": "code",
   "execution_count": 16,
   "id": "b6ca9508",
   "metadata": {
    "execution": {
     "iopub.execute_input": "2023-02-05T20:03:46.073590Z",
     "iopub.status.busy": "2023-02-05T20:03:46.072459Z",
     "iopub.status.idle": "2023-02-05T20:03:46.100168Z",
     "shell.execute_reply": "2023-02-05T20:03:46.098794Z"
    },
    "papermill": {
     "duration": 0.044203,
     "end_time": "2023-02-05T20:03:46.102895",
     "exception": false,
     "start_time": "2023-02-05T20:03:46.058692",
     "status": "completed"
    },
    "tags": []
   },
   "outputs": [
    {
     "data": {
      "text/html": [
       "<div>\n",
       "<style scoped>\n",
       "    .dataframe tbody tr th:only-of-type {\n",
       "        vertical-align: middle;\n",
       "    }\n",
       "\n",
       "    .dataframe tbody tr th {\n",
       "        vertical-align: top;\n",
       "    }\n",
       "\n",
       "    .dataframe thead th {\n",
       "        text-align: right;\n",
       "    }\n",
       "</style>\n",
       "<table border=\"1\" class=\"dataframe\">\n",
       "  <thead>\n",
       "    <tr style=\"text-align: right;\">\n",
       "      <th>col_0</th>\n",
       "      <th>Outlet_Size_freq</th>\n",
       "    </tr>\n",
       "    <tr>\n",
       "      <th>Outlet_Size</th>\n",
       "      <th></th>\n",
       "    </tr>\n",
       "  </thead>\n",
       "  <tbody>\n",
       "    <tr>\n",
       "      <th>High</th>\n",
       "      <td>1553</td>\n",
       "    </tr>\n",
       "    <tr>\n",
       "      <th>Medium</th>\n",
       "      <td>8671</td>\n",
       "    </tr>\n",
       "    <tr>\n",
       "      <th>Small</th>\n",
       "      <td>3980</td>\n",
       "    </tr>\n",
       "  </tbody>\n",
       "</table>\n",
       "</div>"
      ],
      "text/plain": [
       "col_0        Outlet_Size_freq\n",
       "Outlet_Size                  \n",
       "High                     1553\n",
       "Medium                   8671\n",
       "Small                    3980"
      ]
     },
     "execution_count": 16,
     "metadata": {},
     "output_type": "execute_result"
    }
   ],
   "source": [
    "pd.crosstab(train_data['Outlet_Size'], 'Outlet_Size_freq')"
   ]
  },
  {
   "cell_type": "code",
   "execution_count": 17,
   "id": "0947b481",
   "metadata": {
    "execution": {
     "iopub.execute_input": "2023-02-05T20:03:46.129439Z",
     "iopub.status.busy": "2023-02-05T20:03:46.128213Z",
     "iopub.status.idle": "2023-02-05T20:03:46.151159Z",
     "shell.execute_reply": "2023-02-05T20:03:46.150003Z"
    },
    "papermill": {
     "duration": 0.038541,
     "end_time": "2023-02-05T20:03:46.153540",
     "exception": false,
     "start_time": "2023-02-05T20:03:46.114999",
     "status": "completed"
    },
    "tags": []
   },
   "outputs": [
    {
     "data": {
      "text/html": [
       "<div>\n",
       "<style scoped>\n",
       "    .dataframe tbody tr th:only-of-type {\n",
       "        vertical-align: middle;\n",
       "    }\n",
       "\n",
       "    .dataframe tbody tr th {\n",
       "        vertical-align: top;\n",
       "    }\n",
       "\n",
       "    .dataframe thead th {\n",
       "        text-align: right;\n",
       "    }\n",
       "</style>\n",
       "<table border=\"1\" class=\"dataframe\">\n",
       "  <thead>\n",
       "    <tr style=\"text-align: right;\">\n",
       "      <th>col_0</th>\n",
       "      <th>Outlet_Location_Type_freq</th>\n",
       "    </tr>\n",
       "    <tr>\n",
       "      <th>Outlet_Location_Type</th>\n",
       "      <th></th>\n",
       "    </tr>\n",
       "  </thead>\n",
       "  <tbody>\n",
       "    <tr>\n",
       "      <th>Tier 1</th>\n",
       "      <td>3980</td>\n",
       "    </tr>\n",
       "    <tr>\n",
       "      <th>Tier 2</th>\n",
       "      <td>4641</td>\n",
       "    </tr>\n",
       "    <tr>\n",
       "      <th>Tier 3</th>\n",
       "      <td>5583</td>\n",
       "    </tr>\n",
       "  </tbody>\n",
       "</table>\n",
       "</div>"
      ],
      "text/plain": [
       "col_0                 Outlet_Location_Type_freq\n",
       "Outlet_Location_Type                           \n",
       "Tier 1                                     3980\n",
       "Tier 2                                     4641\n",
       "Tier 3                                     5583"
      ]
     },
     "execution_count": 17,
     "metadata": {},
     "output_type": "execute_result"
    }
   ],
   "source": [
    "pd.crosstab(train_data['Outlet_Location_Type'], 'Outlet_Location_Type_freq')"
   ]
  },
  {
   "cell_type": "code",
   "execution_count": 18,
   "id": "abe632cf",
   "metadata": {
    "execution": {
     "iopub.execute_input": "2023-02-05T20:03:46.179233Z",
     "iopub.status.busy": "2023-02-05T20:03:46.178834Z",
     "iopub.status.idle": "2023-02-05T20:03:46.201374Z",
     "shell.execute_reply": "2023-02-05T20:03:46.200184Z"
    },
    "papermill": {
     "duration": 0.038618,
     "end_time": "2023-02-05T20:03:46.204201",
     "exception": false,
     "start_time": "2023-02-05T20:03:46.165583",
     "status": "completed"
    },
    "tags": []
   },
   "outputs": [
    {
     "data": {
      "text/html": [
       "<div>\n",
       "<style scoped>\n",
       "    .dataframe tbody tr th:only-of-type {\n",
       "        vertical-align: middle;\n",
       "    }\n",
       "\n",
       "    .dataframe tbody tr th {\n",
       "        vertical-align: top;\n",
       "    }\n",
       "\n",
       "    .dataframe thead th {\n",
       "        text-align: right;\n",
       "    }\n",
       "</style>\n",
       "<table border=\"1\" class=\"dataframe\">\n",
       "  <thead>\n",
       "    <tr style=\"text-align: right;\">\n",
       "      <th>col_0</th>\n",
       "      <th>Outlet_Type_freq</th>\n",
       "    </tr>\n",
       "    <tr>\n",
       "      <th>Outlet_Type</th>\n",
       "      <th></th>\n",
       "    </tr>\n",
       "  </thead>\n",
       "  <tbody>\n",
       "    <tr>\n",
       "      <th>Grocery Store</th>\n",
       "      <td>1805</td>\n",
       "    </tr>\n",
       "    <tr>\n",
       "      <th>Supermarket Type1</th>\n",
       "      <td>9294</td>\n",
       "    </tr>\n",
       "    <tr>\n",
       "      <th>Supermarket Type2</th>\n",
       "      <td>1546</td>\n",
       "    </tr>\n",
       "    <tr>\n",
       "      <th>Supermarket Type3</th>\n",
       "      <td>1559</td>\n",
       "    </tr>\n",
       "  </tbody>\n",
       "</table>\n",
       "</div>"
      ],
      "text/plain": [
       "col_0              Outlet_Type_freq\n",
       "Outlet_Type                        \n",
       "Grocery Store                  1805\n",
       "Supermarket Type1              9294\n",
       "Supermarket Type2              1546\n",
       "Supermarket Type3              1559"
      ]
     },
     "execution_count": 18,
     "metadata": {},
     "output_type": "execute_result"
    }
   ],
   "source": [
    "pd.crosstab(train_data['Outlet_Type'], 'Outlet_Type_freq')"
   ]
  },
  {
   "cell_type": "code",
   "execution_count": 19,
   "id": "906cf6a3",
   "metadata": {
    "execution": {
     "iopub.execute_input": "2023-02-05T20:03:46.231528Z",
     "iopub.status.busy": "2023-02-05T20:03:46.230498Z",
     "iopub.status.idle": "2023-02-05T20:03:46.273521Z",
     "shell.execute_reply": "2023-02-05T20:03:46.272211Z"
    },
    "papermill": {
     "duration": 0.059476,
     "end_time": "2023-02-05T20:03:46.276300",
     "exception": false,
     "start_time": "2023-02-05T20:03:46.216824",
     "status": "completed"
    },
    "tags": []
   },
   "outputs": [
    {
     "data": {
      "text/html": [
       "<div>\n",
       "<style scoped>\n",
       "    .dataframe tbody tr th:only-of-type {\n",
       "        vertical-align: middle;\n",
       "    }\n",
       "\n",
       "    .dataframe tbody tr th {\n",
       "        vertical-align: top;\n",
       "    }\n",
       "\n",
       "    .dataframe thead th {\n",
       "        text-align: right;\n",
       "    }\n",
       "</style>\n",
       "<table border=\"1\" class=\"dataframe\">\n",
       "  <thead>\n",
       "    <tr style=\"text-align: right;\">\n",
       "      <th>col_0</th>\n",
       "      <th>Item_Outlet_Sales_freq</th>\n",
       "    </tr>\n",
       "    <tr>\n",
       "      <th>Item_Outlet_Sales</th>\n",
       "      <th></th>\n",
       "    </tr>\n",
       "  </thead>\n",
       "  <tbody>\n",
       "    <tr>\n",
       "      <th>33.2900</th>\n",
       "      <td>2</td>\n",
       "    </tr>\n",
       "    <tr>\n",
       "      <th>33.9558</th>\n",
       "      <td>1</td>\n",
       "    </tr>\n",
       "    <tr>\n",
       "      <th>34.6216</th>\n",
       "      <td>1</td>\n",
       "    </tr>\n",
       "    <tr>\n",
       "      <th>35.2874</th>\n",
       "      <td>1</td>\n",
       "    </tr>\n",
       "    <tr>\n",
       "      <th>36.6190</th>\n",
       "      <td>2</td>\n",
       "    </tr>\n",
       "    <tr>\n",
       "      <th>...</th>\n",
       "      <td>...</td>\n",
       "    </tr>\n",
       "    <tr>\n",
       "      <th>10306.5840</th>\n",
       "      <td>1</td>\n",
       "    </tr>\n",
       "    <tr>\n",
       "      <th>10993.6896</th>\n",
       "      <td>1</td>\n",
       "    </tr>\n",
       "    <tr>\n",
       "      <th>11445.1020</th>\n",
       "      <td>1</td>\n",
       "    </tr>\n",
       "    <tr>\n",
       "      <th>12117.5600</th>\n",
       "      <td>1</td>\n",
       "    </tr>\n",
       "    <tr>\n",
       "      <th>13086.9648</th>\n",
       "      <td>1</td>\n",
       "    </tr>\n",
       "  </tbody>\n",
       "</table>\n",
       "<p>3493 rows × 1 columns</p>\n",
       "</div>"
      ],
      "text/plain": [
       "col_0              Item_Outlet_Sales_freq\n",
       "Item_Outlet_Sales                        \n",
       "33.2900                                 2\n",
       "33.9558                                 1\n",
       "34.6216                                 1\n",
       "35.2874                                 1\n",
       "36.6190                                 2\n",
       "...                                   ...\n",
       "10306.5840                              1\n",
       "10993.6896                              1\n",
       "11445.1020                              1\n",
       "12117.5600                              1\n",
       "13086.9648                              1\n",
       "\n",
       "[3493 rows x 1 columns]"
      ]
     },
     "execution_count": 19,
     "metadata": {},
     "output_type": "execute_result"
    }
   ],
   "source": [
    "pd.crosstab(train_data['Item_Outlet_Sales'], 'Item_Outlet_Sales_freq')"
   ]
  },
  {
   "cell_type": "markdown",
   "id": "6afd69f9",
   "metadata": {
    "papermill": {
     "duration": 0.012087,
     "end_time": "2023-02-05T20:03:46.300998",
     "exception": false,
     "start_time": "2023-02-05T20:03:46.288911",
     "status": "completed"
    },
    "tags": []
   },
   "source": [
    "**3. Create Charts**"
   ]
  },
  {
   "cell_type": "code",
   "execution_count": 20,
   "id": "cdfa3be6",
   "metadata": {
    "execution": {
     "iopub.execute_input": "2023-02-05T20:03:46.327788Z",
     "iopub.status.busy": "2023-02-05T20:03:46.327368Z",
     "iopub.status.idle": "2023-02-05T20:03:46.604462Z",
     "shell.execute_reply": "2023-02-05T20:03:46.603483Z"
    },
    "papermill": {
     "duration": 0.293393,
     "end_time": "2023-02-05T20:03:46.606846",
     "exception": false,
     "start_time": "2023-02-05T20:03:46.313453",
     "status": "completed"
    },
    "tags": []
   },
   "outputs": [
    {
     "data": {
      "text/plain": [
       "<AxesSubplot:xlabel='Item_Weight', ylabel='Density'>"
      ]
     },
     "execution_count": 20,
     "metadata": {},
     "output_type": "execute_result"
    },
    {
     "data": {
      "image/png": "[encoded data removed]",
      "text/plain": [
       "<Figure size 432x288 with 1 Axes>"
      ]
     },
     "metadata": {
      "needs_background": "light"
     },
     "output_type": "display_data"
    }
   ],
   "source": [
    "sns.kdeplot(train_data['Item_Weight'])"
   ]
  },
  {
   "cell_type": "code",
   "execution_count": 21,
   "id": "8c5317bc",
   "metadata": {
    "execution": {
     "iopub.execute_input": "2023-02-05T20:03:46.634523Z",
     "iopub.status.busy": "2023-02-05T20:03:46.633728Z",
     "iopub.status.idle": "2023-02-05T20:03:46.917627Z",
     "shell.execute_reply": "2023-02-05T20:03:46.916402Z"
    },
    "papermill": {
     "duration": 0.300438,
     "end_time": "2023-02-05T20:03:46.920123",
     "exception": false,
     "start_time": "2023-02-05T20:03:46.619685",
     "status": "completed"
    },
    "tags": []
   },
   "outputs": [
    {
     "data": {
      "text/plain": [
       "<AxesSubplot:xlabel='Item_Visibility', ylabel='Density'>"
      ]
     },
     "execution_count": 21,
     "metadata": {},
     "output_type": "execute_result"
    },
    {
     "data": {
      "image/png": "[encoded data removed]",
      "text/plain": [
       "<Figure size 432x288 with 1 Axes>"
      ]
     },
     "metadata": {
      "needs_background": "light"
     },
     "output_type": "display_data"
    }
   ],
   "source": [
    "sns.kdeplot(train_data['Item_Visibility'])"
   ]
  },
  {
   "cell_type": "code",
   "execution_count": 22,
   "id": "a717a31e",
   "metadata": {
    "execution": {
     "iopub.execute_input": "2023-02-05T20:03:46.948807Z",
     "iopub.status.busy": "2023-02-05T20:03:46.947848Z",
     "iopub.status.idle": "2023-02-05T20:03:47.225453Z",
     "shell.execute_reply": "2023-02-05T20:03:47.224170Z"
    },
    "papermill": {
     "duration": 0.294941,
     "end_time": "2023-02-05T20:03:47.228259",
     "exception": false,
     "start_time": "2023-02-05T20:03:46.933318",
     "status": "completed"
    },
    "tags": []
   },
   "outputs": [
    {
     "data": {
      "text/plain": [
       "<AxesSubplot:xlabel='Item_MRP', ylabel='Density'>"
      ]
     },
     "execution_count": 22,
     "metadata": {},
     "output_type": "execute_result"
    },
    {
     "data": {
      "image/png": "[encoded data removed]",
      "text/plain": [
       "<Figure size 432x288 with 1 Axes>"
      ]
     },
     "metadata": {
      "needs_background": "light"
     },
     "output_type": "display_data"
    }
   ],
   "source": [
    "sns.kdeplot(train_data['Item_MRP'])"
   ]
  },
  {
   "cell_type": "code",
   "execution_count": 23,
   "id": "fd4d6dc4",
   "metadata": {
    "execution": {
     "iopub.execute_input": "2023-02-05T20:03:47.258557Z",
     "iopub.status.busy": "2023-02-05T20:03:47.257331Z",
     "iopub.status.idle": "2023-02-05T20:03:47.540309Z",
     "shell.execute_reply": "2023-02-05T20:03:47.539341Z"
    },
    "papermill": {
     "duration": 0.300149,
     "end_time": "2023-02-05T20:03:47.542543",
     "exception": false,
     "start_time": "2023-02-05T20:03:47.242394",
     "status": "completed"
    },
    "tags": []
   },
   "outputs": [
    {
     "data": {
      "text/plain": [
       "<AxesSubplot:xlabel='Outlet_Establishment_Year', ylabel='Density'>"
      ]
     },
     "execution_count": 23,
     "metadata": {},
     "output_type": "execute_result"
    },
    {
     "data": {
      "image/png": "[encoded data removed]",
      "text/plain": [
       "<Figure size 432x288 with 1 Axes>"
      ]
     },
     "metadata": {
      "needs_background": "light"
     },
     "output_type": "display_data"
    }
   ],
   "source": [
    "sns.kdeplot(train_data['Outlet_Establishment_Year'])"
   ]
  },
  {
   "cell_type": "code",
   "execution_count": 24,
   "id": "83563c19",
   "metadata": {
    "execution": {
     "iopub.execute_input": "2023-02-05T20:03:47.573579Z",
     "iopub.status.busy": "2023-02-05T20:03:47.572905Z",
     "iopub.status.idle": "2023-02-05T20:03:47.847562Z",
     "shell.execute_reply": "2023-02-05T20:03:47.846612Z"
    },
    "papermill": {
     "duration": 0.292848,
     "end_time": "2023-02-05T20:03:47.850032",
     "exception": false,
     "start_time": "2023-02-05T20:03:47.557184",
     "status": "completed"
    },
    "tags": []
   },
   "outputs": [
    {
     "data": {
      "text/plain": [
       "<AxesSubplot:xlabel='Outlet_Establishment_Year', ylabel='Density'>"
      ]
     },
     "execution_count": 24,
     "metadata": {},
     "output_type": "execute_result"
    },
    {
     "data": {
      "image/png": "[encoded data removed]",
      "text/plain": [
       "<Figure size 432x288 with 1 Axes>"
      ]
     },
     "metadata": {
      "needs_background": "light"
     },
     "output_type": "display_data"
    }
   ],
   "source": [
    "sns.kdeplot(train_data['Outlet_Establishment_Year'])"
   ]
  },
  {
   "cell_type": "code",
   "execution_count": 25,
   "id": "7f298fdc",
   "metadata": {
    "execution": {
     "iopub.execute_input": "2023-02-05T20:03:47.881139Z",
     "iopub.status.busy": "2023-02-05T20:03:47.880705Z",
     "iopub.status.idle": "2023-02-05T20:03:48.133766Z",
     "shell.execute_reply": "2023-02-05T20:03:48.128577Z"
    },
    "papermill": {
     "duration": 0.273143,
     "end_time": "2023-02-05T20:03:48.137838",
     "exception": false,
     "start_time": "2023-02-05T20:03:47.864695",
     "status": "completed"
    },
    "tags": []
   },
   "outputs": [
    {
     "data": {
      "text/plain": [
       "<AxesSubplot:xlabel='Item_Outlet_Sales', ylabel='Density'>"
      ]
     },
     "execution_count": 25,
     "metadata": {},
     "output_type": "execute_result"
    },
    {
     "data": {
      "image/png": "[encoded data removed]",
      "text/plain": [
       "<Figure size 432x288 with 1 Axes>"
      ]
     },
     "metadata": {
      "needs_background": "light"
     },
     "output_type": "display_data"
    }
   ],
   "source": [
    "sns.kdeplot(train_data['Item_Outlet_Sales'])"
   ]
  },
  {
   "cell_type": "code",
   "execution_count": 26,
   "id": "5b12acfb",
   "metadata": {
    "execution": {
     "iopub.execute_input": "2023-02-05T20:03:48.171304Z",
     "iopub.status.busy": "2023-02-05T20:03:48.170171Z",
     "iopub.status.idle": "2023-02-05T20:03:48.627707Z",
     "shell.execute_reply": "2023-02-05T20:03:48.626495Z"
    },
    "papermill": {
     "duration": 0.476443,
     "end_time": "2023-02-05T20:03:48.630099",
     "exception": false,
     "start_time": "2023-02-05T20:03:48.153656",
     "status": "completed"
    },
    "tags": []
   },
   "outputs": [
    {
     "data": {
      "text/plain": [
       "<AxesSubplot:ylabel='Item_Outlet_Sales'>"
      ]
     },
     "execution_count": 26,
     "metadata": {},
     "output_type": "execute_result"
    },
    {
     "data": {
      "image/png": "[encoded data removed]",
      "text/plain": [
       "<Figure size 432x288 with 1 Axes>"
      ]
     },
     "metadata": {
      "needs_background": "light"
     },
     "output_type": "display_data"
    }
   ],
   "source": [
    "sns.lineplot(data= train_data['Item_Outlet_Sales'])"
   ]
  },
  {
   "cell_type": "markdown",
   "id": "ef5700de",
   "metadata": {
    "papermill": {
     "duration": 0.01522,
     "end_time": "2023-02-05T20:03:48.660753",
     "exception": false,
     "start_time": "2023-02-05T20:03:48.645533",
     "status": "completed"
    },
    "tags": []
   },
   "source": [
    "# **Bivariate Analysis**"
   ]
  },
  {
   "cell_type": "markdown",
   "id": "2192c0f4",
   "metadata": {
    "papermill": {
     "duration": 0.015084,
     "end_time": "2023-02-05T20:03:48.691385",
     "exception": false,
     "start_time": "2023-02-05T20:03:48.676301",
     "status": "completed"
    },
    "tags": []
   },
   "source": [
    "**1. Scatterplots**"
   ]
  },
  {
   "cell_type": "code",
   "execution_count": 27,
   "id": "6bcbb721",
   "metadata": {
    "execution": {
     "iopub.execute_input": "2023-02-05T20:03:48.724594Z",
     "iopub.status.busy": "2023-02-05T20:03:48.723456Z",
     "iopub.status.idle": "2023-02-05T20:03:48.961817Z",
     "shell.execute_reply": "2023-02-05T20:03:48.960678Z"
    },
    "papermill": {
     "duration": 0.257659,
     "end_time": "2023-02-05T20:03:48.964453",
     "exception": false,
     "start_time": "2023-02-05T20:03:48.706794",
     "status": "completed"
    },
    "tags": []
   },
   "outputs": [
    {
     "data": {
      "text/plain": [
       "<AxesSubplot:xlabel='Item_Weight', ylabel='Item_Outlet_Sales'>"
      ]
     },
     "execution_count": 27,
     "metadata": {},
     "output_type": "execute_result"
    },
    {
     "data": {
      "image/png": "[encoded data removed]",
      "text/plain": [
       "<Figure size 432x288 with 1 Axes>"
      ]
     },
     "metadata": {
      "needs_background": "light"
     },
     "output_type": "display_data"
    }
   ],
   "source": [
    "sns.scatterplot(x=train_data['Item_Weight'], y=train_data['Item_Outlet_Sales'])"
   ]
  },
  {
   "cell_type": "code",
   "execution_count": 28,
   "id": "31de3320",
   "metadata": {
    "execution": {
     "iopub.execute_input": "2023-02-05T20:03:49.000337Z",
     "iopub.status.busy": "2023-02-05T20:03:48.999908Z",
     "iopub.status.idle": "2023-02-05T20:03:49.211154Z",
     "shell.execute_reply": "2023-02-05T20:03:49.209984Z"
    },
    "papermill": {
     "duration": 0.231917,
     "end_time": "2023-02-05T20:03:49.213550",
     "exception": false,
     "start_time": "2023-02-05T20:03:48.981633",
     "status": "completed"
    },
    "tags": []
   },
   "outputs": [
    {
     "data": {
      "text/plain": [
       "<AxesSubplot:xlabel='Item_MRP', ylabel='Item_Outlet_Sales'>"
      ]
     },
     "execution_count": 28,
     "metadata": {},
     "output_type": "execute_result"
    },
    {
     "data": {
      "image/png": "[encoded data removed]",
      "text/plain": [
       "<Figure size 432x288 with 1 Axes>"
      ]
     },
     "metadata": {
      "needs_background": "light"
     },
     "output_type": "display_data"
    }
   ],
   "source": [
    "sns.scatterplot(x=train_data['Item_MRP'], y=train_data['Item_Outlet_Sales'])"
   ]
  },
  {
   "cell_type": "code",
   "execution_count": 29,
   "id": "45ca717a",
   "metadata": {
    "execution": {
     "iopub.execute_input": "2023-02-05T20:03:49.253077Z",
     "iopub.status.busy": "2023-02-05T20:03:49.252641Z",
     "iopub.status.idle": "2023-02-05T20:04:57.251520Z",
     "shell.execute_reply": "2023-02-05T20:04:57.250243Z"
    },
    "papermill": {
     "duration": 68.022705,
     "end_time": "2023-02-05T20:04:57.254823",
     "exception": false,
     "start_time": "2023-02-05T20:03:49.232118",
     "status": "completed"
    },
    "tags": []
   },
   "outputs": [
    {
     "name": "stderr",
     "output_type": "stream",
     "text": [
      "/opt/conda/lib/python3.7/site-packages/seaborn/categorical.py:1296: UserWarning: 50.4% of the points cannot be placed; you may want to decrease the size of the markers or use stripplot.\n",
      "  warnings.warn(msg, UserWarning)\n",
      "/opt/conda/lib/python3.7/site-packages/seaborn/categorical.py:1296: UserWarning: 51.4% of the points cannot be placed; you may want to decrease the size of the markers or use stripplot.\n",
      "  warnings.warn(msg, UserWarning)\n",
      "/opt/conda/lib/python3.7/site-packages/seaborn/categorical.py:1296: UserWarning: 51.3% of the points cannot be placed; you may want to decrease the size of the markers or use stripplot.\n",
      "  warnings.warn(msg, UserWarning)\n"
     ]
    },
    {
     "data": {
      "text/plain": [
       "<AxesSubplot:xlabel='Outlet_Location_Type', ylabel='Item_Outlet_Sales'>"
      ]
     },
     "execution_count": 29,
     "metadata": {},
     "output_type": "execute_result"
    },
    {
     "data": {
      "image/png": "[encoded data removed]",
      "text/plain": [
       "<Figure size 432x288 with 1 Axes>"
      ]
     },
     "metadata": {
      "needs_background": "light"
     },
     "output_type": "display_data"
    }
   ],
   "source": [
    "sns.swarmplot(x = train_data['Outlet_Location_Type'],y = train_data['Item_Outlet_Sales'])"
   ]
  },
  {
   "cell_type": "code",
   "execution_count": 30,
   "id": "636f8723",
   "metadata": {
    "execution": {
     "iopub.execute_input": "2023-02-05T20:04:57.298007Z",
     "iopub.status.busy": "2023-02-05T20:04:57.297230Z",
     "iopub.status.idle": "2023-02-05T20:04:57.681325Z",
     "shell.execute_reply": "2023-02-05T20:04:57.680171Z"
    },
    "papermill": {
     "duration": 0.408409,
     "end_time": "2023-02-05T20:04:57.683713",
     "exception": false,
     "start_time": "2023-02-05T20:04:57.275304",
     "status": "completed"
    },
    "tags": []
   },
   "outputs": [
    {
     "data": {
      "text/plain": [
       "(array([0, 1, 2, 3]),\n",
       " [Text(0, 0, 'Supermarket Type1'),\n",
       "  Text(1, 0, 'Supermarket Type2'),\n",
       "  Text(2, 0, 'Grocery Store'),\n",
       "  Text(3, 0, 'Supermarket Type3')])"
      ]
     },
     "execution_count": 30,
     "metadata": {},
     "output_type": "execute_result"
    },
    {
     "data": {
      "image/png": "[encoded data removed]",
      "text/plain": [
       "<Figure size 432x288 with 1 Axes>"
      ]
     },
     "metadata": {
      "needs_background": "light"
     },
     "output_type": "display_data"
    }
   ],
   "source": [
    "sns.barplot(x=train_data['Outlet_Type'], y=train_data['Item_Outlet_Sales'])\n",
    "plt.xticks(rotation=90)"
   ]
  },
  {
   "cell_type": "markdown",
   "id": "a23e435b",
   "metadata": {
    "papermill": {
     "duration": 0.020528,
     "end_time": "2023-02-05T20:04:57.724701",
     "exception": false,
     "start_time": "2023-02-05T20:04:57.704173",
     "status": "completed"
    },
    "tags": []
   },
   "source": [
    "**2. Correlation Coefficients**"
   ]
  },
  {
   "cell_type": "code",
   "execution_count": 31,
   "id": "3b63544a",
   "metadata": {
    "execution": {
     "iopub.execute_input": "2023-02-05T20:04:57.767605Z",
     "iopub.status.busy": "2023-02-05T20:04:57.767129Z",
     "iopub.status.idle": "2023-02-05T20:04:57.782878Z",
     "shell.execute_reply": "2023-02-05T20:04:57.781706Z"
    },
    "papermill": {
     "duration": 0.039933,
     "end_time": "2023-02-05T20:04:57.785234",
     "exception": false,
     "start_time": "2023-02-05T20:04:57.745301",
     "status": "completed"
    },
    "tags": []
   },
   "outputs": [
    {
     "data": {
      "text/html": [
       "<div>\n",
       "<style scoped>\n",
       "    .dataframe tbody tr th:only-of-type {\n",
       "        vertical-align: middle;\n",
       "    }\n",
       "\n",
       "    .dataframe tbody tr th {\n",
       "        vertical-align: top;\n",
       "    }\n",
       "\n",
       "    .dataframe thead th {\n",
       "        text-align: right;\n",
       "    }\n",
       "</style>\n",
       "<table border=\"1\" class=\"dataframe\">\n",
       "  <thead>\n",
       "    <tr style=\"text-align: right;\">\n",
       "      <th></th>\n",
       "      <th>Item_Weight</th>\n",
       "      <th>Item_Visibility</th>\n",
       "      <th>Item_MRP</th>\n",
       "      <th>Outlet_Establishment_Year</th>\n",
       "      <th>Item_Outlet_Sales</th>\n",
       "    </tr>\n",
       "  </thead>\n",
       "  <tbody>\n",
       "    <tr>\n",
       "      <th>Item_Weight</th>\n",
       "      <td>1.000000</td>\n",
       "      <td>-0.015366</td>\n",
       "      <td>0.033008</td>\n",
       "      <td>0.012448</td>\n",
       "      <td>0.009693</td>\n",
       "    </tr>\n",
       "    <tr>\n",
       "      <th>Item_Visibility</th>\n",
       "      <td>-0.015366</td>\n",
       "      <td>1.000000</td>\n",
       "      <td>-0.006351</td>\n",
       "      <td>-0.083678</td>\n",
       "      <td>-0.128625</td>\n",
       "    </tr>\n",
       "    <tr>\n",
       "      <th>Item_MRP</th>\n",
       "      <td>0.033008</td>\n",
       "      <td>-0.006351</td>\n",
       "      <td>1.000000</td>\n",
       "      <td>0.000141</td>\n",
       "      <td>0.567574</td>\n",
       "    </tr>\n",
       "    <tr>\n",
       "      <th>Outlet_Establishment_Year</th>\n",
       "      <td>0.012448</td>\n",
       "      <td>-0.083678</td>\n",
       "      <td>0.000141</td>\n",
       "      <td>1.000000</td>\n",
       "      <td>-0.049135</td>\n",
       "    </tr>\n",
       "    <tr>\n",
       "      <th>Item_Outlet_Sales</th>\n",
       "      <td>0.009693</td>\n",
       "      <td>-0.128625</td>\n",
       "      <td>0.567574</td>\n",
       "      <td>-0.049135</td>\n",
       "      <td>1.000000</td>\n",
       "    </tr>\n",
       "  </tbody>\n",
       "</table>\n",
       "</div>"
      ],
      "text/plain": [
       "                           Item_Weight  Item_Visibility  Item_MRP  \\\n",
       "Item_Weight                   1.000000        -0.015366  0.033008   \n",
       "Item_Visibility              -0.015366         1.000000 -0.006351   \n",
       "Item_MRP                      0.033008        -0.006351  1.000000   \n",
       "Outlet_Establishment_Year     0.012448        -0.083678  0.000141   \n",
       "Item_Outlet_Sales             0.009693        -0.128625  0.567574   \n",
       "\n",
       "                           Outlet_Establishment_Year  Item_Outlet_Sales  \n",
       "Item_Weight                                 0.012448           0.009693  \n",
       "Item_Visibility                            -0.083678          -0.128625  \n",
       "Item_MRP                                    0.000141           0.567574  \n",
       "Outlet_Establishment_Year                   1.000000          -0.049135  \n",
       "Item_Outlet_Sales                          -0.049135           1.000000  "
      ]
     },
     "execution_count": 31,
     "metadata": {},
     "output_type": "execute_result"
    }
   ],
   "source": [
    "train_data.corr()"
   ]
  },
  {
   "cell_type": "code",
   "execution_count": 32,
   "id": "877c96fc",
   "metadata": {
    "execution": {
     "iopub.execute_input": "2023-02-05T20:04:57.828947Z",
     "iopub.status.busy": "2023-02-05T20:04:57.827797Z",
     "iopub.status.idle": "2023-02-05T20:04:58.184800Z",
     "shell.execute_reply": "2023-02-05T20:04:58.183668Z"
    },
    "papermill": {
     "duration": 0.381383,
     "end_time": "2023-02-05T20:04:58.187253",
     "exception": false,
     "start_time": "2023-02-05T20:04:57.805870",
     "status": "completed"
    },
    "tags": []
   },
   "outputs": [
    {
     "data": {
      "text/plain": [
       "<AxesSubplot:>"
      ]
     },
     "execution_count": 32,
     "metadata": {},
     "output_type": "execute_result"
    },
    {
     "data": {
      "image/png": "[encoded data removed]",
      "text/plain": [
       "<Figure size 720x720 with 2 Axes>"
      ]
     },
     "metadata": {
      "needs_background": "light"
     },
     "output_type": "display_data"
    }
   ],
   "source": [
    "plt.figure(figsize = (10,10))\n",
    "sns.heatmap(train_data.corr(),annot = True)"
   ]
  },
  {
   "cell_type": "code",
   "execution_count": null,
   "id": "b9c09a8c",
   "metadata": {
    "papermill": {
     "duration": 0.021726,
     "end_time": "2023-02-05T20:04:58.230794",
     "exception": false,
     "start_time": "2023-02-05T20:04:58.209068",
     "status": "completed"
    },
    "tags": []
   },
   "outputs": [],
   "source": []
  }
 ],
 "metadata": {
  "kernelspec": {
   "display_name": "Python 3",
   "language": "python",
   "name": "python3"
  },
  "language_info": {
   "codemirror_mode": {
    "name": "ipython",
    "version": 3
   },
   "file_extension": ".py",
   "mimetype": "text/x-python",
   "name": "python",
   "nbconvert_exporter": "python",
   "pygments_lexer": "ipython3",
   "version": "3.7.12"
  },
  "papermill": {
   "default_parameters": {},
   "duration": 82.94891,
   "end_time": "2023-02-05T20:04:58.973940",
   "environment_variables": {},
   "exception": null,
   "input_path": "__notebook__.ipynb",
   "output_path": "__notebook__.ipynb",
   "parameters": {},
   "start_time": "2023-02-05T20:03:36.025030",
   "version": "2.3.4"
  }
 },
 "nbformat": 4,
 "nbformat_minor": 5
}
