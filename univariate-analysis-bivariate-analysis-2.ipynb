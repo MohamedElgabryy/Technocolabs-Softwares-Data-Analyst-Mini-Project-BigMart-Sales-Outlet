{
 "cells": [
  {
   "cell_type": "code",
   "execution_count": 1,
   "id": "f5715a75",
   "metadata": {
    "_cell_guid": "b1076dfc-b9ad-4769-8c92-a6c4dae69d19",
    "_uuid": "8f2839f25d086af736a60e9eeb907d3b93b6e0e5",
    "execution": {
     "iopub.execute_input": "2023-02-04T20:25:48.890245Z",
     "iopub.status.busy": "2023-02-04T20:25:48.889455Z",
     "iopub.status.idle": "2023-02-04T20:25:49.803574Z",
     "shell.execute_reply": "2023-02-04T20:25:49.802406Z"
    },
    "papermill": {
     "duration": 0.928481,
     "end_time": "2023-02-04T20:25:49.806247",
     "exception": false,
     "start_time": "2023-02-04T20:25:48.877766",
     "status": "completed"
    },
    "tags": []
   },
   "outputs": [
    {
     "name": "stdout",
     "output_type": "stream",
     "text": [
      "Setup Complete\n"
     ]
    }
   ],
   "source": [
    "import pandas as pd\n",
    "import numpy as np\n",
    "pd.plotting.register_matplotlib_converters()\n",
    "import matplotlib.pyplot as plt\n",
    "%matplotlib inline\n",
    "import seaborn as sns\n",
    "print(\"Setup Complete\")"
   ]
  },
  {
   "cell_type": "code",
   "execution_count": 2,
   "id": "2fa4f2b5",
   "metadata": {
    "execution": {
     "iopub.execute_input": "2023-02-04T20:25:49.825898Z",
     "iopub.status.busy": "2023-02-04T20:25:49.825524Z",
     "iopub.status.idle": "2023-02-04T20:25:49.881196Z",
     "shell.execute_reply": "2023-02-04T20:25:49.880339Z"
    },
    "papermill": {
     "duration": 0.068655,
     "end_time": "2023-02-04T20:25:49.884078",
     "exception": false,
     "start_time": "2023-02-04T20:25:49.815423",
     "status": "completed"
    },
    "tags": []
   },
   "outputs": [],
   "source": [
    "train_path = \"/kaggle/input/big-mart-clean-1/train_clean_1.csv\"\n",
    "\n",
    "train_data = pd.read_csv(train_path)"
   ]
  },
  {
   "cell_type": "code",
   "execution_count": 3,
   "id": "74d592cc",
   "metadata": {
    "execution": {
     "iopub.execute_input": "2023-02-04T20:25:49.903780Z",
     "iopub.status.busy": "2023-02-04T20:25:49.902940Z",
     "iopub.status.idle": "2023-02-04T20:25:49.928472Z",
     "shell.execute_reply": "2023-02-04T20:25:49.927364Z"
    },
    "papermill": {
     "duration": 0.038176,
     "end_time": "2023-02-04T20:25:49.931025",
     "exception": false,
     "start_time": "2023-02-04T20:25:49.892849",
     "status": "completed"
    },
    "tags": []
   },
   "outputs": [
    {
     "data": {
      "text/html": [
       "<div>\n",
       "<style scoped>\n",
       "    .dataframe tbody tr th:only-of-type {\n",
       "        vertical-align: middle;\n",
       "    }\n",
       "\n",
       "    .dataframe tbody tr th {\n",
       "        vertical-align: top;\n",
       "    }\n",
       "\n",
       "    .dataframe thead th {\n",
       "        text-align: right;\n",
       "    }\n",
       "</style>\n",
       "<table border=\"1\" class=\"dataframe\">\n",
       "  <thead>\n",
       "    <tr style=\"text-align: right;\">\n",
       "      <th></th>\n",
       "      <th>Item_Identifier</th>\n",
       "      <th>Item_Weight</th>\n",
       "      <th>Item_Fat_Content</th>\n",
       "      <th>Item_Visibility</th>\n",
       "      <th>Item_Type</th>\n",
       "      <th>Item_MRP</th>\n",
       "      <th>Outlet_Identifier</th>\n",
       "      <th>Outlet_Establishment_Year</th>\n",
       "      <th>Outlet_Size</th>\n",
       "      <th>Outlet_Location_Type</th>\n",
       "      <th>Outlet_Type</th>\n",
       "      <th>Item_Outlet_Sales</th>\n",
       "    </tr>\n",
       "  </thead>\n",
       "  <tbody>\n",
       "    <tr>\n",
       "      <th>0</th>\n",
       "      <td>FDA15</td>\n",
       "      <td>9.30</td>\n",
       "      <td>Low Fat</td>\n",
       "      <td>0.016047</td>\n",
       "      <td>Dairy</td>\n",
       "      <td>249.8092</td>\n",
       "      <td>OUT049</td>\n",
       "      <td>1999</td>\n",
       "      <td>Medium</td>\n",
       "      <td>Tier 1</td>\n",
       "      <td>Supermarket Type1</td>\n",
       "      <td>3735.1380</td>\n",
       "    </tr>\n",
       "    <tr>\n",
       "      <th>1</th>\n",
       "      <td>DRC01</td>\n",
       "      <td>5.92</td>\n",
       "      <td>Regular</td>\n",
       "      <td>0.019278</td>\n",
       "      <td>Soft Drinks</td>\n",
       "      <td>48.2692</td>\n",
       "      <td>OUT018</td>\n",
       "      <td>2009</td>\n",
       "      <td>Medium</td>\n",
       "      <td>Tier 3</td>\n",
       "      <td>Supermarket Type2</td>\n",
       "      <td>443.4228</td>\n",
       "    </tr>\n",
       "    <tr>\n",
       "      <th>2</th>\n",
       "      <td>FDN15</td>\n",
       "      <td>17.50</td>\n",
       "      <td>Low Fat</td>\n",
       "      <td>0.016760</td>\n",
       "      <td>Meat</td>\n",
       "      <td>141.6180</td>\n",
       "      <td>OUT049</td>\n",
       "      <td>1999</td>\n",
       "      <td>Medium</td>\n",
       "      <td>Tier 1</td>\n",
       "      <td>Supermarket Type1</td>\n",
       "      <td>2097.2700</td>\n",
       "    </tr>\n",
       "    <tr>\n",
       "      <th>3</th>\n",
       "      <td>FDX07</td>\n",
       "      <td>19.20</td>\n",
       "      <td>Regular</td>\n",
       "      <td>0.000000</td>\n",
       "      <td>Fruits and Vegetables</td>\n",
       "      <td>182.0950</td>\n",
       "      <td>OUT010</td>\n",
       "      <td>1998</td>\n",
       "      <td>Medium</td>\n",
       "      <td>Tier 3</td>\n",
       "      <td>Grocery Store</td>\n",
       "      <td>732.3800</td>\n",
       "    </tr>\n",
       "    <tr>\n",
       "      <th>4</th>\n",
       "      <td>NCD19</td>\n",
       "      <td>8.93</td>\n",
       "      <td>Low Fat</td>\n",
       "      <td>0.000000</td>\n",
       "      <td>Household</td>\n",
       "      <td>53.8614</td>\n",
       "      <td>OUT013</td>\n",
       "      <td>1987</td>\n",
       "      <td>High</td>\n",
       "      <td>Tier 3</td>\n",
       "      <td>Supermarket Type1</td>\n",
       "      <td>994.7052</td>\n",
       "    </tr>\n",
       "  </tbody>\n",
       "</table>\n",
       "</div>"
      ],
      "text/plain": [
       "  Item_Identifier  Item_Weight Item_Fat_Content  Item_Visibility  \\\n",
       "0           FDA15         9.30          Low Fat         0.016047   \n",
       "1           DRC01         5.92          Regular         0.019278   \n",
       "2           FDN15        17.50          Low Fat         0.016760   \n",
       "3           FDX07        19.20          Regular         0.000000   \n",
       "4           NCD19         8.93          Low Fat         0.000000   \n",
       "\n",
       "               Item_Type  Item_MRP Outlet_Identifier  \\\n",
       "0                  Dairy  249.8092            OUT049   \n",
       "1            Soft Drinks   48.2692            OUT018   \n",
       "2                   Meat  141.6180            OUT049   \n",
       "3  Fruits and Vegetables  182.0950            OUT010   \n",
       "4              Household   53.8614            OUT013   \n",
       "\n",
       "   Outlet_Establishment_Year Outlet_Size Outlet_Location_Type  \\\n",
       "0                       1999      Medium               Tier 1   \n",
       "1                       2009      Medium               Tier 3   \n",
       "2                       1999      Medium               Tier 1   \n",
       "3                       1998      Medium               Tier 3   \n",
       "4                       1987        High               Tier 3   \n",
       "\n",
       "         Outlet_Type  Item_Outlet_Sales  \n",
       "0  Supermarket Type1          3735.1380  \n",
       "1  Supermarket Type2           443.4228  \n",
       "2  Supermarket Type1          2097.2700  \n",
       "3      Grocery Store           732.3800  \n",
       "4  Supermarket Type1           994.7052  "
      ]
     },
     "execution_count": 3,
     "metadata": {},
     "output_type": "execute_result"
    }
   ],
   "source": [
    "train_data.head()"
   ]
  },
  {
   "cell_type": "code",
   "execution_count": 4,
   "id": "bacc8bea",
   "metadata": {
    "execution": {
     "iopub.execute_input": "2023-02-04T20:25:49.951289Z",
     "iopub.status.busy": "2023-02-04T20:25:49.950564Z",
     "iopub.status.idle": "2023-02-04T20:25:49.957652Z",
     "shell.execute_reply": "2023-02-04T20:25:49.956571Z"
    },
    "papermill": {
     "duration": 0.019697,
     "end_time": "2023-02-04T20:25:49.959971",
     "exception": false,
     "start_time": "2023-02-04T20:25:49.940274",
     "status": "completed"
    },
    "tags": []
   },
   "outputs": [
    {
     "data": {
      "text/plain": [
       "(8523, 12)"
      ]
     },
     "execution_count": 4,
     "metadata": {},
     "output_type": "execute_result"
    }
   ],
   "source": [
    "train_data.shape"
   ]
  },
  {
   "cell_type": "code",
   "execution_count": 5,
   "id": "25f16d7d",
   "metadata": {
    "execution": {
     "iopub.execute_input": "2023-02-04T20:25:49.980252Z",
     "iopub.status.busy": "2023-02-04T20:25:49.979475Z",
     "iopub.status.idle": "2023-02-04T20:25:50.007243Z",
     "shell.execute_reply": "2023-02-04T20:25:50.005882Z"
    },
    "papermill": {
     "duration": 0.04132,
     "end_time": "2023-02-04T20:25:50.010388",
     "exception": false,
     "start_time": "2023-02-04T20:25:49.969068",
     "status": "completed"
    },
    "tags": []
   },
   "outputs": [
    {
     "name": "stdout",
     "output_type": "stream",
     "text": [
      "<class 'pandas.core.frame.DataFrame'>\n",
      "RangeIndex: 8523 entries, 0 to 8522\n",
      "Data columns (total 12 columns):\n",
      " #   Column                     Non-Null Count  Dtype  \n",
      "---  ------                     --------------  -----  \n",
      " 0   Item_Identifier            8523 non-null   object \n",
      " 1   Item_Weight                8523 non-null   float64\n",
      " 2   Item_Fat_Content           8523 non-null   object \n",
      " 3   Item_Visibility            8523 non-null   float64\n",
      " 4   Item_Type                  8523 non-null   object \n",
      " 5   Item_MRP                   8523 non-null   float64\n",
      " 6   Outlet_Identifier          8523 non-null   object \n",
      " 7   Outlet_Establishment_Year  8523 non-null   int64  \n",
      " 8   Outlet_Size                8523 non-null   object \n",
      " 9   Outlet_Location_Type       8523 non-null   object \n",
      " 10  Outlet_Type                8523 non-null   object \n",
      " 11  Item_Outlet_Sales          8523 non-null   float64\n",
      "dtypes: float64(4), int64(1), object(7)\n",
      "memory usage: 799.2+ KB\n"
     ]
    }
   ],
   "source": [
    "train_data.info()"
   ]
  },
  {
   "cell_type": "markdown",
   "id": "d1d649fc",
   "metadata": {
    "papermill": {
     "duration": 0.008867,
     "end_time": "2023-02-04T20:25:50.028625",
     "exception": false,
     "start_time": "2023-02-04T20:25:50.019758",
     "status": "completed"
    },
    "tags": []
   },
   "source": [
    "# **Univariate Analysis**"
   ]
  },
  {
   "cell_type": "markdown",
   "id": "d36a8696",
   "metadata": {
    "papermill": {
     "duration": 0.008598,
     "end_time": "2023-02-04T20:25:50.046207",
     "exception": false,
     "start_time": "2023-02-04T20:25:50.037609",
     "status": "completed"
    },
    "tags": []
   },
   "source": [
    "**1. Summary statistics**"
   ]
  },
  {
   "cell_type": "code",
   "execution_count": 6,
   "id": "47caae28",
   "metadata": {
    "execution": {
     "iopub.execute_input": "2023-02-04T20:25:50.067266Z",
     "iopub.status.busy": "2023-02-04T20:25:50.066466Z",
     "iopub.status.idle": "2023-02-04T20:25:50.097536Z",
     "shell.execute_reply": "2023-02-04T20:25:50.096418Z"
    },
    "papermill": {
     "duration": 0.043635,
     "end_time": "2023-02-04T20:25:50.099829",
     "exception": false,
     "start_time": "2023-02-04T20:25:50.056194",
     "status": "completed"
    },
    "tags": []
   },
   "outputs": [
    {
     "data": {
      "text/html": [
       "<div>\n",
       "<style scoped>\n",
       "    .dataframe tbody tr th:only-of-type {\n",
       "        vertical-align: middle;\n",
       "    }\n",
       "\n",
       "    .dataframe tbody tr th {\n",
       "        vertical-align: top;\n",
       "    }\n",
       "\n",
       "    .dataframe thead th {\n",
       "        text-align: right;\n",
       "    }\n",
       "</style>\n",
       "<table border=\"1\" class=\"dataframe\">\n",
       "  <thead>\n",
       "    <tr style=\"text-align: right;\">\n",
       "      <th></th>\n",
       "      <th>Item_Weight</th>\n",
       "      <th>Item_Visibility</th>\n",
       "      <th>Item_MRP</th>\n",
       "      <th>Outlet_Establishment_Year</th>\n",
       "      <th>Item_Outlet_Sales</th>\n",
       "    </tr>\n",
       "  </thead>\n",
       "  <tbody>\n",
       "    <tr>\n",
       "      <th>count</th>\n",
       "      <td>8523.00000</td>\n",
       "      <td>8523.000000</td>\n",
       "      <td>8523.000000</td>\n",
       "      <td>8523.000000</td>\n",
       "      <td>8523.000000</td>\n",
       "    </tr>\n",
       "    <tr>\n",
       "      <th>mean</th>\n",
       "      <td>12.81342</td>\n",
       "      <td>0.066132</td>\n",
       "      <td>140.992782</td>\n",
       "      <td>1997.831867</td>\n",
       "      <td>2181.288914</td>\n",
       "    </tr>\n",
       "    <tr>\n",
       "      <th>std</th>\n",
       "      <td>4.22724</td>\n",
       "      <td>0.051598</td>\n",
       "      <td>62.275067</td>\n",
       "      <td>8.371760</td>\n",
       "      <td>1706.499616</td>\n",
       "    </tr>\n",
       "    <tr>\n",
       "      <th>min</th>\n",
       "      <td>4.55500</td>\n",
       "      <td>0.000000</td>\n",
       "      <td>31.290000</td>\n",
       "      <td>1985.000000</td>\n",
       "      <td>33.290000</td>\n",
       "    </tr>\n",
       "    <tr>\n",
       "      <th>25%</th>\n",
       "      <td>9.31000</td>\n",
       "      <td>0.026989</td>\n",
       "      <td>93.826500</td>\n",
       "      <td>1987.000000</td>\n",
       "      <td>834.247400</td>\n",
       "    </tr>\n",
       "    <tr>\n",
       "      <th>50%</th>\n",
       "      <td>12.60000</td>\n",
       "      <td>0.053931</td>\n",
       "      <td>143.012800</td>\n",
       "      <td>1999.000000</td>\n",
       "      <td>1794.331000</td>\n",
       "    </tr>\n",
       "    <tr>\n",
       "      <th>75%</th>\n",
       "      <td>16.00000</td>\n",
       "      <td>0.094585</td>\n",
       "      <td>185.643700</td>\n",
       "      <td>2004.000000</td>\n",
       "      <td>3101.296400</td>\n",
       "    </tr>\n",
       "    <tr>\n",
       "      <th>max</th>\n",
       "      <td>21.35000</td>\n",
       "      <td>0.328391</td>\n",
       "      <td>266.888400</td>\n",
       "      <td>2009.000000</td>\n",
       "      <td>13086.964800</td>\n",
       "    </tr>\n",
       "  </tbody>\n",
       "</table>\n",
       "</div>"
      ],
      "text/plain": [
       "       Item_Weight  Item_Visibility     Item_MRP  Outlet_Establishment_Year  \\\n",
       "count   8523.00000      8523.000000  8523.000000                8523.000000   \n",
       "mean      12.81342         0.066132   140.992782                1997.831867   \n",
       "std        4.22724         0.051598    62.275067                   8.371760   \n",
       "min        4.55500         0.000000    31.290000                1985.000000   \n",
       "25%        9.31000         0.026989    93.826500                1987.000000   \n",
       "50%       12.60000         0.053931   143.012800                1999.000000   \n",
       "75%       16.00000         0.094585   185.643700                2004.000000   \n",
       "max       21.35000         0.328391   266.888400                2009.000000   \n",
       "\n",
       "       Item_Outlet_Sales  \n",
       "count        8523.000000  \n",
       "mean         2181.288914  \n",
       "std          1706.499616  \n",
       "min            33.290000  \n",
       "25%           834.247400  \n",
       "50%          1794.331000  \n",
       "75%          3101.296400  \n",
       "max         13086.964800  "
      ]
     },
     "execution_count": 6,
     "metadata": {},
     "output_type": "execute_result"
    }
   ],
   "source": [
    "train_data.describe()"
   ]
  },
  {
   "cell_type": "markdown",
   "id": "e30a6779",
   "metadata": {
    "papermill": {
     "duration": 0.008992,
     "end_time": "2023-02-04T20:25:50.118301",
     "exception": false,
     "start_time": "2023-02-04T20:25:50.109309",
     "status": "completed"
    },
    "tags": []
   },
   "source": [
    "**2. Create Frequency Table**"
   ]
  },
  {
   "cell_type": "markdown",
   "id": "89ad27c6",
   "metadata": {
    "papermill": {
     "duration": 0.009204,
     "end_time": "2023-02-04T20:25:50.137064",
     "exception": false,
     "start_time": "2023-02-04T20:25:50.127860",
     "status": "completed"
    },
    "tags": []
   },
   "source": [
    "> One-way frequency table using pandas.crosstab() method"
   ]
  },
  {
   "cell_type": "code",
   "execution_count": 7,
   "id": "9287471c",
   "metadata": {
    "execution": {
     "iopub.execute_input": "2023-02-04T20:25:50.158000Z",
     "iopub.status.busy": "2023-02-04T20:25:50.157407Z",
     "iopub.status.idle": "2023-02-04T20:25:50.163176Z",
     "shell.execute_reply": "2023-02-04T20:25:50.162220Z"
    },
    "papermill": {
     "duration": 0.018617,
     "end_time": "2023-02-04T20:25:50.165148",
     "exception": false,
     "start_time": "2023-02-04T20:25:50.146531",
     "status": "completed"
    },
    "tags": []
   },
   "outputs": [
    {
     "data": {
      "text/plain": [
       "Index(['Item_Identifier', 'Item_Weight', 'Item_Fat_Content', 'Item_Visibility',\n",
       "       'Item_Type', 'Item_MRP', 'Outlet_Identifier',\n",
       "       'Outlet_Establishment_Year', 'Outlet_Size', 'Outlet_Location_Type',\n",
       "       'Outlet_Type', 'Item_Outlet_Sales'],\n",
       "      dtype='object')"
      ]
     },
     "execution_count": 7,
     "metadata": {},
     "output_type": "execute_result"
    }
   ],
   "source": [
    "train_data.columns"
   ]
  },
  {
   "cell_type": "code",
   "execution_count": 8,
   "id": "a1e67c61",
   "metadata": {
    "execution": {
     "iopub.execute_input": "2023-02-04T20:25:50.186313Z",
     "iopub.status.busy": "2023-02-04T20:25:50.185875Z",
     "iopub.status.idle": "2023-02-04T20:25:50.224471Z",
     "shell.execute_reply": "2023-02-04T20:25:50.223416Z"
    },
    "papermill": {
     "duration": 0.052028,
     "end_time": "2023-02-04T20:25:50.226778",
     "exception": false,
     "start_time": "2023-02-04T20:25:50.174750",
     "status": "completed"
    },
    "tags": []
   },
   "outputs": [
    {
     "data": {
      "text/html": [
       "<div>\n",
       "<style scoped>\n",
       "    .dataframe tbody tr th:only-of-type {\n",
       "        vertical-align: middle;\n",
       "    }\n",
       "\n",
       "    .dataframe tbody tr th {\n",
       "        vertical-align: top;\n",
       "    }\n",
       "\n",
       "    .dataframe thead th {\n",
       "        text-align: right;\n",
       "    }\n",
       "</style>\n",
       "<table border=\"1\" class=\"dataframe\">\n",
       "  <thead>\n",
       "    <tr style=\"text-align: right;\">\n",
       "      <th>col_0</th>\n",
       "      <th>Item_Identifier_freq</th>\n",
       "    </tr>\n",
       "    <tr>\n",
       "      <th>Item_Identifier</th>\n",
       "      <th></th>\n",
       "    </tr>\n",
       "  </thead>\n",
       "  <tbody>\n",
       "    <tr>\n",
       "      <th>DRA12</th>\n",
       "      <td>6</td>\n",
       "    </tr>\n",
       "    <tr>\n",
       "      <th>DRA24</th>\n",
       "      <td>7</td>\n",
       "    </tr>\n",
       "    <tr>\n",
       "      <th>DRA59</th>\n",
       "      <td>8</td>\n",
       "    </tr>\n",
       "    <tr>\n",
       "      <th>DRB01</th>\n",
       "      <td>3</td>\n",
       "    </tr>\n",
       "    <tr>\n",
       "      <th>DRB13</th>\n",
       "      <td>5</td>\n",
       "    </tr>\n",
       "    <tr>\n",
       "      <th>...</th>\n",
       "      <td>...</td>\n",
       "    </tr>\n",
       "    <tr>\n",
       "      <th>NCZ30</th>\n",
       "      <td>7</td>\n",
       "    </tr>\n",
       "    <tr>\n",
       "      <th>NCZ41</th>\n",
       "      <td>5</td>\n",
       "    </tr>\n",
       "    <tr>\n",
       "      <th>NCZ42</th>\n",
       "      <td>5</td>\n",
       "    </tr>\n",
       "    <tr>\n",
       "      <th>NCZ53</th>\n",
       "      <td>5</td>\n",
       "    </tr>\n",
       "    <tr>\n",
       "      <th>NCZ54</th>\n",
       "      <td>7</td>\n",
       "    </tr>\n",
       "  </tbody>\n",
       "</table>\n",
       "<p>1559 rows × 1 columns</p>\n",
       "</div>"
      ],
      "text/plain": [
       "col_0            Item_Identifier_freq\n",
       "Item_Identifier                      \n",
       "DRA12                               6\n",
       "DRA24                               7\n",
       "DRA59                               8\n",
       "DRB01                               3\n",
       "DRB13                               5\n",
       "...                               ...\n",
       "NCZ30                               7\n",
       "NCZ41                               5\n",
       "NCZ42                               5\n",
       "NCZ53                               5\n",
       "NCZ54                               7\n",
       "\n",
       "[1559 rows x 1 columns]"
      ]
     },
     "execution_count": 8,
     "metadata": {},
     "output_type": "execute_result"
    }
   ],
   "source": [
    "pd.crosstab(train_data['Item_Identifier'], 'Item_Identifier_freq')"
   ]
  },
  {
   "cell_type": "code",
   "execution_count": 9,
   "id": "bf12e9db",
   "metadata": {
    "execution": {
     "iopub.execute_input": "2023-02-04T20:25:50.248016Z",
     "iopub.status.busy": "2023-02-04T20:25:50.247606Z",
     "iopub.status.idle": "2023-02-04T20:25:50.274518Z",
     "shell.execute_reply": "2023-02-04T20:25:50.273387Z"
    },
    "papermill": {
     "duration": 0.040255,
     "end_time": "2023-02-04T20:25:50.276806",
     "exception": false,
     "start_time": "2023-02-04T20:25:50.236551",
     "status": "completed"
    },
    "tags": []
   },
   "outputs": [
    {
     "data": {
      "text/html": [
       "<div>\n",
       "<style scoped>\n",
       "    .dataframe tbody tr th:only-of-type {\n",
       "        vertical-align: middle;\n",
       "    }\n",
       "\n",
       "    .dataframe tbody tr th {\n",
       "        vertical-align: top;\n",
       "    }\n",
       "\n",
       "    .dataframe thead th {\n",
       "        text-align: right;\n",
       "    }\n",
       "</style>\n",
       "<table border=\"1\" class=\"dataframe\">\n",
       "  <thead>\n",
       "    <tr style=\"text-align: right;\">\n",
       "      <th>col_0</th>\n",
       "      <th>Item_Weight_freq</th>\n",
       "    </tr>\n",
       "    <tr>\n",
       "      <th>Item_Weight</th>\n",
       "      <th></th>\n",
       "    </tr>\n",
       "  </thead>\n",
       "  <tbody>\n",
       "    <tr>\n",
       "      <th>4.555</th>\n",
       "      <td>4</td>\n",
       "    </tr>\n",
       "    <tr>\n",
       "      <th>4.590</th>\n",
       "      <td>5</td>\n",
       "    </tr>\n",
       "    <tr>\n",
       "      <th>4.610</th>\n",
       "      <td>7</td>\n",
       "    </tr>\n",
       "    <tr>\n",
       "      <th>4.615</th>\n",
       "      <td>4</td>\n",
       "    </tr>\n",
       "    <tr>\n",
       "      <th>4.635</th>\n",
       "      <td>5</td>\n",
       "    </tr>\n",
       "    <tr>\n",
       "      <th>...</th>\n",
       "      <td>...</td>\n",
       "    </tr>\n",
       "    <tr>\n",
       "      <th>21.000</th>\n",
       "      <td>6</td>\n",
       "    </tr>\n",
       "    <tr>\n",
       "      <th>21.100</th>\n",
       "      <td>17</td>\n",
       "    </tr>\n",
       "    <tr>\n",
       "      <th>21.200</th>\n",
       "      <td>5</td>\n",
       "    </tr>\n",
       "    <tr>\n",
       "      <th>21.250</th>\n",
       "      <td>24</td>\n",
       "    </tr>\n",
       "    <tr>\n",
       "      <th>21.350</th>\n",
       "      <td>7</td>\n",
       "    </tr>\n",
       "  </tbody>\n",
       "</table>\n",
       "<p>415 rows × 1 columns</p>\n",
       "</div>"
      ],
      "text/plain": [
       "col_0        Item_Weight_freq\n",
       "Item_Weight                  \n",
       "4.555                       4\n",
       "4.590                       5\n",
       "4.610                       7\n",
       "4.615                       4\n",
       "4.635                       5\n",
       "...                       ...\n",
       "21.000                      6\n",
       "21.100                     17\n",
       "21.200                      5\n",
       "21.250                     24\n",
       "21.350                      7\n",
       "\n",
       "[415 rows x 1 columns]"
      ]
     },
     "execution_count": 9,
     "metadata": {},
     "output_type": "execute_result"
    }
   ],
   "source": [
    "pd.crosstab(train_data['Item_Weight'], 'Item_Weight_freq')"
   ]
  },
  {
   "cell_type": "code",
   "execution_count": 10,
   "id": "ca95dfe2",
   "metadata": {
    "execution": {
     "iopub.execute_input": "2023-02-04T20:25:50.298441Z",
     "iopub.status.busy": "2023-02-04T20:25:50.298005Z",
     "iopub.status.idle": "2023-02-04T20:25:50.318352Z",
     "shell.execute_reply": "2023-02-04T20:25:50.317486Z"
    },
    "papermill": {
     "duration": 0.034023,
     "end_time": "2023-02-04T20:25:50.320717",
     "exception": false,
     "start_time": "2023-02-04T20:25:50.286694",
     "status": "completed"
    },
    "tags": []
   },
   "outputs": [
    {
     "data": {
      "text/html": [
       "<div>\n",
       "<style scoped>\n",
       "    .dataframe tbody tr th:only-of-type {\n",
       "        vertical-align: middle;\n",
       "    }\n",
       "\n",
       "    .dataframe tbody tr th {\n",
       "        vertical-align: top;\n",
       "    }\n",
       "\n",
       "    .dataframe thead th {\n",
       "        text-align: right;\n",
       "    }\n",
       "</style>\n",
       "<table border=\"1\" class=\"dataframe\">\n",
       "  <thead>\n",
       "    <tr style=\"text-align: right;\">\n",
       "      <th>col_0</th>\n",
       "      <th>Item_Fat_Content_freq</th>\n",
       "    </tr>\n",
       "    <tr>\n",
       "      <th>Item_Fat_Content</th>\n",
       "      <th></th>\n",
       "    </tr>\n",
       "  </thead>\n",
       "  <tbody>\n",
       "    <tr>\n",
       "      <th>LF</th>\n",
       "      <td>316</td>\n",
       "    </tr>\n",
       "    <tr>\n",
       "      <th>Low Fat</th>\n",
       "      <td>5089</td>\n",
       "    </tr>\n",
       "    <tr>\n",
       "      <th>Regular</th>\n",
       "      <td>2889</td>\n",
       "    </tr>\n",
       "    <tr>\n",
       "      <th>low fat</th>\n",
       "      <td>112</td>\n",
       "    </tr>\n",
       "    <tr>\n",
       "      <th>reg</th>\n",
       "      <td>117</td>\n",
       "    </tr>\n",
       "  </tbody>\n",
       "</table>\n",
       "</div>"
      ],
      "text/plain": [
       "col_0             Item_Fat_Content_freq\n",
       "Item_Fat_Content                       \n",
       "LF                                  316\n",
       "Low Fat                            5089\n",
       "Regular                            2889\n",
       "low fat                             112\n",
       "reg                                 117"
      ]
     },
     "execution_count": 10,
     "metadata": {},
     "output_type": "execute_result"
    }
   ],
   "source": [
    "pd.crosstab(train_data['Item_Fat_Content'], 'Item_Fat_Content_freq')"
   ]
  },
  {
   "cell_type": "code",
   "execution_count": 11,
   "id": "2fd7e6a7",
   "metadata": {
    "execution": {
     "iopub.execute_input": "2023-02-04T20:25:50.342550Z",
     "iopub.status.busy": "2023-02-04T20:25:50.342162Z",
     "iopub.status.idle": "2023-02-04T20:25:50.404503Z",
     "shell.execute_reply": "2023-02-04T20:25:50.403404Z"
    },
    "papermill": {
     "duration": 0.076271,
     "end_time": "2023-02-04T20:25:50.407041",
     "exception": false,
     "start_time": "2023-02-04T20:25:50.330770",
     "status": "completed"
    },
    "tags": []
   },
   "outputs": [
    {
     "data": {
      "text/html": [
       "<div>\n",
       "<style scoped>\n",
       "    .dataframe tbody tr th:only-of-type {\n",
       "        vertical-align: middle;\n",
       "    }\n",
       "\n",
       "    .dataframe tbody tr th {\n",
       "        vertical-align: top;\n",
       "    }\n",
       "\n",
       "    .dataframe thead th {\n",
       "        text-align: right;\n",
       "    }\n",
       "</style>\n",
       "<table border=\"1\" class=\"dataframe\">\n",
       "  <thead>\n",
       "    <tr style=\"text-align: right;\">\n",
       "      <th>col_0</th>\n",
       "      <th>Item_Visibility_freq</th>\n",
       "    </tr>\n",
       "    <tr>\n",
       "      <th>Item_Visibility</th>\n",
       "      <th></th>\n",
       "    </tr>\n",
       "  </thead>\n",
       "  <tbody>\n",
       "    <tr>\n",
       "      <th>0.000000</th>\n",
       "      <td>526</td>\n",
       "    </tr>\n",
       "    <tr>\n",
       "      <th>0.003575</th>\n",
       "      <td>1</td>\n",
       "    </tr>\n",
       "    <tr>\n",
       "      <th>0.003589</th>\n",
       "      <td>1</td>\n",
       "    </tr>\n",
       "    <tr>\n",
       "      <th>0.003598</th>\n",
       "      <td>1</td>\n",
       "    </tr>\n",
       "    <tr>\n",
       "      <th>0.003599</th>\n",
       "      <td>1</td>\n",
       "    </tr>\n",
       "    <tr>\n",
       "      <th>...</th>\n",
       "      <td>...</td>\n",
       "    </tr>\n",
       "    <tr>\n",
       "      <th>0.309390</th>\n",
       "      <td>1</td>\n",
       "    </tr>\n",
       "    <tr>\n",
       "      <th>0.311090</th>\n",
       "      <td>1</td>\n",
       "    </tr>\n",
       "    <tr>\n",
       "      <th>0.321115</th>\n",
       "      <td>1</td>\n",
       "    </tr>\n",
       "    <tr>\n",
       "      <th>0.325781</th>\n",
       "      <td>1</td>\n",
       "    </tr>\n",
       "    <tr>\n",
       "      <th>0.328391</th>\n",
       "      <td>1</td>\n",
       "    </tr>\n",
       "  </tbody>\n",
       "</table>\n",
       "<p>7880 rows × 1 columns</p>\n",
       "</div>"
      ],
      "text/plain": [
       "col_0            Item_Visibility_freq\n",
       "Item_Visibility                      \n",
       "0.000000                          526\n",
       "0.003575                            1\n",
       "0.003589                            1\n",
       "0.003598                            1\n",
       "0.003599                            1\n",
       "...                               ...\n",
       "0.309390                            1\n",
       "0.311090                            1\n",
       "0.321115                            1\n",
       "0.325781                            1\n",
       "0.328391                            1\n",
       "\n",
       "[7880 rows x 1 columns]"
      ]
     },
     "execution_count": 11,
     "metadata": {},
     "output_type": "execute_result"
    }
   ],
   "source": [
    "pd.crosstab(train_data['Item_Visibility'], 'Item_Visibility_freq')"
   ]
  },
  {
   "cell_type": "code",
   "execution_count": 12,
   "id": "72df68d5",
   "metadata": {
    "execution": {
     "iopub.execute_input": "2023-02-04T20:25:50.429845Z",
     "iopub.status.busy": "2023-02-04T20:25:50.429405Z",
     "iopub.status.idle": "2023-02-04T20:25:50.450902Z",
     "shell.execute_reply": "2023-02-04T20:25:50.449868Z"
    },
    "papermill": {
     "duration": 0.035642,
     "end_time": "2023-02-04T20:25:50.453272",
     "exception": false,
     "start_time": "2023-02-04T20:25:50.417630",
     "status": "completed"
    },
    "tags": []
   },
   "outputs": [
    {
     "data": {
      "text/html": [
       "<div>\n",
       "<style scoped>\n",
       "    .dataframe tbody tr th:only-of-type {\n",
       "        vertical-align: middle;\n",
       "    }\n",
       "\n",
       "    .dataframe tbody tr th {\n",
       "        vertical-align: top;\n",
       "    }\n",
       "\n",
       "    .dataframe thead th {\n",
       "        text-align: right;\n",
       "    }\n",
       "</style>\n",
       "<table border=\"1\" class=\"dataframe\">\n",
       "  <thead>\n",
       "    <tr style=\"text-align: right;\">\n",
       "      <th>col_0</th>\n",
       "      <th>Item_Type_freq</th>\n",
       "    </tr>\n",
       "    <tr>\n",
       "      <th>Item_Type</th>\n",
       "      <th></th>\n",
       "    </tr>\n",
       "  </thead>\n",
       "  <tbody>\n",
       "    <tr>\n",
       "      <th>Baking Goods</th>\n",
       "      <td>648</td>\n",
       "    </tr>\n",
       "    <tr>\n",
       "      <th>Breads</th>\n",
       "      <td>251</td>\n",
       "    </tr>\n",
       "    <tr>\n",
       "      <th>Breakfast</th>\n",
       "      <td>110</td>\n",
       "    </tr>\n",
       "    <tr>\n",
       "      <th>Canned</th>\n",
       "      <td>649</td>\n",
       "    </tr>\n",
       "    <tr>\n",
       "      <th>Dairy</th>\n",
       "      <td>682</td>\n",
       "    </tr>\n",
       "    <tr>\n",
       "      <th>Frozen Foods</th>\n",
       "      <td>856</td>\n",
       "    </tr>\n",
       "    <tr>\n",
       "      <th>Fruits and Vegetables</th>\n",
       "      <td>1232</td>\n",
       "    </tr>\n",
       "    <tr>\n",
       "      <th>Hard Drinks</th>\n",
       "      <td>214</td>\n",
       "    </tr>\n",
       "    <tr>\n",
       "      <th>Health and Hygiene</th>\n",
       "      <td>520</td>\n",
       "    </tr>\n",
       "    <tr>\n",
       "      <th>Household</th>\n",
       "      <td>910</td>\n",
       "    </tr>\n",
       "    <tr>\n",
       "      <th>Meat</th>\n",
       "      <td>425</td>\n",
       "    </tr>\n",
       "    <tr>\n",
       "      <th>Others</th>\n",
       "      <td>169</td>\n",
       "    </tr>\n",
       "    <tr>\n",
       "      <th>Seafood</th>\n",
       "      <td>64</td>\n",
       "    </tr>\n",
       "    <tr>\n",
       "      <th>Snack Foods</th>\n",
       "      <td>1200</td>\n",
       "    </tr>\n",
       "    <tr>\n",
       "      <th>Soft Drinks</th>\n",
       "      <td>445</td>\n",
       "    </tr>\n",
       "    <tr>\n",
       "      <th>Starchy Foods</th>\n",
       "      <td>148</td>\n",
       "    </tr>\n",
       "  </tbody>\n",
       "</table>\n",
       "</div>"
      ],
      "text/plain": [
       "col_0                  Item_Type_freq\n",
       "Item_Type                            \n",
       "Baking Goods                      648\n",
       "Breads                            251\n",
       "Breakfast                         110\n",
       "Canned                            649\n",
       "Dairy                             682\n",
       "Frozen Foods                      856\n",
       "Fruits and Vegetables            1232\n",
       "Hard Drinks                       214\n",
       "Health and Hygiene                520\n",
       "Household                         910\n",
       "Meat                              425\n",
       "Others                            169\n",
       "Seafood                            64\n",
       "Snack Foods                      1200\n",
       "Soft Drinks                       445\n",
       "Starchy Foods                     148"
      ]
     },
     "execution_count": 12,
     "metadata": {},
     "output_type": "execute_result"
    }
   ],
   "source": [
    "pd.crosstab(train_data['Item_Type'], 'Item_Type_freq')"
   ]
  },
  {
   "cell_type": "code",
   "execution_count": 13,
   "id": "63f44667",
   "metadata": {
    "execution": {
     "iopub.execute_input": "2023-02-04T20:25:50.476744Z",
     "iopub.status.busy": "2023-02-04T20:25:50.475771Z",
     "iopub.status.idle": "2023-02-04T20:25:50.530129Z",
     "shell.execute_reply": "2023-02-04T20:25:50.528974Z"
    },
    "papermill": {
     "duration": 0.068938,
     "end_time": "2023-02-04T20:25:50.532931",
     "exception": false,
     "start_time": "2023-02-04T20:25:50.463993",
     "status": "completed"
    },
    "tags": []
   },
   "outputs": [
    {
     "data": {
      "text/html": [
       "<div>\n",
       "<style scoped>\n",
       "    .dataframe tbody tr th:only-of-type {\n",
       "        vertical-align: middle;\n",
       "    }\n",
       "\n",
       "    .dataframe tbody tr th {\n",
       "        vertical-align: top;\n",
       "    }\n",
       "\n",
       "    .dataframe thead th {\n",
       "        text-align: right;\n",
       "    }\n",
       "</style>\n",
       "<table border=\"1\" class=\"dataframe\">\n",
       "  <thead>\n",
       "    <tr style=\"text-align: right;\">\n",
       "      <th>col_0</th>\n",
       "      <th>Item_MRP_freq</th>\n",
       "    </tr>\n",
       "    <tr>\n",
       "      <th>Item_MRP</th>\n",
       "      <th></th>\n",
       "    </tr>\n",
       "  </thead>\n",
       "  <tbody>\n",
       "    <tr>\n",
       "      <th>31.2900</th>\n",
       "      <td>1</td>\n",
       "    </tr>\n",
       "    <tr>\n",
       "      <th>31.4900</th>\n",
       "      <td>1</td>\n",
       "    </tr>\n",
       "    <tr>\n",
       "      <th>31.8900</th>\n",
       "      <td>1</td>\n",
       "    </tr>\n",
       "    <tr>\n",
       "      <th>31.9558</th>\n",
       "      <td>2</td>\n",
       "    </tr>\n",
       "    <tr>\n",
       "      <th>32.0558</th>\n",
       "      <td>1</td>\n",
       "    </tr>\n",
       "    <tr>\n",
       "      <th>...</th>\n",
       "      <td>...</td>\n",
       "    </tr>\n",
       "    <tr>\n",
       "      <th>266.1884</th>\n",
       "      <td>2</td>\n",
       "    </tr>\n",
       "    <tr>\n",
       "      <th>266.2884</th>\n",
       "      <td>1</td>\n",
       "    </tr>\n",
       "    <tr>\n",
       "      <th>266.5884</th>\n",
       "      <td>2</td>\n",
       "    </tr>\n",
       "    <tr>\n",
       "      <th>266.6884</th>\n",
       "      <td>2</td>\n",
       "    </tr>\n",
       "    <tr>\n",
       "      <th>266.8884</th>\n",
       "      <td>2</td>\n",
       "    </tr>\n",
       "  </tbody>\n",
       "</table>\n",
       "<p>5938 rows × 1 columns</p>\n",
       "</div>"
      ],
      "text/plain": [
       "col_0     Item_MRP_freq\n",
       "Item_MRP               \n",
       "31.2900               1\n",
       "31.4900               1\n",
       "31.8900               1\n",
       "31.9558               2\n",
       "32.0558               1\n",
       "...                 ...\n",
       "266.1884              2\n",
       "266.2884              1\n",
       "266.5884              2\n",
       "266.6884              2\n",
       "266.8884              2\n",
       "\n",
       "[5938 rows x 1 columns]"
      ]
     },
     "execution_count": 13,
     "metadata": {},
     "output_type": "execute_result"
    }
   ],
   "source": [
    "pd.crosstab(train_data['Item_MRP'], 'Item_MRP_freq')"
   ]
  },
  {
   "cell_type": "code",
   "execution_count": 14,
   "id": "3f31e35f",
   "metadata": {
    "execution": {
     "iopub.execute_input": "2023-02-04T20:25:50.557328Z",
     "iopub.status.busy": "2023-02-04T20:25:50.556896Z",
     "iopub.status.idle": "2023-02-04T20:25:50.582389Z",
     "shell.execute_reply": "2023-02-04T20:25:50.580911Z"
    },
    "papermill": {
     "duration": 0.040443,
     "end_time": "2023-02-04T20:25:50.584701",
     "exception": false,
     "start_time": "2023-02-04T20:25:50.544258",
     "status": "completed"
    },
    "tags": []
   },
   "outputs": [
    {
     "data": {
      "text/html": [
       "<div>\n",
       "<style scoped>\n",
       "    .dataframe tbody tr th:only-of-type {\n",
       "        vertical-align: middle;\n",
       "    }\n",
       "\n",
       "    .dataframe tbody tr th {\n",
       "        vertical-align: top;\n",
       "    }\n",
       "\n",
       "    .dataframe thead th {\n",
       "        text-align: right;\n",
       "    }\n",
       "</style>\n",
       "<table border=\"1\" class=\"dataframe\">\n",
       "  <thead>\n",
       "    <tr style=\"text-align: right;\">\n",
       "      <th>col_0</th>\n",
       "      <th>Outlet_Identifier_freq</th>\n",
       "    </tr>\n",
       "    <tr>\n",
       "      <th>Outlet_Identifier</th>\n",
       "      <th></th>\n",
       "    </tr>\n",
       "  </thead>\n",
       "  <tbody>\n",
       "    <tr>\n",
       "      <th>OUT010</th>\n",
       "      <td>555</td>\n",
       "    </tr>\n",
       "    <tr>\n",
       "      <th>OUT013</th>\n",
       "      <td>932</td>\n",
       "    </tr>\n",
       "    <tr>\n",
       "      <th>OUT017</th>\n",
       "      <td>926</td>\n",
       "    </tr>\n",
       "    <tr>\n",
       "      <th>OUT018</th>\n",
       "      <td>928</td>\n",
       "    </tr>\n",
       "    <tr>\n",
       "      <th>OUT019</th>\n",
       "      <td>528</td>\n",
       "    </tr>\n",
       "    <tr>\n",
       "      <th>OUT027</th>\n",
       "      <td>935</td>\n",
       "    </tr>\n",
       "    <tr>\n",
       "      <th>OUT035</th>\n",
       "      <td>930</td>\n",
       "    </tr>\n",
       "    <tr>\n",
       "      <th>OUT045</th>\n",
       "      <td>929</td>\n",
       "    </tr>\n",
       "    <tr>\n",
       "      <th>OUT046</th>\n",
       "      <td>930</td>\n",
       "    </tr>\n",
       "    <tr>\n",
       "      <th>OUT049</th>\n",
       "      <td>930</td>\n",
       "    </tr>\n",
       "  </tbody>\n",
       "</table>\n",
       "</div>"
      ],
      "text/plain": [
       "col_0              Outlet_Identifier_freq\n",
       "Outlet_Identifier                        \n",
       "OUT010                                555\n",
       "OUT013                                932\n",
       "OUT017                                926\n",
       "OUT018                                928\n",
       "OUT019                                528\n",
       "OUT027                                935\n",
       "OUT035                                930\n",
       "OUT045                                929\n",
       "OUT046                                930\n",
       "OUT049                                930"
      ]
     },
     "execution_count": 14,
     "metadata": {},
     "output_type": "execute_result"
    }
   ],
   "source": [
    "pd.crosstab(train_data['Outlet_Identifier'], 'Outlet_Identifier_freq')"
   ]
  },
  {
   "cell_type": "code",
   "execution_count": 15,
   "id": "6855c963",
   "metadata": {
    "execution": {
     "iopub.execute_input": "2023-02-04T20:25:50.608341Z",
     "iopub.status.busy": "2023-02-04T20:25:50.607919Z",
     "iopub.status.idle": "2023-02-04T20:25:50.627989Z",
     "shell.execute_reply": "2023-02-04T20:25:50.626971Z"
    },
    "papermill": {
     "duration": 0.034416,
     "end_time": "2023-02-04T20:25:50.630110",
     "exception": false,
     "start_time": "2023-02-04T20:25:50.595694",
     "status": "completed"
    },
    "tags": []
   },
   "outputs": [
    {
     "data": {
      "text/html": [
       "<div>\n",
       "<style scoped>\n",
       "    .dataframe tbody tr th:only-of-type {\n",
       "        vertical-align: middle;\n",
       "    }\n",
       "\n",
       "    .dataframe tbody tr th {\n",
       "        vertical-align: top;\n",
       "    }\n",
       "\n",
       "    .dataframe thead th {\n",
       "        text-align: right;\n",
       "    }\n",
       "</style>\n",
       "<table border=\"1\" class=\"dataframe\">\n",
       "  <thead>\n",
       "    <tr style=\"text-align: right;\">\n",
       "      <th>col_0</th>\n",
       "      <th>Outlet_Establishment_Year_freq</th>\n",
       "    </tr>\n",
       "    <tr>\n",
       "      <th>Outlet_Establishment_Year</th>\n",
       "      <th></th>\n",
       "    </tr>\n",
       "  </thead>\n",
       "  <tbody>\n",
       "    <tr>\n",
       "      <th>1985</th>\n",
       "      <td>1463</td>\n",
       "    </tr>\n",
       "    <tr>\n",
       "      <th>1987</th>\n",
       "      <td>932</td>\n",
       "    </tr>\n",
       "    <tr>\n",
       "      <th>1997</th>\n",
       "      <td>930</td>\n",
       "    </tr>\n",
       "    <tr>\n",
       "      <th>1998</th>\n",
       "      <td>555</td>\n",
       "    </tr>\n",
       "    <tr>\n",
       "      <th>1999</th>\n",
       "      <td>930</td>\n",
       "    </tr>\n",
       "    <tr>\n",
       "      <th>2002</th>\n",
       "      <td>929</td>\n",
       "    </tr>\n",
       "    <tr>\n",
       "      <th>2004</th>\n",
       "      <td>930</td>\n",
       "    </tr>\n",
       "    <tr>\n",
       "      <th>2007</th>\n",
       "      <td>926</td>\n",
       "    </tr>\n",
       "    <tr>\n",
       "      <th>2009</th>\n",
       "      <td>928</td>\n",
       "    </tr>\n",
       "  </tbody>\n",
       "</table>\n",
       "</div>"
      ],
      "text/plain": [
       "col_0                      Outlet_Establishment_Year_freq\n",
       "Outlet_Establishment_Year                                \n",
       "1985                                                 1463\n",
       "1987                                                  932\n",
       "1997                                                  930\n",
       "1998                                                  555\n",
       "1999                                                  930\n",
       "2002                                                  929\n",
       "2004                                                  930\n",
       "2007                                                  926\n",
       "2009                                                  928"
      ]
     },
     "execution_count": 15,
     "metadata": {},
     "output_type": "execute_result"
    }
   ],
   "source": [
    "pd.crosstab(train_data['Outlet_Establishment_Year'], 'Outlet_Establishment_Year_freq')"
   ]
  },
  {
   "cell_type": "code",
   "execution_count": 16,
   "id": "c93f65ab",
   "metadata": {
    "execution": {
     "iopub.execute_input": "2023-02-04T20:25:50.653545Z",
     "iopub.status.busy": "2023-02-04T20:25:50.653124Z",
     "iopub.status.idle": "2023-02-04T20:25:50.675232Z",
     "shell.execute_reply": "2023-02-04T20:25:50.674245Z"
    },
    "papermill": {
     "duration": 0.036442,
     "end_time": "2023-02-04T20:25:50.677552",
     "exception": false,
     "start_time": "2023-02-04T20:25:50.641110",
     "status": "completed"
    },
    "tags": []
   },
   "outputs": [
    {
     "data": {
      "text/html": [
       "<div>\n",
       "<style scoped>\n",
       "    .dataframe tbody tr th:only-of-type {\n",
       "        vertical-align: middle;\n",
       "    }\n",
       "\n",
       "    .dataframe tbody tr th {\n",
       "        vertical-align: top;\n",
       "    }\n",
       "\n",
       "    .dataframe thead th {\n",
       "        text-align: right;\n",
       "    }\n",
       "</style>\n",
       "<table border=\"1\" class=\"dataframe\">\n",
       "  <thead>\n",
       "    <tr style=\"text-align: right;\">\n",
       "      <th>col_0</th>\n",
       "      <th>Outlet_Size_freq</th>\n",
       "    </tr>\n",
       "    <tr>\n",
       "      <th>Outlet_Size</th>\n",
       "      <th></th>\n",
       "    </tr>\n",
       "  </thead>\n",
       "  <tbody>\n",
       "    <tr>\n",
       "      <th>High</th>\n",
       "      <td>932</td>\n",
       "    </tr>\n",
       "    <tr>\n",
       "      <th>Medium</th>\n",
       "      <td>5203</td>\n",
       "    </tr>\n",
       "    <tr>\n",
       "      <th>Small</th>\n",
       "      <td>2388</td>\n",
       "    </tr>\n",
       "  </tbody>\n",
       "</table>\n",
       "</div>"
      ],
      "text/plain": [
       "col_0        Outlet_Size_freq\n",
       "Outlet_Size                  \n",
       "High                      932\n",
       "Medium                   5203\n",
       "Small                    2388"
      ]
     },
     "execution_count": 16,
     "metadata": {},
     "output_type": "execute_result"
    }
   ],
   "source": [
    "pd.crosstab(train_data['Outlet_Size'], 'Outlet_Size_freq')"
   ]
  },
  {
   "cell_type": "code",
   "execution_count": 17,
   "id": "f332ab1a",
   "metadata": {
    "execution": {
     "iopub.execute_input": "2023-02-04T20:25:50.701628Z",
     "iopub.status.busy": "2023-02-04T20:25:50.701220Z",
     "iopub.status.idle": "2023-02-04T20:25:50.722270Z",
     "shell.execute_reply": "2023-02-04T20:25:50.721244Z"
    },
    "papermill": {
     "duration": 0.035806,
     "end_time": "2023-02-04T20:25:50.724616",
     "exception": false,
     "start_time": "2023-02-04T20:25:50.688810",
     "status": "completed"
    },
    "tags": []
   },
   "outputs": [
    {
     "data": {
      "text/html": [
       "<div>\n",
       "<style scoped>\n",
       "    .dataframe tbody tr th:only-of-type {\n",
       "        vertical-align: middle;\n",
       "    }\n",
       "\n",
       "    .dataframe tbody tr th {\n",
       "        vertical-align: top;\n",
       "    }\n",
       "\n",
       "    .dataframe thead th {\n",
       "        text-align: right;\n",
       "    }\n",
       "</style>\n",
       "<table border=\"1\" class=\"dataframe\">\n",
       "  <thead>\n",
       "    <tr style=\"text-align: right;\">\n",
       "      <th>col_0</th>\n",
       "      <th>Outlet_Location_Type_freq</th>\n",
       "    </tr>\n",
       "    <tr>\n",
       "      <th>Outlet_Location_Type</th>\n",
       "      <th></th>\n",
       "    </tr>\n",
       "  </thead>\n",
       "  <tbody>\n",
       "    <tr>\n",
       "      <th>Tier 1</th>\n",
       "      <td>2388</td>\n",
       "    </tr>\n",
       "    <tr>\n",
       "      <th>Tier 2</th>\n",
       "      <td>2785</td>\n",
       "    </tr>\n",
       "    <tr>\n",
       "      <th>Tier 3</th>\n",
       "      <td>3350</td>\n",
       "    </tr>\n",
       "  </tbody>\n",
       "</table>\n",
       "</div>"
      ],
      "text/plain": [
       "col_0                 Outlet_Location_Type_freq\n",
       "Outlet_Location_Type                           \n",
       "Tier 1                                     2388\n",
       "Tier 2                                     2785\n",
       "Tier 3                                     3350"
      ]
     },
     "execution_count": 17,
     "metadata": {},
     "output_type": "execute_result"
    }
   ],
   "source": [
    "pd.crosstab(train_data['Outlet_Location_Type'], 'Outlet_Location_Type_freq')"
   ]
  },
  {
   "cell_type": "code",
   "execution_count": 18,
   "id": "5b0a62cb",
   "metadata": {
    "execution": {
     "iopub.execute_input": "2023-02-04T20:25:50.749202Z",
     "iopub.status.busy": "2023-02-04T20:25:50.748811Z",
     "iopub.status.idle": "2023-02-04T20:25:50.769252Z",
     "shell.execute_reply": "2023-02-04T20:25:50.768250Z"
    },
    "papermill": {
     "duration": 0.035442,
     "end_time": "2023-02-04T20:25:50.771555",
     "exception": false,
     "start_time": "2023-02-04T20:25:50.736113",
     "status": "completed"
    },
    "tags": []
   },
   "outputs": [
    {
     "data": {
      "text/html": [
       "<div>\n",
       "<style scoped>\n",
       "    .dataframe tbody tr th:only-of-type {\n",
       "        vertical-align: middle;\n",
       "    }\n",
       "\n",
       "    .dataframe tbody tr th {\n",
       "        vertical-align: top;\n",
       "    }\n",
       "\n",
       "    .dataframe thead th {\n",
       "        text-align: right;\n",
       "    }\n",
       "</style>\n",
       "<table border=\"1\" class=\"dataframe\">\n",
       "  <thead>\n",
       "    <tr style=\"text-align: right;\">\n",
       "      <th>col_0</th>\n",
       "      <th>Outlet_Type_freq</th>\n",
       "    </tr>\n",
       "    <tr>\n",
       "      <th>Outlet_Type</th>\n",
       "      <th></th>\n",
       "    </tr>\n",
       "  </thead>\n",
       "  <tbody>\n",
       "    <tr>\n",
       "      <th>Grocery Store</th>\n",
       "      <td>1083</td>\n",
       "    </tr>\n",
       "    <tr>\n",
       "      <th>Supermarket Type1</th>\n",
       "      <td>5577</td>\n",
       "    </tr>\n",
       "    <tr>\n",
       "      <th>Supermarket Type2</th>\n",
       "      <td>928</td>\n",
       "    </tr>\n",
       "    <tr>\n",
       "      <th>Supermarket Type3</th>\n",
       "      <td>935</td>\n",
       "    </tr>\n",
       "  </tbody>\n",
       "</table>\n",
       "</div>"
      ],
      "text/plain": [
       "col_0              Outlet_Type_freq\n",
       "Outlet_Type                        \n",
       "Grocery Store                  1083\n",
       "Supermarket Type1              5577\n",
       "Supermarket Type2               928\n",
       "Supermarket Type3               935"
      ]
     },
     "execution_count": 18,
     "metadata": {},
     "output_type": "execute_result"
    }
   ],
   "source": [
    "pd.crosstab(train_data['Outlet_Type'], 'Outlet_Type_freq')"
   ]
  },
  {
   "cell_type": "code",
   "execution_count": 19,
   "id": "8731e1eb",
   "metadata": {
    "execution": {
     "iopub.execute_input": "2023-02-04T20:25:50.796732Z",
     "iopub.status.busy": "2023-02-04T20:25:50.796351Z",
     "iopub.status.idle": "2023-02-04T20:25:50.837120Z",
     "shell.execute_reply": "2023-02-04T20:25:50.836059Z"
    },
    "papermill": {
     "duration": 0.056349,
     "end_time": "2023-02-04T20:25:50.839567",
     "exception": false,
     "start_time": "2023-02-04T20:25:50.783218",
     "status": "completed"
    },
    "tags": []
   },
   "outputs": [
    {
     "data": {
      "text/html": [
       "<div>\n",
       "<style scoped>\n",
       "    .dataframe tbody tr th:only-of-type {\n",
       "        vertical-align: middle;\n",
       "    }\n",
       "\n",
       "    .dataframe tbody tr th {\n",
       "        vertical-align: top;\n",
       "    }\n",
       "\n",
       "    .dataframe thead th {\n",
       "        text-align: right;\n",
       "    }\n",
       "</style>\n",
       "<table border=\"1\" class=\"dataframe\">\n",
       "  <thead>\n",
       "    <tr style=\"text-align: right;\">\n",
       "      <th>col_0</th>\n",
       "      <th>Item_Outlet_Sales_freq</th>\n",
       "    </tr>\n",
       "    <tr>\n",
       "      <th>Item_Outlet_Sales</th>\n",
       "      <th></th>\n",
       "    </tr>\n",
       "  </thead>\n",
       "  <tbody>\n",
       "    <tr>\n",
       "      <th>33.2900</th>\n",
       "      <td>2</td>\n",
       "    </tr>\n",
       "    <tr>\n",
       "      <th>33.9558</th>\n",
       "      <td>1</td>\n",
       "    </tr>\n",
       "    <tr>\n",
       "      <th>34.6216</th>\n",
       "      <td>1</td>\n",
       "    </tr>\n",
       "    <tr>\n",
       "      <th>35.2874</th>\n",
       "      <td>1</td>\n",
       "    </tr>\n",
       "    <tr>\n",
       "      <th>36.6190</th>\n",
       "      <td>2</td>\n",
       "    </tr>\n",
       "    <tr>\n",
       "      <th>...</th>\n",
       "      <td>...</td>\n",
       "    </tr>\n",
       "    <tr>\n",
       "      <th>10306.5840</th>\n",
       "      <td>1</td>\n",
       "    </tr>\n",
       "    <tr>\n",
       "      <th>10993.6896</th>\n",
       "      <td>1</td>\n",
       "    </tr>\n",
       "    <tr>\n",
       "      <th>11445.1020</th>\n",
       "      <td>1</td>\n",
       "    </tr>\n",
       "    <tr>\n",
       "      <th>12117.5600</th>\n",
       "      <td>1</td>\n",
       "    </tr>\n",
       "    <tr>\n",
       "      <th>13086.9648</th>\n",
       "      <td>1</td>\n",
       "    </tr>\n",
       "  </tbody>\n",
       "</table>\n",
       "<p>3493 rows × 1 columns</p>\n",
       "</div>"
      ],
      "text/plain": [
       "col_0              Item_Outlet_Sales_freq\n",
       "Item_Outlet_Sales                        \n",
       "33.2900                                 2\n",
       "33.9558                                 1\n",
       "34.6216                                 1\n",
       "35.2874                                 1\n",
       "36.6190                                 2\n",
       "...                                   ...\n",
       "10306.5840                              1\n",
       "10993.6896                              1\n",
       "11445.1020                              1\n",
       "12117.5600                              1\n",
       "13086.9648                              1\n",
       "\n",
       "[3493 rows x 1 columns]"
      ]
     },
     "execution_count": 19,
     "metadata": {},
     "output_type": "execute_result"
    }
   ],
   "source": [
    "pd.crosstab(train_data['Item_Outlet_Sales'], 'Item_Outlet_Sales_freq')"
   ]
  },
  {
   "cell_type": "markdown",
   "id": "acedd445",
   "metadata": {
    "papermill": {
     "duration": 0.011397,
     "end_time": "2023-02-04T20:25:50.862794",
     "exception": false,
     "start_time": "2023-02-04T20:25:50.851397",
     "status": "completed"
    },
    "tags": []
   },
   "source": [
    "**3. Create Charts**"
   ]
  },
  {
   "cell_type": "code",
   "execution_count": 20,
   "id": "375c0cf7",
   "metadata": {
    "execution": {
     "iopub.execute_input": "2023-02-04T20:25:50.888287Z",
     "iopub.status.busy": "2023-02-04T20:25:50.887878Z",
     "iopub.status.idle": "2023-02-04T20:25:51.156839Z",
     "shell.execute_reply": "2023-02-04T20:25:51.155551Z"
    },
    "papermill": {
     "duration": 0.284654,
     "end_time": "2023-02-04T20:25:51.159233",
     "exception": false,
     "start_time": "2023-02-04T20:25:50.874579",
     "status": "completed"
    },
    "tags": []
   },
   "outputs": [
    {
     "data": {
      "text/plain": [
       "<AxesSubplot:xlabel='Item_Weight', ylabel='Density'>"
      ]
     },
     "execution_count": 20,
     "metadata": {},
     "output_type": "execute_result"
    },
    {
     "data": {
      "image/png": "[encoded data removed]",
      "text/plain": [
       "<Figure size 432x288 with 1 Axes>"
      ]
     },
     "metadata": {
      "needs_background": "light"
     },
     "output_type": "display_data"
    }
   ],
   "source": [
    "sns.kdeplot(train_data['Item_Weight'])"
   ]
  },
  {
   "cell_type": "code",
   "execution_count": 21,
   "id": "28123a7d",
   "metadata": {
    "execution": {
     "iopub.execute_input": "2023-02-04T20:25:51.185882Z",
     "iopub.status.busy": "2023-02-04T20:25:51.185515Z",
     "iopub.status.idle": "2023-02-04T20:25:51.430839Z",
     "shell.execute_reply": "2023-02-04T20:25:51.429645Z"
    },
    "papermill": {
     "duration": 0.261786,
     "end_time": "2023-02-04T20:25:51.433373",
     "exception": false,
     "start_time": "2023-02-04T20:25:51.171587",
     "status": "completed"
    },
    "tags": []
   },
   "outputs": [
    {
     "data": {
      "text/plain": [
       "<AxesSubplot:xlabel='Item_Visibility', ylabel='Density'>"
      ]
     },
     "execution_count": 21,
     "metadata": {},
     "output_type": "execute_result"
    },
    {
     "data": {
      "image/png": "[encoded data removed]",
      "text/plain": [
       "<Figure size 432x288 with 1 Axes>"
      ]
     },
     "metadata": {
      "needs_background": "light"
     },
     "output_type": "display_data"
    }
   ],
   "source": [
    "sns.kdeplot(train_data['Item_Visibility'])"
   ]
  },
  {
   "cell_type": "code",
   "execution_count": 22,
   "id": "8ae0e856",
   "metadata": {
    "execution": {
     "iopub.execute_input": "2023-02-04T20:25:51.460637Z",
     "iopub.status.busy": "2023-02-04T20:25:51.460261Z",
     "iopub.status.idle": "2023-02-04T20:25:51.696125Z",
     "shell.execute_reply": "2023-02-04T20:25:51.695007Z"
    },
    "papermill": {
     "duration": 0.252198,
     "end_time": "2023-02-04T20:25:51.698507",
     "exception": false,
     "start_time": "2023-02-04T20:25:51.446309",
     "status": "completed"
    },
    "tags": []
   },
   "outputs": [
    {
     "data": {
      "text/plain": [
       "<AxesSubplot:xlabel='Item_MRP', ylabel='Density'>"
      ]
     },
     "execution_count": 22,
     "metadata": {},
     "output_type": "execute_result"
    },
    {
     "data": {
      "image/png": "[encoded data removed]",
      "text/plain": [
       "<Figure size 432x288 with 1 Axes>"
      ]
     },
     "metadata": {
      "needs_background": "light"
     },
     "output_type": "display_data"
    }
   ],
   "source": [
    "sns.kdeplot(train_data['Item_MRP'])"
   ]
  },
  {
   "cell_type": "code",
   "execution_count": 23,
   "id": "f585d0a6",
   "metadata": {
    "execution": {
     "iopub.execute_input": "2023-02-04T20:25:51.726539Z",
     "iopub.status.busy": "2023-02-04T20:25:51.726152Z",
     "iopub.status.idle": "2023-02-04T20:25:51.963874Z",
     "shell.execute_reply": "2023-02-04T20:25:51.962888Z"
    },
    "papermill": {
     "duration": 0.254437,
     "end_time": "2023-02-04T20:25:51.966260",
     "exception": false,
     "start_time": "2023-02-04T20:25:51.711823",
     "status": "completed"
    },
    "tags": []
   },
   "outputs": [
    {
     "data": {
      "text/plain": [
       "<AxesSubplot:xlabel='Outlet_Establishment_Year', ylabel='Density'>"
      ]
     },
     "execution_count": 23,
     "metadata": {},
     "output_type": "execute_result"
    },
    {
     "data": {
      "image/png": "[encoded data removed]",
      "text/plain": [
       "<Figure size 432x288 with 1 Axes>"
      ]
     },
     "metadata": {
      "needs_background": "light"
     },
     "output_type": "display_data"
    }
   ],
   "source": [
    "sns.kdeplot(train_data['Outlet_Establishment_Year'])"
   ]
  },
  {
   "cell_type": "code",
   "execution_count": 24,
   "id": "149f2181",
   "metadata": {
    "execution": {
     "iopub.execute_input": "2023-02-04T20:25:51.995409Z",
     "iopub.status.busy": "2023-02-04T20:25:51.995012Z",
     "iopub.status.idle": "2023-02-04T20:25:52.235670Z",
     "shell.execute_reply": "2023-02-04T20:25:52.234514Z"
    },
    "papermill": {
     "duration": 0.258223,
     "end_time": "2023-02-04T20:25:52.238137",
     "exception": false,
     "start_time": "2023-02-04T20:25:51.979914",
     "status": "completed"
    },
    "tags": []
   },
   "outputs": [
    {
     "data": {
      "text/plain": [
       "<AxesSubplot:xlabel='Outlet_Establishment_Year', ylabel='Density'>"
      ]
     },
     "execution_count": 24,
     "metadata": {},
     "output_type": "execute_result"
    },
    {
     "data": {
      "image/png": "[encoded data removed]",
      "text/plain": [
       "<Figure size 432x288 with 1 Axes>"
      ]
     },
     "metadata": {
      "needs_background": "light"
     },
     "output_type": "display_data"
    }
   ],
   "source": [
    "sns.kdeplot(train_data['Outlet_Establishment_Year'])"
   ]
  },
  {
   "cell_type": "code",
   "execution_count": 25,
   "id": "dea455ae",
   "metadata": {
    "execution": {
     "iopub.execute_input": "2023-02-04T20:25:52.268475Z",
     "iopub.status.busy": "2023-02-04T20:25:52.268080Z",
     "iopub.status.idle": "2023-02-04T20:25:52.527416Z",
     "shell.execute_reply": "2023-02-04T20:25:52.526442Z"
    },
    "papermill": {
     "duration": 0.277687,
     "end_time": "2023-02-04T20:25:52.529950",
     "exception": false,
     "start_time": "2023-02-04T20:25:52.252263",
     "status": "completed"
    },
    "tags": []
   },
   "outputs": [
    {
     "data": {
      "text/plain": [
       "<AxesSubplot:xlabel='Item_Outlet_Sales', ylabel='Density'>"
      ]
     },
     "execution_count": 25,
     "metadata": {},
     "output_type": "execute_result"
    },
    {
     "data": {
      "image/png": "[encoded data removed]",
      "text/plain": [
       "<Figure size 432x288 with 1 Axes>"
      ]
     },
     "metadata": {
      "needs_background": "light"
     },
     "output_type": "display_data"
    }
   ],
   "source": [
    "sns.kdeplot(train_data['Item_Outlet_Sales'])"
   ]
  },
  {
   "cell_type": "code",
   "execution_count": 26,
   "id": "b5dec7fd",
   "metadata": {
    "execution": {
     "iopub.execute_input": "2023-02-04T20:25:52.562424Z",
     "iopub.status.busy": "2023-02-04T20:25:52.561111Z",
     "iopub.status.idle": "2023-02-04T20:25:53.068511Z",
     "shell.execute_reply": "2023-02-04T20:25:53.067563Z"
    },
    "papermill": {
     "duration": 0.526141,
     "end_time": "2023-02-04T20:25:53.070811",
     "exception": false,
     "start_time": "2023-02-04T20:25:52.544670",
     "status": "completed"
    },
    "tags": []
   },
   "outputs": [
    {
     "data": {
      "text/plain": [
       "<AxesSubplot:ylabel='Item_Outlet_Sales'>"
      ]
     },
     "execution_count": 26,
     "metadata": {},
     "output_type": "execute_result"
    },
    {
     "data": {
      "image/png": "[encoded data removed]",
      "text/plain": [
       "<Figure size 432x288 with 1 Axes>"
      ]
     },
     "metadata": {
      "needs_background": "light"
     },
     "output_type": "display_data"
    }
   ],
   "source": [
    "sns.lineplot(data= train_data['Item_Outlet_Sales'])"
   ]
  },
  {
   "cell_type": "markdown",
   "id": "c939db72",
   "metadata": {
    "papermill": {
     "duration": 0.019076,
     "end_time": "2023-02-04T20:25:53.108271",
     "exception": false,
     "start_time": "2023-02-04T20:25:53.089195",
     "status": "completed"
    },
    "tags": []
   },
   "source": [
    "# **Bivariate Analysis**"
   ]
  },
  {
   "cell_type": "markdown",
   "id": "f099d2ce",
   "metadata": {
    "papermill": {
     "duration": 0.01937,
     "end_time": "2023-02-04T20:25:53.143391",
     "exception": false,
     "start_time": "2023-02-04T20:25:53.124021",
     "status": "completed"
    },
    "tags": []
   },
   "source": [
    "**1. Scatterplots**"
   ]
  },
  {
   "cell_type": "code",
   "execution_count": 27,
   "id": "1be03dc8",
   "metadata": {
    "execution": {
     "iopub.execute_input": "2023-02-04T20:25:53.177474Z",
     "iopub.status.busy": "2023-02-04T20:25:53.176682Z",
     "iopub.status.idle": "2023-02-04T20:25:53.435487Z",
     "shell.execute_reply": "2023-02-04T20:25:53.434243Z"
    },
    "papermill": {
     "duration": 0.278353,
     "end_time": "2023-02-04T20:25:53.438037",
     "exception": false,
     "start_time": "2023-02-04T20:25:53.159684",
     "status": "completed"
    },
    "tags": []
   },
   "outputs": [
    {
     "data": {
      "text/plain": [
       "<AxesSubplot:xlabel='Item_Weight', ylabel='Item_Outlet_Sales'>"
      ]
     },
     "execution_count": 27,
     "metadata": {},
     "output_type": "execute_result"
    },
    {
     "data": {
      "image/png": "[encoded data removed]",
      "text/plain": [
       "<Figure size 432x288 with 1 Axes>"
      ]
     },
     "metadata": {
      "needs_background": "light"
     },
     "output_type": "display_data"
    }
   ],
   "source": [
    "sns.scatterplot(x=train_data['Item_Weight'], y=train_data['Item_Outlet_Sales'])"
   ]
  },
  {
   "cell_type": "code",
   "execution_count": 28,
   "id": "d1329832",
   "metadata": {
    "execution": {
     "iopub.execute_input": "2023-02-04T20:25:53.472466Z",
     "iopub.status.busy": "2023-02-04T20:25:53.472063Z",
     "iopub.status.idle": "2023-02-04T20:25:53.701316Z",
     "shell.execute_reply": "2023-02-04T20:25:53.700192Z"
    },
    "papermill": {
     "duration": 0.24967,
     "end_time": "2023-02-04T20:25:53.704270",
     "exception": false,
     "start_time": "2023-02-04T20:25:53.454600",
     "status": "completed"
    },
    "tags": []
   },
   "outputs": [
    {
     "data": {
      "text/plain": [
       "<AxesSubplot:xlabel='Item_MRP', ylabel='Item_Outlet_Sales'>"
      ]
     },
     "execution_count": 28,
     "metadata": {},
     "output_type": "execute_result"
    },
    {
     "data": {
      "image/png": "[encoded data removed]",
      "text/plain": [
       "<Figure size 432x288 with 1 Axes>"
      ]
     },
     "metadata": {
      "needs_background": "light"
     },
     "output_type": "display_data"
    }
   ],
   "source": [
    "sns.scatterplot(x=train_data['Item_MRP'], y=train_data['Item_Outlet_Sales'])"
   ]
  },
  {
   "cell_type": "code",
   "execution_count": 29,
   "id": "5b97a7c7",
   "metadata": {
    "execution": {
     "iopub.execute_input": "2023-02-04T20:25:53.741458Z",
     "iopub.status.busy": "2023-02-04T20:25:53.740718Z",
     "iopub.status.idle": "2023-02-04T20:27:05.475750Z",
     "shell.execute_reply": "2023-02-04T20:27:05.474256Z"
    },
    "papermill": {
     "duration": 71.756719,
     "end_time": "2023-02-04T20:27:05.478589",
     "exception": false,
     "start_time": "2023-02-04T20:25:53.721870",
     "status": "completed"
    },
    "tags": []
   },
   "outputs": [
    {
     "name": "stderr",
     "output_type": "stream",
     "text": [
      "/opt/conda/lib/python3.7/site-packages/seaborn/categorical.py:1296: UserWarning: 83.9% of the points cannot be placed; you may want to decrease the size of the markers or use stripplot.\n",
      "  warnings.warn(msg, UserWarning)\n",
      "/opt/conda/lib/python3.7/site-packages/seaborn/categorical.py:1296: UserWarning: 85.7% of the points cannot be placed; you may want to decrease the size of the markers or use stripplot.\n",
      "  warnings.warn(msg, UserWarning)\n",
      "/opt/conda/lib/python3.7/site-packages/seaborn/categorical.py:1296: UserWarning: 85.6% of the points cannot be placed; you may want to decrease the size of the markers or use stripplot.\n",
      "  warnings.warn(msg, UserWarning)\n"
     ]
    },
    {
     "data": {
      "text/plain": [
       "<AxesSubplot:xlabel='Outlet_Location_Type', ylabel='Item_Outlet_Sales'>"
      ]
     },
     "execution_count": 29,
     "metadata": {},
     "output_type": "execute_result"
    },
    {
     "data": {
      "image/png": "[encoded data removed]",
      "text/plain": [
       "<Figure size 432x288 with 1 Axes>"
      ]
     },
     "metadata": {
      "needs_background": "light"
     },
     "output_type": "display_data"
    }
   ],
   "source": [
    "sns.swarmplot(x = train_data['Outlet_Location_Type'],y = train_data['Item_Outlet_Sales'])"
   ]
  },
  {
   "cell_type": "code",
   "execution_count": 30,
   "id": "391ef7fc",
   "metadata": {
    "execution": {
     "iopub.execute_input": "2023-02-04T20:27:05.520363Z",
     "iopub.status.busy": "2023-02-04T20:27:05.519243Z",
     "iopub.status.idle": "2023-02-04T20:27:05.916235Z",
     "shell.execute_reply": "2023-02-04T20:27:05.915213Z"
    },
    "papermill": {
     "duration": 0.420809,
     "end_time": "2023-02-04T20:27:05.919256",
     "exception": false,
     "start_time": "2023-02-04T20:27:05.498447",
     "status": "completed"
    },
    "tags": []
   },
   "outputs": [
    {
     "data": {
      "text/plain": [
       "(array([0, 1, 2, 3]),\n",
       " [Text(0, 0, 'Supermarket Type1'),\n",
       "  Text(1, 0, 'Supermarket Type2'),\n",
       "  Text(2, 0, 'Grocery Store'),\n",
       "  Text(3, 0, 'Supermarket Type3')])"
      ]
     },
     "execution_count": 30,
     "metadata": {},
     "output_type": "execute_result"
    },
    {
     "data": {
      "image/png": "[encoded data removed]",
      "text/plain": [
       "<Figure size 432x288 with 1 Axes>"
      ]
     },
     "metadata": {
      "needs_background": "light"
     },
     "output_type": "display_data"
    }
   ],
   "source": [
    "sns.barplot(x=train_data['Outlet_Type'], y=train_data['Item_Outlet_Sales'])\n",
    "plt.xticks(rotation=90)"
   ]
  },
  {
   "cell_type": "markdown",
   "id": "fb3c3bde",
   "metadata": {
    "papermill": {
     "duration": 0.020365,
     "end_time": "2023-02-04T20:27:05.959861",
     "exception": false,
     "start_time": "2023-02-04T20:27:05.939496",
     "status": "completed"
    },
    "tags": []
   },
   "source": [
    "**2. Correlation Coefficients**"
   ]
  },
  {
   "cell_type": "code",
   "execution_count": 31,
   "id": "43e5f83d",
   "metadata": {
    "execution": {
     "iopub.execute_input": "2023-02-04T20:27:06.001300Z",
     "iopub.status.busy": "2023-02-04T20:27:06.000902Z",
     "iopub.status.idle": "2023-02-04T20:27:06.014440Z",
     "shell.execute_reply": "2023-02-04T20:27:06.013468Z"
    },
    "papermill": {
     "duration": 0.036633,
     "end_time": "2023-02-04T20:27:06.016570",
     "exception": false,
     "start_time": "2023-02-04T20:27:05.979937",
     "status": "completed"
    },
    "tags": []
   },
   "outputs": [
    {
     "data": {
      "text/html": [
       "<div>\n",
       "<style scoped>\n",
       "    .dataframe tbody tr th:only-of-type {\n",
       "        vertical-align: middle;\n",
       "    }\n",
       "\n",
       "    .dataframe tbody tr th {\n",
       "        vertical-align: top;\n",
       "    }\n",
       "\n",
       "    .dataframe thead th {\n",
       "        text-align: right;\n",
       "    }\n",
       "</style>\n",
       "<table border=\"1\" class=\"dataframe\">\n",
       "  <thead>\n",
       "    <tr style=\"text-align: right;\">\n",
       "      <th></th>\n",
       "      <th>Item_Weight</th>\n",
       "      <th>Item_Visibility</th>\n",
       "      <th>Item_MRP</th>\n",
       "      <th>Outlet_Establishment_Year</th>\n",
       "      <th>Item_Outlet_Sales</th>\n",
       "    </tr>\n",
       "  </thead>\n",
       "  <tbody>\n",
       "    <tr>\n",
       "      <th>Item_Weight</th>\n",
       "      <td>1.000000</td>\n",
       "      <td>-0.014168</td>\n",
       "      <td>0.024951</td>\n",
       "      <td>0.007739</td>\n",
       "      <td>0.009693</td>\n",
       "    </tr>\n",
       "    <tr>\n",
       "      <th>Item_Visibility</th>\n",
       "      <td>-0.014168</td>\n",
       "      <td>1.000000</td>\n",
       "      <td>-0.001315</td>\n",
       "      <td>-0.074834</td>\n",
       "      <td>-0.128625</td>\n",
       "    </tr>\n",
       "    <tr>\n",
       "      <th>Item_MRP</th>\n",
       "      <td>0.024951</td>\n",
       "      <td>-0.001315</td>\n",
       "      <td>1.000000</td>\n",
       "      <td>0.005020</td>\n",
       "      <td>0.567574</td>\n",
       "    </tr>\n",
       "    <tr>\n",
       "      <th>Outlet_Establishment_Year</th>\n",
       "      <td>0.007739</td>\n",
       "      <td>-0.074834</td>\n",
       "      <td>0.005020</td>\n",
       "      <td>1.000000</td>\n",
       "      <td>-0.049135</td>\n",
       "    </tr>\n",
       "    <tr>\n",
       "      <th>Item_Outlet_Sales</th>\n",
       "      <td>0.009693</td>\n",
       "      <td>-0.128625</td>\n",
       "      <td>0.567574</td>\n",
       "      <td>-0.049135</td>\n",
       "      <td>1.000000</td>\n",
       "    </tr>\n",
       "  </tbody>\n",
       "</table>\n",
       "</div>"
      ],
      "text/plain": [
       "                           Item_Weight  Item_Visibility  Item_MRP  \\\n",
       "Item_Weight                   1.000000        -0.014168  0.024951   \n",
       "Item_Visibility              -0.014168         1.000000 -0.001315   \n",
       "Item_MRP                      0.024951        -0.001315  1.000000   \n",
       "Outlet_Establishment_Year     0.007739        -0.074834  0.005020   \n",
       "Item_Outlet_Sales             0.009693        -0.128625  0.567574   \n",
       "\n",
       "                           Outlet_Establishment_Year  Item_Outlet_Sales  \n",
       "Item_Weight                                 0.007739           0.009693  \n",
       "Item_Visibility                            -0.074834          -0.128625  \n",
       "Item_MRP                                    0.005020           0.567574  \n",
       "Outlet_Establishment_Year                   1.000000          -0.049135  \n",
       "Item_Outlet_Sales                          -0.049135           1.000000  "
      ]
     },
     "execution_count": 31,
     "metadata": {},
     "output_type": "execute_result"
    }
   ],
   "source": [
    "train_data.corr()"
   ]
  },
  {
   "cell_type": "code",
   "execution_count": null,
   "id": "34eaf1d9",
   "metadata": {
    "papermill": {
     "duration": 0.019994,
     "end_time": "2023-02-04T20:27:06.056976",
     "exception": false,
     "start_time": "2023-02-04T20:27:06.036982",
     "status": "completed"
    },
    "tags": []
   },
   "outputs": [],
   "source": []
  }
 ],
 "metadata": {
  "kernelspec": {
   "display_name": "Python 3",
   "language": "python",
   "name": "python3"
  },
  "language_info": {
   "codemirror_mode": {
    "name": "ipython",
    "version": 3
   },
   "file_extension": ".py",
   "mimetype": "text/x-python",
   "name": "python",
   "nbconvert_exporter": "python",
   "pygments_lexer": "ipython3",
   "version": "3.7.12"
  },
  "papermill": {
   "default_parameters": {},
   "duration": 86.16083,
   "end_time": "2023-02-04T20:27:06.899079",
   "environment_variables": {},
   "exception": null,
   "input_path": "__notebook__.ipynb",
   "output_path": "__notebook__.ipynb",
   "parameters": {},
   "start_time": "2023-02-04T20:25:40.738249",
   "version": "2.3.4"
  }
 },
 "nbformat": 4,
 "nbformat_minor": 5
}
